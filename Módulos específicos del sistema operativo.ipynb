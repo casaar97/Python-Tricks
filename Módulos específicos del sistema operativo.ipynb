{
 "cells": [
  {
   "cell_type": "markdown",
   "id": "a1ca0d80",
   "metadata": {},
   "source": [
    "# Módulos específicos del sistema operativo"
   ]
  },
  {
   "cell_type": "markdown",
   "id": "d3c6c1c8",
   "metadata": {},
   "source": [
    "Existen módulos que son específicos del sistema operativo."
   ]
  },
  {
   "cell_type": "markdown",
   "id": "a161dbdc",
   "metadata": {},
   "source": [
    "Windows: mvscrt\n",
    "    \n",
    "MacOs: tty, termios, sys"
   ]
  }
 ],
 "metadata": {
  "kernelspec": {
   "display_name": "Python 3 (ipykernel)",
   "language": "python",
   "name": "python3"
  },
  "language_info": {
   "codemirror_mode": {
    "name": "ipython",
    "version": 3
   },
   "file_extension": ".py",
   "mimetype": "text/x-python",
   "name": "python",
   "nbconvert_exporter": "python",
   "pygments_lexer": "ipython3",
   "version": "3.9.7"
  }
 },
 "nbformat": 4,
 "nbformat_minor": 5
}
