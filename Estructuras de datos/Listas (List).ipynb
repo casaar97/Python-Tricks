{
 "cells": [
  {
   "cell_type": "markdown",
   "id": "f45e2c8c",
   "metadata": {},
   "source": [
    "# Listas (List)"
   ]
  },
  {
   "cell_type": "code",
   "execution_count": 1,
   "id": "cb2eb96b",
   "metadata": {},
   "outputs": [],
   "source": [
    "lista = [0, 1, 2, 3, 4]"
   ]
  },
  {
   "cell_type": "markdown",
   "id": "f9b3312b",
   "metadata": {},
   "source": [
    "## Mostrar elementos según su índice:"
   ]
  },
  {
   "cell_type": "code",
   "execution_count": 2,
   "id": "71ee278f",
   "metadata": {},
   "outputs": [
    {
     "data": {
      "text/plain": [
       "0"
      ]
     },
     "execution_count": 2,
     "metadata": {},
     "output_type": "execute_result"
    }
   ],
   "source": [
    "lista[0]"
   ]
  },
  {
   "cell_type": "code",
   "execution_count": 3,
   "id": "b0e2ba34",
   "metadata": {},
   "outputs": [
    {
     "data": {
      "text/plain": [
       "4"
      ]
     },
     "execution_count": 3,
     "metadata": {},
     "output_type": "execute_result"
    }
   ],
   "source": [
    "lista[-1]"
   ]
  },
  {
   "cell_type": "markdown",
   "id": "f5849c01",
   "metadata": {},
   "source": [
    "## Slicing"
   ]
  },
  {
   "cell_type": "markdown",
   "id": "201069a0",
   "metadata": {},
   "source": [
    "Para usar slicing se indica el comienzo y el final: **lista[start:stop]**"
   ]
  },
  {
   "cell_type": "code",
   "execution_count": 4,
   "id": "3cf43138",
   "metadata": {},
   "outputs": [
    {
     "data": {
      "text/plain": [
       "[0, 1, 2, 3]"
      ]
     },
     "execution_count": 4,
     "metadata": {},
     "output_type": "execute_result"
    }
   ],
   "source": [
    "lista[0:4]"
   ]
  },
  {
   "cell_type": "markdown",
   "id": "47098f50",
   "metadata": {},
   "source": [
    "Como podemos ver, **se incluye el comienzo (start) pero se omite el final (stop)**:"
   ]
  },
  {
   "cell_type": "code",
   "execution_count": 5,
   "id": "58aad3fb",
   "metadata": {},
   "outputs": [
    {
     "data": {
      "text/plain": [
       "[0, 1, 2, 3]"
      ]
     },
     "execution_count": 5,
     "metadata": {},
     "output_type": "execute_result"
    }
   ],
   "source": [
    "lista[:4]"
   ]
  },
  {
   "cell_type": "code",
   "execution_count": 6,
   "id": "94942752",
   "metadata": {},
   "outputs": [
    {
     "data": {
      "text/plain": [
       "[3, 4]"
      ]
     },
     "execution_count": 6,
     "metadata": {},
     "output_type": "execute_result"
    }
   ],
   "source": [
    "lista[3:]"
   ]
  },
  {
   "cell_type": "code",
   "execution_count": 7,
   "id": "0151d419",
   "metadata": {},
   "outputs": [
    {
     "data": {
      "text/plain": [
       "[2, 3]"
      ]
     },
     "execution_count": 7,
     "metadata": {},
     "output_type": "execute_result"
    }
   ],
   "source": [
    "lista[2:4]"
   ]
  },
  {
   "cell_type": "markdown",
   "id": "beb19993",
   "metadata": {},
   "source": [
    "## Usar slicing para realizar copias de listas"
   ]
  },
  {
   "cell_type": "markdown",
   "id": "55d9c8a4",
   "metadata": {},
   "source": [
    "Como podemos ver en el siguiente ejemplo, si se asigna a lista2 el valor de lista, se está asignando la referencia en memoria."
   ]
  },
  {
   "cell_type": "code",
   "execution_count": 8,
   "id": "1d2dd934",
   "metadata": {},
   "outputs": [],
   "source": [
    "lista2 = lista"
   ]
  },
  {
   "cell_type": "code",
   "execution_count": 9,
   "id": "3ab5ce9c",
   "metadata": {},
   "outputs": [
    {
     "data": {
      "text/plain": [
       "True"
      ]
     },
     "execution_count": 9,
     "metadata": {},
     "output_type": "execute_result"
    }
   ],
   "source": [
    "lista2 is lista"
   ]
  },
  {
   "cell_type": "markdown",
   "id": "ed122002",
   "metadata": {},
   "source": [
    "Para realizar una copia se usa slicing de la siguiente forma:"
   ]
  },
  {
   "cell_type": "code",
   "execution_count": 10,
   "id": "8d209857",
   "metadata": {},
   "outputs": [],
   "source": [
    "lista2 = lista[:]"
   ]
  },
  {
   "cell_type": "code",
   "execution_count": 11,
   "id": "24f29762",
   "metadata": {},
   "outputs": [
    {
     "data": {
      "text/plain": [
       "False"
      ]
     },
     "execution_count": 11,
     "metadata": {},
     "output_type": "execute_result"
    }
   ],
   "source": [
    "lista2 is lista"
   ]
  },
  {
   "cell_type": "markdown",
   "id": "c8986a14",
   "metadata": {},
   "source": [
    "El valor de ambas es el mismo, pero no referencian al mismo objeto en memoria."
   ]
  },
  {
   "cell_type": "code",
   "execution_count": 12,
   "id": "95adb1b5",
   "metadata": {},
   "outputs": [
    {
     "data": {
      "text/plain": [
       "True"
      ]
     },
     "execution_count": 12,
     "metadata": {},
     "output_type": "execute_result"
    }
   ],
   "source": [
    "lista2 == lista"
   ]
  },
  {
   "cell_type": "code",
   "execution_count": 13,
   "id": "0a69610e",
   "metadata": {},
   "outputs": [
    {
     "data": {
      "text/plain": [
       "True"
      ]
     },
     "execution_count": 13,
     "metadata": {},
     "output_type": "execute_result"
    }
   ],
   "source": [
    "lista2 == lista.copy()"
   ]
  },
  {
   "cell_type": "code",
   "execution_count": 14,
   "id": "cf0dc86b",
   "metadata": {},
   "outputs": [
    {
     "data": {
      "text/plain": [
       "False"
      ]
     },
     "execution_count": 14,
     "metadata": {},
     "output_type": "execute_result"
    }
   ],
   "source": [
    "lista2 is lista"
   ]
  },
  {
   "cell_type": "markdown",
   "id": "13b81808",
   "metadata": {},
   "source": [
    "## Operador *"
   ]
  },
  {
   "cell_type": "code",
   "execution_count": 15,
   "id": "c587bc13",
   "metadata": {},
   "outputs": [
    {
     "data": {
      "text/plain": [
       "[0, 1, 2, 3, 4, 0, 1, 2, 3, 4]"
      ]
     },
     "execution_count": 15,
     "metadata": {},
     "output_type": "execute_result"
    }
   ],
   "source": [
    "lista * 2"
   ]
  },
  {
   "cell_type": "code",
   "execution_count": 16,
   "id": "df321f8f",
   "metadata": {},
   "outputs": [
    {
     "data": {
      "text/plain": [
       "[0, 0, 0, 0, 0, 0, 0, 0, 0]"
      ]
     },
     "execution_count": 16,
     "metadata": {},
     "output_type": "execute_result"
    }
   ],
   "source": [
    "[0] * 9"
   ]
  },
  {
   "cell_type": "markdown",
   "id": "ab8e3bf3",
   "metadata": {},
   "source": [
    "Hay que tener cuidado con esto:"
   ]
  },
  {
   "cell_type": "code",
   "execution_count": 17,
   "id": "01464ce4",
   "metadata": {},
   "outputs": [],
   "source": [
    "lista = [[-1, 1]] * 5"
   ]
  },
  {
   "cell_type": "code",
   "execution_count": 18,
   "id": "921ed15f",
   "metadata": {},
   "outputs": [
    {
     "data": {
      "text/plain": [
       "[[-1, 1], [-1, 1], [-1, 1], [-1, 1], [-1, 1]]"
      ]
     },
     "execution_count": 18,
     "metadata": {},
     "output_type": "execute_result"
    }
   ],
   "source": [
    "lista"
   ]
  },
  {
   "cell_type": "code",
   "execution_count": 19,
   "id": "df69f2f5",
   "metadata": {},
   "outputs": [],
   "source": [
    "lista[2].append(0)"
   ]
  },
  {
   "cell_type": "code",
   "execution_count": 20,
   "id": "ca71afd6",
   "metadata": {},
   "outputs": [
    {
     "data": {
      "text/plain": [
       "[[-1, 1, 0], [-1, 1, 0], [-1, 1, 0], [-1, 1, 0], [-1, 1, 0]]"
      ]
     },
     "execution_count": 20,
     "metadata": {},
     "output_type": "execute_result"
    }
   ],
   "source": [
    "lista"
   ]
  },
  {
   "cell_type": "markdown",
   "id": "f8d9916b",
   "metadata": {},
   "source": [
    "Como vemos, cuando se añade a una de las sublistas el 0, se añade a todas. \n",
    "\n",
    "**Esto ocurre porque las 5 sublistas son en realidad una referencia a la misma sublista, por lo que cuando esta es modificada, se modifican todas.**"
   ]
  },
  {
   "cell_type": "markdown",
   "id": "345b759e",
   "metadata": {},
   "source": [
    "## Devolver el índice de un elemento de una lista"
   ]
  },
  {
   "cell_type": "code",
   "execution_count": 21,
   "id": "b04ad7ee",
   "metadata": {},
   "outputs": [],
   "source": [
    "lista = [\"hola\", \"mundo\"]"
   ]
  },
  {
   "cell_type": "code",
   "execution_count": 22,
   "id": "4b2a34a3",
   "metadata": {},
   "outputs": [
    {
     "data": {
      "text/plain": [
       "0"
      ]
     },
     "execution_count": 22,
     "metadata": {},
     "output_type": "execute_result"
    }
   ],
   "source": [
    "lista.index(\"hola\")"
   ]
  },
  {
   "cell_type": "markdown",
   "id": "a6e36ebc",
   "metadata": {},
   "source": [
    "## Contar el número de veces que un elemento se encuentra en una lista"
   ]
  },
  {
   "cell_type": "code",
   "execution_count": 23,
   "id": "ee099c97",
   "metadata": {},
   "outputs": [
    {
     "data": {
      "text/plain": [
       "1"
      ]
     },
     "execution_count": 23,
     "metadata": {},
     "output_type": "execute_result"
    }
   ],
   "source": [
    "lista.count(\"hola\")"
   ]
  },
  {
   "cell_type": "markdown",
   "id": "5e571f13",
   "metadata": {},
   "source": [
    "## Comprobar si un elemento se encuentra en una lista"
   ]
  },
  {
   "cell_type": "code",
   "execution_count": 24,
   "id": "a20effac",
   "metadata": {},
   "outputs": [],
   "source": [
    "lista = [0, 1, 2, 3, 4, 5]"
   ]
  },
  {
   "cell_type": "code",
   "execution_count": 25,
   "id": "e2984277",
   "metadata": {},
   "outputs": [
    {
     "data": {
      "text/plain": [
       "True"
      ]
     },
     "execution_count": 25,
     "metadata": {},
     "output_type": "execute_result"
    }
   ],
   "source": [
    "1 in lista"
   ]
  },
  {
   "cell_type": "code",
   "execution_count": 26,
   "id": "7a27ad5f",
   "metadata": {},
   "outputs": [
    {
     "data": {
      "text/plain": [
       "True"
      ]
     },
     "execution_count": 26,
     "metadata": {},
     "output_type": "execute_result"
    }
   ],
   "source": [
    "6 not in lista"
   ]
  },
  {
   "cell_type": "markdown",
   "id": "a34cbe8f",
   "metadata": {},
   "source": [
    "## Eliminar elemento de una lista según su índice"
   ]
  },
  {
   "cell_type": "code",
   "execution_count": 27,
   "id": "18d2df8c",
   "metadata": {},
   "outputs": [
    {
     "data": {
      "text/plain": [
       "[0, 1, 2, 3, 4, 5]"
      ]
     },
     "execution_count": 27,
     "metadata": {},
     "output_type": "execute_result"
    }
   ],
   "source": [
    "lista"
   ]
  },
  {
   "cell_type": "code",
   "execution_count": 28,
   "id": "2a94692b",
   "metadata": {},
   "outputs": [],
   "source": [
    "del lista[0]"
   ]
  },
  {
   "cell_type": "code",
   "execution_count": 29,
   "id": "9fe495d1",
   "metadata": {},
   "outputs": [
    {
     "data": {
      "text/plain": [
       "[1, 2, 3, 4, 5]"
      ]
     },
     "execution_count": 29,
     "metadata": {},
     "output_type": "execute_result"
    }
   ],
   "source": [
    "lista"
   ]
  },
  {
   "cell_type": "markdown",
   "id": "0d68808c",
   "metadata": {},
   "source": [
    "## Eliminar elemento de una lista según su valor"
   ]
  },
  {
   "cell_type": "code",
   "execution_count": 30,
   "id": "6fa49608",
   "metadata": {},
   "outputs": [],
   "source": [
    "lista.remove(1)"
   ]
  },
  {
   "cell_type": "code",
   "execution_count": 31,
   "id": "591e1469",
   "metadata": {},
   "outputs": [
    {
     "data": {
      "text/plain": [
       "[2, 3, 4, 5]"
      ]
     },
     "execution_count": 31,
     "metadata": {},
     "output_type": "execute_result"
    }
   ],
   "source": [
    "lista"
   ]
  },
  {
   "cell_type": "markdown",
   "id": "9daba350",
   "metadata": {},
   "source": [
    "## Insertar un elemento en una posición de la lista"
   ]
  },
  {
   "cell_type": "code",
   "execution_count": 32,
   "id": "43b1ddd1",
   "metadata": {},
   "outputs": [],
   "source": [
    "lista.insert(0, 1)"
   ]
  },
  {
   "cell_type": "code",
   "execution_count": 33,
   "id": "ff93e2cc",
   "metadata": {},
   "outputs": [
    {
     "data": {
      "text/plain": [
       "[1, 2, 3, 4, 5]"
      ]
     },
     "execution_count": 33,
     "metadata": {},
     "output_type": "execute_result"
    }
   ],
   "source": [
    "lista"
   ]
  },
  {
   "cell_type": "markdown",
   "id": "9db7c4f0",
   "metadata": {},
   "source": [
    "## Extender una lista"
   ]
  },
  {
   "cell_type": "markdown",
   "id": "6ddc24f0",
   "metadata": {},
   "source": [
    "Forma 1:"
   ]
  },
  {
   "cell_type": "code",
   "execution_count": 34,
   "id": "30cd373b",
   "metadata": {},
   "outputs": [
    {
     "data": {
      "text/plain": [
       "[1, 2, 3, 4, 5, 6, 7, 8]"
      ]
     },
     "execution_count": 34,
     "metadata": {},
     "output_type": "execute_result"
    }
   ],
   "source": [
    "lista + [6, 7 , 8]"
   ]
  },
  {
   "cell_type": "markdown",
   "id": "92b9af20",
   "metadata": {},
   "source": [
    "Forma 2:"
   ]
  },
  {
   "cell_type": "code",
   "execution_count": 35,
   "id": "de88ff3e",
   "metadata": {},
   "outputs": [],
   "source": [
    "lista.extend([6, 7 , 8])"
   ]
  },
  {
   "cell_type": "code",
   "execution_count": 36,
   "id": "e595e7e5",
   "metadata": {},
   "outputs": [
    {
     "data": {
      "text/plain": [
       "[1, 2, 3, 4, 5, 6, 7, 8]"
      ]
     },
     "execution_count": 36,
     "metadata": {},
     "output_type": "execute_result"
    }
   ],
   "source": [
    "lista"
   ]
  },
  {
   "cell_type": "markdown",
   "id": "174fb1e0",
   "metadata": {},
   "source": [
    "### La diferencia es que extend modifica el valor de la lista ***in place***"
   ]
  },
  {
   "cell_type": "code",
   "execution_count": 37,
   "id": "cadecb5e",
   "metadata": {},
   "outputs": [
    {
     "data": {
      "text/plain": [
       "[1, 2, 3, 4, 5, 6, 7, 8]"
      ]
     },
     "execution_count": 37,
     "metadata": {},
     "output_type": "execute_result"
    }
   ],
   "source": [
    "lista"
   ]
  },
  {
   "cell_type": "code",
   "execution_count": 38,
   "id": "0c474c22",
   "metadata": {},
   "outputs": [
    {
     "data": {
      "text/plain": [
       "[1, 2, 3, 4, 5, 6, 7, 8, 9, 10]"
      ]
     },
     "execution_count": 38,
     "metadata": {},
     "output_type": "execute_result"
    }
   ],
   "source": [
    "lista + [9, 10]"
   ]
  },
  {
   "cell_type": "code",
   "execution_count": 39,
   "id": "4afb670b",
   "metadata": {},
   "outputs": [
    {
     "data": {
      "text/plain": [
       "[1, 2, 3, 4, 5, 6, 7, 8]"
      ]
     },
     "execution_count": 39,
     "metadata": {},
     "output_type": "execute_result"
    }
   ],
   "source": [
    "lista"
   ]
  },
  {
   "cell_type": "code",
   "execution_count": 40,
   "id": "20707afa",
   "metadata": {},
   "outputs": [],
   "source": [
    "lista.extend([9, 10])"
   ]
  },
  {
   "cell_type": "code",
   "execution_count": 41,
   "id": "4f89b5cf",
   "metadata": {},
   "outputs": [
    {
     "data": {
      "text/plain": [
       "[1, 2, 3, 4, 5, 6, 7, 8, 9, 10]"
      ]
     },
     "execution_count": 41,
     "metadata": {},
     "output_type": "execute_result"
    }
   ],
   "source": [
    "lista"
   ]
  },
  {
   "cell_type": "markdown",
   "id": "4ccc97b0",
   "metadata": {},
   "source": [
    "Usar extend es el equivalente a:"
   ]
  },
  {
   "cell_type": "code",
   "execution_count": 42,
   "id": "f69a4151",
   "metadata": {},
   "outputs": [],
   "source": [
    "lista = [1, 2, 3, 4, 5, 6, 7, 8]"
   ]
  },
  {
   "cell_type": "code",
   "execution_count": 43,
   "id": "65c5ecf5",
   "metadata": {},
   "outputs": [],
   "source": [
    "lista = lista + [9, 10]"
   ]
  },
  {
   "cell_type": "code",
   "execution_count": 44,
   "id": "d1044383",
   "metadata": {},
   "outputs": [
    {
     "data": {
      "text/plain": [
       "[1, 2, 3, 4, 5, 6, 7, 8, 9, 10]"
      ]
     },
     "execution_count": 44,
     "metadata": {},
     "output_type": "execute_result"
    }
   ],
   "source": [
    "lista"
   ]
  },
  {
   "cell_type": "markdown",
   "id": "f52f4a89",
   "metadata": {},
   "source": [
    "## Invertir el order de una lista (reverse) "
   ]
  },
  {
   "cell_type": "markdown",
   "id": "c58ffb2f",
   "metadata": {},
   "source": [
    "**Método *in place***"
   ]
  },
  {
   "cell_type": "code",
   "execution_count": 45,
   "id": "904b5511",
   "metadata": {},
   "outputs": [],
   "source": [
    "lista.reverse()"
   ]
  },
  {
   "cell_type": "code",
   "execution_count": 46,
   "id": "8a1668ae",
   "metadata": {},
   "outputs": [
    {
     "data": {
      "text/plain": [
       "[10, 9, 8, 7, 6, 5, 4, 3, 2, 1]"
      ]
     },
     "execution_count": 46,
     "metadata": {},
     "output_type": "execute_result"
    }
   ],
   "source": [
    "lista"
   ]
  },
  {
   "cell_type": "markdown",
   "id": "d06335ac",
   "metadata": {},
   "source": [
    "## Ordenar lista (sort)"
   ]
  },
  {
   "cell_type": "markdown",
   "id": "7a857916",
   "metadata": {},
   "source": [
    "**Método *in place***"
   ]
  },
  {
   "cell_type": "code",
   "execution_count": 47,
   "id": "9c3d7287",
   "metadata": {},
   "outputs": [],
   "source": [
    "lista.sort()"
   ]
  },
  {
   "cell_type": "code",
   "execution_count": 48,
   "id": "cf9c465f",
   "metadata": {},
   "outputs": [
    {
     "data": {
      "text/plain": [
       "[1, 2, 3, 4, 5, 6, 7, 8, 9, 10]"
      ]
     },
     "execution_count": 48,
     "metadata": {},
     "output_type": "execute_result"
    }
   ],
   "source": [
    "lista"
   ]
  },
  {
   "cell_type": "markdown",
   "id": "bdcbb58a",
   "metadata": {},
   "source": [
    "### reverse usando sort"
   ]
  },
  {
   "cell_type": "code",
   "execution_count": 49,
   "id": "ff3906a9",
   "metadata": {},
   "outputs": [],
   "source": [
    "lista.sort(reverse=True)"
   ]
  },
  {
   "cell_type": "code",
   "execution_count": 50,
   "id": "9695a975",
   "metadata": {},
   "outputs": [
    {
     "data": {
      "text/plain": [
       "[10, 9, 8, 7, 6, 5, 4, 3, 2, 1]"
      ]
     },
     "execution_count": 50,
     "metadata": {},
     "output_type": "execute_result"
    }
   ],
   "source": [
    "lista"
   ]
  },
  {
   "cell_type": "markdown",
   "id": "dbac5412",
   "metadata": {},
   "source": [
    "### Parámetro ***key***"
   ]
  },
  {
   "cell_type": "code",
   "execution_count": 51,
   "id": "abbc77d3",
   "metadata": {},
   "outputs": [],
   "source": [
    "frase = \"Hola me llamo Pedro\""
   ]
  },
  {
   "cell_type": "code",
   "execution_count": 52,
   "id": "37eb30d6",
   "metadata": {},
   "outputs": [
    {
     "data": {
      "text/plain": [
       "['Hola', 'me', 'llamo', 'Pedro']"
      ]
     },
     "execution_count": 52,
     "metadata": {},
     "output_type": "execute_result"
    }
   ],
   "source": [
    "frase.split()"
   ]
  },
  {
   "cell_type": "code",
   "execution_count": 57,
   "id": "1a1a5a72",
   "metadata": {},
   "outputs": [],
   "source": [
    "frase_dividida = frase.split()"
   ]
  },
  {
   "cell_type": "code",
   "execution_count": 58,
   "id": "9938e330",
   "metadata": {},
   "outputs": [
    {
     "data": {
      "text/plain": [
       "['Hola', 'me', 'llamo', 'Pedro']"
      ]
     },
     "execution_count": 58,
     "metadata": {},
     "output_type": "execute_result"
    }
   ],
   "source": [
    "frase_dividida"
   ]
  },
  {
   "cell_type": "markdown",
   "id": "8d069c74",
   "metadata": {},
   "source": [
    "#### Ordenar por longitud de las palabras"
   ]
  },
  {
   "cell_type": "code",
   "execution_count": 59,
   "id": "baa79f00",
   "metadata": {},
   "outputs": [],
   "source": [
    "frase_dividida.sort(key=len)"
   ]
  },
  {
   "cell_type": "code",
   "execution_count": 60,
   "id": "2853fb38",
   "metadata": {},
   "outputs": [
    {
     "data": {
      "text/plain": [
       "['me', 'Hola', 'llamo', 'Pedro']"
      ]
     },
     "execution_count": 60,
     "metadata": {},
     "output_type": "execute_result"
    }
   ],
   "source": [
    "frase_dividida"
   ]
  },
  {
   "cell_type": "markdown",
   "id": "7727123d",
   "metadata": {},
   "source": [
    "## Método reversed()"
   ]
  },
  {
   "cell_type": "markdown",
   "id": "cb876c7d",
   "metadata": {},
   "source": [
    "Nos devuelve una copia de la lista pasada por argumento invertida en forma de iterador:"
   ]
  },
  {
   "cell_type": "code",
   "execution_count": 66,
   "id": "3299fe55",
   "metadata": {},
   "outputs": [],
   "source": [
    "lista = [0, 1, 2, 3, 4, 5]"
   ]
  },
  {
   "cell_type": "code",
   "execution_count": 67,
   "id": "f935cd05",
   "metadata": {},
   "outputs": [],
   "source": [
    "lista_invertida = reversed(lista)"
   ]
  },
  {
   "cell_type": "code",
   "execution_count": 64,
   "id": "ec2e5f3f",
   "metadata": {},
   "outputs": [
    {
     "data": {
      "text/plain": [
       "<list_reverseiterator at 0x1d35732a1c0>"
      ]
     },
     "execution_count": 64,
     "metadata": {},
     "output_type": "execute_result"
    }
   ],
   "source": [
    "lista_invertida"
   ]
  },
  {
   "cell_type": "markdown",
   "id": "54b22a8b",
   "metadata": {},
   "source": [
    "Para pasarlo a lista:"
   ]
  },
  {
   "cell_type": "code",
   "execution_count": 65,
   "id": "9839c3ea",
   "metadata": {},
   "outputs": [
    {
     "data": {
      "text/plain": [
       "[5, 4, 3, 2, 1, 0]"
      ]
     },
     "execution_count": 65,
     "metadata": {},
     "output_type": "execute_result"
    }
   ],
   "source": [
    "list(lista_invertida)"
   ]
  },
  {
   "cell_type": "markdown",
   "id": "cb148deb",
   "metadata": {},
   "source": [
    "## Método sorted()"
   ]
  },
  {
   "cell_type": "markdown",
   "id": "226f16aa",
   "metadata": {},
   "source": [
    "Devuelve una copia ordenada de la lista pasada por argumento:"
   ]
  },
  {
   "cell_type": "code",
   "execution_count": 68,
   "id": "a88baada",
   "metadata": {},
   "outputs": [
    {
     "data": {
      "text/plain": [
       "[0, 1, 2, 3, 4, 5]"
      ]
     },
     "execution_count": 68,
     "metadata": {},
     "output_type": "execute_result"
    }
   ],
   "source": [
    "sorted(list(lista_invertida))"
   ]
  }
 ],
 "metadata": {
  "kernelspec": {
   "display_name": "Python 3 (ipykernel)",
   "language": "python",
   "name": "python3"
  },
  "language_info": {
   "codemirror_mode": {
    "name": "ipython",
    "version": 3
   },
   "file_extension": ".py",
   "mimetype": "text/x-python",
   "name": "python",
   "nbconvert_exporter": "python",
   "pygments_lexer": "ipython3",
   "version": "3.9.7"
  }
 },
 "nbformat": 4,
 "nbformat_minor": 5
}
