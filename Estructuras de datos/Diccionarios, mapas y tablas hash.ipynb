{
 "cells": [
  {
   "cell_type": "markdown",
   "metadata": {},
   "source": [
    "# Diccionarios, mapas y tablas hash"
   ]
  },
  {
   "cell_type": "markdown",
   "metadata": {},
   "source": [
    "En Python, los diccionarios (o \"dicts\" para abreviar) son una estructura de datos central. Los diccionarios almacenan un número arbitrario de objetos, cada uno identificado por una clave única del diccionario.\n",
    "\n",
    "Los diccionarios también se denominan mapas, hashmaps, tablas de búsqueda o matrices asociativas. Permiten buscar, insertar y eliminar de forma eficiente cualquier objeto asociado a una clave determinada.\n",
    "\n",
    "En resumen, los diccionarios son una de las estructuras de datos más utilizadas e importantes en informática."
   ]
  },
  {
   "cell_type": "markdown",
   "metadata": {},
   "source": [
    "### Diccionario normal"
   ]
  },
  {
   "cell_type": "code",
   "execution_count": 1,
   "metadata": {},
   "outputs": [],
   "source": [
    "guiaTelefonica = {\n",
    "    \"Alicia\": 657484930,\n",
    "    \"Juan\": 647939010,\n",
    "    \"Pedro\": 658938401,\n",
    "}\n",
    "\n",
    "cuadrados = {x: x * x for x in range(6)}"
   ]
  },
  {
   "cell_type": "code",
   "execution_count": 2,
   "metadata": {},
   "outputs": [
    {
     "data": {
      "text/plain": [
       "{'Alicia': 657484930, 'Juan': 647939010, 'Pedro': 658938401}"
      ]
     },
     "execution_count": 2,
     "metadata": {},
     "output_type": "execute_result"
    }
   ],
   "source": [
    "guiaTelefonica"
   ]
  },
  {
   "cell_type": "code",
   "execution_count": 3,
   "metadata": {},
   "outputs": [
    {
     "data": {
      "text/plain": [
       "657484930"
      ]
     },
     "execution_count": 3,
     "metadata": {},
     "output_type": "execute_result"
    }
   ],
   "source": [
    "guiaTelefonica[\"Alicia\"]"
   ]
  },
  {
   "cell_type": "code",
   "execution_count": 4,
   "metadata": {},
   "outputs": [
    {
     "data": {
      "text/plain": [
       "{0: 0, 1: 1, 2: 4, 3: 9, 4: 16, 5: 25}"
      ]
     },
     "execution_count": 4,
     "metadata": {},
     "output_type": "execute_result"
    }
   ],
   "source": [
    "cuadrados"
   ]
  },
  {
   "cell_type": "code",
   "execution_count": 5,
   "metadata": {},
   "outputs": [
    {
     "data": {
      "text/plain": [
       "9"
      ]
     },
     "execution_count": 5,
     "metadata": {},
     "output_type": "execute_result"
    }
   ],
   "source": [
    "cuadrados[3]"
   ]
  },
  {
   "cell_type": "markdown",
   "metadata": {},
   "source": [
    "Existen algunas restricciones sobre los objetos que pueden utilizarse como claves válidas.\n",
    "\n",
    "Los diccionarios de Python están indexados por claves que pueden ser de cualquier tipo hashable: Un objeto hashable tiene un valor hash que nunca cambia durante su vida (ver \\__hash\\__), y puede ser comparado con otros objetos (ver \\__eq\\__). \n",
    "\n",
    "Además, **los objetos hashables que se comparan como iguales deben tener el mismo valor hash. Los tipos inmutables, como las cadenas y los números, son hashables y funcionan bien como claves de diccionario.**\n",
    "\n",
    "También puedes usar objetos tupla como claves de diccionario, siempre que contengan sólo tipos hashables.\n",
    "\n",
    "Para la mayoría de los casos de uso, la implementación de diccionario incorporada en Python hará todo lo que necesitas. \n",
    "\n",
    "Los diccionarios están altamente optimizados y son la base de muchas partes del lenguaje, por ejemplo, los atributos de clase y las variables en un marco de pila se almacenan internamente en diccionarios.\n",
    "\n",
    "Los diccionarios de Python se basan en una implementación de tabla hash bien probada y ajustada que proporciona las características de rendimiento que se esperan: Complejidad de tiempo O(1) para las operaciones de búsqueda, inserción, actualización y eliminación en el caso medio.\n",
    "\n",
    "No hay muchas razones para no utilizar la implementación estándar de diccionario incluida en Python. Sin embargo, existen implementaciones especializadas de diccionarios de terceros, por ejemplo, listas de salto o diccionarios basados en árboles B.\n",
    "\n",
    "Además de los objetos dict \"normales\", la biblioteca estándar de Python también incluye una serie de implementaciones de diccionarios especializados. Estos diccionarios especializados se basan en la clase de diccionario incorporada (y comparten sus características de rendimiento), pero añaden algunas características de comodidad."
   ]
  },
  {
   "cell_type": "markdown",
   "metadata": {},
   "source": [
    "## Orden de inserción de las claves"
   ]
  },
  {
   "cell_type": "markdown",
   "metadata": {},
   "source": [
    "### collections.OrderedDict: Recuerda el orden de inserción de las claves"
   ]
  },
  {
   "cell_type": "markdown",
   "metadata": {},
   "source": [
    "Python incluye una subclase especializada de dict que recuerda el orden de inserción de las claves añadidas: collections.OrderedDict."
   ]
  },
  {
   "cell_type": "markdown",
   "metadata": {},
   "source": [
    "Mientras que las instancias de dict estándar preservan el orden de inserción de las claves en CPython 3.6 y superior, esto es sólo un efecto secundario de la implementación de CPython y no está definido en la especificación del lenguaje. Por lo tanto, si el orden de las claves es importante para que tu algoritmo funcione, es mejor comunicar esto claramente mediante el uso explícito de la clase OrderDict.\n",
    "\n",
    "Por cierto, OrderedDict no es una parte incorporada al núcleo del lenguaje y debe importarse desde el módulo de colecciones de la biblioteca estándar."
   ]
  },
  {
   "cell_type": "code",
   "execution_count": 6,
   "metadata": {},
   "outputs": [
    {
     "data": {
      "text/plain": [
       "OrderedDict([('one', 1), ('two', 2), ('three', 3)])"
      ]
     },
     "execution_count": 6,
     "metadata": {},
     "output_type": "execute_result"
    }
   ],
   "source": [
    "import collections\n",
    "\n",
    "d = collections.OrderedDict(one=1, two=2, three=3)\n",
    "d"
   ]
  },
  {
   "cell_type": "code",
   "execution_count": 7,
   "metadata": {},
   "outputs": [
    {
     "data": {
      "text/plain": [
       "OrderedDict([('one', 1), ('two', 2), ('three', 3), ('four', 4)])"
      ]
     },
     "execution_count": 7,
     "metadata": {},
     "output_type": "execute_result"
    }
   ],
   "source": [
    "d['four'] = 4\n",
    "d"
   ]
  },
  {
   "cell_type": "code",
   "execution_count": 8,
   "metadata": {},
   "outputs": [
    {
     "data": {
      "text/plain": [
       "odict_keys(['one', 'two', 'three', 'four'])"
      ]
     },
     "execution_count": 8,
     "metadata": {},
     "output_type": "execute_result"
    }
   ],
   "source": [
    "d.keys()"
   ]
  },
  {
   "cell_type": "markdown",
   "metadata": {},
   "source": [
    "### collections.defaultdict: Devolución de valores por defecto para las claves que faltan"
   ]
  },
  {
   "cell_type": "markdown",
   "metadata": {},
   "source": [
    "La clase defaultdict es otra subclase de diccionario que acepta un objeto invocable en su constructor cuyo valor de retorno se utilizará si no se puede encontrar una clave solicitada.\n",
    "\n",
    "Esto puede ahorrarte algo de escritura y hacer que las intenciones del programador sean más claras, en comparación con el uso de los métodos get() o la captura de una excepción KeyError en los diccionarios regulares."
   ]
  },
  {
   "cell_type": "code",
   "execution_count": 10,
   "metadata": {},
   "outputs": [
    {
     "data": {
      "text/plain": [
       "['Rufus', 'Kathrin', 'Mr Sniffles']"
      ]
     },
     "execution_count": 10,
     "metadata": {},
     "output_type": "execute_result"
    }
   ],
   "source": [
    "from collections import defaultdict\n",
    "\n",
    "dd = defaultdict(list)\n",
    "\n",
    "dd['dogs'].append('Rufus')\n",
    "dd['dogs'].append('Kathrin')\n",
    "dd['dogs'].append('Mr Sniffles')\n",
    "dd['dogs']"
   ]
  },
  {
   "cell_type": "markdown",
   "metadata": {},
   "source": [
    "En este ejemplo, se está diciendo que en caso de acceder a una clave que no estuviera ya, se cree esa clave y se le añada automáticamente el valor de una lista."
   ]
  },
  {
   "cell_type": "markdown",
   "metadata": {},
   "source": [
    "### collections.ChainMap: Buscar en varios diccionarios como una sola asignación"
   ]
  },
  {
   "cell_type": "markdown",
   "metadata": {},
   "source": [
    "La estructura de datos collections.ChainMap agrupa varios diccionarios en una asignación. Las búsquedas buscan las asignaciones subyacentes una por una hasta encontrar una clave. Las inserciones, actualizaciones y eliminaciones sólo afectan a la primera asignación añadida a la cadena."
   ]
  },
  {
   "cell_type": "code",
   "execution_count": 11,
   "metadata": {},
   "outputs": [
    {
     "data": {
      "text/plain": [
       "ChainMap({'one': 1, 'two': 2}, {'three': 3, 'four': 4})"
      ]
     },
     "execution_count": 11,
     "metadata": {},
     "output_type": "execute_result"
    }
   ],
   "source": [
    "from collections import ChainMap\n",
    "\n",
    "dict1 = {'one': 1, 'two': 2}\n",
    "dict2 = {'three': 3, 'four': 4}\n",
    "chain = ChainMap(dict1, dict2)\n",
    "\n",
    "chain"
   ]
  },
  {
   "cell_type": "code",
   "execution_count": 12,
   "metadata": {},
   "outputs": [
    {
     "data": {
      "text/plain": [
       "3"
      ]
     },
     "execution_count": 12,
     "metadata": {},
     "output_type": "execute_result"
    }
   ],
   "source": [
    "chain['three']"
   ]
  },
  {
   "cell_type": "code",
   "execution_count": 13,
   "metadata": {},
   "outputs": [
    {
     "data": {
      "text/plain": [
       "1"
      ]
     },
     "execution_count": 13,
     "metadata": {},
     "output_type": "execute_result"
    }
   ],
   "source": [
    "chain['one']"
   ]
  },
  {
   "cell_type": "code",
   "execution_count": 14,
   "metadata": {},
   "outputs": [
    {
     "ename": "KeyError",
     "evalue": "'missing'",
     "output_type": "error",
     "traceback": [
      "\u001b[0;31m---------------------------------------------------------------------------\u001b[0m",
      "\u001b[0;31mKeyError\u001b[0m                                  Traceback (most recent call last)",
      "\u001b[0;32m<ipython-input-14-481dd4e7f593>\u001b[0m in \u001b[0;36m<module>\u001b[0;34m\u001b[0m\n\u001b[0;32m----> 1\u001b[0;31m \u001b[0mchain\u001b[0m\u001b[0;34m[\u001b[0m\u001b[0;34m'missing'\u001b[0m\u001b[0;34m]\u001b[0m\u001b[0;34m\u001b[0m\u001b[0;34m\u001b[0m\u001b[0m\n\u001b[0m",
      "\u001b[0;32m~/opt/anaconda3/lib/python3.8/collections/__init__.py\u001b[0m in \u001b[0;36m__getitem__\u001b[0;34m(self, key)\u001b[0m\n\u001b[1;32m    896\u001b[0m             \u001b[0;32mexcept\u001b[0m \u001b[0mKeyError\u001b[0m\u001b[0;34m:\u001b[0m\u001b[0;34m\u001b[0m\u001b[0;34m\u001b[0m\u001b[0m\n\u001b[1;32m    897\u001b[0m                 \u001b[0;32mpass\u001b[0m\u001b[0;34m\u001b[0m\u001b[0;34m\u001b[0m\u001b[0m\n\u001b[0;32m--> 898\u001b[0;31m         \u001b[0;32mreturn\u001b[0m \u001b[0mself\u001b[0m\u001b[0;34m.\u001b[0m\u001b[0m__missing__\u001b[0m\u001b[0;34m(\u001b[0m\u001b[0mkey\u001b[0m\u001b[0;34m)\u001b[0m            \u001b[0;31m# support subclasses that define __missing__\u001b[0m\u001b[0;34m\u001b[0m\u001b[0;34m\u001b[0m\u001b[0m\n\u001b[0m\u001b[1;32m    899\u001b[0m \u001b[0;34m\u001b[0m\u001b[0m\n\u001b[1;32m    900\u001b[0m     \u001b[0;32mdef\u001b[0m \u001b[0mget\u001b[0m\u001b[0;34m(\u001b[0m\u001b[0mself\u001b[0m\u001b[0;34m,\u001b[0m \u001b[0mkey\u001b[0m\u001b[0;34m,\u001b[0m \u001b[0mdefault\u001b[0m\u001b[0;34m=\u001b[0m\u001b[0;32mNone\u001b[0m\u001b[0;34m)\u001b[0m\u001b[0;34m:\u001b[0m\u001b[0;34m\u001b[0m\u001b[0;34m\u001b[0m\u001b[0m\n",
      "\u001b[0;32m~/opt/anaconda3/lib/python3.8/collections/__init__.py\u001b[0m in \u001b[0;36m__missing__\u001b[0;34m(self, key)\u001b[0m\n\u001b[1;32m    888\u001b[0m \u001b[0;34m\u001b[0m\u001b[0m\n\u001b[1;32m    889\u001b[0m     \u001b[0;32mdef\u001b[0m \u001b[0m__missing__\u001b[0m\u001b[0;34m(\u001b[0m\u001b[0mself\u001b[0m\u001b[0;34m,\u001b[0m \u001b[0mkey\u001b[0m\u001b[0;34m)\u001b[0m\u001b[0;34m:\u001b[0m\u001b[0;34m\u001b[0m\u001b[0;34m\u001b[0m\u001b[0m\n\u001b[0;32m--> 890\u001b[0;31m         \u001b[0;32mraise\u001b[0m \u001b[0mKeyError\u001b[0m\u001b[0;34m(\u001b[0m\u001b[0mkey\u001b[0m\u001b[0;34m)\u001b[0m\u001b[0;34m\u001b[0m\u001b[0;34m\u001b[0m\u001b[0m\n\u001b[0m\u001b[1;32m    891\u001b[0m \u001b[0;34m\u001b[0m\u001b[0m\n\u001b[1;32m    892\u001b[0m     \u001b[0;32mdef\u001b[0m \u001b[0m__getitem__\u001b[0m\u001b[0;34m(\u001b[0m\u001b[0mself\u001b[0m\u001b[0;34m,\u001b[0m \u001b[0mkey\u001b[0m\u001b[0;34m)\u001b[0m\u001b[0;34m:\u001b[0m\u001b[0;34m\u001b[0m\u001b[0;34m\u001b[0m\u001b[0m\n",
      "\u001b[0;31mKeyError\u001b[0m: 'missing'"
     ]
    }
   ],
   "source": [
    "chain['missing']"
   ]
  },
  {
   "cell_type": "markdown",
   "metadata": {},
   "source": [
    "### types.MappingProxyType: Un envoltorio (wrapper) para crear diccionarios de solo lectura"
   ]
  },
  {
   "cell_type": "markdown",
   "metadata": {},
   "source": [
    "MappingProxyType es una envoltura alrededor de un diccionario estándar que proporciona una vista de sólo lectura en los datos del diccionario envuelto. Esta clase fue añadida en Python 3.3, y puede ser usada para crear versiones proxy inmutables de diccionarios.\n",
    "\n",
    "Por ejemplo, esto puede ser útil si se desea devolver un diccionario que contenga el estado interno de una clase o módulo, mientras se desalienta el acceso de escritura a este objeto. El uso de MappingProxyType permite establecer estas restricciones sin tener que crear primero una copia completa del diccionario."
   ]
  },
  {
   "cell_type": "code",
   "execution_count": 16,
   "metadata": {},
   "outputs": [],
   "source": [
    "from types import MappingProxyType\n",
    "\n",
    "writable = {'one': 1, 'two': 2}\n",
    "read_only = MappingProxyType(writable)"
   ]
  },
  {
   "cell_type": "code",
   "execution_count": 17,
   "metadata": {},
   "outputs": [
    {
     "data": {
      "text/plain": [
       "1"
      ]
     },
     "execution_count": 17,
     "metadata": {},
     "output_type": "execute_result"
    }
   ],
   "source": [
    "read_only['one']"
   ]
  },
  {
   "cell_type": "code",
   "execution_count": 18,
   "metadata": {},
   "outputs": [
    {
     "ename": "TypeError",
     "evalue": "'mappingproxy' object does not support item assignment",
     "output_type": "error",
     "traceback": [
      "\u001b[0;31m---------------------------------------------------------------------------\u001b[0m",
      "\u001b[0;31mTypeError\u001b[0m                                 Traceback (most recent call last)",
      "\u001b[0;32m<ipython-input-18-8d269ba54945>\u001b[0m in \u001b[0;36m<module>\u001b[0;34m\u001b[0m\n\u001b[0;32m----> 1\u001b[0;31m \u001b[0mread_only\u001b[0m\u001b[0;34m[\u001b[0m\u001b[0;34m'one'\u001b[0m\u001b[0;34m]\u001b[0m \u001b[0;34m=\u001b[0m \u001b[0;36m23\u001b[0m\u001b[0;34m\u001b[0m\u001b[0;34m\u001b[0m\u001b[0m\n\u001b[0m",
      "\u001b[0;31mTypeError\u001b[0m: 'mappingproxy' object does not support item assignment"
     ]
    }
   ],
   "source": [
    "read_only['one'] = 23"
   ]
  },
  {
   "cell_type": "markdown",
   "metadata": {},
   "source": [
    "## Conclusión"
   ]
  },
  {
   "cell_type": "markdown",
   "metadata": {},
   "source": [
    "Todas las implementaciones de diccionarios de Python listadas en este capítulo son implementaciones válidas que están incorporadas en la biblioteca estándar de Python.\n",
    "\n",
    "Si estás buscando una recomendación general sobre qué tipo de mapeo usar en tus programas, te indicaría el tipo de datos dict incorporado. Es una implementación de tabla hash versátil y optimizada que está incorporada directamente en el núcleo del lenguaje.\n",
    "\n",
    "Sólo te recomendaría que usaras uno de los otros tipos de datos listados aquí si tienes requisitos especiales que van más allá de lo que se proporcionan los diccionarios."
   ]
  },
  {
   "cell_type": "markdown",
   "metadata": {},
   "source": [
    "## Claves"
   ]
  },
  {
   "cell_type": "markdown",
   "metadata": {},
   "source": [
    "* Los diccionarios son la estructura de datos central de Python.\n",
    "* El tipo dict incorporado será \"suficientemente bueno\" la mayor parte del tiempo. \n",
    "* Implementaciones especializadas, como dictos de sólo lectura u ordenados,\n",
    "están disponibles en la biblioteca estándar de Python."
   ]
  }
 ],
 "metadata": {
  "kernelspec": {
   "display_name": "Python 3",
   "language": "python",
   "name": "python3"
  },
  "language_info": {
   "codemirror_mode": {
    "name": "ipython",
    "version": 3
   },
   "file_extension": ".py",
   "mimetype": "text/x-python",
   "name": "python",
   "nbconvert_exporter": "python",
   "pygments_lexer": "ipython3",
   "version": "3.8.5"
  }
 },
 "nbformat": 4,
 "nbformat_minor": 4
}
