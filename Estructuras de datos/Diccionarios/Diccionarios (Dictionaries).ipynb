{
 "cells": [
  {
   "cell_type": "markdown",
   "id": "0522d899",
   "metadata": {},
   "source": [
    "# Diccionarios (Dictionaries)"
   ]
  },
  {
   "cell_type": "markdown",
   "id": "c86e4d93",
   "metadata": {},
   "source": [
    "## Se pueden convertir listas de tuplas en diccionarios"
   ]
  },
  {
   "cell_type": "code",
   "execution_count": 1,
   "id": "2ba01541",
   "metadata": {},
   "outputs": [],
   "source": [
    "lista = [(\"uno\", 1), (\"dos\", 2), (\"tres\", 3)]"
   ]
  },
  {
   "cell_type": "code",
   "execution_count": 2,
   "id": "7532c726",
   "metadata": {},
   "outputs": [],
   "source": [
    "diccionario = dict(lista)"
   ]
  },
  {
   "cell_type": "code",
   "execution_count": 3,
   "id": "14956548",
   "metadata": {},
   "outputs": [
    {
     "data": {
      "text/plain": [
       "{'uno': 1, 'dos': 2, 'tres': 3}"
      ]
     },
     "execution_count": 3,
     "metadata": {},
     "output_type": "execute_result"
    }
   ],
   "source": [
    "diccionario"
   ]
  },
  {
   "cell_type": "markdown",
   "id": "f229a6c3",
   "metadata": {},
   "source": [
    "## Se puede crear un diccionario directamente usando *dict*"
   ]
  },
  {
   "cell_type": "code",
   "execution_count": 4,
   "id": "2e8c7f34",
   "metadata": {},
   "outputs": [
    {
     "data": {
      "text/plain": [
       "{'uno': 1, 'dos': 2, 'tres': 3}"
      ]
     },
     "execution_count": 4,
     "metadata": {},
     "output_type": "execute_result"
    }
   ],
   "source": [
    "dict(uno=1, dos=2, tres=3)"
   ]
  },
  {
   "cell_type": "markdown",
   "id": "e2cf8dd0",
   "metadata": {},
   "source": [
    "## Crear una copia de un diccionario"
   ]
  },
  {
   "cell_type": "markdown",
   "id": "2cac9eee",
   "metadata": {},
   "source": [
    "### Forma 1"
   ]
  },
  {
   "cell_type": "code",
   "execution_count": 5,
   "id": "7ce38015",
   "metadata": {},
   "outputs": [],
   "source": [
    "diccionario2 = diccionario.copy()"
   ]
  },
  {
   "cell_type": "code",
   "execution_count": 6,
   "id": "19b2e7e3",
   "metadata": {},
   "outputs": [
    {
     "data": {
      "text/plain": [
       "{'uno': 1, 'dos': 2, 'tres': 3}"
      ]
     },
     "execution_count": 6,
     "metadata": {},
     "output_type": "execute_result"
    }
   ],
   "source": [
    "diccionario2"
   ]
  },
  {
   "cell_type": "code",
   "execution_count": 7,
   "id": "8b781ce3",
   "metadata": {},
   "outputs": [
    {
     "data": {
      "text/plain": [
       "False"
      ]
     },
     "execution_count": 7,
     "metadata": {},
     "output_type": "execute_result"
    }
   ],
   "source": [
    "diccionario is diccionario2"
   ]
  },
  {
   "cell_type": "code",
   "execution_count": 8,
   "id": "e2f40657",
   "metadata": {},
   "outputs": [
    {
     "data": {
      "text/plain": [
       "True"
      ]
     },
     "execution_count": 8,
     "metadata": {},
     "output_type": "execute_result"
    }
   ],
   "source": [
    "diccionario == diccionario2"
   ]
  },
  {
   "cell_type": "markdown",
   "id": "a3735117",
   "metadata": {},
   "source": [
    "### Forma 2"
   ]
  },
  {
   "cell_type": "code",
   "execution_count": 9,
   "id": "e6b66630",
   "metadata": {},
   "outputs": [],
   "source": [
    "diccionario2 = dict(diccionario)"
   ]
  },
  {
   "cell_type": "code",
   "execution_count": 10,
   "id": "28ddd136",
   "metadata": {},
   "outputs": [
    {
     "data": {
      "text/plain": [
       "False"
      ]
     },
     "execution_count": 10,
     "metadata": {},
     "output_type": "execute_result"
    }
   ],
   "source": [
    "diccionario is diccionario2"
   ]
  },
  {
   "cell_type": "code",
   "execution_count": 11,
   "id": "1dd447c5",
   "metadata": {},
   "outputs": [
    {
     "data": {
      "text/plain": [
       "True"
      ]
     },
     "execution_count": 11,
     "metadata": {},
     "output_type": "execute_result"
    }
   ],
   "source": [
    "diccionario == diccionario2"
   ]
  },
  {
   "cell_type": "markdown",
   "id": "a2a1b706",
   "metadata": {},
   "source": [
    "## Actualizar un diccionario con otro diccionario"
   ]
  },
  {
   "cell_type": "code",
   "execution_count": 12,
   "id": "f743b4df",
   "metadata": {},
   "outputs": [],
   "source": [
    "diccionario.update(dict(cuatro=4, cinco=5))"
   ]
  },
  {
   "cell_type": "code",
   "execution_count": 13,
   "id": "02b0acf8",
   "metadata": {},
   "outputs": [
    {
     "data": {
      "text/plain": [
       "{'uno': 1, 'dos': 2, 'tres': 3, 'cuatro': 4, 'cinco': 5}"
      ]
     },
     "execution_count": 13,
     "metadata": {},
     "output_type": "execute_result"
    }
   ],
   "source": [
    "diccionario"
   ]
  },
  {
   "cell_type": "markdown",
   "id": "1b0ea8ef",
   "metadata": {},
   "source": [
    "### Importante"
   ]
  },
  {
   "cell_type": "markdown",
   "id": "6df9c150",
   "metadata": {},
   "source": [
    "En caso de coincidir las claves de los diccionarios, los valores asociados a dichas claves serán actualizados."
   ]
  },
  {
   "cell_type": "markdown",
   "id": "c8fd39ee",
   "metadata": {},
   "source": [
    "## Iterar sobre un diccionario"
   ]
  },
  {
   "cell_type": "markdown",
   "id": "2c12a2b3",
   "metadata": {},
   "source": [
    "### Iterar sobre las claves de un diccionario"
   ]
  },
  {
   "cell_type": "code",
   "execution_count": 14,
   "id": "f396fa4e",
   "metadata": {},
   "outputs": [
    {
     "name": "stdout",
     "output_type": "stream",
     "text": [
      "uno\n",
      "dos\n",
      "tres\n",
      "cuatro\n",
      "cinco\n"
     ]
    }
   ],
   "source": [
    "for key in diccionario:\n",
    "    print(key)"
   ]
  },
  {
   "cell_type": "code",
   "execution_count": 15,
   "id": "8ac22aeb",
   "metadata": {},
   "outputs": [
    {
     "name": "stdout",
     "output_type": "stream",
     "text": [
      "uno\n",
      "dos\n",
      "tres\n",
      "cuatro\n",
      "cinco\n"
     ]
    }
   ],
   "source": [
    "for key in diccionario.keys():\n",
    "    print(key)"
   ]
  },
  {
   "cell_type": "markdown",
   "id": "d33ff9df",
   "metadata": {},
   "source": [
    "### Iterar sobre los valores de un diccionario"
   ]
  },
  {
   "cell_type": "code",
   "execution_count": 16,
   "id": "8e9e1b4e",
   "metadata": {},
   "outputs": [
    {
     "name": "stdout",
     "output_type": "stream",
     "text": [
      "1\n",
      "2\n",
      "3\n",
      "4\n",
      "5\n"
     ]
    }
   ],
   "source": [
    "for value in diccionario.values():\n",
    "    print(value)"
   ]
  },
  {
   "cell_type": "markdown",
   "id": "37fea7bb",
   "metadata": {},
   "source": [
    "### Iterar sobre claves y valores de un diccionario"
   ]
  },
  {
   "cell_type": "markdown",
   "id": "57043d7e",
   "metadata": {},
   "source": [
    "#### Forma 1"
   ]
  },
  {
   "cell_type": "code",
   "execution_count": 17,
   "id": "83ef2b87",
   "metadata": {},
   "outputs": [
    {
     "name": "stdout",
     "output_type": "stream",
     "text": [
      "uno:1\n",
      "dos:2\n",
      "tres:3\n",
      "cuatro:4\n",
      "cinco:5\n"
     ]
    }
   ],
   "source": [
    "for key in diccionario:\n",
    "    print(f\"{key}:{diccionario[key]}\")"
   ]
  },
  {
   "cell_type": "markdown",
   "id": "f2301b5b",
   "metadata": {},
   "source": [
    "#### Forma 2"
   ]
  },
  {
   "cell_type": "code",
   "execution_count": 18,
   "id": "5bae0372",
   "metadata": {},
   "outputs": [
    {
     "name": "stdout",
     "output_type": "stream",
     "text": [
      "uno:1\n",
      "dos:2\n",
      "tres:3\n",
      "cuatro:4\n",
      "cinco:5\n"
     ]
    }
   ],
   "source": [
    "for key, value in diccionario.items():\n",
    "    print(f\"{key}:{value}\")"
   ]
  },
  {
   "cell_type": "markdown",
   "id": "492f705d",
   "metadata": {},
   "source": [
    "## Comprobar si una clave está en un diccionario"
   ]
  },
  {
   "cell_type": "code",
   "execution_count": 19,
   "id": "d5e77ef2",
   "metadata": {},
   "outputs": [
    {
     "data": {
      "text/plain": [
       "True"
      ]
     },
     "execution_count": 19,
     "metadata": {},
     "output_type": "execute_result"
    }
   ],
   "source": [
    "\"uno\" in diccionario"
   ]
  },
  {
   "cell_type": "code",
   "execution_count": 20,
   "id": "c9b508d5",
   "metadata": {},
   "outputs": [
    {
     "data": {
      "text/plain": [
       "True"
      ]
     },
     "execution_count": 20,
     "metadata": {},
     "output_type": "execute_result"
    }
   ],
   "source": [
    "\"seis\" not in diccionario"
   ]
  },
  {
   "cell_type": "markdown",
   "id": "ec7d5188",
   "metadata": {},
   "source": [
    "## Borrar entrada (clave y valor) de un diccionario"
   ]
  },
  {
   "cell_type": "markdown",
   "id": "bcbfafca",
   "metadata": {},
   "source": [
    "Cuando borras la clave, desaparece también el valor asociado a la misma."
   ]
  },
  {
   "cell_type": "code",
   "execution_count": 21,
   "id": "27fa92dd",
   "metadata": {},
   "outputs": [],
   "source": [
    "del diccionario[\"cinco\"]"
   ]
  },
  {
   "cell_type": "code",
   "execution_count": 22,
   "id": "ecb43bdb",
   "metadata": {},
   "outputs": [
    {
     "data": {
      "text/plain": [
       "{'uno': 1, 'dos': 2, 'tres': 3, 'cuatro': 4}"
      ]
     },
     "execution_count": 22,
     "metadata": {},
     "output_type": "execute_result"
    }
   ],
   "source": [
    "diccionario"
   ]
  },
  {
   "cell_type": "markdown",
   "id": "4615cd44",
   "metadata": {},
   "source": [
    "## Mostrar diccionario de forma bonita"
   ]
  },
  {
   "cell_type": "code",
   "execution_count": 23,
   "id": "97fff45b",
   "metadata": {},
   "outputs": [],
   "source": [
    "from pprint import pprint as pp"
   ]
  },
  {
   "cell_type": "code",
   "execution_count": 24,
   "id": "d62ce7d3",
   "metadata": {},
   "outputs": [
    {
     "name": "stdout",
     "output_type": "stream",
     "text": [
      "{'cuatro': 4, 'dos': 2, 'tres': 3, 'uno': 1}\n"
     ]
    }
   ],
   "source": [
    "pp(diccionario)"
   ]
  },
  {
   "cell_type": "markdown",
   "id": "22330401",
   "metadata": {},
   "source": [
    "En este caso, se ordena la salida alfabéticamente."
   ]
  }
 ],
 "metadata": {
  "kernelspec": {
   "display_name": "Python 3 (ipykernel)",
   "language": "python",
   "name": "python3"
  },
  "language_info": {
   "codemirror_mode": {
    "name": "ipython",
    "version": 3
   },
   "file_extension": ".py",
   "mimetype": "text/x-python",
   "name": "python",
   "nbconvert_exporter": "python",
   "pygments_lexer": "ipython3",
   "version": "3.9.7"
  }
 },
 "nbformat": 4,
 "nbformat_minor": 5
}
