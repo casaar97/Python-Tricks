{
 "cells": [
  {
   "cell_type": "markdown",
   "id": "401ee059",
   "metadata": {},
   "source": [
    "# Rangos (Ranges)"
   ]
  },
  {
   "cell_type": "markdown",
   "id": "ca749b32",
   "metadata": {},
   "source": [
    "## Establecer un rango"
   ]
  },
  {
   "cell_type": "markdown",
   "id": "0405a071",
   "metadata": {},
   "source": [
    "Con un argumento, se indica el extremo final del rango: **range(stop)**"
   ]
  },
  {
   "cell_type": "code",
   "execution_count": 1,
   "id": "dab9733d",
   "metadata": {},
   "outputs": [
    {
     "data": {
      "text/plain": [
       "range(0, 5)"
      ]
     },
     "execution_count": 1,
     "metadata": {},
     "output_type": "execute_result"
    }
   ],
   "source": [
    "range(5)"
   ]
  },
  {
   "cell_type": "code",
   "execution_count": 2,
   "id": "3b5dcde4",
   "metadata": {},
   "outputs": [
    {
     "name": "stdout",
     "output_type": "stream",
     "text": [
      "0\n",
      "1\n",
      "2\n",
      "3\n",
      "4\n"
     ]
    }
   ],
   "source": [
    "for i in range(5):\n",
    "    print(i)"
   ]
  },
  {
   "cell_type": "markdown",
   "id": "76e61a09",
   "metadata": {},
   "source": [
    "## Establecer un rango con valor de inicio y fin"
   ]
  },
  {
   "cell_type": "markdown",
   "id": "77960d9c",
   "metadata": {},
   "source": [
    "Con dos argumentos, se indican ambos extremos del rango: **range(start, stop)**"
   ]
  },
  {
   "cell_type": "code",
   "execution_count": 3,
   "id": "86ad4a38",
   "metadata": {},
   "outputs": [
    {
     "name": "stdout",
     "output_type": "stream",
     "text": [
      "1\n",
      "2\n",
      "3\n",
      "4\n"
     ]
    }
   ],
   "source": [
    "for i in range(1,5):\n",
    "    print(i)"
   ]
  },
  {
   "cell_type": "markdown",
   "id": "cb63d561",
   "metadata": {},
   "source": [
    "## Establecer un rango con salto (step)"
   ]
  },
  {
   "cell_type": "markdown",
   "id": "063f7690",
   "metadata": {},
   "source": [
    "Con tres argumentos, se indican ambos extremos y el salto (*step*) del rango: **range(start, stop, step)**"
   ]
  },
  {
   "cell_type": "code",
   "execution_count": 4,
   "id": "55155c74",
   "metadata": {},
   "outputs": [
    {
     "name": "stdout",
     "output_type": "stream",
     "text": [
      "1\n",
      "3\n",
      "5\n",
      "7\n",
      "9\n"
     ]
    }
   ],
   "source": [
    "for i in range(1, 10 ,2):\n",
    "    print(i)"
   ]
  },
  {
   "cell_type": "markdown",
   "id": "10d3fc3b",
   "metadata": {},
   "source": [
    "## Utilizando ***enumerate***"
   ]
  },
  {
   "cell_type": "markdown",
   "id": "949bd002",
   "metadata": {},
   "source": [
    "La palabra clave ***enumerate*** devuelve una **tupla (indice, elemento)** con los elementos de la lista:"
   ]
  },
  {
   "cell_type": "code",
   "execution_count": 6,
   "id": "c7f2a524",
   "metadata": {},
   "outputs": [],
   "source": [
    "lista = [3423423, 234324 ,54545, 45454]"
   ]
  },
  {
   "cell_type": "code",
   "execution_count": 7,
   "id": "1832974b",
   "metadata": {},
   "outputs": [
    {
     "name": "stdout",
     "output_type": "stream",
     "text": [
      "(0, 3423423)\n",
      "(1, 234324)\n",
      "(2, 54545)\n",
      "(3, 45454)\n"
     ]
    }
   ],
   "source": [
    "for i in enumerate(lista):\n",
    "    print(i)"
   ]
  },
  {
   "cell_type": "code",
   "execution_count": 8,
   "id": "104f62a9",
   "metadata": {},
   "outputs": [
    {
     "name": "stdout",
     "output_type": "stream",
     "text": [
      "Indice: 0, Elemento: 3423423\n",
      "Indice: 1, Elemento: 234324\n",
      "Indice: 2, Elemento: 54545\n",
      "Indice: 3, Elemento: 45454\n"
     ]
    }
   ],
   "source": [
    "for indice, elemento in enumerate(lista):\n",
    "    print(f\"Indice: {indice}, Elemento: {elemento}\")"
   ]
  }
 ],
 "metadata": {
  "kernelspec": {
   "display_name": "Python 3 (ipykernel)",
   "language": "python",
   "name": "python3"
  },
  "language_info": {
   "codemirror_mode": {
    "name": "ipython",
    "version": 3
   },
   "file_extension": ".py",
   "mimetype": "text/x-python",
   "name": "python",
   "nbconvert_exporter": "python",
   "pygments_lexer": "ipython3",
   "version": "3.9.7"
  }
 },
 "nbformat": 4,
 "nbformat_minor": 5
}
