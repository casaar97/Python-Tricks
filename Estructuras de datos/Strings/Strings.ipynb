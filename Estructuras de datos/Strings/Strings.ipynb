{
 "cells": [
  {
   "cell_type": "markdown",
   "id": "a276ca94",
   "metadata": {},
   "source": [
    "# Strings"
   ]
  },
  {
   "cell_type": "markdown",
   "id": "8331d66f",
   "metadata": {},
   "source": [
    "Las cadenas de caracteres o strings son inmutables, es decir, no se pueden modificar *in place*."
   ]
  },
  {
   "cell_type": "markdown",
   "id": "bb4a56ec",
   "metadata": {},
   "source": [
    "### Unir cadenas de caracteres"
   ]
  },
  {
   "cell_type": "code",
   "execution_count": 1,
   "id": "925bd9b0",
   "metadata": {},
   "outputs": [
    {
     "data": {
      "text/plain": [
       "'Hola mundo'"
      ]
     },
     "execution_count": 1,
     "metadata": {},
     "output_type": "execute_result"
    }
   ],
   "source": [
    "\" \".join([\"Hola\",\"mundo\"])"
   ]
  },
  {
   "cell_type": "markdown",
   "id": "1e387c67",
   "metadata": {},
   "source": [
    "### Dividir cadenas de caracteres "
   ]
  },
  {
   "cell_type": "code",
   "execution_count": 2,
   "id": "f93ffe5e",
   "metadata": {},
   "outputs": [
    {
     "data": {
      "text/plain": [
       "['Hola', 'mundo']"
      ]
     },
     "execution_count": 2,
     "metadata": {},
     "output_type": "execute_result"
    }
   ],
   "source": [
    "\"Hola mundo\".split(\" \")"
   ]
  },
  {
   "cell_type": "markdown",
   "id": "322cfc8c",
   "metadata": {},
   "source": [
    "### Partir cadenas de caracteres"
   ]
  },
  {
   "cell_type": "markdown",
   "id": "f90f1b83",
   "metadata": {},
   "source": [
    "Este método didivirá la cadena en 3 partes:\n",
    "    \n",
    "    - Lo que hay a la izquierda de la cadena pasada como argumento\n",
    "    - La cadena pasada por argumento\n",
    "    - Lo que hay a la derecha de la cadena pasada como argumento"
   ]
  },
  {
   "cell_type": "code",
   "execution_count": 3,
   "id": "aafda0c3",
   "metadata": {},
   "outputs": [
    {
     "data": {
      "text/plain": [
       "('para', 'lele', 'pipedo')"
      ]
     },
     "execution_count": 3,
     "metadata": {},
     "output_type": "execute_result"
    }
   ],
   "source": [
    "\"paralelepipedo\".partition(\"lele\")"
   ]
  },
  {
   "cell_type": "code",
   "execution_count": 4,
   "id": "09522832",
   "metadata": {},
   "outputs": [
    {
     "data": {
      "text/plain": [
       "('h', 'o', 'la')"
      ]
     },
     "execution_count": 4,
     "metadata": {},
     "output_type": "execute_result"
    }
   ],
   "source": [
    "\"hola\".partition(\"o\")"
   ]
  },
  {
   "cell_type": "markdown",
   "id": "63b6dab1",
   "metadata": {},
   "source": [
    "### Formatear cadenas de caracteres"
   ]
  },
  {
   "cell_type": "code",
   "execution_count": 11,
   "id": "539d9729",
   "metadata": {},
   "outputs": [
    {
     "data": {
      "text/plain": [
       "'Hora de salida: 12:00   Hora de llegada: 14:30'"
      ]
     },
     "execution_count": 11,
     "metadata": {},
     "output_type": "execute_result"
    }
   ],
   "source": [
    "\"Hora de salida: {0}   Hora de llegada: {1}\".format(\"12:00\", \"14:30\")"
   ]
  },
  {
   "cell_type": "code",
   "execution_count": 13,
   "id": "1e1d12bc",
   "metadata": {},
   "outputs": [
    {
     "data": {
      "text/plain": [
       "'Hola me llamo Carlos'"
      ]
     },
     "execution_count": 13,
     "metadata": {},
     "output_type": "execute_result"
    }
   ],
   "source": [
    "nombre = \"Carlos\"\n",
    "\n",
    "f\"Hola me llamo {nombre}\""
   ]
  },
  {
   "cell_type": "markdown",
   "id": "e05f6522",
   "metadata": {},
   "source": [
    "Para ver mas sobre formateo de cadenas, se recomienda mirar el notebook: ***Formato de cadenas***"
   ]
  }
 ],
 "metadata": {
  "kernelspec": {
   "display_name": "Python 3 (ipykernel)",
   "language": "python",
   "name": "python3"
  },
  "language_info": {
   "codemirror_mode": {
    "name": "ipython",
    "version": 3
   },
   "file_extension": ".py",
   "mimetype": "text/x-python",
   "name": "python",
   "nbconvert_exporter": "python",
   "pygments_lexer": "ipython3",
   "version": "3.9.7"
  }
 },
 "nbformat": 4,
 "nbformat_minor": 5
}
