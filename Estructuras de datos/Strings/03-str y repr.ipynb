{
 "cells": [
  {
   "cell_type": "markdown",
   "id": "7002baff",
   "metadata": {},
   "source": [
    "# str y repr"
   ]
  },
  {
   "cell_type": "markdown",
   "id": "6556a3ce",
   "metadata": {},
   "source": [
    "Python soporta dos formas de representar objetos: **str** y **repr**."
   ]
  },
  {
   "cell_type": "markdown",
   "id": "c46bed04",
   "metadata": {},
   "source": [
    "Vamos a verlo con un ejemplo:"
   ]
  },
  {
   "cell_type": "code",
   "execution_count": 1,
   "id": "6eea8736",
   "metadata": {},
   "outputs": [],
   "source": [
    "class Point2D:\n",
    "    \n",
    "    def __init__(self, x, y):\n",
    "        self.x = x\n",
    "        self.y = y\n",
    "        \n",
    "    def __str__(self):\n",
    "        return '({}, {})'.format(self.x, self.y)\n",
    "    \n",
    "    def __repr__(self):\n",
    "        return 'Point2D(x={}, y={})'.format(self.x, self.y)"
   ]
  },
  {
   "cell_type": "code",
   "execution_count": 2,
   "id": "5bcbe032",
   "metadata": {},
   "outputs": [],
   "source": [
    "punto = Point2D(1,2)"
   ]
  },
  {
   "cell_type": "markdown",
   "id": "458bc792",
   "metadata": {},
   "source": [
    "### Mostrando el objeto con str()"
   ]
  },
  {
   "cell_type": "code",
   "execution_count": 3,
   "id": "a40f53ba",
   "metadata": {},
   "outputs": [
    {
     "data": {
      "text/plain": [
       "'(1, 2)'"
      ]
     },
     "execution_count": 3,
     "metadata": {},
     "output_type": "execute_result"
    }
   ],
   "source": [
    "str(punto)"
   ]
  },
  {
   "cell_type": "markdown",
   "id": "66447e0d",
   "metadata": {},
   "source": [
    "### Mostrando el objeto con repr()"
   ]
  },
  {
   "cell_type": "code",
   "execution_count": 4,
   "id": "fd160df7",
   "metadata": {},
   "outputs": [
    {
     "data": {
      "text/plain": [
       "'Point2D(x=1, y=2)'"
      ]
     },
     "execution_count": 4,
     "metadata": {},
     "output_type": "execute_result"
    }
   ],
   "source": [
    "repr(punto)"
   ]
  },
  {
   "cell_type": "markdown",
   "id": "006fdf78",
   "metadata": {},
   "source": [
    "## repr()"
   ]
  },
  {
   "cell_type": "markdown",
   "id": "11faafa2",
   "metadata": {},
   "source": [
    "Produce una representación no ambigua de un objeto. Es útil cuando:\n",
    "\n",
    "- La exactitud es mas importante que que sea amigable a ojos humanos\n",
    "- Es importante para el debugging\n",
    "- Incluye información que permite identificar al objeto\n",
    "- Generalmente, es lo mejor para labores de logging"
   ]
  },
  {
   "cell_type": "markdown",
   "id": "5c1ae83b",
   "metadata": {},
   "source": [
    "La cadena de caracteres devuelta por repr() debería devolver mas información que la devuelta por str(). Suele ser utilizado en situaciones en las que información explícita es requerida. \n",
    "\n",
    "Otra forma de verlo, es que **repr()** está pensado para **desarrolladores**, mientras que **str()** está pensado para **clientes**."
   ]
  },
  {
   "cell_type": "markdown",
   "id": "67988d1e",
   "metadata": {},
   "source": [
    "El método repr() debe decirle a un desarrollador todo lo necesario acerca de un objeto de manera que pueda indentificarlo inequívocamente."
   ]
  },
  {
   "cell_type": "markdown",
   "id": "b574f297",
   "metadata": {},
   "source": [
    "El método repr() es el que va a mostrar el debugger, así que debe incluirse toda la información que se quiera mostrar del objeto durante el proceso de debugging."
   ]
  },
  {
   "cell_type": "markdown",
   "id": "dea43b1c",
   "metadata": {},
   "source": [
    "## str() "
   ]
  },
  {
   "cell_type": "markdown",
   "id": "7b2c6eac",
   "metadata": {},
   "source": [
    "Produce una representación legible y amigable de un objeto."
   ]
  },
  {
   "cell_type": "markdown",
   "id": "e961854e",
   "metadata": {},
   "source": [
    "Se utiliza en situaciones donde, por ejemplo, la representación del objeto sea integrada en un texto normal. Por ejemplo:"
   ]
  },
  {
   "cell_type": "code",
   "execution_count": 5,
   "id": "2ee7b17c",
   "metadata": {},
   "outputs": [
    {
     "name": "stdout",
     "output_type": "stream",
     "text": [
      "El punto se encuentra centrado en las coordenadas (1, 2)\n"
     ]
    }
   ],
   "source": [
    "print(\"El punto se encuentra centrado en las coordenadas \" + str(punto))"
   ]
  },
  {
   "cell_type": "markdown",
   "id": "38262b68",
   "metadata": {},
   "source": [
    "## ¿Cuándo se usa str() y cuando se usa repr()?"
   ]
  },
  {
   "cell_type": "markdown",
   "id": "32dd4b0f",
   "metadata": {},
   "source": [
    "**El método print usa por defecto str()**:"
   ]
  },
  {
   "cell_type": "code",
   "execution_count": 6,
   "id": "7f7f786f",
   "metadata": {},
   "outputs": [
    {
     "name": "stdout",
     "output_type": "stream",
     "text": [
      "(1, 2)\n"
     ]
    }
   ],
   "source": [
    "print(Point2D(1,2))"
   ]
  },
  {
   "cell_type": "markdown",
   "id": "46635be9",
   "metadata": {},
   "source": [
    "**Por defecto, str() llama a repr()**.\n",
    "\n",
    "Es decir, si no defines un método str(), la definición por defecto de str() es llamar a repr():"
   ]
  },
  {
   "cell_type": "code",
   "execution_count": 7,
   "id": "53d6101f",
   "metadata": {},
   "outputs": [],
   "source": [
    "class Point2D:\n",
    "    \n",
    "    def __init__(self, x, y):\n",
    "        self.x = x\n",
    "        self.y = y\n",
    "    \n",
    "    def __repr__(self):\n",
    "        return 'Point2D(x={}, y={})'.format(self.x, self.y)"
   ]
  },
  {
   "cell_type": "code",
   "execution_count": 8,
   "id": "0ce00eed",
   "metadata": {},
   "outputs": [
    {
     "data": {
      "text/plain": [
       "'Point2D(x=1, y=2)'"
      ]
     },
     "execution_count": 8,
     "metadata": {},
     "output_type": "execute_result"
    }
   ],
   "source": [
    "str(Point2D(1,2))"
   ]
  },
  {
   "cell_type": "markdown",
   "id": "22a99514",
   "metadata": {},
   "source": [
    "**Sin embargo, repr() NO llama por defecto a str()**:\n",
    "\n",
    "Usa la definición de repr() por defecto, que es enseñar la dirección en memoria del objeto:"
   ]
  },
  {
   "cell_type": "code",
   "execution_count": 9,
   "id": "2ff36bf8",
   "metadata": {},
   "outputs": [],
   "source": [
    "class Point2D:\n",
    "    \n",
    "    def __init__(self, x, y):\n",
    "        self.x = x\n",
    "        self.y = y\n",
    "    \n",
    "    def __str__(self):\n",
    "        return '({}, {})'.format(self.x, self.y)"
   ]
  },
  {
   "cell_type": "code",
   "execution_count": 10,
   "id": "41050af4",
   "metadata": {},
   "outputs": [
    {
     "data": {
      "text/plain": [
       "'<__main__.Point2D object at 0x000002074C2F9C10>'"
      ]
     },
     "execution_count": 10,
     "metadata": {},
     "output_type": "execute_result"
    }
   ],
   "source": [
    "repr(Point2D(1,2))"
   ]
  },
  {
   "cell_type": "markdown",
   "id": "5cbe75ff",
   "metadata": {},
   "source": [
    "**Cuando hay una lista de objetos de un tipo, Python usa repr() para mostrarlo**:"
   ]
  },
  {
   "cell_type": "code",
   "execution_count": 11,
   "id": "c02b549e",
   "metadata": {},
   "outputs": [],
   "source": [
    "class Point2D:\n",
    "    \n",
    "    def __init__(self, x, y):\n",
    "        self.x = x\n",
    "        self.y = y\n",
    "        \n",
    "    def __str__(self):\n",
    "        return '({}, {})'.format(self.x, self.y)\n",
    "    \n",
    "    def __repr__(self):\n",
    "        return 'Point2D(x={}, y={})'.format(self.x, self.y)"
   ]
  },
  {
   "cell_type": "code",
   "execution_count": 12,
   "id": "92e98e47",
   "metadata": {},
   "outputs": [],
   "source": [
    "l = [Point2D(i,i*2) for i in range(3)]"
   ]
  },
  {
   "cell_type": "code",
   "execution_count": 13,
   "id": "2a2cec42",
   "metadata": {},
   "outputs": [
    {
     "name": "stdout",
     "output_type": "stream",
     "text": [
      "[Point2D(x=0, y=0), Point2D(x=1, y=2), Point2D(x=2, y=4)]\n"
     ]
    }
   ],
   "source": [
    "print(l)"
   ]
  },
  {
   "cell_type": "markdown",
   "id": "40dc525e",
   "metadata": {},
   "source": [
    "## Interactuando con format()"
   ]
  },
  {
   "cell_type": "code",
   "execution_count": 14,
   "id": "1b0dea9c",
   "metadata": {},
   "outputs": [],
   "source": [
    "class Point2D:\n",
    "    \n",
    "    def __init__(self, x, y):\n",
    "        self.x = x\n",
    "        self.y = y\n",
    "        \n",
    "    def __str__(self):\n",
    "        return '({}, {})'.format(self.x, self.y)\n",
    "    \n",
    "    def __repr__(self):\n",
    "        return 'Point2D(x={}, y={})'.format(self.x, self.y)\n",
    "    \n",
    "    def __format__(self, f):\n",
    "        return '[Formatted point: {}, {}, {}]'.format(self.x, self.y, f)"
   ]
  },
  {
   "cell_type": "code",
   "execution_count": 15,
   "id": "f04cc058",
   "metadata": {},
   "outputs": [
    {
     "name": "stdout",
     "output_type": "stream",
     "text": [
      "Esto es un punto: [Formatted point: 1, 2, ]\n"
     ]
    }
   ],
   "source": [
    "print(\"Esto es un punto: {}\".format(Point2D(1,2)))"
   ]
  },
  {
   "cell_type": "markdown",
   "id": "b27cfe75",
   "metadata": {},
   "source": [
    "El argumento **f** del método format es un especificador de formato. \n",
    "\n",
    "Por ejemplo, podemos definir \"r\" para hacer que el método format haga un reverse de los argumentos:"
   ]
  },
  {
   "cell_type": "code",
   "execution_count": 16,
   "id": "bdcae263",
   "metadata": {},
   "outputs": [],
   "source": [
    "class Point2D:\n",
    "    \n",
    "    def __init__(self, x, y):\n",
    "        self.x = x\n",
    "        self.y = y\n",
    "        \n",
    "    def __str__(self):\n",
    "        return '({}, {})'.format(self.x, self.y)\n",
    "    \n",
    "    def __repr__(self):\n",
    "        return 'Point2D(x={}, y={})'.format(self.x, self.y)\n",
    "    \n",
    "    def __format__(self, f):\n",
    "        \n",
    "        if f == \"r\":\n",
    "            return '[Formatted point: {}, {}]'.format(self.y, self.x)\n",
    "        else:\n",
    "            return '[Formatted point: {}, {}]'.format(self.x, self.y)"
   ]
  },
  {
   "cell_type": "code",
   "execution_count": 17,
   "id": "d09cde24",
   "metadata": {},
   "outputs": [
    {
     "name": "stdout",
     "output_type": "stream",
     "text": [
      "[Formatted point: 2, 1]\n"
     ]
    }
   ],
   "source": [
    "print(\"{:r}\".format(Point2D(1,2)))"
   ]
  },
  {
   "cell_type": "markdown",
   "id": "70025ee1",
   "metadata": {},
   "source": [
    "Por defecto, format llama al método **str()**."
   ]
  },
  {
   "cell_type": "code",
   "execution_count": 18,
   "id": "e9259275",
   "metadata": {},
   "outputs": [
    {
     "name": "stdout",
     "output_type": "stream",
     "text": [
      "[Formatted point: 1, 2]\n"
     ]
    }
   ],
   "source": [
    "print(\"{}\".format(Point2D(1,2)))"
   ]
  },
  {
   "cell_type": "markdown",
   "id": "46719a53",
   "metadata": {},
   "source": [
    "Podemos forzarlo a que use el método **repr()** utilizando **!r**:"
   ]
  },
  {
   "cell_type": "code",
   "execution_count": 19,
   "id": "59e39065",
   "metadata": {},
   "outputs": [
    {
     "name": "stdout",
     "output_type": "stream",
     "text": [
      "Point2D(x=1, y=2)\n"
     ]
    }
   ],
   "source": [
    "print(\"{!r}\".format(Point2D(1,2)))"
   ]
  },
  {
   "cell_type": "markdown",
   "id": "4ed0a233",
   "metadata": {},
   "source": [
    "También podemos forzar el uso de str() con **!s**:"
   ]
  },
  {
   "cell_type": "code",
   "execution_count": 20,
   "id": "d31088fa",
   "metadata": {},
   "outputs": [
    {
     "name": "stdout",
     "output_type": "stream",
     "text": [
      "(1, 2)\n"
     ]
    }
   ],
   "source": [
    "print(\"{!s}\".format(Point2D(1,2)))"
   ]
  }
 ],
 "metadata": {
  "kernelspec": {
   "display_name": "Python 3 (ipykernel)",
   "language": "python",
   "name": "python3"
  },
  "language_info": {
   "codemirror_mode": {
    "name": "ipython",
    "version": 3
   },
   "file_extension": ".py",
   "mimetype": "text/x-python",
   "name": "python",
   "nbconvert_exporter": "python",
   "pygments_lexer": "ipython3",
   "version": "3.9.7"
  }
 },
 "nbformat": 4,
 "nbformat_minor": 5
}
