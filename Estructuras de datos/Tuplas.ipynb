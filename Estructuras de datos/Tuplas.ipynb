{
 "cells": [
  {
   "cell_type": "markdown",
   "id": "975e9660",
   "metadata": {},
   "source": [
    "# Tuplas"
   ]
  },
  {
   "cell_type": "markdown",
   "id": "f5bdeaf3",
   "metadata": {},
   "source": [
    "Las tuplas son secuencias inmutables de objetos arbitrarios.\n",
    "\n",
    "Otra forma de verlas, es como listas que no se pueden modificar una vez creadas."
   ]
  },
  {
   "cell_type": "markdown",
   "id": "f9c47814",
   "metadata": {},
   "source": [
    "### Las tuplas se pueden concatenar:"
   ]
  },
  {
   "cell_type": "code",
   "execution_count": 1,
   "id": "d498459d",
   "metadata": {},
   "outputs": [
    {
     "data": {
      "text/plain": [
       "(1, 2, 3, 4)"
      ]
     },
     "execution_count": 1,
     "metadata": {},
     "output_type": "execute_result"
    }
   ],
   "source": [
    "(1,2) + (3,4)"
   ]
  },
  {
   "cell_type": "markdown",
   "id": "5009ca63",
   "metadata": {},
   "source": [
    "### Se pueden anidar:"
   ]
  },
  {
   "cell_type": "code",
   "execution_count": 2,
   "id": "5cc4fb90",
   "metadata": {},
   "outputs": [
    {
     "data": {
      "text/plain": [
       "((1, 2), (3, 4))"
      ]
     },
     "execution_count": 2,
     "metadata": {},
     "output_type": "execute_result"
    }
   ],
   "source": [
    "((1,2),(3,4))"
   ]
  },
  {
   "cell_type": "markdown",
   "id": "7b7d735f",
   "metadata": {},
   "source": [
    "### Se pueden crear tuplas de un único elemento:"
   ]
  },
  {
   "cell_type": "code",
   "execution_count": 3,
   "id": "e8d4a577",
   "metadata": {},
   "outputs": [
    {
     "data": {
      "text/plain": [
       "(1,)"
      ]
     },
     "execution_count": 3,
     "metadata": {},
     "output_type": "execute_result"
    }
   ],
   "source": [
    "(1,)"
   ]
  },
  {
   "cell_type": "markdown",
   "id": "5380827a",
   "metadata": {},
   "source": [
    "### Se pueden crear tuplas vacías:"
   ]
  },
  {
   "cell_type": "code",
   "execution_count": 4,
   "id": "d1f51d69",
   "metadata": {},
   "outputs": [
    {
     "data": {
      "text/plain": [
       "()"
      ]
     },
     "execution_count": 4,
     "metadata": {},
     "output_type": "execute_result"
    }
   ],
   "source": [
    "tupla = ()\n",
    "\n",
    "tupla"
   ]
  },
  {
   "cell_type": "markdown",
   "id": "0d6ec0f5",
   "metadata": {},
   "source": [
    "### Se puede devolver el elemento mas pequeño de una tupla:"
   ]
  },
  {
   "cell_type": "code",
   "execution_count": 5,
   "id": "66200df3",
   "metadata": {},
   "outputs": [
    {
     "data": {
      "text/plain": [
       "1"
      ]
     },
     "execution_count": 5,
     "metadata": {},
     "output_type": "execute_result"
    }
   ],
   "source": [
    "min (1,2,3)"
   ]
  },
  {
   "cell_type": "markdown",
   "id": "65d46b50",
   "metadata": {},
   "source": [
    "### Y el mas grande:"
   ]
  },
  {
   "cell_type": "code",
   "execution_count": 6,
   "id": "19772adf",
   "metadata": {},
   "outputs": [
    {
     "data": {
      "text/plain": [
       "3"
      ]
     },
     "execution_count": 6,
     "metadata": {},
     "output_type": "execute_result"
    }
   ],
   "source": [
    "max (1,2,3)"
   ]
  },
  {
   "cell_type": "markdown",
   "id": "fa41df6f",
   "metadata": {},
   "source": [
    "### Se pueden desempaquetar:"
   ]
  },
  {
   "cell_type": "code",
   "execution_count": 7,
   "id": "2a858f5f",
   "metadata": {},
   "outputs": [],
   "source": [
    "tupla = (1,2,3,4,5)"
   ]
  },
  {
   "cell_type": "code",
   "execution_count": 8,
   "id": "372c8095",
   "metadata": {},
   "outputs": [],
   "source": [
    "minimo, maximo = (min(tupla), max(tupla))"
   ]
  },
  {
   "cell_type": "code",
   "execution_count": 9,
   "id": "6e5066eb",
   "metadata": {},
   "outputs": [
    {
     "name": "stdout",
     "output_type": "stream",
     "text": [
      "1\n",
      "5\n"
     ]
    }
   ],
   "source": [
    "print(minimo)\n",
    "print(maximo)"
   ]
  },
  {
   "cell_type": "code",
   "execution_count": 10,
   "id": "c5ccee13",
   "metadata": {},
   "outputs": [],
   "source": [
    "(a, (b, (c,d))) = (1, (2, (3, 4)))"
   ]
  },
  {
   "cell_type": "code",
   "execution_count": 11,
   "id": "2560e710",
   "metadata": {},
   "outputs": [
    {
     "data": {
      "text/plain": [
       "(1, (2, (3, 4)))"
      ]
     },
     "execution_count": 11,
     "metadata": {},
     "output_type": "execute_result"
    }
   ],
   "source": [
    "(a, (b, (c, d)))"
   ]
  },
  {
   "cell_type": "markdown",
   "id": "405ee734",
   "metadata": {},
   "source": [
    "### Se pueden intercambiar elementos:"
   ]
  },
  {
   "cell_type": "code",
   "execution_count": 12,
   "id": "59a59eb9",
   "metadata": {},
   "outputs": [
    {
     "name": "stdout",
     "output_type": "stream",
     "text": [
      "1 2\n"
     ]
    }
   ],
   "source": [
    "print(a,b)"
   ]
  },
  {
   "cell_type": "code",
   "execution_count": 13,
   "id": "70b551d7",
   "metadata": {},
   "outputs": [],
   "source": [
    "a, b = b, a"
   ]
  },
  {
   "cell_type": "code",
   "execution_count": 14,
   "id": "75ba3897",
   "metadata": {},
   "outputs": [
    {
     "name": "stdout",
     "output_type": "stream",
     "text": [
      "2 1\n"
     ]
    }
   ],
   "source": [
    "print(a,b)"
   ]
  }
 ],
 "metadata": {
  "kernelspec": {
   "display_name": "Python 3 (ipykernel)",
   "language": "python",
   "name": "python3"
  },
  "language_info": {
   "codemirror_mode": {
    "name": "ipython",
    "version": 3
   },
   "file_extension": ".py",
   "mimetype": "text/x-python",
   "name": "python",
   "nbconvert_exporter": "python",
   "pygments_lexer": "ipython3",
   "version": "3.9.7"
  }
 },
 "nbformat": 4,
 "nbformat_minor": 5
}
