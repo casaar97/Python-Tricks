{
 "cells": [
  {
   "cell_type": "markdown",
   "id": "4382721b",
   "metadata": {},
   "source": [
    "# Protocols (Protocolos)"
   ]
  },
  {
   "cell_type": "markdown",
   "id": "74fff5ff",
   "metadata": {},
   "source": [
    "Los protocolos son un conjunto de operaciones que un tipo de dato debe soportar para implementar el protocolo.\n",
    "\n",
    "Los protocolos no necesitan ser definidos como interfaces o clases base.\n",
    "\n",
    "Los tipos solo necesitan proporcionar implementaciones funcionales"
   ]
  },
  {
   "cell_type": "markdown",
   "id": "9b954b57",
   "metadata": {},
   "source": [
    "## Tipos de protocolos"
   ]
  },
  {
   "cell_type": "markdown",
   "id": "466f12e8",
   "metadata": {},
   "source": [
    "- Container\n",
    "- Sized\n",
    "- Iterable\n",
    "- Sequence\n",
    "- Mutable Sequence\n",
    "- Mutable Set\n",
    "- Mutable Mapping"
   ]
  },
  {
   "cell_type": "markdown",
   "id": "867605c0",
   "metadata": {},
   "source": [
    "### Container"
   ]
  },
  {
   "cell_type": "markdown",
   "id": "85bc1c6d",
   "metadata": {},
   "source": [
    "Estructuras de datos que deben tener implementada la funcionalidad ***in*** y ***not in***.\n",
    "\n",
    "Estructuras de datos que cumplen el protocolo Container:\n",
    "\n",
    "- Strings\n",
    "- List\n",
    "- Dictionary\n",
    "- Range\n",
    "- Tuple\n",
    "- Set\n",
    "- Bytes\n",
    "\n",
    "Ejemplo:"
   ]
  },
  {
   "cell_type": "code",
   "execution_count": 1,
   "id": "3191aba4",
   "metadata": {},
   "outputs": [
    {
     "data": {
      "text/plain": [
       "True"
      ]
     },
     "execution_count": 1,
     "metadata": {},
     "output_type": "execute_result"
    }
   ],
   "source": [
    "1 in [1, 2, 3]"
   ]
  },
  {
   "cell_type": "markdown",
   "id": "6c7f70a4",
   "metadata": {},
   "source": [
    "### Sized"
   ]
  },
  {
   "cell_type": "markdown",
   "id": "02671bf7",
   "metadata": {},
   "source": [
    "Estructuras de datos que deben tener implementada la funcionalidad ***len***.\n",
    "\n",
    "Estructuras de datos que cumplen el protocolo sized:\n",
    "\n",
    "- Strings\n",
    "- List\n",
    "- Dictionary\n",
    "- Range\n",
    "- Tuple\n",
    "- Set\n",
    "- Bytes\n",
    "\n",
    "Ejemplo:"
   ]
  },
  {
   "cell_type": "code",
   "execution_count": 2,
   "id": "97570f3c",
   "metadata": {},
   "outputs": [
    {
     "data": {
      "text/plain": [
       "3"
      ]
     },
     "execution_count": 2,
     "metadata": {},
     "output_type": "execute_result"
    }
   ],
   "source": [
    "len([1, 2, 3])"
   ]
  },
  {
   "cell_type": "markdown",
   "id": "cc334bf2",
   "metadata": {},
   "source": [
    "### Iterable"
   ]
  },
  {
   "cell_type": "markdown",
   "id": "2bf71521",
   "metadata": {},
   "source": [
    "Estructuras de datos que deben ser iterables: ***for x in iterable:***\n",
    "\n",
    "Estructuras de datos que cumplen el protocolo iterable:\n",
    "\n",
    "- Strings\n",
    "- List\n",
    "- Dictionary\n",
    "- Range\n",
    "- Tuple\n",
    "- Set\n",
    "- Bytes\n",
    "\n",
    "Ejemplo:"
   ]
  },
  {
   "cell_type": "code",
   "execution_count": 3,
   "id": "aa397566",
   "metadata": {},
   "outputs": [
    {
     "name": "stdout",
     "output_type": "stream",
     "text": [
      "1\n",
      "2\n",
      "3\n"
     ]
    }
   ],
   "source": [
    "for number in [1, 2 ,3]:\n",
    "    print(number)"
   ]
  },
  {
   "cell_type": "markdown",
   "id": "9a292aeb",
   "metadata": {},
   "source": [
    "### Sequence"
   ]
  },
  {
   "cell_type": "markdown",
   "id": "7bdf13e0",
   "metadata": {},
   "source": [
    "Estructuras de datos cuyos elementos pueden:\n",
    "\n",
    "- Ser accedidos por un índice: item = sequence[index]\n",
    "- Encontrar el índice de la primera ocurrencia de un elemento: i = sequence.index(item)\n",
    "- Contar el número de ocurrencias de un objeto: num = sequence.count(item)\n",
    "- Invertir su orden: \n",
    "\n",
    "Estructuras de datos que cumplen el protocolo sequence:\n",
    "\n",
    "- Strings\n",
    "- List\n",
    "- Range\n",
    "- Tuple\n",
    "- Bytes\n",
    "\n",
    "Ejempls:"
   ]
  },
  {
   "cell_type": "code",
   "execution_count": 4,
   "id": "35c95197",
   "metadata": {},
   "outputs": [],
   "source": [
    "sequence = [1, 2, 3]"
   ]
  },
  {
   "cell_type": "code",
   "execution_count": 5,
   "id": "0169ada1",
   "metadata": {},
   "outputs": [],
   "source": [
    "item = sequence[0]"
   ]
  },
  {
   "cell_type": "code",
   "execution_count": 6,
   "id": "688afa67",
   "metadata": {},
   "outputs": [
    {
     "name": "stdout",
     "output_type": "stream",
     "text": [
      "1\n"
     ]
    }
   ],
   "source": [
    "print(item)"
   ]
  },
  {
   "cell_type": "code",
   "execution_count": 7,
   "id": "fa3ff4be",
   "metadata": {},
   "outputs": [],
   "source": [
    "i = sequence.index(item)"
   ]
  },
  {
   "cell_type": "code",
   "execution_count": 8,
   "id": "33e3f35e",
   "metadata": {},
   "outputs": [
    {
     "name": "stdout",
     "output_type": "stream",
     "text": [
      "0\n"
     ]
    }
   ],
   "source": [
    "print(i)"
   ]
  },
  {
   "cell_type": "code",
   "execution_count": 9,
   "id": "cd91e9c9",
   "metadata": {},
   "outputs": [],
   "source": [
    "num = sequence.count(item)"
   ]
  },
  {
   "cell_type": "code",
   "execution_count": 10,
   "id": "002b1cba",
   "metadata": {},
   "outputs": [
    {
     "data": {
      "text/plain": [
       "1"
      ]
     },
     "execution_count": 10,
     "metadata": {},
     "output_type": "execute_result"
    }
   ],
   "source": [
    "num"
   ]
  },
  {
   "cell_type": "code",
   "execution_count": 11,
   "id": "6831d221",
   "metadata": {},
   "outputs": [],
   "source": [
    "r = reversed(sequence)"
   ]
  },
  {
   "cell_type": "code",
   "execution_count": 12,
   "id": "57b16625",
   "metadata": {},
   "outputs": [
    {
     "data": {
      "text/plain": [
       "[3, 2, 1]"
      ]
     },
     "execution_count": 12,
     "metadata": {},
     "output_type": "execute_result"
    }
   ],
   "source": [
    "list(r)"
   ]
  },
  {
   "cell_type": "markdown",
   "id": "a01907cf",
   "metadata": {},
   "source": [
    "#### Importante"
   ]
  },
  {
   "cell_type": "markdown",
   "id": "d023bf2d",
   "metadata": {},
   "source": [
    "Los objetos que soportan el protocolo sequence también soportan los protocolos:\n",
    "\n",
    "- Iterable\n",
    "- Sized\n",
    "- Container"
   ]
  }
 ],
 "metadata": {
  "kernelspec": {
   "display_name": "Python 3 (ipykernel)",
   "language": "python",
   "name": "python3"
  },
  "language_info": {
   "codemirror_mode": {
    "name": "ipython",
    "version": 3
   },
   "file_extension": ".py",
   "mimetype": "text/x-python",
   "name": "python",
   "nbconvert_exporter": "python",
   "pygments_lexer": "ipython3",
   "version": "3.9.7"
  }
 },
 "nbformat": 4,
 "nbformat_minor": 5
}
