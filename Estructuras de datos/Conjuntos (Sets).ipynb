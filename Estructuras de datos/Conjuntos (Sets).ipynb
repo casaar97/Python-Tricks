{
 "cells": [
  {
   "cell_type": "markdown",
   "id": "83de8676",
   "metadata": {},
   "source": [
    "# Conjuntos (Sets)"
   ]
  },
  {
   "cell_type": "markdown",
   "id": "de7bf9a3",
   "metadata": {},
   "source": [
    "- Son colecciones ordenadas de elementos únicos\n",
    "\n",
    "- Son inmutables\n",
    "\n",
    "- Los elementos en un set deben ser inmutables"
   ]
  },
  {
   "cell_type": "code",
   "execution_count": 1,
   "id": "c24e8643",
   "metadata": {},
   "outputs": [],
   "source": [
    "conjunto = {1, 2, 3, 4, 5, 1}"
   ]
  },
  {
   "cell_type": "code",
   "execution_count": 2,
   "id": "5ed2c98a",
   "metadata": {},
   "outputs": [
    {
     "data": {
      "text/plain": [
       "{1, 2, 3, 4, 5}"
      ]
     },
     "execution_count": 2,
     "metadata": {},
     "output_type": "execute_result"
    }
   ],
   "source": [
    "conjunto"
   ]
  },
  {
   "cell_type": "markdown",
   "id": "afb6355b",
   "metadata": {},
   "source": [
    "## Crear conjunto vacío"
   ]
  },
  {
   "cell_type": "code",
   "execution_count": 3,
   "id": "e5f2d5cd",
   "metadata": {},
   "outputs": [],
   "source": [
    "### Forma 1"
   ]
  },
  {
   "cell_type": "code",
   "execution_count": 4,
   "id": "574c1202",
   "metadata": {},
   "outputs": [],
   "source": [
    "conjunto = {}"
   ]
  },
  {
   "cell_type": "code",
   "execution_count": 5,
   "id": "8fe802a1",
   "metadata": {},
   "outputs": [
    {
     "data": {
      "text/plain": [
       "{}"
      ]
     },
     "execution_count": 5,
     "metadata": {},
     "output_type": "execute_result"
    }
   ],
   "source": [
    "conjunto"
   ]
  },
  {
   "cell_type": "code",
   "execution_count": 6,
   "id": "1eb48a56",
   "metadata": {},
   "outputs": [],
   "source": [
    "### Forma 2"
   ]
  },
  {
   "cell_type": "code",
   "execution_count": 7,
   "id": "35bb533f",
   "metadata": {},
   "outputs": [],
   "source": [
    "conjunto = set()"
   ]
  },
  {
   "cell_type": "code",
   "execution_count": 8,
   "id": "db6466ef",
   "metadata": {},
   "outputs": [
    {
     "data": {
      "text/plain": [
       "set()"
      ]
     },
     "execution_count": 8,
     "metadata": {},
     "output_type": "execute_result"
    }
   ],
   "source": [
    "conjunto"
   ]
  },
  {
   "cell_type": "markdown",
   "id": "78f9e701",
   "metadata": {},
   "source": [
    "## Comprobar si un elemento está en un conjunto"
   ]
  },
  {
   "cell_type": "code",
   "execution_count": 9,
   "id": "d4d4cb95",
   "metadata": {},
   "outputs": [],
   "source": [
    "conjunto = {1, 2, 3, 4, 5, 1}"
   ]
  },
  {
   "cell_type": "code",
   "execution_count": 10,
   "id": "c740ae50",
   "metadata": {},
   "outputs": [
    {
     "data": {
      "text/plain": [
       "True"
      ]
     },
     "execution_count": 10,
     "metadata": {},
     "output_type": "execute_result"
    }
   ],
   "source": [
    "1 in conjunto"
   ]
  },
  {
   "cell_type": "code",
   "execution_count": 11,
   "id": "6fc71177",
   "metadata": {},
   "outputs": [
    {
     "data": {
      "text/plain": [
       "True"
      ]
     },
     "execution_count": 11,
     "metadata": {},
     "output_type": "execute_result"
    }
   ],
   "source": [
    "8 not in conjunto"
   ]
  },
  {
   "cell_type": "markdown",
   "id": "62b4c769",
   "metadata": {},
   "source": [
    "## Iterar conjunto"
   ]
  },
  {
   "cell_type": "code",
   "execution_count": 12,
   "id": "bf2becf9",
   "metadata": {},
   "outputs": [
    {
     "name": "stdout",
     "output_type": "stream",
     "text": [
      "1\n",
      "2\n",
      "3\n",
      "4\n",
      "5\n"
     ]
    }
   ],
   "source": [
    "for elemento in conjunto:\n",
    "    print(elemento)"
   ]
  },
  {
   "cell_type": "markdown",
   "id": "9f4c94f8",
   "metadata": {},
   "source": [
    "## Añadir elementos a un conjunto"
   ]
  },
  {
   "cell_type": "markdown",
   "id": "b1a701ca",
   "metadata": {},
   "source": [
    "### Solamente uno"
   ]
  },
  {
   "cell_type": "code",
   "execution_count": 13,
   "id": "f6758151",
   "metadata": {},
   "outputs": [],
   "source": [
    "conjunto.add(6)"
   ]
  },
  {
   "cell_type": "code",
   "execution_count": 14,
   "id": "7ef3ce05",
   "metadata": {},
   "outputs": [
    {
     "data": {
      "text/plain": [
       "{1, 2, 3, 4, 5, 6}"
      ]
     },
     "execution_count": 14,
     "metadata": {},
     "output_type": "execute_result"
    }
   ],
   "source": [
    "conjunto"
   ]
  },
  {
   "cell_type": "markdown",
   "id": "186352e3",
   "metadata": {},
   "source": [
    "### Varios al mismo tiempo"
   ]
  },
  {
   "cell_type": "code",
   "execution_count": 15,
   "id": "125c820a",
   "metadata": {},
   "outputs": [],
   "source": [
    "conjunto.update([7, 8, 9, 10])"
   ]
  },
  {
   "cell_type": "code",
   "execution_count": 16,
   "id": "0b9b3b9f",
   "metadata": {},
   "outputs": [
    {
     "data": {
      "text/plain": [
       "{1, 2, 3, 4, 5, 6, 7, 8, 9, 10}"
      ]
     },
     "execution_count": 16,
     "metadata": {},
     "output_type": "execute_result"
    }
   ],
   "source": [
    "conjunto"
   ]
  },
  {
   "cell_type": "markdown",
   "id": "47d62a18",
   "metadata": {},
   "source": [
    "## Eliminar elementos de un conjunto"
   ]
  },
  {
   "cell_type": "markdown",
   "id": "a313dd1e",
   "metadata": {},
   "source": [
    "### remove: Falla si el elemento no está presente"
   ]
  },
  {
   "cell_type": "code",
   "execution_count": 17,
   "id": "4b2a1ce2",
   "metadata": {},
   "outputs": [],
   "source": [
    "conjunto.remove(10)"
   ]
  },
  {
   "cell_type": "code",
   "execution_count": 18,
   "id": "f995c294",
   "metadata": {},
   "outputs": [
    {
     "name": "stdout",
     "output_type": "stream",
     "text": [
      "<class 'KeyError'>\n"
     ]
    }
   ],
   "source": [
    "try:\n",
    "    conjunto.remove(10)\n",
    "except KeyError:\n",
    "    print(KeyError)"
   ]
  },
  {
   "cell_type": "markdown",
   "id": "ac4e0ecc",
   "metadata": {},
   "source": [
    "### discard: No falla si el elemento no está presente"
   ]
  },
  {
   "cell_type": "code",
   "execution_count": 19,
   "id": "c4a6d4d5",
   "metadata": {},
   "outputs": [],
   "source": [
    "conjunto.discard(10)"
   ]
  },
  {
   "cell_type": "markdown",
   "id": "c46c3b43",
   "metadata": {},
   "source": [
    "## Copiar un conjunto"
   ]
  },
  {
   "cell_type": "code",
   "execution_count": 20,
   "id": "17562600",
   "metadata": {},
   "outputs": [],
   "source": [
    "conjunto2 = conjunto.copy()"
   ]
  },
  {
   "cell_type": "code",
   "execution_count": 21,
   "id": "3da785ab",
   "metadata": {},
   "outputs": [
    {
     "data": {
      "text/plain": [
       "False"
      ]
     },
     "execution_count": 21,
     "metadata": {},
     "output_type": "execute_result"
    }
   ],
   "source": [
    "conjunto2 is conjunto"
   ]
  },
  {
   "cell_type": "code",
   "execution_count": 22,
   "id": "cfc6afe2",
   "metadata": {},
   "outputs": [
    {
     "data": {
      "text/plain": [
       "True"
      ]
     },
     "execution_count": 22,
     "metadata": {},
     "output_type": "execute_result"
    }
   ],
   "source": [
    "conjunto2 == conjunto"
   ]
  },
  {
   "cell_type": "markdown",
   "id": "ea6ac808",
   "metadata": {},
   "source": [
    "## Álgebra de conjuntos"
   ]
  },
  {
   "cell_type": "code",
   "execution_count": 23,
   "id": "b52d833a",
   "metadata": {},
   "outputs": [
    {
     "data": {
      "text/plain": [
       "{1, 3, 5, 7, 9}"
      ]
     },
     "execution_count": 23,
     "metadata": {},
     "output_type": "execute_result"
    }
   ],
   "source": [
    "numeros_1 = {1, 2, 3, 4, 5}\n",
    "numeros_2 = {6, 7, 8, 9, 10}\n",
    "\n",
    "numeros = set(range(1,11,2))\n",
    "\n",
    "numeros"
   ]
  },
  {
   "cell_type": "markdown",
   "id": "0067ef15",
   "metadata": {},
   "source": [
    "### Unión"
   ]
  },
  {
   "cell_type": "markdown",
   "id": "8235921c",
   "metadata": {},
   "source": [
    "Los comunes y no comunes a ambos conjuntos"
   ]
  },
  {
   "cell_type": "code",
   "execution_count": 24,
   "id": "d3e4184b",
   "metadata": {},
   "outputs": [
    {
     "data": {
      "text/plain": [
       "{1, 2, 3, 4, 5, 7, 9}"
      ]
     },
     "execution_count": 24,
     "metadata": {},
     "output_type": "execute_result"
    }
   ],
   "source": [
    "numeros.union(numeros_1)"
   ]
  },
  {
   "cell_type": "markdown",
   "id": "d938bc06",
   "metadata": {},
   "source": [
    "### Intersección"
   ]
  },
  {
   "cell_type": "markdown",
   "id": "85d7afda",
   "metadata": {},
   "source": [
    "Solo los comunes a ambos conjuntos"
   ]
  },
  {
   "cell_type": "code",
   "execution_count": 25,
   "id": "f3c634f8",
   "metadata": {},
   "outputs": [
    {
     "data": {
      "text/plain": [
       "{1, 3, 5}"
      ]
     },
     "execution_count": 25,
     "metadata": {},
     "output_type": "execute_result"
    }
   ],
   "source": [
    "numeros.intersection(numeros_1)"
   ]
  },
  {
   "cell_type": "code",
   "execution_count": 26,
   "id": "49e46a4a",
   "metadata": {},
   "outputs": [
    {
     "data": {
      "text/plain": [
       "{7, 9}"
      ]
     },
     "execution_count": 26,
     "metadata": {},
     "output_type": "execute_result"
    }
   ],
   "source": [
    "numeros.intersection(numeros_2)"
   ]
  },
  {
   "cell_type": "markdown",
   "id": "e3a9880f",
   "metadata": {},
   "source": [
    "### Diferencia"
   ]
  },
  {
   "cell_type": "markdown",
   "id": "75969da4",
   "metadata": {},
   "source": [
    "Los elementos del primer conjunto que no se encuentran en el segundo conjunto (conjunto que se pasa como parámetro)"
   ]
  },
  {
   "cell_type": "code",
   "execution_count": 27,
   "id": "7bb17aaf",
   "metadata": {},
   "outputs": [
    {
     "data": {
      "text/plain": [
       "{7, 9}"
      ]
     },
     "execution_count": 27,
     "metadata": {},
     "output_type": "execute_result"
    }
   ],
   "source": [
    "numeros.difference(numeros_1)"
   ]
  },
  {
   "cell_type": "code",
   "execution_count": 28,
   "id": "6137914a",
   "metadata": {},
   "outputs": [
    {
     "data": {
      "text/plain": [
       "{1, 3, 5}"
      ]
     },
     "execution_count": 28,
     "metadata": {},
     "output_type": "execute_result"
    }
   ],
   "source": [
    "numeros.difference(numeros_2)"
   ]
  },
  {
   "cell_type": "markdown",
   "id": "62501039",
   "metadata": {},
   "source": [
    " ## Diferencia simétrica"
   ]
  },
  {
   "cell_type": "markdown",
   "id": "ecf52dea",
   "metadata": {},
   "source": [
    "Elementos que están en el primer o segundo set, pero no en ambos"
   ]
  },
  {
   "cell_type": "code",
   "execution_count": 31,
   "id": "c0aad745",
   "metadata": {},
   "outputs": [
    {
     "name": "stdout",
     "output_type": "stream",
     "text": [
      "{1, 3, 5, 7, 9}\n",
      "{1, 2, 3, 4, 5}\n",
      "{6, 7, 8, 9, 10}\n"
     ]
    }
   ],
   "source": [
    "print(numeros)\n",
    "print(numeros_1)\n",
    "print(numeros_2)"
   ]
  },
  {
   "cell_type": "code",
   "execution_count": 29,
   "id": "553a3451",
   "metadata": {},
   "outputs": [
    {
     "data": {
      "text/plain": [
       "{2, 4, 7, 9}"
      ]
     },
     "execution_count": 29,
     "metadata": {},
     "output_type": "execute_result"
    }
   ],
   "source": [
    "numeros.symmetric_difference(numeros_1)"
   ]
  },
  {
   "cell_type": "code",
   "execution_count": 30,
   "id": "e5bd6de0",
   "metadata": {},
   "outputs": [
    {
     "data": {
      "text/plain": [
       "{1, 3, 5, 6, 8, 10}"
      ]
     },
     "execution_count": 30,
     "metadata": {},
     "output_type": "execute_result"
    }
   ],
   "source": [
    "numeros.symmetric_difference(numeros_2)"
   ]
  }
 ],
 "metadata": {
  "kernelspec": {
   "display_name": "Python 3 (ipykernel)",
   "language": "python",
   "name": "python3"
  },
  "language_info": {
   "codemirror_mode": {
    "name": "ipython",
    "version": 3
   },
   "file_extension": ".py",
   "mimetype": "text/x-python",
   "name": "python",
   "nbconvert_exporter": "python",
   "pygments_lexer": "ipython3",
   "version": "3.9.7"
  }
 },
 "nbformat": 4,
 "nbformat_minor": 5
}
