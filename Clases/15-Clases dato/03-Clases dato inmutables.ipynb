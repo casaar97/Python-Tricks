{
 "cells": [
  {
   "cell_type": "markdown",
   "id": "7b4ce108",
   "metadata": {},
   "source": [
    "# Clases dato inmutables"
   ]
  },
  {
   "cell_type": "code",
   "execution_count": 1,
   "id": "e2824329",
   "metadata": {},
   "outputs": [],
   "source": [
    "from dataclasses import dataclass"
   ]
  },
  {
   "cell_type": "markdown",
   "id": "5fba4bd2",
   "metadata": {},
   "source": [
    "## Post validaciones"
   ]
  },
  {
   "cell_type": "markdown",
   "id": "9b12d253",
   "metadata": {},
   "source": [
    "Para las post validaciones, las clases dato utilizan el método \\__post_init__:"
   ]
  },
  {
   "cell_type": "code",
   "execution_count": 2,
   "id": "02af2b44",
   "metadata": {},
   "outputs": [],
   "source": [
    "@dataclass(\n",
    "init=True,\n",
    "repr=True,\n",
    "eq=True,\n",
    "order=False,\n",
    "unsafe_hash=False,\n",
    "frozen=False,\n",
    ")\n",
    "class Localizacion:\n",
    "    \n",
    "    nombre: str\n",
    "    posicion: tuple\n",
    "        \n",
    "    def __post_init__(self):\n",
    "        if self.nombre == \"\":\n",
    "            raise ValueError(\"El nombre de la localización no puede ser nulo.\")"
   ]
  },
  {
   "cell_type": "code",
   "execution_count": 3,
   "id": "25ee1654",
   "metadata": {},
   "outputs": [
    {
     "name": "stdout",
     "output_type": "stream",
     "text": [
      "El nombre de la localización no puede ser nulo.\n"
     ]
    }
   ],
   "source": [
    "try:\n",
    "    \n",
    "    paris = Localizacion(\"\", (48.8, 2.3))\n",
    "    \n",
    "except ValueError as error:\n",
    "    \n",
    "    print(error)"
   ]
  },
  {
   "cell_type": "markdown",
   "id": "5657b7e9",
   "metadata": {},
   "source": [
    "## Inmutabilidad"
   ]
  },
  {
   "cell_type": "markdown",
   "id": "1ec3aa74",
   "metadata": {},
   "source": [
    "Para no poderlo definir como nulo después de haber definido la clase, debemos definir la clase como inmutable. Esto se hace poniendo la opción **frozen** como True, como comentamos en el anterior notebook:"
   ]
  },
  {
   "cell_type": "code",
   "execution_count": 4,
   "id": "8360e156",
   "metadata": {},
   "outputs": [],
   "source": [
    "paris = Localizacion(\"Paris\", (48.8, 2.3))"
   ]
  },
  {
   "cell_type": "code",
   "execution_count": 5,
   "id": "15ca1605",
   "metadata": {},
   "outputs": [],
   "source": [
    "paris.nombre = \"\""
   ]
  },
  {
   "cell_type": "code",
   "execution_count": 6,
   "id": "039bbdda",
   "metadata": {},
   "outputs": [
    {
     "data": {
      "text/plain": [
       "Localizacion(nombre='', posicion=(48.8, 2.3))"
      ]
     },
     "execution_count": 6,
     "metadata": {},
     "output_type": "execute_result"
    }
   ],
   "source": [
    "paris"
   ]
  },
  {
   "cell_type": "code",
   "execution_count": 7,
   "id": "cd5150b1",
   "metadata": {},
   "outputs": [],
   "source": [
    "@dataclass(\n",
    "init=True,\n",
    "repr=True,\n",
    "eq=True,\n",
    "order=False,\n",
    "unsafe_hash=False,\n",
    "frozen=True,\n",
    ")\n",
    "class Localizacion:\n",
    "    \n",
    "    nombre: str\n",
    "    posicion: tuple\n",
    "        \n",
    "    def __post_init__(self):\n",
    "        if self.nombre == \"\":\n",
    "            raise ValueError(\"El nombre de la localización no puede ser nulo.\")"
   ]
  },
  {
   "cell_type": "code",
   "execution_count": 8,
   "id": "98aaab67",
   "metadata": {},
   "outputs": [
    {
     "name": "stdout",
     "output_type": "stream",
     "text": [
      "El nombre de la localización no puede ser nulo.\n"
     ]
    }
   ],
   "source": [
    "try:\n",
    "    \n",
    "    paris = Localizacion(\"\", (48.8, 2.3))\n",
    "    \n",
    "except ValueError as error:\n",
    "    \n",
    "    print(error)"
   ]
  },
  {
   "cell_type": "code",
   "execution_count": 9,
   "id": "f6c1c125",
   "metadata": {},
   "outputs": [],
   "source": [
    "paris = Localizacion(\"Paris\", (48.8, 2.3))"
   ]
  },
  {
   "cell_type": "code",
   "execution_count": 10,
   "id": "73ca2db7",
   "metadata": {},
   "outputs": [
    {
     "name": "stdout",
     "output_type": "stream",
     "text": [
      "cannot assign to field 'nombre'\n"
     ]
    }
   ],
   "source": [
    "try:\n",
    "    \n",
    "    paris.nombre = \"\"\n",
    "    \n",
    "except Exception as error:\n",
    "    print(error)"
   ]
  }
 ],
 "metadata": {
  "kernelspec": {
   "display_name": "Python 3 (ipykernel)",
   "language": "python",
   "name": "python3"
  },
  "language_info": {
   "codemirror_mode": {
    "name": "ipython",
    "version": 3
   },
   "file_extension": ".py",
   "mimetype": "text/x-python",
   "name": "python",
   "nbconvert_exporter": "python",
   "pygments_lexer": "ipython3",
   "version": "3.9.7"
  }
 },
 "nbformat": 4,
 "nbformat_minor": 5
}
