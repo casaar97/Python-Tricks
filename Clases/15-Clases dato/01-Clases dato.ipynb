{
 "cells": [
  {
   "cell_type": "markdown",
   "id": "3e2c576f",
   "metadata": {},
   "source": [
    "# Clases dato"
   ]
  },
  {
   "cell_type": "markdown",
   "id": "69261825",
   "metadata": {},
   "source": [
    "Para convertir una clase en una clase dato, se utiliza el decorador de clase **@dataclass** de Python.\n",
    "\n",
    "Para este ejemplo, vamos a utilizar la clase **Localizacion**:"
   ]
  },
  {
   "cell_type": "code",
   "execution_count": 1,
   "id": "1a300ff3",
   "metadata": {},
   "outputs": [],
   "source": [
    "from dataclasses import dataclass"
   ]
  },
  {
   "cell_type": "markdown",
   "id": "94170f72",
   "metadata": {},
   "source": [
    "Para que Localizacion sea una clase dato, se le añade el decorador @dataclass y se indica el tipo de sus atributos de instancia:"
   ]
  },
  {
   "cell_type": "code",
   "execution_count": 2,
   "id": "d1585d54",
   "metadata": {},
   "outputs": [],
   "source": [
    "@dataclass\n",
    "class Localizacion:\n",
    "    \n",
    "    nombre: str\n",
    "    posicion: tuple"
   ]
  },
  {
   "cell_type": "markdown",
   "id": "78b9c1e0",
   "metadata": {},
   "source": [
    "Una vez hecho esto, ya podremos acceder a dicha clase como si hubieramos definido algunos de sus métodos, como \\__init__ o \\__repr__, ya que estos se generan automáticamente:"
   ]
  },
  {
   "cell_type": "code",
   "execution_count": 3,
   "id": "d05ddfd9",
   "metadata": {},
   "outputs": [],
   "source": [
    "paris = Localizacion(\"Paris\", (48.8, 2.3))"
   ]
  },
  {
   "cell_type": "code",
   "execution_count": 4,
   "id": "05e8c052",
   "metadata": {},
   "outputs": [
    {
     "data": {
      "text/plain": [
       "Localizacion(nombre='Paris', posicion=(48.8, 2.3))"
      ]
     },
     "execution_count": 4,
     "metadata": {},
     "output_type": "execute_result"
    }
   ],
   "source": [
    "paris"
   ]
  },
  {
   "cell_type": "markdown",
   "id": "800780b9",
   "metadata": {},
   "source": [
    "Se puede indicar al decorador los métodos que queremos que se definan de forma automática:"
   ]
  },
  {
   "cell_type": "code",
   "execution_count": 5,
   "id": "430381ba",
   "metadata": {},
   "outputs": [],
   "source": [
    "@dataclass(\n",
    "init=True,\n",
    "repr=True,\n",
    "eq=True,\n",
    "order=False,\n",
    "unsafe_hash=False,\n",
    "frozen=False,\n",
    ")\n",
    "class Localizacion:\n",
    "    \n",
    "    nombre: str\n",
    "    posicion: tuple"
   ]
  },
  {
   "cell_type": "markdown",
   "id": "8767ff53",
   "metadata": {},
   "source": [
    "Ahora que hemos habilitado el método eq, podemos comparar objetos del tipo **Localizacion**:"
   ]
  },
  {
   "cell_type": "code",
   "execution_count": 6,
   "id": "d0c8cdfc",
   "metadata": {},
   "outputs": [
    {
     "data": {
      "text/plain": [
       "True"
      ]
     },
     "execution_count": 6,
     "metadata": {},
     "output_type": "execute_result"
    }
   ],
   "source": [
    "paris = Localizacion(\"Paris\", (48.8, 2.3))\n",
    "capital_francia = Localizacion(\"Paris\", (48.8, 2.3))\n",
    "\n",
    "paris == capital_francia"
   ]
  }
 ],
 "metadata": {
  "kernelspec": {
   "display_name": "Python 3 (ipykernel)",
   "language": "python",
   "name": "python3"
  },
  "language_info": {
   "codemirror_mode": {
    "name": "ipython",
    "version": 3
   },
   "file_extension": ".py",
   "mimetype": "text/x-python",
   "name": "python",
   "nbconvert_exporter": "python",
   "pygments_lexer": "ipython3",
   "version": "3.9.7"
  }
 },
 "nbformat": 4,
 "nbformat_minor": 5
}
