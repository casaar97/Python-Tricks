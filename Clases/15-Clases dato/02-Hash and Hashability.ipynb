{
 "cells": [
  {
   "cell_type": "markdown",
   "id": "503784c3",
   "metadata": {},
   "source": [
    "# Hash and Hashability"
   ]
  },
  {
   "cell_type": "markdown",
   "id": "72f9974a",
   "metadata": {},
   "source": [
    "- La inmutabilidad es difícil de expresar\n",
    "- Las colecciones basadas en Hash requieren elementos inmutables\n",
    "- La equalidad y el hasing deben ser consistentes\n",
    "\n",
    "En caso de no habilitar el hashing, no se podrá usar las instancias de clase con estructuras de datos basadas en hashes como los **conjuntos**:"
   ]
  },
  {
   "cell_type": "code",
   "execution_count": 1,
   "id": "6781a3b0",
   "metadata": {},
   "outputs": [],
   "source": [
    "from dataclasses import dataclass"
   ]
  },
  {
   "cell_type": "code",
   "execution_count": 2,
   "id": "1d757918",
   "metadata": {},
   "outputs": [],
   "source": [
    "@dataclass(\n",
    "init=True,\n",
    "repr=True,\n",
    "eq=True,\n",
    "order=False,\n",
    "unsafe_hash=False,\n",
    "frozen=False,\n",
    ")\n",
    "class Localizacion:\n",
    "    \n",
    "    nombre: str\n",
    "    posicion: tuple"
   ]
  },
  {
   "cell_type": "code",
   "execution_count": 3,
   "id": "a4ef230b",
   "metadata": {},
   "outputs": [],
   "source": [
    "hong_kong = Localizacion(\"Hong Kong\", (22.29, 114.16))\n",
    "estocolmo = Localizacion(\"Estocolmo\", (59.33, 18.06))\n",
    "ciudad_del_cabo = Localizacion(\"Cape Town\", (-33.93, 18.42))\n",
    "rotterdam = Localizacion(\"Rotterdam\", (51.96, 4.47))\n",
    "maracaibo = Localizacion(\"Maracaibo\", (10.65, -71.65))"
   ]
  },
  {
   "cell_type": "code",
   "execution_count": 4,
   "id": "665a4c9a",
   "metadata": {},
   "outputs": [
    {
     "name": "stdout",
     "output_type": "stream",
     "text": [
      "unhashable type: 'Localizacion'\n"
     ]
    }
   ],
   "source": [
    "try:\n",
    "    \n",
    "    ciudades = {hong_kong, estocolmo, ciudad_del_cabo, rotterdam, maracaibo}\n",
    "    \n",
    "except TypeError as error:\n",
    "    \n",
    "    print(error)"
   ]
  },
  {
   "cell_type": "markdown",
   "id": "afbca118",
   "metadata": {},
   "source": [
    "## Recomendaciones"
   ]
  },
  {
   "cell_type": "markdown",
   "id": "74a3f966",
   "metadata": {},
   "source": [
    "1. Solo usar clases inmutables en clases dato: int, str, float. Es decir, los tipos básicos.\n",
    "2. Declarar nuestra clase dato como **frozen**. Python interpreta esto como que la clase es **inmutable**."
   ]
  },
  {
   "cell_type": "markdown",
   "id": "3e9f38dd",
   "metadata": {},
   "source": [
    "**Para hacer que tu objeto sea hasheable, hay que definir eq y frozen como True**:"
   ]
  },
  {
   "cell_type": "code",
   "execution_count": 5,
   "id": "07724929",
   "metadata": {},
   "outputs": [],
   "source": [
    "@dataclass(\n",
    "eq=True,\n",
    "frozen=True,\n",
    ")\n",
    "class Localizacion:\n",
    "    \n",
    "    nombre: str\n",
    "    posicion: tuple"
   ]
  },
  {
   "cell_type": "code",
   "execution_count": 6,
   "id": "25d39a6f",
   "metadata": {},
   "outputs": [],
   "source": [
    "hong_kong = Localizacion(\"Hong Kong\", (22.29, 114.16))\n",
    "estocolmo = Localizacion(\"Estocolmo\", (59.33, 18.06))\n",
    "ciudad_del_cabo = Localizacion(\"Cape Town\", (-33.93, 18.42))\n",
    "rotterdam = Localizacion(\"Rotterdam\", (51.96, 4.47))\n",
    "maracaibo = Localizacion(\"Maracaibo\", (10.65, -71.65))"
   ]
  },
  {
   "cell_type": "code",
   "execution_count": 7,
   "id": "be216e44",
   "metadata": {},
   "outputs": [],
   "source": [
    "try:\n",
    "    \n",
    "    ciudades = {hong_kong, estocolmo, ciudad_del_cabo, rotterdam, maracaibo}\n",
    "    \n",
    "except TypeError as error:\n",
    "    \n",
    "    print(error)"
   ]
  },
  {
   "cell_type": "code",
   "execution_count": 8,
   "id": "b5bb715d",
   "metadata": {},
   "outputs": [
    {
     "data": {
      "text/plain": [
       "{Localizacion(nombre='Cape Town', posicion=(-33.93, 18.42)),\n",
       " Localizacion(nombre='Estocolmo', posicion=(59.33, 18.06)),\n",
       " Localizacion(nombre='Hong Kong', posicion=(22.29, 114.16)),\n",
       " Localizacion(nombre='Maracaibo', posicion=(10.65, -71.65)),\n",
       " Localizacion(nombre='Rotterdam', posicion=(51.96, 4.47))}"
      ]
     },
     "execution_count": 8,
     "metadata": {},
     "output_type": "execute_result"
    }
   ],
   "source": [
    "ciudades"
   ]
  }
 ],
 "metadata": {
  "kernelspec": {
   "display_name": "Python 3 (ipykernel)",
   "language": "python",
   "name": "python3"
  },
  "language_info": {
   "codemirror_mode": {
    "name": "ipython",
    "version": 3
   },
   "file_extension": ".py",
   "mimetype": "text/x-python",
   "name": "python",
   "nbconvert_exporter": "python",
   "pygments_lexer": "ipython3",
   "version": "3.9.7"
  }
 },
 "nbformat": 4,
 "nbformat_minor": 5
}
