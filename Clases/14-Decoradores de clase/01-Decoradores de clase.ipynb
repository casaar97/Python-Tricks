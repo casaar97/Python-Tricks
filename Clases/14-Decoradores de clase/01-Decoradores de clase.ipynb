{
 "cells": [
  {
   "cell_type": "markdown",
   "id": "3fd5bc61",
   "metadata": {},
   "source": [
    "# Decoradores de clase"
   ]
  },
  {
   "cell_type": "code",
   "execution_count": 1,
   "id": "c37ff658",
   "metadata": {},
   "outputs": [],
   "source": [
    "def typename(obj):\n",
    "    return type(obj).__name__"
   ]
  },
  {
   "cell_type": "code",
   "execution_count": 2,
   "id": "fecb2b77",
   "metadata": {},
   "outputs": [],
   "source": [
    "class Localizacion:\n",
    "    \n",
    "    def __init__(self, nombre, posicion):\n",
    "        \n",
    "        self._nombre = nombre\n",
    "        self._posicion = posicion\n",
    "        \n",
    "    @property\n",
    "    def nombre(self):\n",
    "        return self._nombre\n",
    "    \n",
    "    @property\n",
    "    def posicion(self):\n",
    "        return self._posicion\n",
    "    \n",
    "    def __repr__(self):\n",
    "        return f\"{typename(self)}(nombre={self.nombre}, posicion={self.posicion})\"\n",
    "    \n",
    "    def __str__(self):\n",
    "        return self.nombre"
   ]
  },
  {
   "cell_type": "code",
   "execution_count": 3,
   "id": "8e83ff6e",
   "metadata": {},
   "outputs": [],
   "source": [
    "hong_kong = Localizacion(\"Hong Kong\", (22.29, 114.16))\n",
    "estocolmo = Localizacion(\"Estocolmo\", (59.33, 18.06))\n",
    "cape_tpwn = Localizacion(\"Cape Town\", (-33.93, 18.42))\n",
    "rotterdam = Localizacion(\"Rotterdam\", (51.96, 4.47))\n",
    "maracaibo = Localizacion(\"Maracaibo\", (10.65, -71.65))"
   ]
  },
  {
   "cell_type": "code",
   "execution_count": 4,
   "id": "5c69e941",
   "metadata": {},
   "outputs": [
    {
     "data": {
      "text/plain": [
       "Localizacion(nombre=Hong Kong, posicion=(22.29, 114.16))"
      ]
     },
     "execution_count": 4,
     "metadata": {},
     "output_type": "execute_result"
    }
   ],
   "source": [
    "hong_kong"
   ]
  },
  {
   "cell_type": "code",
   "execution_count": 5,
   "id": "49ca08a7",
   "metadata": {},
   "outputs": [
    {
     "name": "stdout",
     "output_type": "stream",
     "text": [
      "Estocolmo\n"
     ]
    }
   ],
   "source": [
    "print(estocolmo)"
   ]
  },
  {
   "cell_type": "markdown",
   "id": "2361a63b",
   "metadata": {},
   "source": [
    "## Como sintetizar métodos"
   ]
  },
  {
   "cell_type": "markdown",
   "id": "f3737c20",
   "metadata": {},
   "source": [
    "En lugar de tener el método repr() implementado, vamos a crear un decorador para dicha clase.\n",
    "\n",
    "En dicho decorador vamos a mostrar todas las funciones miembro que se importan al importar dicha clase, junto a su correspondiente valor en memoria. Esto se hace gracias al método **vars() "
   ]
  },
  {
   "cell_type": "code",
   "execution_count": 6,
   "id": "d6addc0c",
   "metadata": {},
   "outputs": [
    {
     "name": "stdout",
     "output_type": "stream",
     "text": [
      "Decorando Localizacion con autorepr\n",
      "__module__ __main__\n",
      "__init__ <function Localizacion.__init__ at 0x00000254C8D88A60>\n",
      "nombre <property object at 0x00000254C8D6DB80>\n",
      "posicion <property object at 0x00000254C8D9D720>\n",
      "__str__ <function Localizacion.__str__ at 0x00000254C8D88C10>\n",
      "__dict__ <attribute '__dict__' of 'Localizacion' objects>\n",
      "__weakref__ <attribute '__weakref__' of 'Localizacion' objects>\n",
      "__doc__ None\n"
     ]
    }
   ],
   "source": [
    "def auto_repr(cls):\n",
    "    print(f\"Decorando {cls.__name__} con autorepr\")\n",
    "    miembros = vars(cls)\n",
    "    for nombre, miembro in miembros.items():\n",
    "        print(nombre, miembro)\n",
    "        \n",
    "    return cls\n",
    "    \n",
    "@auto_repr\n",
    "class Localizacion:\n",
    "    \n",
    "    def __init__(self, nombre, posicion):\n",
    "        \n",
    "        self._nombre = nombre\n",
    "        self._posicion = posicion\n",
    "        \n",
    "    @property\n",
    "    def nombre(self):\n",
    "        return self._nombre\n",
    "    \n",
    "    @property\n",
    "    def posicion(self):\n",
    "        return self._posicion\n",
    "    \n",
    "    def __str__(self):\n",
    "        return self.nombre"
   ]
  },
  {
   "cell_type": "markdown",
   "id": "4bc6371e",
   "metadata": {},
   "source": [
    "Como podemos ver, aparecen:\n",
    "    \n",
    "- El inicializador de la clase.\n",
    "- Las dos properties: nombre y posicion.\n",
    "- El método \\__str\\__\n",
    "    \n",
    "El resto de métodos que aparecen corresponden al funcionamiento interno de Python.\n",
    "\n"
   ]
  },
  {
   "cell_type": "markdown",
   "id": "0c87eadd",
   "metadata": {},
   "source": [
    "Para ver si la definición de nuestra clase contiene la función \\__repr\\__, podemos hacer una comprobación dentro del decorador:"
   ]
  },
  {
   "cell_type": "code",
   "execution_count": 7,
   "id": "0114343c",
   "metadata": {},
   "outputs": [],
   "source": [
    "def auto_repr(cls):\n",
    "    \n",
    "    print(f\"Decorando {cls.__name__} con autorepr\")\n",
    "    \n",
    "    miembros = vars(cls)\n",
    "    \n",
    "    for nombre, miembro in miembros.items():\n",
    "        print(nombre, miembro)\n",
    "    \n",
    "    if \"__repr__\" in miembros:\n",
    "        raise TypeError(f\"La clase {cls.__name__} ya define el propio __repr__\")\n",
    "    \n",
    "        \n",
    "    return cls"
   ]
  },
  {
   "cell_type": "markdown",
   "id": "f007dcf9",
   "metadata": {},
   "source": [
    "Podemos hacer lo mismo para asegurarnos de que se define un inicializador:"
   ]
  },
  {
   "cell_type": "code",
   "execution_count": 8,
   "id": "87f1d17b",
   "metadata": {},
   "outputs": [],
   "source": [
    "def auto_repr(cls):\n",
    "    \n",
    "    print(f\"Decorando {cls.__name__} con autorepr\")\n",
    "    \n",
    "    miembros = vars(cls)\n",
    "    \n",
    "    for nombre, miembro in miembros.items():\n",
    "        print(nombre, miembro)\n",
    "    \n",
    "    if \"__repr__\" in miembros:\n",
    "        raise TypeError(f\"La clase {cls.__name__} ya define el propio __repr__\")\n",
    "    \n",
    "    if \"__init__\" not in miembros:\n",
    "        raise TypeError(f\"La clase {cls.__name__} debe tener un método __init__\")\n",
    "    \n",
    "    return cls"
   ]
  },
  {
   "cell_type": "markdown",
   "id": "bcefe567",
   "metadata": {},
   "source": [
    "La proxima comprobación que vamos a hacer es un poco más compleja. \n",
    "\n",
    "Vamos a comprobar que para cada argumento de __init__ aparte de **self**, existe una property definida.\n",
    "\n",
    "Podemos obtener la lista de argumentos existente para \\__init\\__ pasándole una referencia del método a la función **signature**:"
   ]
  },
  {
   "cell_type": "code",
   "execution_count": 9,
   "id": "cc6f64d1",
   "metadata": {},
   "outputs": [],
   "source": [
    "import inspect"
   ]
  },
  {
   "cell_type": "code",
   "execution_count": 10,
   "id": "a82c876f",
   "metadata": {},
   "outputs": [],
   "source": [
    "def auto_repr(cls):\n",
    "    \n",
    "    print(f\"Decorando {cls.__name__} con autorepr\")\n",
    "    \n",
    "    miembros = vars(cls)\n",
    "    \n",
    "    for nombre, miembro in miembros.items():\n",
    "        print(nombre, miembro)\n",
    "    \n",
    "    if \"__repr__\" in miembros:\n",
    "        raise TypeError(f\"La clase {cls.__name__} ya define el propio __repr__\")\n",
    "    \n",
    "    if \"__init__\" not in miembros:\n",
    "        raise TypeError(f\"La clase {cls.__name__} debe tener un método __init__\")\n",
    "        \n",
    "    sig = inspect.signature(cls.__init__)\n",
    "    \n",
    "    parametros = list(sig.parameters)[1:]\n",
    "    \n",
    "    print(\"Parámetros de __init__: \", parametros)\n",
    "    \n",
    "    # Lo que hacemos aquí es decirle: \n",
    "    # 1. Para cada property, intenta obtenerla del diccionario miembros\n",
    "    # 2. Si no está, devuelve None\n",
    "    # Si para alguno de los valores devuelve None, es que ese valor no tiene un property establecido\n",
    "    \n",
    "    if not all(isinstance(miembros.get(nombre, None), property) for nombre in parametros):\n",
    "        raise TypeError(\"Todos los argumentos de __init__ deben tener una property establecida.\")\n",
    "    \n",
    "    return cls"
   ]
  },
  {
   "cell_type": "markdown",
   "id": "ff068d59",
   "metadata": {},
   "source": [
    "Ahora, vamos a crear el decorador de clase el método repr() \"sintetizado\":"
   ]
  },
  {
   "cell_type": "code",
   "execution_count": 11,
   "id": "5aac9462",
   "metadata": {},
   "outputs": [],
   "source": [
    "def repr_sintetizado(self):\n",
    "    \n",
    "    return \"{typename}({args})\".format(\n",
    "        typename=typename(self),\n",
    "        args=\", \".join(\n",
    "            \"{nombre}={valor!r}\".format(\n",
    "                nombre=nombre,\n",
    "                valor=getattr(self, nombre)\n",
    "            ) for nombre in parametros\n",
    "        )\n",
    "    )\n",
    "\n",
    "    setattr(cls, \"__repr__\", repr_sintetizado)"
   ]
  },
  {
   "cell_type": "markdown",
   "id": "b7912396",
   "metadata": {},
   "source": [
    "Y lo incluimos en el decorador:"
   ]
  },
  {
   "cell_type": "code",
   "execution_count": 12,
   "id": "34dfbf01",
   "metadata": {},
   "outputs": [],
   "source": [
    "def auto_repr(cls):\n",
    "    \n",
    "    miembros = vars(cls)\n",
    "    \n",
    "    for nombre, miembro in miembros.items():\n",
    "        print(nombre, miembro)\n",
    "    \n",
    "    if \"__repr__\" in miembros:\n",
    "        raise TypeError(f\"La clase {cls.__name__} ya define el propio __repr__\")\n",
    "    \n",
    "    if \"__init__\" not in miembros:\n",
    "        raise TypeError(f\"La clase {cls.__name__} debe tener un método __init__\")\n",
    "        \n",
    "    sig = inspect.signature(cls.__init__)\n",
    "    \n",
    "    parametros = list(sig.parameters)[1:]\n",
    "    \n",
    "    # Lo que hacemos aquí es decirle: \n",
    "    # 1. Para cada property, intenta obtenerla del diccionario miembros\n",
    "    # 2. Si no está, devuelve None\n",
    "    # Si para alguno de los valores devuelve None, es que ese valor no tiene un property establecido\n",
    "    \n",
    "    if not all(isinstance(miembros.get(nombre, None), property) for nombre in parametros):\n",
    "        raise TypeError(\"Todos los argumentos de __init__ deben tener una property establecida.\")\n",
    "    \n",
    "    def repr_sintetizado(self):\n",
    "    \n",
    "        return \"{typename}({args})\".format(\n",
    "            typename=typename(self),\n",
    "            args=\", \".join(\n",
    "                \"{nombre}={valor}\".format(\n",
    "                    nombre=nombre,\n",
    "                    valor=getattr(self, nombre)\n",
    "                ) for nombre in parametros\n",
    "            )\n",
    "        )\n",
    "\n",
    "    setattr(cls, \"__repr__\", repr_sintetizado)\n",
    "    \n",
    "    return cls"
   ]
  },
  {
   "cell_type": "markdown",
   "id": "584fcd2b",
   "metadata": {},
   "source": [
    "Si ahora definimos la clase con el decorador:"
   ]
  },
  {
   "cell_type": "code",
   "execution_count": 13,
   "id": "5b6f1679",
   "metadata": {},
   "outputs": [
    {
     "name": "stdout",
     "output_type": "stream",
     "text": [
      "__module__ __main__\n",
      "__init__ <function Localizacion.__init__ at 0x00000254C8D96A60>\n",
      "nombre <property object at 0x00000254C8DA0B80>\n",
      "posicion <property object at 0x00000254C8DA0DB0>\n",
      "__str__ <function Localizacion.__str__ at 0x00000254C8D96C10>\n",
      "__dict__ <attribute '__dict__' of 'Localizacion' objects>\n",
      "__weakref__ <attribute '__weakref__' of 'Localizacion' objects>\n",
      "__doc__ None\n"
     ]
    }
   ],
   "source": [
    "@auto_repr\n",
    "class Localizacion:\n",
    "    \n",
    "    def __init__(self, nombre, posicion):\n",
    "        \n",
    "        self._nombre = nombre\n",
    "        self._posicion = posicion\n",
    "        \n",
    "    @property\n",
    "    def nombre(self):\n",
    "        return self._nombre\n",
    "    \n",
    "    @property\n",
    "    def posicion(self):\n",
    "        return self._posicion\n",
    "    \n",
    "    def __str__(self):\n",
    "        return self.nombre"
   ]
  },
  {
   "cell_type": "markdown",
   "id": "b584fd9c",
   "metadata": {},
   "source": [
    "Y creamos una instancia de la clase:"
   ]
  },
  {
   "cell_type": "code",
   "execution_count": 14,
   "id": "6a369cf9",
   "metadata": {},
   "outputs": [],
   "source": [
    "hong_kong = Localizacion(\"Hong Kong\", (22.29, 114.16))"
   ]
  },
  {
   "cell_type": "code",
   "execution_count": 15,
   "id": "f5c5b813",
   "metadata": {},
   "outputs": [
    {
     "data": {
      "text/plain": [
       "Localizacion(nombre=Hong Kong, posicion=(22.29, 114.16))"
      ]
     },
     "execution_count": 15,
     "metadata": {},
     "output_type": "execute_result"
    }
   ],
   "source": [
    "hong_kong"
   ]
  },
  {
   "cell_type": "markdown",
   "id": "f030aebd",
   "metadata": {},
   "source": [
    "Vemos como __repr__ funciona perfectamente."
   ]
  },
  {
   "cell_type": "markdown",
   "id": "8734d7a8",
   "metadata": {},
   "source": [
    "## Resumen"
   ]
  },
  {
   "cell_type": "markdown",
   "id": "115c373c",
   "metadata": {},
   "source": [
    "En lo que ha consistido este notebook es basicamente en meter la función __repr__ en el decorador y asignarsela a la clase a través del mismo."
   ]
  }
 ],
 "metadata": {
  "kernelspec": {
   "display_name": "Python 3 (ipykernel)",
   "language": "python",
   "name": "python3"
  },
  "language_info": {
   "codemirror_mode": {
    "name": "ipython",
    "version": 3
   },
   "file_extension": ".py",
   "mimetype": "text/x-python",
   "name": "python",
   "nbconvert_exporter": "python",
   "pygments_lexer": "ipython3",
   "version": "3.9.7"
  }
 },
 "nbformat": 4,
 "nbformat_minor": 5
}
