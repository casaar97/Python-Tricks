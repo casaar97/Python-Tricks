{
 "cells": [
  {
   "cell_type": "markdown",
   "id": "9d65a4de",
   "metadata": {},
   "source": [
    "# Decoradores de clase factory"
   ]
  },
  {
   "cell_type": "markdown",
   "id": "c474d6c4",
   "metadata": {},
   "source": [
    "Vamos a importar las siguientes clases y decoradores para trabajar en este notebook:"
   ]
  },
  {
   "cell_type": "code",
   "execution_count": 1,
   "id": "e6663140",
   "metadata": {},
   "outputs": [],
   "source": [
    "import inspect"
   ]
  },
  {
   "cell_type": "code",
   "execution_count": 2,
   "id": "4e4161e6",
   "metadata": {},
   "outputs": [],
   "source": [
    "def typename(obj):\n",
    "    return type(obj).__name__"
   ]
  },
  {
   "cell_type": "markdown",
   "id": "dc8d68f5",
   "metadata": {},
   "source": [
    "### Decorador auto_repr"
   ]
  },
  {
   "cell_type": "code",
   "execution_count": 3,
   "id": "06ab7edb",
   "metadata": {},
   "outputs": [],
   "source": [
    "def auto_repr(cls):\n",
    "    \n",
    "    miembros = vars(cls)\n",
    "    \n",
    "    for nombre, miembro in miembros.items():\n",
    "        print(nombre, miembro)\n",
    "    \n",
    "    if \"__repr__\" in miembros:\n",
    "        raise TypeError(f\"La clase {cls.__name__} ya define el propio __repr__\")\n",
    "    \n",
    "    if \"__init__\" not in miembros:\n",
    "        raise TypeError(f\"La clase {cls.__name__} debe tener un método __init__\")\n",
    "        \n",
    "    sig = inspect.signature(cls.__init__)\n",
    "    \n",
    "    parametros = list(sig.parameters)[1:]\n",
    "    \n",
    "    # Lo que hacemos aquí es decirle: \n",
    "    # 1. Para cada property, intenta obtenerla del diccionario miembros\n",
    "    # 2. Si no está, devuelve None\n",
    "    # Si para alguno de los valores devuelve None, es que ese valor no tiene un property establecido\n",
    "    \n",
    "    if not all(isinstance(miembros.get(nombre, None), property) for nombre in parametros):\n",
    "        raise TypeError(\"Todos los argumentos de __init__ deben tener una property establecida.\")\n",
    "    \n",
    "    def repr_sintetizado(self):\n",
    "    \n",
    "        return \"{typename}({args})\".format(\n",
    "            typename=typename(self),\n",
    "            args=\", \".join(\n",
    "                \"{nombre}={valor}\".format(\n",
    "                    nombre=nombre,\n",
    "                    valor=getattr(self, nombre)\n",
    "                ) for nombre in parametros\n",
    "            )\n",
    "        )\n",
    "\n",
    "    setattr(cls, \"__repr__\", repr_sintetizado)\n",
    "    \n",
    "    return cls"
   ]
  },
  {
   "cell_type": "markdown",
   "id": "81dec743",
   "metadata": {},
   "source": [
    "### Clase Localizacion"
   ]
  },
  {
   "cell_type": "code",
   "execution_count": 4,
   "id": "dec313ab",
   "metadata": {},
   "outputs": [
    {
     "name": "stdout",
     "output_type": "stream",
     "text": [
      "__module__ __main__\n",
      "__init__ <function Localizacion.__init__ at 0x0000023D9A147310>\n",
      "nombre <property object at 0x0000023D9A06EB30>\n",
      "posicion <property object at 0x0000023D9A14D6D0>\n",
      "__str__ <function Localizacion.__str__ at 0x0000023D9A1474C0>\n",
      "__dict__ <attribute '__dict__' of 'Localizacion' objects>\n",
      "__weakref__ <attribute '__weakref__' of 'Localizacion' objects>\n",
      "__doc__ None\n"
     ]
    }
   ],
   "source": [
    "@auto_repr\n",
    "class Localizacion:\n",
    "    \n",
    "    def __init__(self, nombre, posicion):\n",
    "        \n",
    "        self._nombre = nombre\n",
    "        self._posicion = posicion\n",
    "        \n",
    "    @property\n",
    "    def nombre(self):\n",
    "        return self._nombre\n",
    "    \n",
    "    @property\n",
    "    def posicion(self):\n",
    "        return self._posicion\n",
    "    \n",
    "    def __str__(self):\n",
    "        return self.nombre"
   ]
  },
  {
   "cell_type": "code",
   "execution_count": 5,
   "id": "535c4b65",
   "metadata": {},
   "outputs": [],
   "source": [
    "hong_kong = Localizacion(\"Hong Kong\", (22.29, 114.16))\n",
    "estocolmo = Localizacion(\"Estocolmo\", (59.33, 18.06))\n",
    "ciudad_del_cabo = Localizacion(\"Cape Town\", (-33.93, 18.42))\n",
    "rotterdam = Localizacion(\"Rotterdam\", (51.96, 4.47))\n",
    "maracaibo = Localizacion(\"Maracaibo\", (10.65, -71.65))"
   ]
  },
  {
   "cell_type": "markdown",
   "id": "8f5970b3",
   "metadata": {},
   "source": [
    "Ahora vamos a crear una clase llamada **Itinerario**, que cree un itinerario de viaje a partir de una serie de localizaciones:"
   ]
  },
  {
   "cell_type": "code",
   "execution_count": 6,
   "id": "f51a7cba",
   "metadata": {},
   "outputs": [
    {
     "name": "stdout",
     "output_type": "stream",
     "text": [
      "__module__ __main__\n",
      "desde_localizaciones <classmethod object at 0x0000023D9A146310>\n",
      "__init__ <function Itinerario.__init__ at 0x0000023D9A147670>\n",
      "__str__ <function Itinerario.__str__ at 0x0000023D9A1475E0>\n",
      "localizaciones <property object at 0x0000023D9A13AEF0>\n",
      "origen <property object at 0x0000023D9A155720>\n",
      "destino <property object at 0x0000023D9A1557C0>\n",
      "añadir <function Itinerario.añadir at 0x0000023D9A1471F0>\n",
      "borrar <function Itinerario.borrar at 0x0000023D9A14E700>\n",
      "truncar_en <function Itinerario.truncar_en at 0x0000023D9A14E670>\n",
      "__dict__ <attribute '__dict__' of 'Itinerario' objects>\n",
      "__weakref__ <attribute '__weakref__' of 'Itinerario' objects>\n",
      "__doc__ None\n"
     ]
    }
   ],
   "source": [
    "@auto_repr\n",
    "class Itinerario:\n",
    "\n",
    "    @classmethod\n",
    "    def desde_localizaciones(cls, *localizaciones):\n",
    "        return cls(localizaciones)\n",
    "\n",
    "    def __init__(self, localizaciones):\n",
    "        self._localizaciones = list(localizaciones)\n",
    "\n",
    "    def __str__(self):\n",
    "        return \"\\n\".join(localizacion.nombre for localizacion in self._localizaciones)\n",
    "\n",
    "    @property\n",
    "    def localizaciones(self):\n",
    "        return tuple(self._localizaciones)\n",
    "\n",
    "    @property\n",
    "    def origen(self):\n",
    "        return self._localizaciones[0]\n",
    "\n",
    "    @property\n",
    "    def destino(self):\n",
    "        return self._localizaciones[-1]\n",
    "\n",
    "    def añadir(self, localizacion):\n",
    "        self._localizaciones.append(localizacion)\n",
    "\n",
    "    def borrar(self, nombre):\n",
    "        borrar_indices = [\n",
    "            indice for indice, localizacion in enumerate(self._localizaciones)\n",
    "            if localizacion.nombre == nombre\n",
    "        ]\n",
    "        for indice in reversed(borrar_indices):\n",
    "            del self._localizaciones[indice]\n",
    "\n",
    "    def truncar_en(self, nombre):\n",
    "        parar = None\n",
    "        for indice, localizacion in enumerate(self._localizaciones):\n",
    "            if localizacion.nombre == nombre:\n",
    "                parar = indice + 1\n",
    "\n",
    "        self._localizaciones = self._localizaciones[:parar]"
   ]
  },
  {
   "cell_type": "markdown",
   "id": "90bb1183",
   "metadata": {},
   "source": [
    "Vamos a crear un itinerario de viaje:"
   ]
  },
  {
   "cell_type": "code",
   "execution_count": 7,
   "id": "05b0e0fc",
   "metadata": {},
   "outputs": [],
   "source": [
    "viaje = Itinerario.desde_localizaciones(maracaibo, rotterdam, estocolmo)"
   ]
  },
  {
   "cell_type": "code",
   "execution_count": 8,
   "id": "e2ed9c4d",
   "metadata": {},
   "outputs": [
    {
     "data": {
      "text/plain": [
       "Itinerario(localizaciones=(Localizacion(nombre=Maracaibo, posicion=(10.65, -71.65)), Localizacion(nombre=Rotterdam, posicion=(51.96, 4.47)), Localizacion(nombre=Estocolmo, posicion=(59.33, 18.06))))"
      ]
     },
     "execution_count": 8,
     "metadata": {},
     "output_type": "execute_result"
    }
   ],
   "source": [
    "viaje"
   ]
  },
  {
   "cell_type": "code",
   "execution_count": 9,
   "id": "baaba728",
   "metadata": {},
   "outputs": [
    {
     "name": "stdout",
     "output_type": "stream",
     "text": [
      "Maracaibo\n",
      "Rotterdam\n",
      "Estocolmo\n"
     ]
    }
   ],
   "source": [
    "print(viaje)"
   ]
  },
  {
   "cell_type": "code",
   "execution_count": 10,
   "id": "6854f567",
   "metadata": {},
   "outputs": [
    {
     "data": {
      "text/plain": [
       "Localizacion(nombre=Maracaibo, posicion=(10.65, -71.65))"
      ]
     },
     "execution_count": 10,
     "metadata": {},
     "output_type": "execute_result"
    }
   ],
   "source": [
    "viaje.origen"
   ]
  },
  {
   "cell_type": "code",
   "execution_count": 11,
   "id": "3fecb520",
   "metadata": {},
   "outputs": [
    {
     "data": {
      "text/plain": [
       "Localizacion(nombre=Estocolmo, posicion=(59.33, 18.06))"
      ]
     },
     "execution_count": 11,
     "metadata": {},
     "output_type": "execute_result"
    }
   ],
   "source": [
    "viaje.destino"
   ]
  },
  {
   "cell_type": "code",
   "execution_count": 12,
   "id": "af59327d",
   "metadata": {},
   "outputs": [],
   "source": [
    "viaje.añadir(ciudad_del_cabo)"
   ]
  },
  {
   "cell_type": "code",
   "execution_count": 13,
   "id": "6d3649a7",
   "metadata": {},
   "outputs": [],
   "source": [
    "viaje.añadir(hong_kong)"
   ]
  },
  {
   "cell_type": "code",
   "execution_count": 14,
   "id": "032c2080",
   "metadata": {},
   "outputs": [],
   "source": [
    "viaje.borrar(\"Estocolmo\")"
   ]
  },
  {
   "cell_type": "code",
   "execution_count": 15,
   "id": "4337578f",
   "metadata": {},
   "outputs": [
    {
     "name": "stdout",
     "output_type": "stream",
     "text": [
      "Maracaibo\n",
      "Rotterdam\n",
      "Cape Town\n",
      "Hong Kong\n"
     ]
    }
   ],
   "source": [
    "print(viaje)"
   ]
  },
  {
   "cell_type": "code",
   "execution_count": 16,
   "id": "0c436eb9",
   "metadata": {},
   "outputs": [],
   "source": [
    "viaje.truncar_en(\"Rotterdam\")"
   ]
  },
  {
   "cell_type": "code",
   "execution_count": 17,
   "id": "abcbbef1",
   "metadata": {},
   "outputs": [
    {
     "name": "stdout",
     "output_type": "stream",
     "text": [
      "Maracaibo\n",
      "Rotterdam\n"
     ]
    }
   ],
   "source": [
    "print(viaje)"
   ]
  },
  {
   "cell_type": "markdown",
   "id": "d652fe26",
   "metadata": {},
   "source": [
    "## Decorador *postcondicion*"
   ]
  },
  {
   "cell_type": "markdown",
   "id": "100db718",
   "metadata": {},
   "source": [
    "Una vez hemos probado que la clase itinerario funciona correctamente, vamos a definir el siguiente decorador:"
   ]
  },
  {
   "cell_type": "code",
   "execution_count": 18,
   "id": "dbb1670b",
   "metadata": {},
   "outputs": [],
   "source": [
    "import functools"
   ]
  },
  {
   "cell_type": "code",
   "execution_count": 19,
   "id": "7eb2f3b0",
   "metadata": {},
   "outputs": [],
   "source": [
    "def postcondicion(predicado):\n",
    "\n",
    "    def decorador(f):\n",
    "\n",
    "        @functools.wraps(f)\n",
    "        def envoltorio(self, *args, **kwargs):\n",
    "            resultado = f(self, *args, **kwargs)\n",
    "            if not predicado(self):\n",
    "                raise RuntimeError(\n",
    "                    f\"Post-condicion {predicado.__name__} no \"\n",
    "                    f\"mantenida para {self!r}\"\n",
    "                )\n",
    "            return resultado\n",
    "\n",
    "        return envoltorio\n",
    "\n",
    "    return decorador"
   ]
  },
  {
   "cell_type": "markdown",
   "id": "3387f817",
   "metadata": {},
   "source": [
    "Gracias a este decorador, podemos establecer post-condiciones que se deben cumplir en nuestro código:"
   ]
  },
  {
   "cell_type": "code",
   "execution_count": 20,
   "id": "6bad7079",
   "metadata": {},
   "outputs": [],
   "source": [
    "def al_menos_dos_localizaciones(itinerario):\n",
    "    return len(itinerario._localizaciones) >= 2"
   ]
  },
  {
   "cell_type": "markdown",
   "id": "6325142d",
   "metadata": {},
   "source": [
    "Si ahora añadimos esta post condición a todos los métodos que modifiquen nuestro itinerario **(añadir, borrar, truncar) y al inicializador**, tendremos lo siguiente:"
   ]
  },
  {
   "cell_type": "code",
   "execution_count": 21,
   "id": "79664186",
   "metadata": {},
   "outputs": [
    {
     "name": "stdout",
     "output_type": "stream",
     "text": [
      "__module__ __main__\n",
      "desde_localizaciones <classmethod object at 0x0000023D9A175790>\n",
      "__init__ <function Itinerario.__init__ at 0x0000023D9A14F550>\n",
      "__str__ <function Itinerario.__str__ at 0x0000023D9A14F430>\n",
      "localizaciones <property object at 0x0000023D9A170360>\n",
      "origen <property object at 0x0000023D9A17CB30>\n",
      "destino <property object at 0x0000023D9A17CB80>\n",
      "añadir <function Itinerario.añadir at 0x0000023D9A14F8B0>\n",
      "borrar <function Itinerario.borrar at 0x0000023D9A14F9D0>\n",
      "truncar_en <function Itinerario.truncar_en at 0x0000023D9A14FAF0>\n",
      "__dict__ <attribute '__dict__' of 'Itinerario' objects>\n",
      "__weakref__ <attribute '__weakref__' of 'Itinerario' objects>\n",
      "__doc__ None\n"
     ]
    }
   ],
   "source": [
    "@auto_repr\n",
    "class Itinerario:\n",
    "\n",
    "    @classmethod\n",
    "    def desde_localizaciones(cls, *localizaciones):\n",
    "        return cls(localizaciones)\n",
    "\n",
    "    @postcondicion(al_menos_dos_localizaciones)\n",
    "    def __init__(self, localizaciones):\n",
    "        self._localizaciones = list(localizaciones)\n",
    "\n",
    "    def __str__(self):\n",
    "        return \"\\n\".join(localizacion.nombre for localizacion in self._localizaciones)\n",
    "\n",
    "    @property\n",
    "    def localizaciones(self):\n",
    "        return tuple(self._localizaciones)\n",
    "\n",
    "    @property\n",
    "    def origen(self):\n",
    "        return self._localizaciones[0]\n",
    "\n",
    "    @property\n",
    "    def destino(self):\n",
    "        return self._localizaciones[-1]\n",
    "\n",
    "    @postcondicion(al_menos_dos_localizaciones)\n",
    "    def añadir(self, localizacion):\n",
    "        self._localizaciones.append(localizacion)\n",
    "        \n",
    "    @postcondicion(al_menos_dos_localizaciones)\n",
    "    def borrar(self, nombre):\n",
    "        borrar_indices = [\n",
    "            indice for indice, localizacion in enumerate(self._localizaciones)\n",
    "            if localizacion.nombre == nombre\n",
    "        ]\n",
    "        for indice in reversed(borrar_indices):\n",
    "            del self._localizaciones[indice]\n",
    "\n",
    "    @postcondicion(al_menos_dos_localizaciones)\n",
    "    def truncar_en(self, nombre):\n",
    "        parar = None\n",
    "        for indice, localizacion in enumerate(self._localizaciones):\n",
    "            if localizacion.nombre == nombre:\n",
    "                parar = indice + 1\n",
    "\n",
    "        self._localizaciones = self._localizaciones[:parar]"
   ]
  },
  {
   "cell_type": "markdown",
   "id": "b1a97e24",
   "metadata": {},
   "source": [
    "Si intentamos crear un itinerario con menos de 2 localizaciones:"
   ]
  },
  {
   "cell_type": "code",
   "execution_count": 22,
   "id": "fb6d9ce2",
   "metadata": {},
   "outputs": [
    {
     "name": "stdout",
     "output_type": "stream",
     "text": [
      "Post-condicion al_menos_dos_localizaciones no mantenida para Itinerario(localizaciones=(Localizacion(nombre=Maracaibo, posicion=(10.65, -71.65)),))\n"
     ]
    }
   ],
   "source": [
    "try:\n",
    "    \n",
    "    viaje = Itinerario.desde_localizaciones(maracaibo)\n",
    "    \n",
    "except RuntimeError as error:\n",
    "    \n",
    "    print(error)"
   ]
  },
  {
   "cell_type": "code",
   "execution_count": 23,
   "id": "6cb87dfc",
   "metadata": {},
   "outputs": [],
   "source": [
    "viaje = Itinerario.desde_localizaciones(maracaibo, rotterdam, ciudad_del_cabo, estocolmo)"
   ]
  },
  {
   "cell_type": "code",
   "execution_count": 24,
   "id": "25c4bad4",
   "metadata": {},
   "outputs": [
    {
     "name": "stdout",
     "output_type": "stream",
     "text": [
      "Maracaibo\n",
      "Rotterdam\n",
      "Cape Town\n",
      "Estocolmo\n"
     ]
    }
   ],
   "source": [
    "print(viaje)"
   ]
  },
  {
   "cell_type": "markdown",
   "id": "316ea919",
   "metadata": {},
   "source": [
    "Si ahora intenamos borrar tres de las cuatro localizaciones truncando el itinerario en Maracaibo:"
   ]
  },
  {
   "cell_type": "code",
   "execution_count": 25,
   "id": "d9fde710",
   "metadata": {},
   "outputs": [
    {
     "name": "stdout",
     "output_type": "stream",
     "text": [
      "Post-condicion al_menos_dos_localizaciones no mantenida para Itinerario(localizaciones=(Localizacion(nombre=Maracaibo, posicion=(10.65, -71.65)),))\n"
     ]
    }
   ],
   "source": [
    "try:\n",
    "    \n",
    "    viaje.truncar_en(\"Maracaibo\")\n",
    "\n",
    "except RuntimeError as error:\n",
    "    \n",
    "    print(error)"
   ]
  },
  {
   "cell_type": "markdown",
   "id": "235c9b64",
   "metadata": {},
   "source": [
    "## Decorador de clase factory *invariante*"
   ]
  },
  {
   "cell_type": "markdown",
   "id": "88c9065d",
   "metadata": {},
   "source": [
    "Lo que vamos a hacer ahora es crear un decorador de clase factory, es decir, un decorador de clase que aplique decoradores a los métodos de una clase.\n",
    "\n",
    "Cuando se aplique este decorador a una clase, todos sus métodos tendrán aplicados el decorador **postcondicion** con el predicado que se pase como argumento:"
   ]
  },
  {
   "cell_type": "code",
   "execution_count": 26,
   "id": "980b5e67",
   "metadata": {},
   "outputs": [],
   "source": [
    "def invariante(predicado):\n",
    "    \n",
    "    decorador = postcondicion(predicado)\n",
    "    \n",
    "    def decorador_de_clase(cls):\n",
    "        \n",
    "        print(cls.__name__)\n",
    "        \n",
    "        miembros = list(vars(cls).items())\n",
    "                \n",
    "        for nombre, miembro in miembros:\n",
    "            if inspect.isfunction(miembro):\n",
    "                miembro_decorado = decorador(miembro)\n",
    "                setattr(cls, nombre, miembro_decorado)\n",
    "        \n",
    "        return cls\n",
    "    \n",
    "    return decorador_de_clase"
   ]
  },
  {
   "cell_type": "markdown",
   "id": "62925feb",
   "metadata": {},
   "source": [
    "Vamos a eliminar el decorador **postcondicio** de los métodos de la clase y a añadir el decorador **invariante** a la definición de la clase:"
   ]
  },
  {
   "cell_type": "code",
   "execution_count": 27,
   "id": "cc40d3bf",
   "metadata": {},
   "outputs": [
    {
     "name": "stdout",
     "output_type": "stream",
     "text": [
      "Itinerario\n",
      "__module__ __main__\n",
      "desde_localizaciones <classmethod object at 0x0000023D9A173940>\n",
      "__init__ <function Itinerario.__init__ at 0x0000023D9A17DD30>\n",
      "__str__ <function Itinerario.__str__ at 0x0000023D9A17DC10>\n",
      "localizaciones <property object at 0x0000023D9A1774A0>\n",
      "origen <property object at 0x0000023D9A189950>\n",
      "destino <property object at 0x0000023D9A1899A0>\n",
      "añadir <function Itinerario.añadir at 0x0000023D9A1860D0>\n",
      "borrar <function Itinerario.borrar at 0x0000023D9A186670>\n",
      "truncar_en <function Itinerario.truncar_en at 0x0000023D9A186700>\n",
      "__dict__ <attribute '__dict__' of 'Itinerario' objects>\n",
      "__weakref__ <attribute '__weakref__' of 'Itinerario' objects>\n",
      "__doc__ None\n"
     ]
    }
   ],
   "source": [
    "@auto_repr\n",
    "@invariante(al_menos_dos_localizaciones)\n",
    "class Itinerario:\n",
    "\n",
    "    @classmethod\n",
    "    def desde_localizaciones(cls, *localizaciones):\n",
    "        return cls(localizaciones)\n",
    "\n",
    "    def __init__(self, localizaciones):\n",
    "        self._localizaciones = list(localizaciones)\n",
    "\n",
    "    def __str__(self):\n",
    "        return \"\\n\".join(localizacion.nombre for localizacion in self._localizaciones)\n",
    "\n",
    "    @property\n",
    "    def localizaciones(self):\n",
    "        return tuple(self._localizaciones)\n",
    "\n",
    "    @property\n",
    "    def origen(self):\n",
    "        return self._localizaciones[0]\n",
    "\n",
    "    @property\n",
    "    def destino(self):\n",
    "        return self._localizaciones[-1]\n",
    "\n",
    "    def añadir(self, localizacion):\n",
    "        self._localizaciones.append(localizacion)\n",
    "        \n",
    "    def borrar(self, nombre):\n",
    "        borrar_indices = [\n",
    "            indice for indice, localizacion in enumerate(self._localizaciones)\n",
    "            if localizacion.nombre == nombre\n",
    "        ]\n",
    "        for indice in reversed(borrar_indices):\n",
    "            del self._localizaciones[indice]\n",
    "\n",
    "    def truncar_en(self, nombre):\n",
    "        parar = None\n",
    "        for indice, localizacion in enumerate(self._localizaciones):\n",
    "            if localizacion.nombre == nombre:\n",
    "                parar = indice + 1\n",
    "\n",
    "        self._localizaciones = self._localizaciones[:parar]"
   ]
  },
  {
   "cell_type": "markdown",
   "id": "f698c2a8",
   "metadata": {},
   "source": [
    "Si ahora intentamos crear un itinerario con una sola localización:"
   ]
  },
  {
   "cell_type": "code",
   "execution_count": 28,
   "id": "5c90c0ed",
   "metadata": {},
   "outputs": [],
   "source": [
    "try:\n",
    "    \n",
    "    viaje = Itinerario.desde_localizaciones(rotterdam, estocolmo)\n",
    "    \n",
    "except RuntimeError as error:\n",
    "    \n",
    "    print(error)"
   ]
  },
  {
   "cell_type": "markdown",
   "id": "b4bdc592",
   "metadata": {},
   "source": [
    "Podemos ver como se ha aplicado al inicializador.\n",
    "\n",
    "Si ahora creamos un itinerario con mas de dos localizaciones e intentamos quitar una:"
   ]
  },
  {
   "cell_type": "code",
   "execution_count": 29,
   "id": "12e49a37",
   "metadata": {},
   "outputs": [
    {
     "name": "stdout",
     "output_type": "stream",
     "text": [
      "Post-condicion al_menos_dos_localizaciones no mantenida para Itinerario(localizaciones=(Localizacion(nombre=Rotterdam, posicion=(51.96, 4.47)),))\n"
     ]
    }
   ],
   "source": [
    "viaje = Itinerario.desde_localizaciones(rotterdam, estocolmo)\n",
    "\n",
    "try:\n",
    "    \n",
    "    viaje = Itinerario.desde_localizaciones(rotterdam, estocolmo)\n",
    "    viaje.borrar(\"Estocolmo\")\n",
    "    \n",
    "except RuntimeError as error:\n",
    "    \n",
    "    print(error)"
   ]
  },
  {
   "cell_type": "markdown",
   "id": "bb465680",
   "metadata": {},
   "source": [
    "Vemos como salta el error, lo que quiere decir que se ha aplicado al método borrar también."
   ]
  },
  {
   "cell_type": "markdown",
   "id": "1c77fb7e",
   "metadata": {},
   "source": [
    "## Decorador *no_duplicados*:"
   ]
  },
  {
   "cell_type": "markdown",
   "id": "74584088",
   "metadata": {},
   "source": [
    "Vamos a crear un decorador que no permita tener localizaciones duplicadas en el itinerario y vamos a aplicarlo:"
   ]
  },
  {
   "cell_type": "code",
   "execution_count": 30,
   "id": "4ca325f5",
   "metadata": {},
   "outputs": [],
   "source": [
    "def no_duplicados(itinerario):\n",
    "    return False if len(itinerario.localizaciones) > len(set(itinerario.localizaciones)) else True"
   ]
  },
  {
   "cell_type": "code",
   "execution_count": 31,
   "id": "32ff7ed9",
   "metadata": {},
   "outputs": [
    {
     "name": "stdout",
     "output_type": "stream",
     "text": [
      "Itinerario\n",
      "Itinerario\n",
      "__module__ __main__\n",
      "desde_localizaciones <classmethod object at 0x0000023D9A113DC0>\n",
      "__init__ <function Itinerario.__init__ at 0x0000023D9A157280>\n",
      "__str__ <function Itinerario.__str__ at 0x0000023D9A1573A0>\n",
      "localizaciones <property object at 0x0000023D9A0B6F90>\n",
      "origen <property object at 0x0000023D9A18A090>\n",
      "destino <property object at 0x0000023D9A18A130>\n",
      "añadir <function Itinerario.añadir at 0x0000023D9A157940>\n",
      "borrar <function Itinerario.borrar at 0x0000023D9A157DC0>\n",
      "truncar_en <function Itinerario.truncar_en at 0x0000023D9A157E50>\n",
      "__dict__ <attribute '__dict__' of 'Itinerario' objects>\n",
      "__weakref__ <attribute '__weakref__' of 'Itinerario' objects>\n",
      "__doc__ None\n"
     ]
    }
   ],
   "source": [
    "@auto_repr\n",
    "@invariante(no_duplicados)\n",
    "@invariante(al_menos_dos_localizaciones)\n",
    "class Itinerario:\n",
    "\n",
    "    @classmethod\n",
    "    def desde_localizaciones(cls, *localizaciones):\n",
    "        return cls(localizaciones)\n",
    "\n",
    "    def __init__(self, localizaciones):\n",
    "        self._localizaciones = list(localizaciones)\n",
    "\n",
    "    def __str__(self):\n",
    "        return \"\\n\".join(localizacion.nombre for localizacion in self._localizaciones)\n",
    "\n",
    "    @property\n",
    "    def localizaciones(self):\n",
    "        return tuple(self._localizaciones)\n",
    "\n",
    "    @property\n",
    "    def origen(self):\n",
    "        return self._localizaciones[0]\n",
    "\n",
    "    @property\n",
    "    def destino(self):\n",
    "        return self._localizaciones[-1]\n",
    "\n",
    "    def añadir(self, localizacion):\n",
    "        self._localizaciones.append(localizacion)\n",
    "        \n",
    "    def borrar(self, nombre):\n",
    "        borrar_indices = [\n",
    "            indice for indice, localizacion in enumerate(self._localizaciones)\n",
    "            if localizacion.nombre == nombre\n",
    "        ]\n",
    "        for indice in reversed(borrar_indices):\n",
    "            del self._localizaciones[indice]\n",
    "\n",
    "    def truncar_en(self, nombre):\n",
    "        parar = None\n",
    "        for indice, localizacion in enumerate(self._localizaciones):\n",
    "            if localizacion.nombre == nombre:\n",
    "                parar = indice + 1\n",
    "\n",
    "        self._localizaciones = self._localizaciones[:parar]"
   ]
  },
  {
   "cell_type": "code",
   "execution_count": 32,
   "id": "95a8ba6e",
   "metadata": {},
   "outputs": [
    {
     "name": "stdout",
     "output_type": "stream",
     "text": [
      "Post-condicion no_duplicados no mantenida para Itinerario(localizaciones=(Localizacion(nombre=Estocolmo, posicion=(59.33, 18.06)), Localizacion(nombre=Maracaibo, posicion=(10.65, -71.65)), Localizacion(nombre=Estocolmo, posicion=(59.33, 18.06))))\n"
     ]
    }
   ],
   "source": [
    "try:\n",
    "    viaje = Itinerario.desde_localizaciones(estocolmo, maracaibo, estocolmo)\n",
    "\n",
    "except RuntimeError as error:\n",
    "    print(error)"
   ]
  }
 ],
 "metadata": {
  "kernelspec": {
   "display_name": "Python 3 (ipykernel)",
   "language": "python",
   "name": "python3"
  },
  "language_info": {
   "codemirror_mode": {
    "name": "ipython",
    "version": 3
   },
   "file_extension": ".py",
   "mimetype": "text/x-python",
   "name": "python",
   "nbconvert_exporter": "python",
   "pygments_lexer": "ipython3",
   "version": "3.9.7"
  }
 },
 "nbformat": 4,
 "nbformat_minor": 5
}
