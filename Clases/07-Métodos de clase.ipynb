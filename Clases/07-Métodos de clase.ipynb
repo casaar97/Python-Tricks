{
 "cells": [
  {
   "cell_type": "markdown",
   "id": "b8be03a0",
   "metadata": {},
   "source": [
    "# Métodos de clase"
   ]
  },
  {
   "cell_type": "markdown",
   "id": "46561c4f",
   "metadata": {},
   "source": [
    "El decorador ***classmethod*** permite crear métodos de clase:"
   ]
  },
  {
   "cell_type": "code",
   "execution_count": 1,
   "id": "b3f322a6",
   "metadata": {},
   "outputs": [],
   "source": [
    "class ContenedorDeMercancias:\n",
    "    \n",
    "    # Definición de atributos de clase\n",
    "    \n",
    "    siguiente_codigo_de_serie = 1337\n",
    "    \n",
    "    @classmethod\n",
    "    def _generar_codigo_de_serie(cls):\n",
    "        \n",
    "        resultado = cls.siguiente_codigo_de_serie \n",
    "        cls.siguiente_codigo_de_serie += 1\n",
    "        return resultado\n",
    "        \n",
    "    \n",
    "    def __init__(self, codigo_propietario, contenidos):\n",
    "        \n",
    "        # Definición de atributos de instancia\n",
    "        \n",
    "        self.codigo_propietario = codigo_propietario\n",
    "        self.contenidos = contenidos\n",
    "        self.codigo_de_serie = ContenedorDeMercancias._generar_codigo_de_serie()"
   ]
  },
  {
   "cell_type": "markdown",
   "id": "52f35297",
   "metadata": {},
   "source": [
    "En este caso, se usa el decorador ***classmethod*** y se pasa la palabra clave **cls** como argumento del método de clase.\n",
    "\n",
    "La palabra clave **cls** reemplaza al nombre de la clase, por lo que cuando llamemos al método ***ContenedorDeMercancias._generar_codigo_de_serie()***, **cls** se sustituirá por **ContenedorDeMercancias**."
   ]
  },
  {
   "cell_type": "markdown",
   "id": "4f377f02",
   "metadata": {},
   "source": [
    "## Métodos factory"
   ]
  },
  {
   "cell_type": "code",
   "execution_count": 2,
   "id": "afc40eab",
   "metadata": {},
   "outputs": [],
   "source": [
    "class ContenedorDeMercancias:\n",
    "    \n",
    "    # Definición de atributos de clase\n",
    "    \n",
    "    siguiente_codigo_de_serie = 1337\n",
    "    \n",
    "    @classmethod\n",
    "    def _generar_codigo_de_serie(cls):\n",
    "        \n",
    "        resultado = cls.siguiente_codigo_de_serie \n",
    "        cls.siguiente_codigo_de_serie += 1\n",
    "        return resultado\n",
    "    \n",
    "    # Crea un contenedor vacío\n",
    "    @classmethod\n",
    "    def crear_contenedor_vacio(cls, codigo_propietario):\n",
    "        return cls(codigo_propietario, contenidos = [])\n",
    "    \n",
    "    @classmethod\n",
    "    def crear_contenedor_con_elementos(cls, codigo_propietario, contenidos):\n",
    "        return cls(codigo_propietario, list(contenidos))\n",
    "        \n",
    "    \n",
    "    def __init__(self, codigo_propietario, contenidos):\n",
    "        \n",
    "        # Definición de atributos de instancia\n",
    "        \n",
    "        self.codigo_propietario = codigo_propietario\n",
    "        self.contenidos = contenidos\n",
    "        self.codigo_de_serie = ContenedorDeMercancias._generar_codigo_de_serie()"
   ]
  },
  {
   "cell_type": "code",
   "execution_count": 3,
   "id": "640af850",
   "metadata": {},
   "outputs": [],
   "source": [
    "c3 = ContenedorDeMercancias.crear_contenedor_vacio(\"ESC\")"
   ]
  },
  {
   "cell_type": "code",
   "execution_count": 4,
   "id": "1fce3a4f",
   "metadata": {},
   "outputs": [
    {
     "data": {
      "text/plain": [
       "<__main__.ContenedorDeMercancias at 0x20eed789c10>"
      ]
     },
     "execution_count": 4,
     "metadata": {},
     "output_type": "execute_result"
    }
   ],
   "source": [
    "c3"
   ]
  },
  {
   "cell_type": "code",
   "execution_count": 5,
   "id": "d89eea12",
   "metadata": {},
   "outputs": [
    {
     "data": {
      "text/plain": [
       "[]"
      ]
     },
     "execution_count": 5,
     "metadata": {},
     "output_type": "execute_result"
    }
   ],
   "source": [
    "c3.contenidos"
   ]
  },
  {
   "cell_type": "code",
   "execution_count": 6,
   "id": "02fd6c94",
   "metadata": {},
   "outputs": [],
   "source": [
    "c4 = ContenedorDeMercancias.crear_contenedor_con_elementos(\"CAR\", {\"Audi\",\n",
    "                                                                   \"Wolkswagen\",\n",
    "                                                                   \"Mercedes\",\n",
    "                                                                   \"BMW\",\n",
    "                                                                   \"Audi\"})"
   ]
  },
  {
   "cell_type": "code",
   "execution_count": 7,
   "id": "8fa747db",
   "metadata": {},
   "outputs": [
    {
     "data": {
      "text/plain": [
       "['Wolkswagen', 'BMW', 'Mercedes', 'Audi']"
      ]
     },
     "execution_count": 7,
     "metadata": {},
     "output_type": "execute_result"
    }
   ],
   "source": [
    "c4.contenidos"
   ]
  },
  {
   "cell_type": "markdown",
   "id": "9c8873fb",
   "metadata": {},
   "source": [
    "Ahora vamos a modificar nuestra clase para que tenga una cadena de caracteres como identificador en vez de un código de serie. \n",
    "\n",
    "Para ello vamos a utilizar la clase contenida en el fichero **iso6346.py**:"
   ]
  },
  {
   "cell_type": "code",
   "execution_count": 8,
   "id": "45414c5a",
   "metadata": {},
   "outputs": [],
   "source": [
    "import iso6346"
   ]
  },
  {
   "cell_type": "code",
   "execution_count": 9,
   "id": "2b266012",
   "metadata": {},
   "outputs": [],
   "source": [
    "class ContenedorDeMercancias:\n",
    "    \n",
    "    # Definición de atributos de clase\n",
    "    \n",
    "    siguiente_codigo_de_serie = 1337\n",
    "    \n",
    "    @staticmethod\n",
    "    def _crear_codigo_BIC(codigo_propietario, codigo_de_serie):\n",
    "        return iso6346.create(\n",
    "        owner_code=codigo_propietario,\n",
    "        serial=str(codigo_de_serie).zfill(6))\n",
    "    \n",
    "    @classmethod\n",
    "    def _generar_codigo_de_serie(cls):\n",
    "        \n",
    "        resultado = cls.siguiente_codigo_de_serie \n",
    "        cls.siguiente_codigo_de_serie += 1\n",
    "        return resultado\n",
    "    \n",
    "    # Crea un contenedor vacío\n",
    "    @classmethod\n",
    "    def crear_contenedor_vacio(cls, codigo_propietario):\n",
    "        return cls(codigo_propietario, contenidos = [])\n",
    "    \n",
    "    # Crea un contenedor a partir de un codigo de propietario y unos items\n",
    "    @classmethod\n",
    "    def crear_contenedor_con_elementos(cls, codigo_propietario, contenidos):\n",
    "        return cls(codigo_propietario, list(contenidos))\n",
    "        \n",
    "    \n",
    "    def __init__(self, codigo_propietario, contenidos):\n",
    "        \n",
    "        # Definición de atributos de instancia\n",
    "        \n",
    "        self.codigo_propietario = codigo_propietario\n",
    "        self.contenidos = contenidos\n",
    "        self.bic = ContenedorDeMercancias._crear_codigo_BIC(\n",
    "            codigo_propietario=codigo_propietario,\n",
    "            codigo_de_serie=ContenedorDeMercancias._generar_codigo_de_serie()\n",
    "        )"
   ]
  },
  {
   "cell_type": "code",
   "execution_count": 10,
   "id": "e8bb0ee2",
   "metadata": {},
   "outputs": [],
   "source": [
    "c = ContenedorDeMercancias.crear_contenedor_vacio(\"YML\")"
   ]
  },
  {
   "cell_type": "code",
   "execution_count": 11,
   "id": "39f28eeb",
   "metadata": {},
   "outputs": [
    {
     "data": {
      "text/plain": [
       "'YMLU0013374'"
      ]
     },
     "execution_count": 11,
     "metadata": {},
     "output_type": "execute_result"
    }
   ],
   "source": [
    "c.bic"
   ]
  }
 ],
 "metadata": {
  "kernelspec": {
   "display_name": "Python 3 (ipykernel)",
   "language": "python",
   "name": "python3"
  },
  "language_info": {
   "codemirror_mode": {
    "name": "ipython",
    "version": 3
   },
   "file_extension": ".py",
   "mimetype": "text/x-python",
   "name": "python",
   "nbconvert_exporter": "python",
   "pygments_lexer": "ipython3",
   "version": "3.9.7"
  }
 },
 "nbformat": 4,
 "nbformat_minor": 5
}
