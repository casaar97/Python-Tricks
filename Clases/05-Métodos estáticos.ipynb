{
 "cells": [
  {
   "cell_type": "markdown",
   "id": "5bfd394f",
   "metadata": {},
   "source": [
    "# Métodos estáticos"
   ]
  },
  {
   "cell_type": "markdown",
   "id": "5ba32e9e",
   "metadata": {},
   "source": [
    "Ahora vamos a crear un método que se encargue de asignar el código de serie a dicha cada instancia de la clase:"
   ]
  },
  {
   "cell_type": "code",
   "execution_count": 1,
   "id": "c2d13aec",
   "metadata": {},
   "outputs": [],
   "source": [
    "class ContenedorDeMercancias:\n",
    "    \n",
    "    # Definición de atributos de clase\n",
    "    \n",
    "    siguiente_codigo_de_serie = 1337\n",
    "    \n",
    "    def _generar_codigo_de_serie(self):\n",
    "        \n",
    "        resultado = ContenedorDeMercancias.siguiente_codigo_de_serie \n",
    "        ContenedorDeMercancias.siguiente_codigo_de_serie += 1\n",
    "        return resultado\n",
    "        \n",
    "    \n",
    "    def __init__(self, codigo_propietario, contenidos):\n",
    "        \n",
    "        # Definición de atributos de instancia\n",
    "        \n",
    "        self.codigo_propietario = codigo_propietario\n",
    "        self.contenidos = contenidos\n",
    "        self.codigo_de_serie = self._generar_codigo_de_serie()"
   ]
  },
  {
   "cell_type": "markdown",
   "id": "2af2a0d3",
   "metadata": {},
   "source": [
    "Como podemos ver, para crear un método para esta clase necesitamos pasar el argumento **self**, el cual no se usa nunca dentro del método.\n",
    "\n",
    "Es por esto por lo que lo suyo sería asociar dicho método a la clase en lugar de a las instancias de dicha clase."
   ]
  },
  {
   "cell_type": "markdown",
   "id": "b078be45",
   "metadata": {},
   "source": [
    "## Decorador staticmethod"
   ]
  },
  {
   "cell_type": "code",
   "execution_count": 2,
   "id": "6a1a786d",
   "metadata": {},
   "outputs": [],
   "source": [
    "class ContenedorDeMercancias:\n",
    "    \n",
    "    # Definición de atributos de clase\n",
    "    \n",
    "    siguiente_codigo_de_serie = 1337\n",
    "    \n",
    "    @staticmethod\n",
    "    def _generar_codigo_de_serie():\n",
    "        \n",
    "        resultado = ContenedorDeMercancias.siguiente_codigo_de_serie \n",
    "        ContenedorDeMercancias.siguiente_codigo_de_serie += 1\n",
    "        return resultado\n",
    "        \n",
    "    \n",
    "    def __init__(self, codigo_propietario, contenidos):\n",
    "        \n",
    "        # Definición de atributos de instancia\n",
    "        \n",
    "        self.codigo_propietario = codigo_propietario\n",
    "        self.contenidos = contenidos\n",
    "        self.codigo_de_serie = ContenedorDeMercancias._generar_codigo_de_serie()"
   ]
  },
  {
   "cell_type": "markdown",
   "id": "bb24a1b0",
   "metadata": {},
   "source": [
    "Lo que hemos hecho ha sido añadir el decorador ***staticmethod*** al método y eliminar el argumento **self**. También hemos sustituido **self** por el nombre de la clase (ContenedorDeMercancias) a la hora de llamar a dicho método."
   ]
  },
  {
   "cell_type": "code",
   "execution_count": 3,
   "id": "217254ec",
   "metadata": {},
   "outputs": [],
   "source": [
    "c3 = ContenedorDeMercancias(\"YML\", [\"café\"])"
   ]
  },
  {
   "cell_type": "code",
   "execution_count": 4,
   "id": "da944281",
   "metadata": {},
   "outputs": [
    {
     "data": {
      "text/plain": [
       "1337"
      ]
     },
     "execution_count": 4,
     "metadata": {},
     "output_type": "execute_result"
    }
   ],
   "source": [
    "c3.codigo_de_serie"
   ]
  },
  {
   "cell_type": "code",
   "execution_count": 5,
   "id": "6e7dcb1b",
   "metadata": {
    "scrolled": true
   },
   "outputs": [
    {
     "data": {
      "text/plain": [
       "1338"
      ]
     },
     "execution_count": 5,
     "metadata": {},
     "output_type": "execute_result"
    }
   ],
   "source": [
    "c3.siguiente_codigo_de_serie"
   ]
  },
  {
   "cell_type": "code",
   "execution_count": 6,
   "id": "fd6ea9d1",
   "metadata": {},
   "outputs": [],
   "source": [
    "c4 = ContenedorDeMercancias(\"CAR\", [\"Mercedes\"])"
   ]
  },
  {
   "cell_type": "code",
   "execution_count": 7,
   "id": "523e9d86",
   "metadata": {},
   "outputs": [
    {
     "data": {
      "text/plain": [
       "1338"
      ]
     },
     "execution_count": 7,
     "metadata": {},
     "output_type": "execute_result"
    }
   ],
   "source": [
    "c4.codigo_de_serie"
   ]
  },
  {
   "cell_type": "code",
   "execution_count": 8,
   "id": "09798370",
   "metadata": {
    "scrolled": true
   },
   "outputs": [
    {
     "data": {
      "text/plain": [
       "1339"
      ]
     },
     "execution_count": 8,
     "metadata": {},
     "output_type": "execute_result"
    }
   ],
   "source": [
    "c4.siguiente_codigo_de_serie"
   ]
  },
  {
   "cell_type": "markdown",
   "id": "9d62d2b9",
   "metadata": {},
   "source": [
    "## Conclusión"
   ]
  },
  {
   "cell_type": "markdown",
   "id": "4afed4b4",
   "metadata": {},
   "source": [
    "Los métodos estáticos en Python no tienen conocimiento directo de la clase en la que se encuentran definidos.\n",
    "\n",
    "Simplemente nos permiten asociar una función a una clase cuando la función está conceptualmente relacionada con la clase."
   ]
  },
  {
   "cell_type": "markdown",
   "id": "b82ea7d6",
   "metadata": {},
   "source": [
    "## Importante"
   ]
  },
  {
   "cell_type": "markdown",
   "id": "f3ccfe66",
   "metadata": {},
   "source": [
    "En el siguiente notebook veremos que el método **_generar_codigo_de_serie** realmente debe de ser implementado como un **método de clase**, ya que accede a la propia clase en su interior, pero que se ha implementado como un método estático aquí para poner un ejemplo."
   ]
  }
 ],
 "metadata": {
  "kernelspec": {
   "display_name": "Python 3 (ipykernel)",
   "language": "python",
   "name": "python3"
  },
  "language_info": {
   "codemirror_mode": {
    "name": "ipython",
    "version": 3
   },
   "file_extension": ".py",
   "mimetype": "text/x-python",
   "name": "python",
   "nbconvert_exporter": "python",
   "pygments_lexer": "ipython3",
   "version": "3.9.7"
  }
 },
 "nbformat": 4,
 "nbformat_minor": 5
}
