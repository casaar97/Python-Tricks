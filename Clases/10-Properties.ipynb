{
 "cells": [
  {
   "cell_type": "markdown",
   "id": "068b75a3",
   "metadata": {},
   "source": [
    "# Properties"
   ]
  },
  {
   "cell_type": "code",
   "execution_count": 1,
   "id": "c30668fb",
   "metadata": {},
   "outputs": [],
   "source": [
    "import iso6346"
   ]
  },
  {
   "cell_type": "code",
   "execution_count": 2,
   "id": "31596561",
   "metadata": {},
   "outputs": [],
   "source": [
    "class ContenedorDeMercancias:\n",
    "    \n",
    "    # Definición de atributos de clase\n",
    "    \n",
    "    siguiente_codigo_de_serie = 1337\n",
    "    \n",
    "    @staticmethod\n",
    "    def _crear_codigo_BIC(codigo_propietario, codigo_de_serie):\n",
    "        return iso6346.create(\n",
    "        owner_code=codigo_propietario,\n",
    "        serial=str(codigo_de_serie).zfill(6))\n",
    "    \n",
    "    @classmethod\n",
    "    def _generar_codigo_de_serie(cls):\n",
    "        \n",
    "        resultado = cls.siguiente_codigo_de_serie \n",
    "        cls.siguiente_codigo_de_serie += 1\n",
    "        return resultado\n",
    "    \n",
    "    # Crea un contenedor vacío\n",
    "    @classmethod\n",
    "    def crear_contenedor_vacio(cls, codigo_propietario, **kwargs):\n",
    "        return cls(codigo_propietario, contenidos = [], **kwargs)\n",
    "    \n",
    "    # Crea un contenedor a partir de un codigo de propietario y unos items\n",
    "    @classmethod\n",
    "    def crear_contenedor_con_elementos(cls, codigo_propietario, contenidos, **kwargs):\n",
    "        return cls(codigo_propietario, list(contenidos), **kwargs)\n",
    "        \n",
    "    \n",
    "    def __init__(self, codigo_propietario, contenidos, **kwargs):\n",
    "        \n",
    "        # Definición de atributos de instancia\n",
    "        \n",
    "        self.codigo_propietario = codigo_propietario\n",
    "        self.contenidos = contenidos\n",
    "        self.bic = ContenedorDeMercancias._crear_codigo_BIC(\n",
    "            codigo_propietario=codigo_propietario,\n",
    "            codigo_de_serie=ContenedorDeMercancias._generar_codigo_de_serie()\n",
    "        )"
   ]
  },
  {
   "cell_type": "code",
   "execution_count": 3,
   "id": "a62fbc28",
   "metadata": {},
   "outputs": [],
   "source": [
    "class ContenedorDeMercanciasRefrigerado(ContenedorDeMercancias):\n",
    "    \n",
    "    MAX_CELSIUS = 4.0\n",
    "        \n",
    "    def __init__(self, codigo_propietario, contenidos, *, celsius, **kwargs):\n",
    "        super().__init__(codigo_propietario, contenidos, **kwargs)\n",
    "        \n",
    "        if celsius > ContenedorDeMercanciasRefrigerado.MAX_CELSIUS:\n",
    "            raise ValueError(\"La temperatura es demasiado alta\")\n",
    "        \n",
    "        self.celsius = celsius\n",
    "    \n",
    "    @staticmethod\n",
    "    def _crear_codigo_bic(codigo_propietario, codigo_de_serie):\n",
    "        return iso6346.create(\n",
    "        owner_code=codigo_propietario,\n",
    "        serial=str(codigo_de_serie).zfill(6),\n",
    "        category=\"R\")"
   ]
  },
  {
   "cell_type": "markdown",
   "id": "26efdf86",
   "metadata": {},
   "source": [
    "Como hemos visto en el final del notebook anterior, una vez que es creada la instancia de un contenedor refrigerado, se puede cambiar su temperatura modificando el atributo celsius:"
   ]
  },
  {
   "cell_type": "code",
   "execution_count": 4,
   "id": "39d98090",
   "metadata": {},
   "outputs": [],
   "source": [
    "r3 = ContenedorDeMercanciasRefrigerado.crear_contenedor_con_elementos(\"YML\", [\"fish\"], celsius=2.0)"
   ]
  },
  {
   "cell_type": "code",
   "execution_count": 5,
   "id": "f5c56bd0",
   "metadata": {},
   "outputs": [
    {
     "data": {
      "text/plain": [
       "<__main__.ContenedorDeMercanciasRefrigerado at 0x1bbfe091610>"
      ]
     },
     "execution_count": 5,
     "metadata": {},
     "output_type": "execute_result"
    }
   ],
   "source": [
    "r3"
   ]
  },
  {
   "cell_type": "code",
   "execution_count": 6,
   "id": "18d240d7",
   "metadata": {},
   "outputs": [
    {
     "data": {
      "text/plain": [
       "2.0"
      ]
     },
     "execution_count": 6,
     "metadata": {},
     "output_type": "execute_result"
    }
   ],
   "source": [
    "r3.celsius"
   ]
  },
  {
   "cell_type": "code",
   "execution_count": 7,
   "id": "e914ea8f",
   "metadata": {},
   "outputs": [],
   "source": [
    "r3.celsius = 10"
   ]
  },
  {
   "cell_type": "code",
   "execution_count": 8,
   "id": "44a172a4",
   "metadata": {},
   "outputs": [
    {
     "data": {
      "text/plain": [
       "10"
      ]
     },
     "execution_count": 8,
     "metadata": {},
     "output_type": "execute_result"
    }
   ],
   "source": [
    "r3.celsius"
   ]
  },
  {
   "cell_type": "markdown",
   "id": "79565ecf",
   "metadata": {},
   "source": [
    "Esto no está bien y no debería ser posible.\n",
    "\n",
    "Podemos arreglar esto con la forma que tiene Python de encapsular los getters y los setters: **properties**.\n",
    "\n",
    "Para ello vamos a hacer lo siguiente:\n",
    "\n",
    "- **Renombrar el atributo celsius a _celsius**, para indicar que es de visibilidad privada, es decir, que no se debe acceder a el directamente.\n",
    "- **Crear el método celsius con el decorador @property**, el cual simula el getter de la propiedad **_celsius**\n",
    "- **Crera el método celsius con el decorador @celsius.setter**, el cual simula el setter de la propiedad **_celsius**"
   ]
  },
  {
   "cell_type": "code",
   "execution_count": 9,
   "id": "313b5db9",
   "metadata": {},
   "outputs": [],
   "source": [
    "class ContenedorDeMercanciasRefrigerado(ContenedorDeMercancias):\n",
    "    \n",
    "    MAX_CELSIUS = 4.0\n",
    "        \n",
    "    def __init__(self, codigo_propietario, contenidos, *, celsius, **kwargs):\n",
    "        super().__init__(codigo_propietario, contenidos, **kwargs)\n",
    "        \n",
    "        if celsius > ContenedorDeMercanciasRefrigerado.MAX_CELSIUS:\n",
    "            raise ValueError(\"La temperatura es demasiado alta\")\n",
    "        \n",
    "        # Renombramos celsius a _celsius\n",
    "        \n",
    "        self._celsius = celsius\n",
    "        \n",
    "    @property\n",
    "    def celsius(self):\n",
    "        return self._celsius\n",
    "    \n",
    "    @celsius.setter\n",
    "    def celsius(self, value):\n",
    "        \n",
    "        if value > ContenedorDeMercanciasRefrigerado.MAX_CELSIUS:\n",
    "            raise ValueError(\"La temperatura es demasiado alta\")\n",
    "            \n",
    "        self._celsius = value\n",
    "    \n",
    "    @staticmethod\n",
    "    def _crear_codigo_bic(codigo_propietario, codigo_de_serie):\n",
    "        return iso6346.create(\n",
    "        owner_code=codigo_propietario,\n",
    "        serial=str(codigo_de_serie).zfill(6),\n",
    "        category=\"R\")"
   ]
  },
  {
   "cell_type": "code",
   "execution_count": 10,
   "id": "3ba889d8",
   "metadata": {},
   "outputs": [],
   "source": [
    "r3 = ContenedorDeMercanciasRefrigerado.crear_contenedor_con_elementos(\"YML\", [\"fish\"], celsius=2.0)"
   ]
  },
  {
   "cell_type": "code",
   "execution_count": 11,
   "id": "a5bbfc07",
   "metadata": {},
   "outputs": [
    {
     "data": {
      "text/plain": [
       "<__main__.ContenedorDeMercanciasRefrigerado at 0x1bbfe0de070>"
      ]
     },
     "execution_count": 11,
     "metadata": {},
     "output_type": "execute_result"
    }
   ],
   "source": [
    "r3"
   ]
  },
  {
   "cell_type": "markdown",
   "id": "1c8bcb77",
   "metadata": {},
   "source": [
    "Ahora podemos acceder a _celsius como si no fuera un atributo privado:"
   ]
  },
  {
   "cell_type": "code",
   "execution_count": 12,
   "id": "ad077d1d",
   "metadata": {},
   "outputs": [
    {
     "data": {
      "text/plain": [
       "2.0"
      ]
     },
     "execution_count": 12,
     "metadata": {},
     "output_type": "execute_result"
    }
   ],
   "source": [
    "r3.celsius"
   ]
  },
  {
   "cell_type": "markdown",
   "id": "190ad0b9",
   "metadata": {},
   "source": [
    "Y podemos asignarle un valor como si no fuera un atributo privado, manteniendo las correspondientes restricciones:"
   ]
  },
  {
   "cell_type": "code",
   "execution_count": 13,
   "id": "38422e5f",
   "metadata": {},
   "outputs": [
    {
     "name": "stdout",
     "output_type": "stream",
     "text": [
      "La temperatura es demasiado alta\n"
     ]
    }
   ],
   "source": [
    "try:\n",
    "    r3.celsius = 10\n",
    "except ValueError as error:\n",
    "    print(error)"
   ]
  },
  {
   "cell_type": "code",
   "execution_count": 14,
   "id": "02fa350f",
   "metadata": {},
   "outputs": [
    {
     "data": {
      "text/plain": [
       "1.0"
      ]
     },
     "execution_count": 14,
     "metadata": {},
     "output_type": "execute_result"
    }
   ],
   "source": [
    "r3.celsius = 1.0\n",
    "r3.celsius"
   ]
  },
  {
   "cell_type": "markdown",
   "id": "40d30c4e",
   "metadata": {},
   "source": [
    "Ahora vamos a añadir soporte para grados farenheit:"
   ]
  },
  {
   "cell_type": "code",
   "execution_count": 15,
   "id": "82943563",
   "metadata": {},
   "outputs": [],
   "source": [
    "class ContenedorDeMercanciasRefrigerado(ContenedorDeMercancias):\n",
    "    \n",
    "    MAX_CELSIUS = 4.0\n",
    "        \n",
    "    def __init__(self, codigo_propietario, contenidos, *, celsius, **kwargs):\n",
    "        super().__init__(codigo_propietario, contenidos, **kwargs)\n",
    "        \n",
    "        if celsius > ContenedorDeMercanciasRefrigerado.MAX_CELSIUS:\n",
    "            raise ValueError(\"La temperatura es demasiado alta\")\n",
    "        \n",
    "        # Renombramos _celsius a celsius, autoencapsulándolo y accediendo a través de su property\n",
    "        \n",
    "        self.celsius = celsius\n",
    "        \n",
    "    # Creamos estos dos métodos para pasar de celsius a farenheit y viceversa\n",
    "    \n",
    "    @staticmethod\n",
    "    def _celsius_to_farenheit(celsius):\n",
    "        return celsius * 9/5 + 32\n",
    "    \n",
    "    @staticmethod\n",
    "    def _farenheit_to_celsius(farenheit):\n",
    "        return (farenheit -32) * 5/9 \n",
    "    \n",
    "    @property\n",
    "    def celsius(self):\n",
    "        return self._celsius\n",
    "    \n",
    "    @celsius.setter\n",
    "    def celsius(self, value):\n",
    "        \n",
    "        if value > ContenedorDeMercanciasRefrigerado.MAX_CELSIUS:\n",
    "            raise ValueError(\"La temperatura es demasiado alta\")\n",
    "            \n",
    "        self._celsius = value\n",
    "        \n",
    "    # Creamos los getter y setter de farenheit\n",
    "    \n",
    "    @property\n",
    "    def farenheit(self):\n",
    "        return ContenedorDeMercanciasRefrigerado._celsius_to_farenheit(self.celsius)\n",
    "    \n",
    "    @farenheit.setter\n",
    "    def farenheit(self, value):\n",
    "        self.celsius = ContenedorDeMercanciasRefrigerado._farenheit_to_celsius(value)\n",
    "        \n",
    "    \n",
    "    \n",
    "    @staticmethod\n",
    "    def _crear_codigo_bic(codigo_propietario, codigo_de_serie):\n",
    "        return iso6346.create(\n",
    "        owner_code=codigo_propietario,\n",
    "        serial=str(codigo_de_serie).zfill(6),\n",
    "        category=\"R\")"
   ]
  },
  {
   "cell_type": "markdown",
   "id": "a57ecf8a",
   "metadata": {},
   "source": [
    "Como podemos ver, hemos añadido dos métodos para pasar de celsius a farenheit y viceversa.\n",
    "\n",
    "Además hemos añadido un getter y setter para farenheit que calcula sobre la marcha el valor de los grados farenheit apoyándose en el atributo _celsius.\n",
    "\n",
    "De esta forma no será necesario definir un atributo _farenheit.\n",
    "\n",
    "Por último, hemos autoencapsulado el atributo celsius, pasando de **self._celsius** a **self.celsius**, asignando su valor a través de su propia property en vez de directamente."
   ]
  },
  {
   "cell_type": "code",
   "execution_count": 16,
   "id": "6face229",
   "metadata": {},
   "outputs": [],
   "source": [
    "r5 = ContenedorDeMercanciasRefrigerado.crear_contenedor_vacio(\"GOG\", celsius=-20.0)"
   ]
  },
  {
   "cell_type": "code",
   "execution_count": 17,
   "id": "edf2df3c",
   "metadata": {},
   "outputs": [
    {
     "data": {
      "text/plain": [
       "-4.0"
      ]
     },
     "execution_count": 17,
     "metadata": {},
     "output_type": "execute_result"
    }
   ],
   "source": [
    "r5.farenheit"
   ]
  },
  {
   "cell_type": "code",
   "execution_count": 18,
   "id": "b6854365",
   "metadata": {},
   "outputs": [
    {
     "data": {
      "text/plain": [
       "-20.0"
      ]
     },
     "execution_count": 18,
     "metadata": {},
     "output_type": "execute_result"
    }
   ],
   "source": [
    "r5.celsius"
   ]
  },
  {
   "cell_type": "code",
   "execution_count": 19,
   "id": "505b674b",
   "metadata": {},
   "outputs": [
    {
     "name": "stdout",
     "output_type": "stream",
     "text": [
      "La temperatura es demasiado alta\n"
     ]
    }
   ],
   "source": [
    "try:\n",
    "    r5.farenheit = 100\n",
    "except ValueError as error:\n",
    "    print(error)"
   ]
  },
  {
   "cell_type": "code",
   "execution_count": 20,
   "id": "ffcbc1b5",
   "metadata": {},
   "outputs": [],
   "source": [
    "try:\n",
    "    r5.farenheit = 10\n",
    "except ValueError as error:\n",
    "    print(error)"
   ]
  },
  {
   "cell_type": "code",
   "execution_count": 21,
   "id": "734b20f5",
   "metadata": {},
   "outputs": [
    {
     "data": {
      "text/plain": [
       "10.0"
      ]
     },
     "execution_count": 21,
     "metadata": {},
     "output_type": "execute_result"
    }
   ],
   "source": [
    "r5.farenheit"
   ]
  },
  {
   "cell_type": "code",
   "execution_count": 22,
   "id": "1eea46fe",
   "metadata": {},
   "outputs": [
    {
     "data": {
      "text/plain": [
       "-12.222222222222221"
      ]
     },
     "execution_count": 22,
     "metadata": {},
     "output_type": "execute_result"
    }
   ],
   "source": [
    "r5.celsius"
   ]
  }
 ],
 "metadata": {
  "kernelspec": {
   "display_name": "Python 3 (ipykernel)",
   "language": "python",
   "name": "python3"
  },
  "language_info": {
   "codemirror_mode": {
    "name": "ipython",
    "version": 3
   },
   "file_extension": ".py",
   "mimetype": "text/x-python",
   "name": "python",
   "nbconvert_exporter": "python",
   "pygments_lexer": "ipython3",
   "version": "3.9.7"
  }
 },
 "nbformat": 4,
 "nbformat_minor": 5
}
