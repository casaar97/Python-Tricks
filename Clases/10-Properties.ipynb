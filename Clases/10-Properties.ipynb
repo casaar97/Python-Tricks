{
 "cells": [
  {
   "cell_type": "markdown",
   "id": "93d57c0b",
   "metadata": {},
   "source": [
    "# Properties"
   ]
  },
  {
   "cell_type": "code",
   "execution_count": 1,
   "id": "6d550a0f",
   "metadata": {},
   "outputs": [],
   "source": [
    "import iso6346"
   ]
  },
  {
   "cell_type": "code",
   "execution_count": 2,
   "id": "d160b827",
   "metadata": {},
   "outputs": [],
   "source": [
    "class ContenedorDeMercancias:\n",
    "    \n",
    "    # Definición de atributos de clase\n",
    "    \n",
    "    siguiente_codigo_de_serie = 1337\n",
    "    \n",
    "    @staticmethod\n",
    "    def _crear_codigo_BIC(codigo_propietario, codigo_de_serie):\n",
    "        return iso6346.create(\n",
    "        owner_code=codigo_propietario,\n",
    "        serial=str(codigo_de_serie).zfill(6))\n",
    "    \n",
    "    @classmethod\n",
    "    def _generar_codigo_de_serie(cls):\n",
    "        \n",
    "        resultado = cls.siguiente_codigo_de_serie \n",
    "        cls.siguiente_codigo_de_serie += 1\n",
    "        return resultado\n",
    "    \n",
    "    # Crea un contenedor vacío\n",
    "    @classmethod\n",
    "    def crear_contenedor_vacio(cls, codigo_propietario, **kwargs):\n",
    "        return cls(codigo_propietario, contenidos = [], **kwargs)\n",
    "    \n",
    "    # Crea un contenedor a partir de un codigo de propietario y unos items\n",
    "    @classmethod\n",
    "    def crear_contenedor_con_elementos(cls, codigo_propietario, contenidos, **kwargs):\n",
    "        return cls(codigo_propietario, list(contenidos), **kwargs)\n",
    "        \n",
    "    \n",
    "    def __init__(self, codigo_propietario, contenidos, **kwargs):\n",
    "        \n",
    "        # Definición de atributos de instancia\n",
    "        \n",
    "        self.codigo_propietario = codigo_propietario\n",
    "        self.contenidos = contenidos\n",
    "        self.bic = ContenedorDeMercancias._crear_codigo_BIC(\n",
    "            codigo_propietario=codigo_propietario,\n",
    "            codigo_de_serie=ContenedorDeMercancias._generar_codigo_de_serie()\n",
    "        )"
   ]
  },
  {
   "cell_type": "code",
   "execution_count": 3,
   "id": "3dd3b833",
   "metadata": {},
   "outputs": [],
   "source": [
    "class ContenedorDeMercanciasRefrigerado(ContenedorDeMercancias):\n",
    "    \n",
    "    MAX_CELSIUS = 4.0\n",
    "        \n",
    "    def __init__(self, codigo_propietario, contenidos, *, celsius, **kwargs):\n",
    "        super().__init__(codigo_propietario, contenidos, **kwargs)\n",
    "        \n",
    "        if celsius > ContenedorDeMercanciasRefrigerado.MAX_CELSIUS:\n",
    "            raise ValueError(\"La temperatura es demasiado alta\")\n",
    "        \n",
    "        self.celsius = celsius\n",
    "    \n",
    "    @staticmethod\n",
    "    def _crear_codigo_bic(codigo_propietario, codigo_de_serie):\n",
    "        return iso6346.create(\n",
    "        owner_code=codigo_propietario,\n",
    "        serial=str(codigo_de_serie).zfill(6),\n",
    "        category=\"R\")"
   ]
  },
  {
   "cell_type": "markdown",
   "id": "f8c76bc6",
   "metadata": {},
   "source": [
    "Como hemos visto en el final del notebook anterior, una vez que es creada la instancia de un contenedor refrigerado, se puede cambiar su temperatura modificando el atributo celsius:"
   ]
  },
  {
   "cell_type": "code",
   "execution_count": 4,
   "id": "d9c08dcf",
   "metadata": {},
   "outputs": [],
   "source": [
    "r3 = ContenedorDeMercanciasRefrigerado.crear_contenedor_con_elementos(\"YML\", [\"fish\"], celsius=2.0)"
   ]
  },
  {
   "cell_type": "code",
   "execution_count": 5,
   "id": "dfe5547a",
   "metadata": {},
   "outputs": [
    {
     "data": {
      "text/plain": [
       "<__main__.ContenedorDeMercanciasRefrigerado at 0x29b73001700>"
      ]
     },
     "execution_count": 5,
     "metadata": {},
     "output_type": "execute_result"
    }
   ],
   "source": [
    "r3"
   ]
  },
  {
   "cell_type": "code",
   "execution_count": 6,
   "id": "67c00bb7",
   "metadata": {},
   "outputs": [
    {
     "data": {
      "text/plain": [
       "2.0"
      ]
     },
     "execution_count": 6,
     "metadata": {},
     "output_type": "execute_result"
    }
   ],
   "source": [
    "r3.celsius"
   ]
  },
  {
   "cell_type": "code",
   "execution_count": 7,
   "id": "3bf28187",
   "metadata": {},
   "outputs": [],
   "source": [
    "r3.celsius = 10"
   ]
  },
  {
   "cell_type": "code",
   "execution_count": 8,
   "id": "6dd8708c",
   "metadata": {},
   "outputs": [
    {
     "data": {
      "text/plain": [
       "10"
      ]
     },
     "execution_count": 8,
     "metadata": {},
     "output_type": "execute_result"
    }
   ],
   "source": [
    "r3.celsius"
   ]
  },
  {
   "cell_type": "markdown",
   "id": "f7908475",
   "metadata": {},
   "source": [
    "Esto no está bien y no debería ser posible.\n",
    "\n",
    "Podemos arreglar esto con la forma que tiene Python de encapsular los getters y los setters: **properties**.\n",
    "\n",
    "Para ello vamos a hacer lo siguiente:\n",
    "\n",
    "- **Renombrar el atributo celsius a _celsius**, para indicar que es de visibilidad privada, es decir, que no se debe acceder a el directamente.\n",
    "- **Crear el método celsius con el decorador @property**, el cual simula el getter de la propiedad **_celsius**\n",
    "- **Crera el método celsius con el decorador @celsius.setter**, el cual simula el setter de la propiedad **_celsius**"
   ]
  },
  {
   "cell_type": "code",
   "execution_count": 9,
   "id": "bdfd7cda",
   "metadata": {},
   "outputs": [],
   "source": [
    "class ContenedorDeMercanciasRefrigerado(ContenedorDeMercancias):\n",
    "    \n",
    "    MAX_CELSIUS = 4.0\n",
    "        \n",
    "    def __init__(self, codigo_propietario, contenidos, *, celsius, **kwargs):\n",
    "        super().__init__(codigo_propietario, contenidos, **kwargs)\n",
    "        \n",
    "        if celsius > ContenedorDeMercanciasRefrigerado.MAX_CELSIUS:\n",
    "            raise ValueError(\"La temperatura es demasiado alta\")\n",
    "        \n",
    "        # Renombramos celsius a _celsius\n",
    "        \n",
    "        self._celsius = celsius\n",
    "        \n",
    "    @property\n",
    "    def celsius(self):\n",
    "        return self._celsius\n",
    "    \n",
    "    @celsius.setter\n",
    "    def celsius(self, value):\n",
    "        \n",
    "        if value > ContenedorDeMercanciasRefrigerado.MAX_CELSIUS:\n",
    "            raise ValueError(\"La temperatura es demasiado alta\")\n",
    "            \n",
    "        self._celsius = value\n",
    "    \n",
    "    @staticmethod\n",
    "    def _crear_codigo_bic(codigo_propietario, codigo_de_serie):\n",
    "        return iso6346.create(\n",
    "        owner_code=codigo_propietario,\n",
    "        serial=str(codigo_de_serie).zfill(6),\n",
    "        category=\"R\")"
   ]
  },
  {
   "cell_type": "code",
   "execution_count": 10,
   "id": "5512d1eb",
   "metadata": {},
   "outputs": [],
   "source": [
    "r3 = ContenedorDeMercanciasRefrigerado.crear_contenedor_con_elementos(\"YML\", [\"fish\"], celsius=2.0)"
   ]
  },
  {
   "cell_type": "code",
   "execution_count": 11,
   "id": "ec46493e",
   "metadata": {},
   "outputs": [
    {
     "data": {
      "text/plain": [
       "<__main__.ContenedorDeMercanciasRefrigerado at 0x29b7304eca0>"
      ]
     },
     "execution_count": 11,
     "metadata": {},
     "output_type": "execute_result"
    }
   ],
   "source": [
    "r3"
   ]
  },
  {
   "cell_type": "markdown",
   "id": "90f81d33",
   "metadata": {},
   "source": [
    "Ahora podemos acceder a _celsius como si no fuera un atributo privado:"
   ]
  },
  {
   "cell_type": "code",
   "execution_count": 12,
   "id": "01c20071",
   "metadata": {},
   "outputs": [
    {
     "data": {
      "text/plain": [
       "2.0"
      ]
     },
     "execution_count": 12,
     "metadata": {},
     "output_type": "execute_result"
    }
   ],
   "source": [
    "r3.celsius"
   ]
  },
  {
   "cell_type": "markdown",
   "id": "71cc3f6d",
   "metadata": {},
   "source": [
    "Y podemos asignarle un valor como si no fuera un atributo privado, manteniendo las correspondientes restricciones:"
   ]
  },
  {
   "cell_type": "code",
   "execution_count": 13,
   "id": "cc86e7d7",
   "metadata": {},
   "outputs": [
    {
     "name": "stdout",
     "output_type": "stream",
     "text": [
      "La temperatura es demasiado alta\n"
     ]
    }
   ],
   "source": [
    "try:\n",
    "    r3.celsius = 10\n",
    "except ValueError as error:\n",
    "    print(error)"
   ]
  },
  {
   "cell_type": "code",
   "execution_count": 14,
   "id": "fc829912",
   "metadata": {},
   "outputs": [
    {
     "data": {
      "text/plain": [
       "1.0"
      ]
     },
     "execution_count": 14,
     "metadata": {},
     "output_type": "execute_result"
    }
   ],
   "source": [
    "r3.celsius = 1.0\n",
    "r3.celsius"
   ]
  },
  {
   "cell_type": "markdown",
   "id": "f55e10b1",
   "metadata": {},
   "source": [
    "Ahora vamos a añadir soporte para grados farenheit:"
   ]
  },
  {
   "cell_type": "code",
   "execution_count": 15,
   "id": "4eb83562",
   "metadata": {},
   "outputs": [],
   "source": [
    "class ContenedorDeMercanciasRefrigerado(ContenedorDeMercancias):\n",
    "    \n",
    "    MAX_CELSIUS = 4.0\n",
    "        \n",
    "    def __init__(self, codigo_propietario, contenidos, *, celsius, **kwargs):\n",
    "        super().__init__(codigo_propietario, contenidos, **kwargs)\n",
    "        \n",
    "        if celsius > ContenedorDeMercanciasRefrigerado.MAX_CELSIUS:\n",
    "            raise ValueError(\"La temperatura es demasiado alta\")\n",
    "        \n",
    "        # Renombramos _celsius a celsius, autoencapsulándolo y accediendo a través de su property\n",
    "        \n",
    "        self.celsius = celsius\n",
    "        \n",
    "    # Creamos estos dos métodos para pasar de celsius a farenheit y viceversa\n",
    "    \n",
    "    @staticmethod\n",
    "    def _celsius_to_farenheit(celsius):\n",
    "        return celsius * 9/5 + 32\n",
    "    \n",
    "    @staticmethod\n",
    "    def _farenheit_to_celsius(farenheit):\n",
    "        return (farenheit -32) * 5/9 \n",
    "    \n",
    "    @property\n",
    "    def celsius(self):\n",
    "        return self._celsius\n",
    "    \n",
    "    @celsius.setter\n",
    "    def celsius(self, value):\n",
    "        \n",
    "        if value > ContenedorDeMercanciasRefrigerado.MAX_CELSIUS:\n",
    "            raise ValueError(\"La temperatura es demasiado alta\")\n",
    "            \n",
    "        self._celsius = value\n",
    "        \n",
    "    # Creamos los getter y setter de farenheit\n",
    "    \n",
    "    @property\n",
    "    def farenheit(self):\n",
    "        return ContenedorDeMercanciasRefrigerado._celsius_to_farenheit(self.celsius)\n",
    "    \n",
    "    @farenheit.setter\n",
    "    def farenheit(self, value):\n",
    "        self.celsius = ContenedorDeMercanciasRefrigerado._farenheit_to_celsius(value)\n",
    "        \n",
    "    \n",
    "    \n",
    "    @staticmethod\n",
    "    def _crear_codigo_bic(codigo_propietario, codigo_de_serie):\n",
    "        return iso6346.create(\n",
    "        owner_code=codigo_propietario,\n",
    "        serial=str(codigo_de_serie).zfill(6),\n",
    "        category=\"R\")"
   ]
  },
  {
   "cell_type": "markdown",
   "id": "28d3b1f1",
   "metadata": {},
   "source": [
    "Como podemos ver, hemos añadido dos métodos para pasar de celsius a farenheit y viceversa.\n",
    "\n",
    "Además hemos añadido un getter y setter para farenheit que calcula sobre la marcha el valor de los grados farenheit apoyándose en el atributo _celsius.\n",
    "\n",
    "De esta forma no será necesario definir un atributo _farenheit.\n",
    "\n",
    "Por último, hemos autoencapsulado el atributo celsius, pasando de **self._celsius** a **self.celsius**, asignando su valor a través de su propia property en vez de directamente."
   ]
  },
  {
   "cell_type": "code",
   "execution_count": 16,
   "id": "c1e7a27e",
   "metadata": {},
   "outputs": [],
   "source": [
    "r5 = ContenedorDeMercanciasRefrigerado.crear_contenedor_vacio(\"GOG\", celsius=-20.0)"
   ]
  },
  {
   "cell_type": "code",
   "execution_count": 17,
   "id": "32af9878",
   "metadata": {},
   "outputs": [
    {
     "data": {
      "text/plain": [
       "-4.0"
      ]
     },
     "execution_count": 17,
     "metadata": {},
     "output_type": "execute_result"
    }
   ],
   "source": [
    "r5.farenheit"
   ]
  },
  {
   "cell_type": "code",
   "execution_count": 19,
   "id": "b1d480c0",
   "metadata": {},
   "outputs": [
    {
     "data": {
      "text/plain": [
       "-20.0"
      ]
     },
     "execution_count": 19,
     "metadata": {},
     "output_type": "execute_result"
    }
   ],
   "source": [
    "r5.celsius"
   ]
  },
  {
   "cell_type": "code",
   "execution_count": 20,
   "id": "f27e48bd",
   "metadata": {},
   "outputs": [],
   "source": [
    "try:\n",
    "    r5.farenheit = 100\n",
    "except ValueError as error:\n",
    "    print(error)"
   ]
  },
  {
   "cell_type": "code",
   "execution_count": 21,
   "id": "c53019dd",
   "metadata": {},
   "outputs": [],
   "source": [
    "try:\n",
    "    r5.farenheit = 10\n",
    "except ValueError as error:\n",
    "    print(error)"
   ]
  },
  {
   "cell_type": "code",
   "execution_count": 22,
   "id": "30fb583c",
   "metadata": {},
   "outputs": [
    {
     "data": {
      "text/plain": [
       "10.0"
      ]
     },
     "execution_count": 22,
     "metadata": {},
     "output_type": "execute_result"
    }
   ],
   "source": [
    "r5.farenheit"
   ]
  },
  {
   "cell_type": "code",
   "execution_count": 23,
   "id": "10499c39",
   "metadata": {},
   "outputs": [
    {
     "data": {
      "text/plain": [
       "-12.222222222222221"
      ]
     },
     "execution_count": 23,
     "metadata": {},
     "output_type": "execute_result"
    }
   ],
   "source": [
    "r5.celsius"
   ]
  }
 ],
 "metadata": {
  "kernelspec": {
   "display_name": "Python 3 (ipykernel)",
   "language": "python",
   "name": "python3"
  },
  "language_info": {
   "codemirror_mode": {
    "name": "ipython",
    "version": 3
   },
   "file_extension": ".py",
   "mimetype": "text/x-python",
   "name": "python",
   "nbconvert_exporter": "python",
   "pygments_lexer": "ipython3",
   "version": "3.9.7"
  }
 },
 "nbformat": 4,
 "nbformat_minor": 5
}
