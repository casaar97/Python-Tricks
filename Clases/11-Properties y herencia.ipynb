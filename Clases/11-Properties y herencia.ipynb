{
 "cells": [
  {
   "cell_type": "markdown",
   "id": "95ef236b",
   "metadata": {},
   "source": [
    "# Properties y herencia"
   ]
  },
  {
   "cell_type": "markdown",
   "id": "46cee398",
   "metadata": {},
   "source": [
    "## Sobrescritura de getters"
   ]
  },
  {
   "cell_type": "markdown",
   "id": "18a88200",
   "metadata": {},
   "source": [
    "Ahora vamos a modificar la clase ContenedorDeMercancias para añadir los atributos altura y anchura, ya que estos serán los mismos para todos los tipos de contenedores. Los utilizaremos para sacar el **volumen** del contenedor.\n",
    "\n",
    "También vamos a añadir longitud como atributo, por lo que es necesario modificar el inicializador y los métodos factory:"
   ]
  },
  {
   "cell_type": "code",
   "execution_count": 1,
   "id": "921324e2",
   "metadata": {},
   "outputs": [],
   "source": [
    "import iso6346"
   ]
  },
  {
   "cell_type": "code",
   "execution_count": 2,
   "id": "0fcf87e6",
   "metadata": {},
   "outputs": [],
   "source": [
    "class ContenedorDeMercancias:\n",
    "    \n",
    "    # Definición de constantes de clase\n",
    "    \n",
    "    ALTURA = 8.5\n",
    "    ANCHURA = 8.0\n",
    "    \n",
    "    # Definición de atributos de clase\n",
    "    \n",
    "    siguiente_codigo_de_serie = 1337\n",
    "    \n",
    "    @staticmethod\n",
    "    def _crear_codigo_BIC(codigo_propietario, codigo_de_serie):\n",
    "        return iso6346.create(\n",
    "        owner_code=codigo_propietario,\n",
    "        serial=str(codigo_de_serie).zfill(6))\n",
    "    \n",
    "    @classmethod\n",
    "    def _generar_codigo_de_serie(cls):\n",
    "        \n",
    "        resultado = cls.siguiente_codigo_de_serie \n",
    "        cls.siguiente_codigo_de_serie += 1\n",
    "        return resultado\n",
    "    \n",
    "    # Crea un contenedor vacío\n",
    "    @classmethod\n",
    "    def crear_contenedor_vacio(cls, codigo_propietario, longitud, **kwargs):\n",
    "        return cls(codigo_propietario, longitud, contenidos = [], **kwargs)\n",
    "    \n",
    "    # Crea un contenedor a partir de un codigo de propietario y unos items\n",
    "    @classmethod\n",
    "    def crear_contenedor_con_elementos(cls, codigo_propietario, longitud, contenidos, **kwargs):\n",
    "        return cls(codigo_propietario, longitud, list(contenidos), **kwargs)\n",
    "        \n",
    "    \n",
    "    def __init__(self, codigo_propietario, longitud, contenidos, **kwargs):\n",
    "        \n",
    "        # Definición de atributos de instancia\n",
    "        \n",
    "        self.codigo_propietario = codigo_propietario\n",
    "        self.longitud = longitud\n",
    "        self.contenidos = contenidos\n",
    "        self.bic = ContenedorDeMercancias._crear_codigo_BIC(\n",
    "            codigo_propietario=codigo_propietario,\n",
    "            codigo_de_serie=ContenedorDeMercancias._generar_codigo_de_serie()\n",
    "        )\n",
    "        \n",
    "    \n",
    "    @property\n",
    "    def volumen(self):\n",
    "        return ContenedorDeMercancias.ALTURA * ContenedorDeMercancias.ANCHURA * self.longitud"
   ]
  },
  {
   "cell_type": "code",
   "execution_count": 3,
   "id": "6c42a5b5",
   "metadata": {},
   "outputs": [],
   "source": [
    "c = ContenedorDeMercancias.crear_contenedor_vacio(\"YML\", longitud=20)"
   ]
  },
  {
   "cell_type": "code",
   "execution_count": 4,
   "id": "872b3e3c",
   "metadata": {},
   "outputs": [
    {
     "data": {
      "text/plain": [
       "1360.0"
      ]
     },
     "execution_count": 4,
     "metadata": {},
     "output_type": "execute_result"
    }
   ],
   "source": [
    "c.volumen"
   ]
  },
  {
   "cell_type": "markdown",
   "id": "ea177789",
   "metadata": {},
   "source": [
    "Para que funcione también en la clase ContenedorDeMercanciasRefrigerado, debemos adaptar su inicializador para que acepte el argumento **longitud**:"
   ]
  },
  {
   "cell_type": "code",
   "execution_count": 5,
   "id": "deab8c07",
   "metadata": {},
   "outputs": [],
   "source": [
    "class ContenedorDeMercanciasRefrigerado(ContenedorDeMercancias):\n",
    "    \n",
    "    MAX_CELSIUS = 4.0\n",
    "        \n",
    "    def __init__(self, codigo_propietario, longitud, contenidos, *, celsius, **kwargs):\n",
    "        super().__init__(codigo_propietario, longitud, contenidos, **kwargs)\n",
    "        \n",
    "        if celsius > ContenedorDeMercanciasRefrigerado.MAX_CELSIUS:\n",
    "            raise ValueError(\"La temperatura es demasiado alta\")\n",
    "        \n",
    "        # Renombramos _celsius a celsius, autoencapsulándolo y accediendo a través de su property\n",
    "        \n",
    "        self.celsius = celsius\n",
    "        \n",
    "    # Creamos estos dos métodos para pasar de celsius a farenheit y viceversa\n",
    "    \n",
    "    @staticmethod\n",
    "    def _celsius_to_farenheit(celsius):\n",
    "        return celsius * 9/5 + 32\n",
    "    \n",
    "    @staticmethod\n",
    "    def _farenheit_to_celsius(farenheit):\n",
    "        return (farenheit -32) * 5/9 \n",
    "    \n",
    "    @property\n",
    "    def celsius(self):\n",
    "        return self._celsius\n",
    "    \n",
    "    @celsius.setter\n",
    "    def celsius(self, valor):\n",
    "        \n",
    "        if valor > ContenedorDeMercanciasRefrigerado.MAX_CELSIUS:\n",
    "            raise ValueError(\"La temperatura es demasiado alta\")\n",
    "            \n",
    "        self._celsius = valor\n",
    "        \n",
    "    # Creamos los getter y setter de farenheit\n",
    "    \n",
    "    @property\n",
    "    def farenheit(self):\n",
    "        return ContenedorDeMercanciasRefrigerado._celsius_to_farenheit(self.celsius)\n",
    "    \n",
    "    @farenheit.setter\n",
    "    def farenheit(self, value):\n",
    "        self.celsius = ContenedorDeMercanciasRefrigerado._farenheit_to_celsius(value)\n",
    "        \n",
    "    \n",
    "    \n",
    "    @staticmethod\n",
    "    def _crear_codigo_bic(codigo_propietario, codigo_de_serie):\n",
    "        return iso6346.create(\n",
    "        owner_code=codigo_propietario,\n",
    "        serial=str(codigo_de_serie).zfill(6),\n",
    "        category=\"R\")"
   ]
  },
  {
   "cell_type": "code",
   "execution_count": 6,
   "id": "5a4fb25c",
   "metadata": {},
   "outputs": [],
   "source": [
    "r = ContenedorDeMercanciasRefrigerado.crear_contenedor_vacio(\"YML\", longitud=20, celsius=3)"
   ]
  },
  {
   "cell_type": "code",
   "execution_count": 7,
   "id": "7329f075",
   "metadata": {
    "scrolled": true
   },
   "outputs": [
    {
     "data": {
      "text/plain": [
       "1360.0"
      ]
     },
     "execution_count": 7,
     "metadata": {},
     "output_type": "execute_result"
    }
   ],
   "source": [
    "r.volumen"
   ]
  },
  {
   "cell_type": "markdown",
   "id": "902c7248",
   "metadata": {},
   "source": [
    "Sin embargo, hay que tener en cuenta que la máquina refrigeradora del contenedor ocupa 100 metros cubicos de espacio, por lo que hay que restarselo al volumen total del contenedor.\n",
    "\n",
    "Para ello vamos a crear una constante de clase llamada **REFRIGERATOR_VOLUME** y sobrescribir la property **volumen**, adaptándola al contenedor:"
   ]
  },
  {
   "cell_type": "code",
   "execution_count": 8,
   "id": "c4ef515b",
   "metadata": {},
   "outputs": [],
   "source": [
    "class ContenedorDeMercanciasRefrigerado(ContenedorDeMercancias):\n",
    "    \n",
    "    MAX_CELSIUS = 4.0\n",
    "    VOLUMEN_MAQUINA_REFRIGERADORA = 100\n",
    "        \n",
    "    def __init__(self, codigo_propietario, longitud, contenidos, *, celsius, **kwargs):\n",
    "        super().__init__(codigo_propietario, longitud, contenidos, **kwargs)\n",
    "        \n",
    "        if celsius > ContenedorDeMercanciasRefrigerado.MAX_CELSIUS:\n",
    "            raise ValueError(\"La temperatura es demasiado alta\")\n",
    "        \n",
    "        # Renombramos _celsius a celsius, autoencapsulándolo y accediendo a través de su property\n",
    "        \n",
    "        self.celsius = celsius\n",
    "        \n",
    "    # Creamos estos dos métodos para pasar de celsius a farenheit y viceversa\n",
    "    \n",
    "    @staticmethod\n",
    "    def _celsius_to_farenheit(celsius):\n",
    "        return celsius * 9/5 + 32\n",
    "    \n",
    "    @staticmethod\n",
    "    def _farenheit_to_celsius(farenheit):\n",
    "        return (farenheit -32) * 5/9 \n",
    "    \n",
    "    @property\n",
    "    def celsius(self):\n",
    "        return self._celsius\n",
    "    \n",
    "    @celsius.setter\n",
    "    def celsius(self, valor):\n",
    "        \n",
    "        if valor > ContenedorDeMercanciasRefrigerado.MAX_CELSIUS:\n",
    "            raise ValueError(\"La temperatura es demasiado alta\")\n",
    "            \n",
    "        self._celsius = valor\n",
    "        \n",
    "    # Creamos los getter y setter de farenheit\n",
    "    \n",
    "    @property\n",
    "    def farenheit(self):\n",
    "        return ContenedorDeMercanciasRefrigerado._celsius_to_farenheit(self.celsius)\n",
    "    \n",
    "    @farenheit.setter\n",
    "    def farenheit(self, value):\n",
    "        self.celsius = ContenedorDeMercanciasRefrigerado._farenheit_to_celsius(value)\n",
    "    \n",
    "    @staticmethod\n",
    "    def _crear_codigo_bic(codigo_propietario, codigo_de_serie):\n",
    "        return iso6346.create(\n",
    "        owner_code=codigo_propietario,\n",
    "        serial=str(codigo_de_serie).zfill(6),\n",
    "        category=\"R\")\n",
    "    \n",
    "    @property\n",
    "    def volumen(self):\n",
    "        return super().volumen - ContenedorDeMercanciasRefrigerado.VOLUMEN_MAQUINA_REFRIGERADORA"
   ]
  },
  {
   "cell_type": "code",
   "execution_count": 9,
   "id": "be5d407c",
   "metadata": {},
   "outputs": [],
   "source": [
    "r = ContenedorDeMercanciasRefrigerado.crear_contenedor_vacio(\"YML\", longitud=20, celsius=3)"
   ]
  },
  {
   "cell_type": "code",
   "execution_count": 10,
   "id": "87af7fe3",
   "metadata": {
    "scrolled": true
   },
   "outputs": [
    {
     "data": {
      "text/plain": [
       "1260.0"
      ]
     },
     "execution_count": 10,
     "metadata": {},
     "output_type": "execute_result"
    }
   ],
   "source": [
    "r.volumen"
   ]
  },
  {
   "cell_type": "markdown",
   "id": "e6909b0a",
   "metadata": {},
   "source": [
    "## Sobrescritura de setters"
   ]
  },
  {
   "cell_type": "markdown",
   "id": "2443dbd9",
   "metadata": {},
   "source": [
    "Para realizar la sobrescritura de setters, será necesario crear una nueva clase: **ContenedorDeMercanciasRefrigeradoConCalefaccion**. Este tipo de contenedores permiten tanto enfriar como calentar cuando sea necesario.\n",
    "\n",
    "Vamos a asumir que dichos contenedores no deben caer nunca por debajo de temperaturas de -20 grados celsius.\n",
    "\n",
    "Para sobrescribir la property setter de la clase base, debemos hacer referencia a ella en el decorador de la property:"
   ]
  },
  {
   "cell_type": "code",
   "execution_count": 11,
   "id": "643a1322",
   "metadata": {},
   "outputs": [],
   "source": [
    "class ContenedorDeMercanciasRefrigeradoConCalefaccion(ContenedorDeMercanciasRefrigerado):\n",
    "    \n",
    "    MIN_CELSIUS = -20.0\n",
    "    \n",
    "    @ContenedorDeMercanciasRefrigerado.celsius.setter\n",
    "    def celsius(self, valor):\n",
    "        \n",
    "        if valor < ContenedorDeMercanciasRefrigeradoConCalefaccion.MIN_CELSIUS:\n",
    "            raise ValueError(\"La temperatura es demasiado baja\")\n",
    "        \n",
    "        \"\"\"\n",
    "        Esto es necesario para llamar al property setter de la clase base:\n",
    "        \n",
    "        @celsius.setter\n",
    "        def celsius(self, valor):\n",
    "\n",
    "            if valor > ContenedorDeMercanciasRefrigerado.MAX_CELSIUS:\n",
    "                raise ValueError(\"La temperatura es demasiado alta\")\n",
    "\n",
    "            self._celsius = valor\n",
    "        \"\"\"\n",
    "        \n",
    "        ContenedorDeMercanciasRefrigerado.celsius.fset(self, valor)\n",
    "            "
   ]
  },
  {
   "cell_type": "markdown",
   "id": "df1aff14",
   "metadata": {},
   "source": [
    "### Importante\n",
    "\n",
    "Además, como podemos ver dentro del setter, para invocar al setter de la clase base es necesario utilizar el método fset del objeto devuelto por la property.\n",
    "\n",
    "Esto se debe a que dicho objeto mantiene referencias a los métodos getter y setter de la clase llamados fget y fset, respectivamente."
   ]
  },
  {
   "cell_type": "code",
   "execution_count": 12,
   "id": "c8c08f9e",
   "metadata": {},
   "outputs": [],
   "source": [
    "h = ContenedorDeMercanciasRefrigeradoConCalefaccion.crear_contenedor_vacio(\"YML\", longitud=20, celsius=3)"
   ]
  },
  {
   "cell_type": "code",
   "execution_count": 13,
   "id": "f74b83c0",
   "metadata": {},
   "outputs": [
    {
     "name": "stdout",
     "output_type": "stream",
     "text": [
      "La temperatura es demasiado baja\n"
     ]
    }
   ],
   "source": [
    "try:\n",
    "    h.celsius = -21\n",
    "except ValueError as error:\n",
    "    print(error)"
   ]
  },
  {
   "cell_type": "code",
   "execution_count": 14,
   "id": "91fc5e28",
   "metadata": {},
   "outputs": [
    {
     "name": "stdout",
     "output_type": "stream",
     "text": [
      "La temperatura es demasiado alta\n"
     ]
    }
   ],
   "source": [
    "try:\n",
    "    h.celsius = 5\n",
    "except ValueError as error:\n",
    "    print(error)"
   ]
  }
 ],
 "metadata": {
  "kernelspec": {
   "display_name": "Python 3 (ipykernel)",
   "language": "python",
   "name": "python3"
  },
  "language_info": {
   "codemirror_mode": {
    "name": "ipython",
    "version": 3
   },
   "file_extension": ".py",
   "mimetype": "text/x-python",
   "name": "python",
   "nbconvert_exporter": "python",
   "pygments_lexer": "ipython3",
   "version": "3.9.7"
  }
 },
 "nbformat": 4,
 "nbformat_minor": 5
}
