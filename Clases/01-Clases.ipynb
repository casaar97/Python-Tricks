{
 "cells": [
  {
   "cell_type": "markdown",
   "id": "336b594e",
   "metadata": {},
   "source": [
    "# Clases"
   ]
  },
  {
   "cell_type": "markdown",
   "id": "a6a0617d",
   "metadata": {},
   "source": [
    "sobre las clases: \n",
    "\n",
    "- Las clases definen la estructura y el comportamiento de los objetos.\n",
    "\n",
    "- Actúan como una plantilla para crear nuevos objetos.\n",
    "\n",
    "- Las clases controlan el estado inicial de un objeto, atributos y métodos."
   ]
  },
  {
   "cell_type": "markdown",
   "id": "3a4519f8",
   "metadata": {},
   "source": [
    "## Definir una clase"
   ]
  },
  {
   "cell_type": "markdown",
   "id": "6f651ae8",
   "metadata": {},
   "source": [
    "Para definir una clase, se utiliza la palabra clave **class** seguida del nombre de la clase.\n",
    "\n",
    "El nombre de la clase usa por convención **Upper CamelCase**, lo que quiere decir que cada palabra del nombre empieza por mayúscula:"
   ]
  },
  {
   "cell_type": "code",
   "execution_count": 1,
   "id": "2af5bf34",
   "metadata": {},
   "outputs": [],
   "source": [
    "class Persona:\n",
    "    pass"
   ]
  },
  {
   "cell_type": "code",
   "execution_count": 2,
   "id": "e50936ba",
   "metadata": {},
   "outputs": [],
   "source": [
    "persona1 = Persona()"
   ]
  },
  {
   "cell_type": "code",
   "execution_count": 3,
   "id": "8c8752be",
   "metadata": {},
   "outputs": [
    {
     "data": {
      "text/plain": [
       "<__main__.Persona at 0x251a99eaa30>"
      ]
     },
     "execution_count": 3,
     "metadata": {},
     "output_type": "execute_result"
    }
   ],
   "source": [
    "persona1"
   ]
  },
  {
   "cell_type": "markdown",
   "id": "a5f3ecb4",
   "metadata": {},
   "source": [
    "## Definir métodos de una clase"
   ]
  },
  {
   "cell_type": "code",
   "execution_count": 4,
   "id": "5b6a3def",
   "metadata": {},
   "outputs": [],
   "source": [
    "class Persona:\n",
    "    \n",
    "    def nombre(self):\n",
    "        return \"Juan\""
   ]
  },
  {
   "cell_type": "code",
   "execution_count": 5,
   "id": "7e505ec3",
   "metadata": {},
   "outputs": [],
   "source": [
    "persona1 = Persona()"
   ]
  },
  {
   "cell_type": "code",
   "execution_count": 6,
   "id": "33970550",
   "metadata": {},
   "outputs": [
    {
     "data": {
      "text/plain": [
       "'Juan'"
      ]
     },
     "execution_count": 6,
     "metadata": {},
     "output_type": "execute_result"
    }
   ],
   "source": [
    "persona1.nombre()"
   ]
  },
  {
   "cell_type": "markdown",
   "id": "b731f3e0",
   "metadata": {},
   "source": [
    "Se pasa el parámetro **self** porque cuando hacemos persona1.nombre(), lo que realmente esta haciendo es Persona.nombre(persona1)."
   ]
  },
  {
   "cell_type": "markdown",
   "id": "9ecc7a95",
   "metadata": {},
   "source": [
    "## Inicializador de instancias ( \\__init__() )"
   ]
  },
  {
   "cell_type": "markdown",
   "id": "c9453af4",
   "metadata": {},
   "source": [
    "\\__init__ es un **inicializador**, no un constructor."
   ]
  },
  {
   "cell_type": "code",
   "execution_count": 7,
   "id": "242e47a6",
   "metadata": {},
   "outputs": [],
   "source": [
    "class Persona:\n",
    "    \n",
    "    def __init__(self, nombre):\n",
    "        self._nombre = nombre\n",
    "        \n",
    "    def nombre(self):\n",
    "        return self._nombre"
   ]
  },
  {
   "cell_type": "code",
   "execution_count": 8,
   "id": "19ec0237",
   "metadata": {},
   "outputs": [],
   "source": [
    "persona1 = Persona(\"Juan\")"
   ]
  },
  {
   "cell_type": "code",
   "execution_count": 9,
   "id": "c286114e",
   "metadata": {},
   "outputs": [
    {
     "data": {
      "text/plain": [
       "'Juan'"
      ]
     },
     "execution_count": 9,
     "metadata": {},
     "output_type": "execute_result"
    }
   ],
   "source": [
    "persona1.nombre()"
   ]
  },
  {
   "cell_type": "markdown",
   "id": "17035e7b",
   "metadata": {},
   "source": [
    "### Importante"
   ]
  },
  {
   "cell_type": "markdown",
   "id": "d249e3f1",
   "metadata": {},
   "source": [
    "Como se puede observar, la variable de clase **nombre** tiene un **_** delante. Esto se debe a dos motivos:\n",
    "\n",
    "- Evitar que haya conflicto de nombres con el método nombre()\n",
    "- Por convención, a las variables de clase se les pone el guión bajo delante, indicando que no son para el consumo/manipulación directa por parte de usuarios de la clase\n",
    "\n",
    "Es decir, el gión bajo delante indica que son variables **\"privadas\"** de clase."
   ]
  },
  {
   "cell_type": "markdown",
   "id": "864128a6",
   "metadata": {},
   "source": [
    "Eso se debe a que en Python todo es público por defecto, por lo que se deben de tomar este tipo de convenciones para indicar explícitamente el tipo de acceso a dichas propiedades."
   ]
  },
  {
   "cell_type": "markdown",
   "id": "8119463d",
   "metadata": {},
   "source": [
    "### Comprobaciones en el inicializador"
   ]
  },
  {
   "cell_type": "markdown",
   "id": "6b1711b9",
   "metadata": {},
   "source": [
    "Se pueden incluir comprobaciones en el inicializador:"
   ]
  },
  {
   "cell_type": "code",
   "execution_count": 10,
   "id": "16045ebe",
   "metadata": {},
   "outputs": [],
   "source": [
    "class Persona:\n",
    "    \n",
    "    def __init__(self, nombre):\n",
    "        \n",
    "        if not isinstance(nombre, str):\n",
    "            raise ValueError(\"El nombre de la persona debe ser de tipo String.\")\n",
    "            \n",
    "        self._nombre = nombre\n",
    "        \n",
    "    def nombre(self):\n",
    "        return self._nombre"
   ]
  },
  {
   "cell_type": "code",
   "execution_count": 11,
   "id": "5f985a14",
   "metadata": {},
   "outputs": [
    {
     "name": "stdout",
     "output_type": "stream",
     "text": [
      "El nombre de la persona debe ser de tipo String.\n"
     ]
    }
   ],
   "source": [
    "try:\n",
    "    persona1 = Persona(1)\n",
    "except ValueError as error:\n",
    "    print(error)"
   ]
  },
  {
   "cell_type": "markdown",
   "id": "63da69e9",
   "metadata": {},
   "source": [
    "## Principio del menor conocimiento (Ley de Demeter)"
   ]
  },
  {
   "cell_type": "markdown",
   "id": "b5015137",
   "metadata": {},
   "source": [
    "Nunca deberías invocar métodos de objetos que has recibido como resultado de otras invocaciones."
   ]
  }
 ],
 "metadata": {
  "kernelspec": {
   "display_name": "Python 3 (ipykernel)",
   "language": "python",
   "name": "python3"
  },
  "language_info": {
   "codemirror_mode": {
    "name": "ipython",
    "version": 3
   },
   "file_extension": ".py",
   "mimetype": "text/x-python",
   "name": "python",
   "nbconvert_exporter": "python",
   "pygments_lexer": "ipython3",
   "version": "3.9.7"
  }
 },
 "nbformat": 4,
 "nbformat_minor": 5
}
