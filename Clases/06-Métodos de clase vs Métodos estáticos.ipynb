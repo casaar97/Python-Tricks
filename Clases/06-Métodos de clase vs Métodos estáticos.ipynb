{
 "cells": [
  {
   "cell_type": "markdown",
   "id": "cbb67770",
   "metadata": {},
   "source": [
    "# Métodos de clase vs Métodos estáticos"
   ]
  },
  {
   "cell_type": "markdown",
   "id": "c507548f",
   "metadata": {},
   "source": [
    "Cuando usar un método estático o un método de clase puede ser confuso.\n",
    "\n",
    "La regla suele ser la siguiente:"
   ]
  },
  {
   "cell_type": "markdown",
   "id": "06b0a625",
   "metadata": {},
   "source": [
    "## Métodos estáticos"
   ]
  },
  {
   "cell_type": "markdown",
   "id": "fd60b14d",
   "metadata": {},
   "source": [
    "- Se usan cuando no se necesite acceder a objetos de instancia o clase como:\n",
    "    - Atributos de clase\n",
    "    - Instancias de la clase\n",
    "    \n",
    "Es decir, son métodos que no necesitan acceder a nada de la clase pero que la clase tiene que implementar.\n",
    "\n",
    "Son detalles de implementación de la clase.\n",
    "\n",
    "Podrían ser situados fuera de la clase como una función global del módulo sin tener ninguna pérdida de funcionalidad."
   ]
  },
  {
   "cell_type": "markdown",
   "id": "f2f10305",
   "metadata": {},
   "source": [
    "## Métodos de clase"
   ]
  },
  {
   "cell_type": "markdown",
   "id": "58788090",
   "metadata": {},
   "source": [
    "- Se usan cuando se necesita acceder a objetos de clase para llamar a\n",
    "    - Otros métodos de clase\n",
    "    - Al constructor de la clase\n",
    "    \n",
    "Es decir, son métodos que necesitan acceder a la propia clase e instancias de la misma."
   ]
  }
 ],
 "metadata": {
  "kernelspec": {
   "display_name": "Python 3 (ipykernel)",
   "language": "python",
   "name": "python3"
  },
  "language_info": {
   "codemirror_mode": {
    "name": "ipython",
    "version": 3
   },
   "file_extension": ".py",
   "mimetype": "text/x-python",
   "name": "python",
   "nbconvert_exporter": "python",
   "pygments_lexer": "ipython3",
   "version": "3.9.7"
  }
 },
 "nbformat": 4,
 "nbformat_minor": 5
}
