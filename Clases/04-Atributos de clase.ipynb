{
 "cells": [
  {
   "cell_type": "markdown",
   "id": "81a29573",
   "metadata": {},
   "source": [
    "# Atributos de clase"
   ]
  },
  {
   "cell_type": "code",
   "execution_count": 1,
   "id": "fda15647",
   "metadata": {},
   "outputs": [],
   "source": [
    "class ContenedorDeMercancias:\n",
    "    \n",
    "    siguiente_codigo_de_serie = 1337\n",
    "    \n",
    "    def __init__(self, codigo_propietario, contenidos):\n",
    "        \n",
    "        self.codigo_propietario = codigo_propietario\n",
    "        self.contenidos = contenidos\n",
    "        self.codigo_de_serie = ContenedorDeMercancias.siguiente_codigo_de_serie\n",
    "        \n",
    "        ContenedorDeMercancias.siguiente_codigo_de_serie += 1"
   ]
  },
  {
   "cell_type": "markdown",
   "id": "6145bbc0",
   "metadata": {},
   "source": [
    "Como podemos ver, es necesario referirse a la variable **siguiente_codigo_de_serie** con el nombre de la clase, ya que no se encuentra dentro del contexto (scope) del incializador."
   ]
  },
  {
   "cell_type": "code",
   "execution_count": 2,
   "id": "7c7544c8",
   "metadata": {},
   "outputs": [],
   "source": [
    "c3 = ContenedorDeMercancias(\"ESC\", \"Electrodomésticos\")"
   ]
  },
  {
   "cell_type": "code",
   "execution_count": 3,
   "id": "6564cdcb",
   "metadata": {},
   "outputs": [],
   "source": [
    "c4 = ContenedorDeMercancias(\"CAR\", \"Coche\")"
   ]
  },
  {
   "cell_type": "markdown",
   "id": "559a50db",
   "metadata": {},
   "source": [
    "Cada instancia va a tener su propio número de serie. Este código va a ir aumentando en uno para cada instancia que se crea:"
   ]
  },
  {
   "cell_type": "code",
   "execution_count": 4,
   "id": "0c5041d1",
   "metadata": {},
   "outputs": [
    {
     "data": {
      "text/plain": [
       "1337"
      ]
     },
     "execution_count": 4,
     "metadata": {},
     "output_type": "execute_result"
    }
   ],
   "source": [
    "c3.codigo_de_serie"
   ]
  },
  {
   "cell_type": "code",
   "execution_count": 5,
   "id": "a8aa5916",
   "metadata": {},
   "outputs": [
    {
     "data": {
      "text/plain": [
       "1338"
      ]
     },
     "execution_count": 5,
     "metadata": {},
     "output_type": "execute_result"
    }
   ],
   "source": [
    "c4.codigo_de_serie"
   ]
  },
  {
   "cell_type": "markdown",
   "id": "354ca1d5",
   "metadata": {},
   "source": [
    "Esto se debe a que el valor del atributo **siguiente_codigo_de_serie** se comparte para todas las instancias de dicha clase, ya que es un atributo de la clase."
   ]
  },
  {
   "cell_type": "code",
   "execution_count": 6,
   "id": "d7ab09a3",
   "metadata": {},
   "outputs": [
    {
     "data": {
      "text/plain": [
       "1339"
      ]
     },
     "execution_count": 6,
     "metadata": {},
     "output_type": "execute_result"
    }
   ],
   "source": [
    "ContenedorDeMercancias.siguiente_codigo_de_serie"
   ]
  },
  {
   "cell_type": "code",
   "execution_count": 7,
   "id": "d65251f4",
   "metadata": {},
   "outputs": [
    {
     "data": {
      "text/plain": [
       "1339"
      ]
     },
     "execution_count": 7,
     "metadata": {},
     "output_type": "execute_result"
    }
   ],
   "source": [
    "c3.siguiente_codigo_de_serie"
   ]
  },
  {
   "cell_type": "code",
   "execution_count": 8,
   "id": "a35fecaa",
   "metadata": {},
   "outputs": [
    {
     "data": {
      "text/plain": [
       "1339"
      ]
     },
     "execution_count": 8,
     "metadata": {},
     "output_type": "execute_result"
    }
   ],
   "source": [
    "c4.siguiente_codigo_de_serie"
   ]
  },
  {
   "cell_type": "markdown",
   "id": "ba8433e9",
   "metadata": {},
   "source": [
    "## Atributos de instancia vs Atributos de clase"
   ]
  },
  {
   "cell_type": "markdown",
   "id": "3766c0f6",
   "metadata": {},
   "source": [
    "Los atributos de instancia son aquellos cuyos valores son pertinentes a una única instancia de la clase.\n",
    "\n",
    "    - Se hace referencia a ellos mediante la palabra clave **self**.\n",
    "\n",
    "Los atributos de clase son aquellos cuyo valor es compartido por todas las intancias de una misma clase.\n",
    "\n",
    "    - Se hace referencia a ellos mediante el nombre de la clase."
   ]
  },
  {
   "cell_type": "code",
   "execution_count": 9,
   "id": "a66ae1dd",
   "metadata": {},
   "outputs": [],
   "source": [
    "class ContenedorDeMercancias:\n",
    "    \n",
    "    # Definición de atributos de clase\n",
    "    \n",
    "    siguiente_codigo_de_serie = 1337\n",
    "    \n",
    "    def __init__(self, codigo_propietario, contenidos):\n",
    "        \n",
    "        # Definición de atributos de instancia\n",
    "        \n",
    "        self.codigo_propietario = codigo_propietario\n",
    "        self.contenidos = contenidos\n",
    "        self.codigo_de_serie = ContenedorDeMercancias.siguiente_codigo_de_serie\n",
    "        \n",
    "        ContenedorDeMercancias.siguiente_codigo_de_serie += 1"
   ]
  },
  {
   "cell_type": "markdown",
   "id": "d8998933",
   "metadata": {},
   "source": [
    "La clase podría también haberse definido así:"
   ]
  },
  {
   "cell_type": "code",
   "execution_count": 10,
   "id": "1bc699c7",
   "metadata": {},
   "outputs": [],
   "source": [
    "class ContenedorDeMercancias:\n",
    "    \n",
    "    # Definición de atributos de clase\n",
    "    \n",
    "    siguiente_codigo_de_serie = 1337\n",
    "    \n",
    "    def __init__(self, codigo_propietario, contenidos):\n",
    "        \n",
    "        # Definición de atributos de instancia\n",
    "        \n",
    "        self.codigo_propietario = codigo_propietario\n",
    "        self.contenidos = contenidos\n",
    "        self.codigo_de_serie = self.siguiente_codigo_de_serie\n",
    "        \n",
    "        self.siguiente_codigo_de_serie += 1"
   ]
  },
  {
   "cell_type": "markdown",
   "id": "ed1d4679",
   "metadata": {},
   "source": [
    "Pero esto hace que no se diferencie bien entre los atributos de clase y los de instancia.\n",
    "\n",
    "Además existe un problema cuando lo definimos de esta forma.\n",
    "\n",
    "Cuando accedemos a un atributo de clase mediante la palabra clave **self**, lo que ocurre es que se crea un atributo de instancia con el valor que tenga el atributo de clase en ese momento.\n",
    "\n",
    "En este ejemplo, se crearía un atributo de instancia llamado **siguiente_codigo_de_serie** y su valor se incrementaría en uno posteriormente, pero el atributo de clase **siguiente_codigo_de_serie** permanecería igual.\n",
    "\n",
    "Aquí un ejemplo:"
   ]
  },
  {
   "cell_type": "code",
   "execution_count": 11,
   "id": "09f044c4",
   "metadata": {},
   "outputs": [],
   "source": [
    "c3 = ContenedorDeMercancias(\"ESC\", \"Electrodomésticos\")"
   ]
  },
  {
   "cell_type": "code",
   "execution_count": 12,
   "id": "7b58545e",
   "metadata": {},
   "outputs": [
    {
     "data": {
      "text/plain": [
       "1337"
      ]
     },
     "execution_count": 12,
     "metadata": {},
     "output_type": "execute_result"
    }
   ],
   "source": [
    "c3.codigo_de_serie"
   ]
  },
  {
   "cell_type": "code",
   "execution_count": 13,
   "id": "96ef0eb9",
   "metadata": {},
   "outputs": [
    {
     "data": {
      "text/plain": [
       "1338"
      ]
     },
     "execution_count": 13,
     "metadata": {},
     "output_type": "execute_result"
    }
   ],
   "source": [
    "c3.siguiente_codigo_de_serie"
   ]
  },
  {
   "cell_type": "code",
   "execution_count": 14,
   "id": "64424be1",
   "metadata": {},
   "outputs": [],
   "source": [
    "c4 = ContenedorDeMercancias(\"CAR\", \"Coche\")"
   ]
  },
  {
   "cell_type": "code",
   "execution_count": 15,
   "id": "e087fe71",
   "metadata": {},
   "outputs": [
    {
     "data": {
      "text/plain": [
       "1337"
      ]
     },
     "execution_count": 15,
     "metadata": {},
     "output_type": "execute_result"
    }
   ],
   "source": [
    "c4.codigo_de_serie"
   ]
  },
  {
   "cell_type": "code",
   "execution_count": 16,
   "id": "17237293",
   "metadata": {},
   "outputs": [
    {
     "data": {
      "text/plain": [
       "1338"
      ]
     },
     "execution_count": 16,
     "metadata": {},
     "output_type": "execute_result"
    }
   ],
   "source": [
    "c4.siguiente_codigo_de_serie"
   ]
  },
  {
   "cell_type": "markdown",
   "id": "c9333f32",
   "metadata": {},
   "source": [
    "Como podemos ver, el atributo de clase se convierte en un atributo de instancia y deja de estar compartido entre las diferentes clases.\n",
    "\n",
    "Por este motivo, la clase debe ser definida de la primera forma:"
   ]
  },
  {
   "cell_type": "code",
   "execution_count": 17,
   "id": "b408db58",
   "metadata": {},
   "outputs": [],
   "source": [
    "class ContenedorDeMercancias:\n",
    "    \n",
    "    # Definición de atributos de clase\n",
    "    \n",
    "    siguiente_codigo_de_serie = 1337\n",
    "    \n",
    "    def __init__(self, codigo_propietario, contenidos):\n",
    "        \n",
    "        # Definición de atributos de instancia\n",
    "        \n",
    "        self.codigo_propietario = codigo_propietario\n",
    "        self.contenidos = contenidos\n",
    "        self.codigo_de_serie = ContenedorDeMercancias.siguiente_codigo_de_serie\n",
    "        \n",
    "        ContenedorDeMercancias.siguiente_codigo_de_serie += 1"
   ]
  }
 ],
 "metadata": {
  "kernelspec": {
   "display_name": "Python 3 (ipykernel)",
   "language": "python",
   "name": "python3"
  },
  "language_info": {
   "codemirror_mode": {
    "name": "ipython",
    "version": 3
   },
   "file_extension": ".py",
   "mimetype": "text/x-python",
   "name": "python",
   "nbconvert_exporter": "python",
   "pygments_lexer": "ipython3",
   "version": "3.9.7"
  }
 },
 "nbformat": 4,
 "nbformat_minor": 5
}
