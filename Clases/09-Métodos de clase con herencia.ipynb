{
 "cells": [
  {
   "cell_type": "markdown",
   "id": "8f11c986",
   "metadata": {},
   "source": [
    "# Métodos de clase con herencia"
   ]
  },
  {
   "cell_type": "code",
   "execution_count": 1,
   "id": "5a482135",
   "metadata": {},
   "outputs": [],
   "source": [
    "import iso6346"
   ]
  },
  {
   "cell_type": "code",
   "execution_count": 2,
   "id": "5f610d40",
   "metadata": {},
   "outputs": [],
   "source": [
    "class ContenedorDeMercancias:\n",
    "    \n",
    "    # Definición de atributos de clase\n",
    "    \n",
    "    siguiente_codigo_de_serie = 1337\n",
    "    \n",
    "    @staticmethod\n",
    "    def _crear_codigo_BIC(codigo_propietario, codigo_de_serie):\n",
    "        return iso6346.create(\n",
    "        owner_code=codigo_propietario,\n",
    "        serial=str(codigo_de_serie).zfill(6))\n",
    "    \n",
    "    @classmethod\n",
    "    def _generar_codigo_de_serie(cls):\n",
    "        \n",
    "        resultado = cls.siguiente_codigo_de_serie \n",
    "        cls.siguiente_codigo_de_serie += 1\n",
    "        return resultado\n",
    "    \n",
    "    # Crea un contenedor vacío\n",
    "    @classmethod\n",
    "    def crear_contenedor_vacio(cls, codigo_propietario):\n",
    "        return cls(codigo_propietario, contenidos = [])\n",
    "    \n",
    "    # Crea un contenedor a partir de un codigo de propietario y unos items\n",
    "    @classmethod\n",
    "    def crear_contenedor_con_elementos(cls, codigo_propietario, contenidos):\n",
    "        return cls(codigo_propietario, list(contenidos))\n",
    "        \n",
    "    \n",
    "    def __init__(self, codigo_propietario, contenidos):\n",
    "        \n",
    "        # Definición de atributos de instancia\n",
    "        \n",
    "        self.codigo_propietario = codigo_propietario\n",
    "        self.contenidos = contenidos\n",
    "        self.bic = ContenedorDeMercancias._crear_codigo_BIC(\n",
    "            codigo_propietario=codigo_propietario,\n",
    "            codigo_de_serie=ContenedorDeMercancias._generar_codigo_de_serie()\n",
    "        )"
   ]
  },
  {
   "cell_type": "markdown",
   "id": "a92b406f",
   "metadata": {},
   "source": [
    "Los métodos de clase definidos en la clase base van a ser heredados por las subclases.\n",
    "\n",
    "Además, los argumentos cls de dichos métodos van a ser establecidos de forma apropiada.\n",
    "\n",
    "Veamos un ejemplo:"
   ]
  },
  {
   "cell_type": "code",
   "execution_count": 3,
   "id": "9941acd6",
   "metadata": {},
   "outputs": [],
   "source": [
    "class ContenedorDeMercanciasRefrigerado(ContenedorDeMercancias):\n",
    "    \n",
    "    @staticmethod\n",
    "    def _crear_codigo_bic(codigo_propietario, codigo_de_serie):\n",
    "        return iso6346.create(\n",
    "        owner_code=codigo_propietario,\n",
    "        serial=str(codigo_de_serie).zfill(6),\n",
    "        category=\"R\")"
   ]
  },
  {
   "cell_type": "code",
   "execution_count": 4,
   "id": "0091c4a0",
   "metadata": {},
   "outputs": [],
   "source": [
    "r1 = ContenedorDeMercanciasRefrigerado.crear_contenedor_vacio(\"YML\")"
   ]
  },
  {
   "cell_type": "code",
   "execution_count": 5,
   "id": "95747be8",
   "metadata": {},
   "outputs": [
    {
     "data": {
      "text/plain": [
       "<__main__.ContenedorDeMercanciasRefrigerado at 0x27baeba1dc0>"
      ]
     },
     "execution_count": 5,
     "metadata": {},
     "output_type": "execute_result"
    }
   ],
   "source": [
    "r1"
   ]
  },
  {
   "cell_type": "markdown",
   "id": "6542d030",
   "metadata": {},
   "source": [
    "Como podemos ver, el contenedor creado es del tipo de la subclase, ya que ha heredado el método de clase y cls ha sido sustituido por el nombre de la subclase a la hora de llamar al método.\n",
    "\n",
    "El otro método factory funciona igual:"
   ]
  },
  {
   "cell_type": "code",
   "execution_count": 6,
   "id": "21fcc0c3",
   "metadata": {},
   "outputs": [],
   "source": [
    "r2 = ContenedorDeMercanciasRefrigerado.crear_contenedor_con_elementos(\"YML\", [\"fish\"])"
   ]
  },
  {
   "cell_type": "code",
   "execution_count": 7,
   "id": "639c85e9",
   "metadata": {},
   "outputs": [
    {
     "data": {
      "text/plain": [
       "<__main__.ContenedorDeMercanciasRefrigerado at 0x27baeb13760>"
      ]
     },
     "execution_count": 7,
     "metadata": {},
     "output_type": "execute_result"
    }
   ],
   "source": [
    "r2"
   ]
  },
  {
   "cell_type": "markdown",
   "id": "8a3d94d7",
   "metadata": {},
   "source": [
    "Ahora vamos a añadir una temperatura para cada contenedor refrigerado como un atributo de instancia."
   ]
  },
  {
   "cell_type": "code",
   "execution_count": 8,
   "id": "5edd02fd",
   "metadata": {},
   "outputs": [],
   "source": [
    "class ContenedorDeMercanciasRefrigerado(ContenedorDeMercancias):\n",
    "    \n",
    "    MAX_CELSIUS: 4.0\n",
    "        \n",
    "    def __init__(self, codigo_propietario, contenidos, celsius):\n",
    "        super().__init__(codigo_propietario, contenidos)\n",
    "        \n",
    "        if celsius > ContenedorDeMercanciasRefrigerado.MAX_CELSIUS:\n",
    "            raise ValueError(\"La temperatura es demasiado alta\")\n",
    "        \n",
    "        self.celsius = celsius\n",
    "    \n",
    "    @staticmethod\n",
    "    def _crear_codigo_bic(codigo_propietario, codigo_de_serie):\n",
    "        return iso6346.create(\n",
    "        owner_code=codigo_propietario,\n",
    "        serial=str(codigo_de_serie).zfill(6),\n",
    "        category=\"R\")"
   ]
  },
  {
   "cell_type": "code",
   "execution_count": 9,
   "id": "7feb1067",
   "metadata": {},
   "outputs": [
    {
     "name": "stdout",
     "output_type": "stream",
     "text": [
      "__init__() missing 1 required positional argument: 'celsius'\n"
     ]
    }
   ],
   "source": [
    "try:\n",
    "    r3 = ContenedorDeMercanciasRefrigerado.crear_contenedor_con_elementos(\"YML\", [\"fish\"])\n",
    "except Exception as error:\n",
    "    print(error)"
   ]
  },
  {
   "cell_type": "markdown",
   "id": "5aa0f7fa",
   "metadata": {},
   "source": [
    "El problema está en que ahora los métodos factory no sirven, ya que el inicializador de la subclase ha cambiado y requiere de un argumento adicional: **celsius**.\n",
    "\n",
    "Sin embargo, esto puede ser resuelto usando **kwargs**. \n",
    "\n",
    "Vamos a añadirlo al inicializador de la clase base y por lo tanto modificar su uso en los dos métodos de clase factory:"
   ]
  },
  {
   "cell_type": "code",
   "execution_count": 10,
   "id": "befd6a1e",
   "metadata": {},
   "outputs": [],
   "source": [
    "class ContenedorDeMercancias:\n",
    "    \n",
    "    # Definición de atributos de clase\n",
    "    \n",
    "    siguiente_codigo_de_serie = 1337\n",
    "    \n",
    "    @staticmethod\n",
    "    def _crear_codigo_BIC(codigo_propietario, codigo_de_serie):\n",
    "        return iso6346.create(\n",
    "        owner_code=codigo_propietario,\n",
    "        serial=str(codigo_de_serie).zfill(6))\n",
    "    \n",
    "    @classmethod\n",
    "    def _generar_codigo_de_serie(cls):\n",
    "        \n",
    "        resultado = cls.siguiente_codigo_de_serie \n",
    "        cls.siguiente_codigo_de_serie += 1\n",
    "        return resultado\n",
    "    \n",
    "    # Crea un contenedor vacío\n",
    "    @classmethod\n",
    "    def crear_contenedor_vacio(cls, codigo_propietario, **kwargs):\n",
    "        return cls(codigo_propietario, contenidos = [], **kwargs)\n",
    "    \n",
    "    # Crea un contenedor a partir de un codigo de propietario y unos items\n",
    "    @classmethod\n",
    "    def crear_contenedor_con_elementos(cls, codigo_propietario, contenidos, **kwargs):\n",
    "        return cls(codigo_propietario, list(contenidos), **kwargs)\n",
    "        \n",
    "    \n",
    "    def __init__(self, codigo_propietario, contenidos, **kwargs):\n",
    "        \n",
    "        # Definición de atributos de instancia\n",
    "        \n",
    "        self.codigo_propietario = codigo_propietario\n",
    "        self.contenidos = contenidos\n",
    "        self.bic = ContenedorDeMercancias._crear_codigo_BIC(\n",
    "            codigo_propietario=codigo_propietario,\n",
    "            codigo_de_serie=ContenedorDeMercancias._generar_codigo_de_serie()\n",
    "        )"
   ]
  },
  {
   "cell_type": "markdown",
   "id": "77ab948c",
   "metadata": {},
   "source": [
    "También vamos a modificar el inicializador de la subclase para obligar a **celsius** a ser un argumento de clave obligatoriamente:"
   ]
  },
  {
   "cell_type": "code",
   "execution_count": 11,
   "id": "2e769d4a",
   "metadata": {},
   "outputs": [],
   "source": [
    "class ContenedorDeMercanciasRefrigerado(ContenedorDeMercancias):\n",
    "    \n",
    "    MAX_CELSIUS = 4.0\n",
    "        \n",
    "    def __init__(self, codigo_propietario, contenidos, *, celsius, **kwargs):\n",
    "        super().__init__(codigo_propietario, contenidos, **kwargs)\n",
    "        \n",
    "        if celsius > ContenedorDeMercanciasRefrigerado.MAX_CELSIUS:\n",
    "            raise ValueError(\"La temperatura es demasiado alta\")\n",
    "        \n",
    "        self.celsius = celsius\n",
    "    \n",
    "    @staticmethod\n",
    "    def _crear_codigo_bic(codigo_propietario, codigo_de_serie):\n",
    "        return iso6346.create(\n",
    "        owner_code=codigo_propietario,\n",
    "        serial=str(codigo_de_serie).zfill(6),\n",
    "        category=\"R\")"
   ]
  },
  {
   "cell_type": "markdown",
   "id": "02ed04ef",
   "metadata": {},
   "source": [
    "Ahora, el argumento celsius va a ser aceptado por el constructor de la subclase y enviado al constructor de la clase base, que se encuentra dentro del anterior"
   ]
  },
  {
   "cell_type": "code",
   "execution_count": 12,
   "id": "61a9069f",
   "metadata": {},
   "outputs": [],
   "source": [
    "try:\n",
    "    r3 = ContenedorDeMercanciasRefrigerado.crear_contenedor_con_elementos(\"YML\", [\"fish\"], celsius=2.0)\n",
    "except Exception as error:\n",
    "    print(error)"
   ]
  },
  {
   "cell_type": "code",
   "execution_count": 13,
   "id": "9be00794",
   "metadata": {},
   "outputs": [
    {
     "data": {
      "text/plain": [
       "<__main__.ContenedorDeMercanciasRefrigerado at 0x27baebf2be0>"
      ]
     },
     "execution_count": 13,
     "metadata": {},
     "output_type": "execute_result"
    }
   ],
   "source": [
    "r3"
   ]
  },
  {
   "cell_type": "code",
   "execution_count": 14,
   "id": "3443654a",
   "metadata": {},
   "outputs": [
    {
     "data": {
      "text/plain": [
       "2.0"
      ]
     },
     "execution_count": 14,
     "metadata": {},
     "output_type": "execute_result"
    }
   ],
   "source": [
    "r3.celsius"
   ]
  },
  {
   "cell_type": "code",
   "execution_count": 15,
   "id": "87652d48",
   "metadata": {},
   "outputs": [
    {
     "data": {
      "text/plain": [
       "'YMLU0013374'"
      ]
     },
     "execution_count": 15,
     "metadata": {},
     "output_type": "execute_result"
    }
   ],
   "source": [
    "r3.bic"
   ]
  },
  {
   "cell_type": "markdown",
   "id": "a0d7bd6f",
   "metadata": {},
   "source": [
    "Sin embargo, el diseño que hemos hecho de la clase tiene un problema, y es que nos permite saltarnos la restricción asociada a la temperatura:"
   ]
  },
  {
   "cell_type": "code",
   "execution_count": 16,
   "id": "eec0fb99",
   "metadata": {},
   "outputs": [],
   "source": [
    "r3.celsius = 11"
   ]
  },
  {
   "cell_type": "code",
   "execution_count": 17,
   "id": "60acccdf",
   "metadata": {},
   "outputs": [
    {
     "data": {
      "text/plain": [
       "11"
      ]
     },
     "execution_count": 17,
     "metadata": {},
     "output_type": "execute_result"
    }
   ],
   "source": [
    "r3.celsius"
   ]
  },
  {
   "cell_type": "markdown",
   "id": "20ded3b4",
   "metadata": {},
   "source": [
    "Esto lo solucionaremos en el próximo notebook, donde veremos las ***properties***."
   ]
  }
 ],
 "metadata": {
  "kernelspec": {
   "display_name": "Python 3 (ipykernel)",
   "language": "python",
   "name": "python3"
  },
  "language_info": {
   "codemirror_mode": {
    "name": "ipython",
    "version": 3
   },
   "file_extension": ".py",
   "mimetype": "text/x-python",
   "name": "python",
   "nbconvert_exporter": "python",
   "pygments_lexer": "ipython3",
   "version": "3.9.7"
  }
 },
 "nbformat": 4,
 "nbformat_minor": 5
}
