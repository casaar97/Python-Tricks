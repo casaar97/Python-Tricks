{
 "cells": [
  {
   "cell_type": "markdown",
   "id": "10daa327",
   "metadata": {},
   "source": [
    "# Herencia"
   ]
  },
  {
   "cell_type": "markdown",
   "id": "f2e0ff8e",
   "metadata": {},
   "source": [
    "La herencia en la programación orientada a objetos es una forma de organizar los objetos en una jerarquía desde lo más general hasta lo más específico. Es la forma de extender una clase en otra clase, conservando una ejecución análoga.\n",
    "\n",
    "Vamos a extender la clase Persona a la clase alumno."
   ]
  },
  {
   "cell_type": "markdown",
   "id": "23bad81a",
   "metadata": {},
   "source": [
    "Primero definimos la clase persona:"
   ]
  },
  {
   "cell_type": "code",
   "execution_count": 1,
   "id": "cbef538c",
   "metadata": {},
   "outputs": [],
   "source": [
    "class Persona:\n",
    "    \n",
    "    def __init__(self, nombre):\n",
    "        \n",
    "        if not isinstance(nombre, str):\n",
    "            raise ValueError(\"El nombre de la persona debe ser de tipo String.\")\n",
    "            \n",
    "        self._nombre = nombre\n",
    "        \n",
    "    def nombre(self):\n",
    "        return self._nombre"
   ]
  },
  {
   "cell_type": "markdown",
   "id": "cf06598e",
   "metadata": {},
   "source": [
    "Ahora vamos a definir la clase Alumno, indicando en la definición del nombre que se extiende la definición de la clase Persona:"
   ]
  },
  {
   "cell_type": "code",
   "execution_count": 2,
   "id": "3667880a",
   "metadata": {},
   "outputs": [],
   "source": [
    "class Alumno(Persona):\n",
    "    \n",
    "    def __init__(self, nombre, curso):\n",
    "        \n",
    "        super().__init__(nombre)\n",
    "            \n",
    "        if not isinstance(curso, str):\n",
    "            raise ValueError(\"El nombre del curso debe ser de tipo String.\")\n",
    "            \n",
    "        self._curso = curso\n",
    "        \n",
    "    def curso(self):\n",
    "        return self._curso"
   ]
  },
  {
   "cell_type": "markdown",
   "id": "3c52a6af",
   "metadata": {},
   "source": [
    "Lo que hemos indicado es que un objeto de la clase Alumno, es a su vez de la clase Persona. \n",
    "\n",
    "Esto es cierto ya que un alumno en este contexto es una persona.\n",
    "\n",
    "Lo que esto significa es que ahora podemos usar todos los métodos y variables definidas en la clase Persona dentro de nuestra clase Alumno:"
   ]
  },
  {
   "cell_type": "code",
   "execution_count": 3,
   "id": "91a3cdbf",
   "metadata": {},
   "outputs": [],
   "source": [
    "alumno1 = Alumno(\"Juan\",\"2A\")"
   ]
  },
  {
   "cell_type": "code",
   "execution_count": 4,
   "id": "21338742",
   "metadata": {},
   "outputs": [
    {
     "data": {
      "text/plain": [
       "'Juan'"
      ]
     },
     "execution_count": 4,
     "metadata": {},
     "output_type": "execute_result"
    }
   ],
   "source": [
    "alumno1.nombre()"
   ]
  },
  {
   "cell_type": "code",
   "execution_count": 5,
   "id": "56e445cb",
   "metadata": {},
   "outputs": [
    {
     "data": {
      "text/plain": [
       "'2A'"
      ]
     },
     "execution_count": 5,
     "metadata": {},
     "output_type": "execute_result"
    }
   ],
   "source": [
    "alumno1.curso()"
   ]
  }
 ],
 "metadata": {
  "kernelspec": {
   "display_name": "Python 3 (ipykernel)",
   "language": "python",
   "name": "python3"
  },
  "language_info": {
   "codemirror_mode": {
    "name": "ipython",
    "version": 3
   },
   "file_extension": ".py",
   "mimetype": "text/x-python",
   "name": "python",
   "nbconvert_exporter": "python",
   "pygments_lexer": "ipython3",
   "version": "3.9.7"
  }
 },
 "nbformat": 4,
 "nbformat_minor": 5
}
