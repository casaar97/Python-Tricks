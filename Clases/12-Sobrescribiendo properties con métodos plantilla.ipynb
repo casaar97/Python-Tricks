{
 "cells": [
  {
   "cell_type": "markdown",
   "id": "c4586798",
   "metadata": {},
   "source": [
    "# Sobrescribiendo properties con métodos plantilla"
   ]
  },
  {
   "cell_type": "code",
   "execution_count": 1,
   "id": "f8e9518b",
   "metadata": {},
   "outputs": [],
   "source": [
    "import iso6346"
   ]
  },
  {
   "cell_type": "markdown",
   "id": "f75c8dd2",
   "metadata": {},
   "source": [
    "## Método plantilla"
   ]
  },
  {
   "cell_type": "markdown",
   "id": "a77a6ec5",
   "metadata": {},
   "source": [
    "Como vimos en el notebook anterior, sobrescribir property getters y setters puede ser bastante lioso sintácticamente.\n",
    "\n",
    "En este notebook vamos a emplear un patrón de diseño estándar llamado **método plantilla**."
   ]
  },
  {
   "cell_type": "markdown",
   "id": "0bbfb5c8",
   "metadata": {},
   "source": [
    "## Property getter"
   ]
  },
  {
   "cell_type": "markdown",
   "id": "92088671",
   "metadata": {},
   "source": [
    "Para hacer esto, vamos a meter los cálculos del volumen en un nuevo método llamado **_calcular_volumen**:"
   ]
  },
  {
   "cell_type": "code",
   "execution_count": 2,
   "id": "3b6fe436",
   "metadata": {},
   "outputs": [],
   "source": [
    "class ContenedorDeMercancias:\n",
    "    \n",
    "    # Definición de constantes de clase\n",
    "    \n",
    "    ALTURA = 8.5\n",
    "    ANCHURA = 8.0\n",
    "    \n",
    "    # Definición de atributos de clase\n",
    "    \n",
    "    siguiente_codigo_de_serie = 1337\n",
    "    \n",
    "    @staticmethod\n",
    "    def _crear_codigo_BIC(codigo_propietario, codigo_de_serie):\n",
    "        return iso6346.create(\n",
    "        owner_code=codigo_propietario,\n",
    "        serial=str(codigo_de_serie).zfill(6))\n",
    "    \n",
    "    @classmethod\n",
    "    def _generar_codigo_de_serie(cls):\n",
    "        \n",
    "        resultado = cls.siguiente_codigo_de_serie \n",
    "        cls.siguiente_codigo_de_serie += 1\n",
    "        return resultado\n",
    "    \n",
    "    # Crea un contenedor vacío\n",
    "    @classmethod\n",
    "    def crear_contenedor_vacio(cls, codigo_propietario, longitud, **kwargs):\n",
    "        return cls(codigo_propietario, longitud, contenidos = [], **kwargs)\n",
    "    \n",
    "    # Crea un contenedor a partir de un codigo de propietario y unos items\n",
    "    @classmethod\n",
    "    def crear_contenedor_con_elementos(cls, codigo_propietario, longitud, contenidos, **kwargs):\n",
    "        return cls(codigo_propietario, longitud, list(contenidos), **kwargs)\n",
    "        \n",
    "    \n",
    "    def __init__(self, codigo_propietario, longitud, contenidos, **kwargs):\n",
    "        \n",
    "        # Definición de atributos de instancia\n",
    "        \n",
    "        self.codigo_propietario = codigo_propietario\n",
    "        self.longitud = longitud\n",
    "        self.contenidos = contenidos\n",
    "        self.bic = ContenedorDeMercancias._crear_codigo_BIC(\n",
    "            codigo_propietario=codigo_propietario,\n",
    "            codigo_de_serie=ContenedorDeMercancias._generar_codigo_de_serie()\n",
    "        )\n",
    "        \n",
    "    \n",
    "    @property\n",
    "    def volumen(self):\n",
    "        return self._calcular_volumen()\n",
    "    \n",
    "    # Añadimos este nuevo método\n",
    "    \n",
    "    def _calcular_volumen(self):\n",
    "        return ContenedorDeMercancias.ALTURA * ContenedorDeMercancias.ANCHURA * self.longitud"
   ]
  },
  {
   "cell_type": "markdown",
   "id": "63ec1319",
   "metadata": {},
   "source": [
    "Ahora vamos a cambiar el property getter **volumen** a un método normal también llamado **_calcular_volumen**, sobrescribiendo el de la clase base que acabamos de definir:"
   ]
  },
  {
   "cell_type": "code",
   "execution_count": 3,
   "id": "420a09d2",
   "metadata": {},
   "outputs": [],
   "source": [
    "class ContenedorDeMercanciasRefrigerado(ContenedorDeMercancias):\n",
    "    \n",
    "    MAX_CELSIUS = 4.0\n",
    "    VOLUMEN_MAQUINA_REFRIGERADORA = 100\n",
    "        \n",
    "    def __init__(self, codigo_propietario, longitud, contenidos, *, celsius, **kwargs):\n",
    "        super().__init__(codigo_propietario, longitud, contenidos, **kwargs)\n",
    "        \n",
    "        if celsius > ContenedorDeMercanciasRefrigerado.MAX_CELSIUS:\n",
    "            raise ValueError(\"La temperatura es demasiado alta\")\n",
    "        \n",
    "        # Renombramos _celsius a celsius, autoencapsulándolo y accediendo a través de su property\n",
    "        \n",
    "        self.celsius = celsius\n",
    "        \n",
    "    # Creamos estos dos métodos para pasar de celsius a farenheit y viceversa\n",
    "    \n",
    "    @staticmethod\n",
    "    def _celsius_to_farenheit(celsius):\n",
    "        return celsius * 9/5 + 32\n",
    "    \n",
    "    @staticmethod\n",
    "    def _farenheit_to_celsius(farenheit):\n",
    "        return (farenheit -32) * 5/9 \n",
    "    \n",
    "    @property\n",
    "    def celsius(self):\n",
    "        return self._celsius\n",
    "    \n",
    "    @celsius.setter\n",
    "    def celsius(self, valor):\n",
    "        \n",
    "        if valor > ContenedorDeMercanciasRefrigerado.MAX_CELSIUS:\n",
    "            raise ValueError(\"La temperatura es demasiado alta\")\n",
    "            \n",
    "        self._celsius = valor\n",
    "        \n",
    "    # Creamos los getter y setter de farenheit\n",
    "    \n",
    "    @property\n",
    "    def farenheit(self):\n",
    "        return ContenedorDeMercanciasRefrigerado._celsius_to_farenheit(self.celsius)\n",
    "    \n",
    "    @farenheit.setter\n",
    "    def farenheit(self, value):\n",
    "        self.celsius = ContenedorDeMercanciasRefrigerado._farenheit_to_celsius(value)\n",
    "    \n",
    "    @staticmethod\n",
    "    def _crear_codigo_bic(codigo_propietario, codigo_de_serie):\n",
    "        return iso6346.create(\n",
    "        owner_code=codigo_propietario,\n",
    "        serial=str(codigo_de_serie).zfill(6),\n",
    "        category=\"R\")\n",
    "    \n",
    "    \"\"\"\n",
    "    Sustituimos este property getter por _calcular_volumen\n",
    "    \n",
    "    @property\n",
    "    def volumen(self):\n",
    "        return super().volumen - ContenedorDeMercanciasRefrigerado.VOLUMEN_MAQUINA_REFRIGERADORA\n",
    "    \"\"\"\n",
    "    \n",
    "    def _calcular_volumen(self):\n",
    "        return super()._calcular_volumen() - ContenedorDeMercanciasRefrigerado.VOLUMEN_MAQUINA_REFRIGERADORA"
   ]
  },
  {
   "cell_type": "markdown",
   "id": "28a10bd6",
   "metadata": {},
   "source": [
    "Gracias a este cambio, ahora cuando llamemos a volumen se ejecutará el property getter heredado de la clase base, que lo que hará será llamar al método **_calcular_volumen** de la propia clase gracias a **self**, evitando así tener que sobrescribir el property getter.\n",
    "\n",
    "Por tener un ejemplo visual, ocurriría lo siguiente:"
   ]
  },
  {
   "cell_type": "code",
   "execution_count": 4,
   "id": "e50e7819",
   "metadata": {},
   "outputs": [
    {
     "data": {
      "text/plain": [
       "544.0"
      ]
     },
     "execution_count": 4,
     "metadata": {},
     "output_type": "execute_result"
    }
   ],
   "source": [
    "c = ContenedorDeMercancias.crear_contenedor_vacio(\"YML\", longitud=8.0, celsius=0)\n",
    "\n",
    "c.volumen"
   ]
  },
  {
   "cell_type": "code",
   "execution_count": 5,
   "id": "716fd43b",
   "metadata": {},
   "outputs": [
    {
     "data": {
      "text/plain": [
       "444.0"
      ]
     },
     "execution_count": 5,
     "metadata": {},
     "output_type": "execute_result"
    }
   ],
   "source": [
    "r = ContenedorDeMercanciasRefrigerado.crear_contenedor_vacio(\"YML\", longitud=8.0, celsius=0)\n",
    "\n",
    "r.volumen"
   ]
  },
  {
   "cell_type": "markdown",
   "id": "17b7f6d2",
   "metadata": {},
   "source": [
    "**1.** Se ha llamado a ContenedorDeMercanciasRefrigerado.volumen, property getter heredado de la clase ContenedorDeMercancias\n",
    "    \n",
    "**2.** Este método ha devuelto self._calcular_volumen, que es ContenedorDeMercanciasRefrigerado._calcular_volumen\n",
    "\n",
    "**3.** Se devuelve ContenedorDeMercancias._calcular_volumen - VOLUMEN_MAQUINA_REFRIGERADORA\n",
    "\n",
    "### Resumen\n",
    "\n",
    "Basicamente el método plantilla consiste en, en lugar de hacer los calculos en el property getter, realizarlos en un método adicional/plantilla. Dicho método será invocado por el property getter y sobrescrito para cada clase hija.\n",
    "\n",
    "Como el property getter será heredado por cada una de las clases hija, todas podrán utilizarlo de forma homogénea, pero cada una de ellas ejecutará el método plantilla sobrescrito de forma específica para cada una de ellas. \n",
    "\n",
    "Todo esto sin necesidad de sobrescribir el property getter de ninguna forma."
   ]
  },
  {
   "cell_type": "markdown",
   "id": "65e1f7b0",
   "metadata": {},
   "source": [
    "## Property setter"
   ]
  },
  {
   "cell_type": "markdown",
   "id": "27f0d639",
   "metadata": {},
   "source": [
    "Podemos utilizar la misma lógica para sobrescribir el property setter.\n",
    "\n",
    "Esta vez lo haremos con el setter de celsius, que es el único que habíamos definido con una property.\n",
    "\n",
    "Para ello, usaremos el método plantilla **_set_celsius**:"
   ]
  },
  {
   "cell_type": "code",
   "execution_count": 6,
   "id": "19088d65",
   "metadata": {},
   "outputs": [],
   "source": [
    "class ContenedorDeMercanciasRefrigerado(ContenedorDeMercancias):\n",
    "    \n",
    "    MAX_CELSIUS = 4.0\n",
    "    VOLUMEN_MAQUINA_REFRIGERADORA = 100\n",
    "        \n",
    "    def __init__(self, codigo_propietario, longitud, contenidos, *, celsius, **kwargs):\n",
    "        super().__init__(codigo_propietario, longitud, contenidos, **kwargs)\n",
    "        \n",
    "        if celsius > ContenedorDeMercanciasRefrigerado.MAX_CELSIUS:\n",
    "            raise ValueError(\"La temperatura es demasiado alta\")\n",
    "        \n",
    "        # Renombramos _celsius a celsius, autoencapsulándolo y accediendo a través de su property\n",
    "        \n",
    "        self.celsius = celsius\n",
    "        \n",
    "    # Creamos estos dos métodos para pasar de celsius a farenheit y viceversa\n",
    "    \n",
    "    @staticmethod\n",
    "    def _celsius_to_farenheit(celsius):\n",
    "        return celsius * 9/5 + 32\n",
    "    \n",
    "    @staticmethod\n",
    "    def _farenheit_to_celsius(farenheit):\n",
    "        return (farenheit -32) * 5/9 \n",
    "    \n",
    "    @property\n",
    "    def celsius(self):\n",
    "        return self._celsius\n",
    "    \n",
    "    \"\"\"\n",
    "    Sustituimos este setter por el siguiente código\n",
    "    \n",
    "    @celsius.setter\n",
    "    def celsius(self, valor):\n",
    "        \n",
    "        if valor > ContenedorDeMercanciasRefrigerado.MAX_CELSIUS:\n",
    "            raise ValueError(\"La temperatura es demasiado alta\")\n",
    "            \n",
    "        self._celsius = valor\n",
    "    \"\"\"\n",
    "    \n",
    "    @celsius.setter\n",
    "    def celsius(self, valor):\n",
    "        return self._set_celsius(valor)\n",
    "    \n",
    "    def _set_celsius(self, valor):\n",
    "        \n",
    "        if valor > ContenedorDeMercanciasRefrigerado.MAX_CELSIUS:\n",
    "            raise ValueError(\"La temperatura es demasiado alta\")\n",
    "            \n",
    "        self._celsius = valor\n",
    "    \n",
    "        \n",
    "    # Creamos los getter y setter de farenheit\n",
    "    \n",
    "    @property\n",
    "    def farenheit(self):\n",
    "        return ContenedorDeMercanciasRefrigerado._celsius_to_farenheit(self.celsius)\n",
    "    \n",
    "    @farenheit.setter\n",
    "    def farenheit(self, value):\n",
    "        self.celsius = ContenedorDeMercanciasRefrigerado._farenheit_to_celsius(value)\n",
    "    \n",
    "    @staticmethod\n",
    "    def _crear_codigo_bic(codigo_propietario, codigo_de_serie):\n",
    "        return iso6346.create(\n",
    "        owner_code=codigo_propietario,\n",
    "        serial=str(codigo_de_serie).zfill(6),\n",
    "        category=\"R\")\n",
    "    \n",
    "    def _calcular_volumen(self):\n",
    "        return super()._calcular_volumen() - ContenedorDeMercanciasRefrigerado.VOLUMEN_MAQUINA_REFRIGERADORA"
   ]
  },
  {
   "cell_type": "markdown",
   "id": "1d22d8ed",
   "metadata": {},
   "source": [
    "Ahora podemos eliminar la sintaxis liosa a la hora de sobrescribir el setter:"
   ]
  },
  {
   "cell_type": "code",
   "execution_count": 7,
   "id": "d27eb87e",
   "metadata": {},
   "outputs": [],
   "source": [
    "class ContenedorDeMercanciasRefrigeradoConCalefaccion(ContenedorDeMercanciasRefrigerado):\n",
    "    \n",
    "    MIN_CELSIUS = -20.0\n",
    "    \n",
    "    \"\"\"\n",
    "    En lugar del codigo comentado abajo, sobreescribimos el método plantilla _set_celsius\n",
    "    \n",
    "    @ContenedorDeMercanciasRefrigerado.celsius.setter\n",
    "    def celsius(self, valor):\n",
    "        \n",
    "        if valor < ContenedorDeMercanciasRefrigeradoConCalefaccion.MIN_CELSIUS:\n",
    "            raise ValueError(\"La temperatura es demasiado baja\")\n",
    "            \n",
    "        ContenedorDeMercanciasRefrigerado.celsius.fset(self, valor)\n",
    "    \"\"\"\n",
    "        \n",
    "    def _set_celsius(self, valor):\n",
    "        \n",
    "        if valor < ContenedorDeMercanciasRefrigeradoConCalefaccion.MIN_CELSIUS:\n",
    "            raise ValueError(\"La temperatura es demasiado baja\")\n",
    "            \n",
    "        super()._set_celsius(valor)"
   ]
  },
  {
   "cell_type": "markdown",
   "id": "9fd2431e",
   "metadata": {},
   "source": [
    "A continuación podemos comprobar como funciona correctamente:"
   ]
  },
  {
   "cell_type": "code",
   "execution_count": 8,
   "id": "3c657a5d",
   "metadata": {},
   "outputs": [
    {
     "data": {
      "text/plain": [
       "0"
      ]
     },
     "execution_count": 8,
     "metadata": {},
     "output_type": "execute_result"
    }
   ],
   "source": [
    "try:\n",
    "    h = ContenedorDeMercanciasRefrigeradoConCalefaccion.crear_contenedor_vacio(\"YML\", longitud=8.0, celsius=0)\n",
    "    \n",
    "except ValueError as error:\n",
    "    print(error)\n",
    "    \n",
    "h.celsius"
   ]
  },
  {
   "cell_type": "code",
   "execution_count": 9,
   "id": "1caec04e",
   "metadata": {},
   "outputs": [
    {
     "name": "stdout",
     "output_type": "stream",
     "text": [
      "La temperatura es demasiado baja\n"
     ]
    }
   ],
   "source": [
    "try:\n",
    "    h = ContenedorDeMercanciasRefrigeradoConCalefaccion.crear_contenedor_vacio(\"YML\", longitud=8.0, celsius=-30)\n",
    "    \n",
    "except ValueError as error:\n",
    "    print(error)"
   ]
  },
  {
   "cell_type": "code",
   "execution_count": 10,
   "id": "cd804fd7",
   "metadata": {},
   "outputs": [
    {
     "name": "stdout",
     "output_type": "stream",
     "text": [
      "La temperatura es demasiado alta\n"
     ]
    }
   ],
   "source": [
    "try:\n",
    "    h = ContenedorDeMercanciasRefrigeradoConCalefaccion.crear_contenedor_vacio(\"YML\", longitud=8.0, celsius=20)\n",
    "    \n",
    "except ValueError as error:\n",
    "    print(error)"
   ]
  },
  {
   "cell_type": "markdown",
   "id": "53bb888c",
   "metadata": {},
   "source": [
    "Y aquí podemos ver como el property getter también funciona correctamente:"
   ]
  },
  {
   "cell_type": "code",
   "execution_count": 11,
   "id": "d50ec123",
   "metadata": {},
   "outputs": [
    {
     "data": {
      "text/plain": [
       "544.0"
      ]
     },
     "execution_count": 11,
     "metadata": {},
     "output_type": "execute_result"
    }
   ],
   "source": [
    "c.volumen"
   ]
  },
  {
   "cell_type": "code",
   "execution_count": 12,
   "id": "86b1af4f",
   "metadata": {},
   "outputs": [
    {
     "data": {
      "text/plain": [
       "444.0"
      ]
     },
     "execution_count": 12,
     "metadata": {},
     "output_type": "execute_result"
    }
   ],
   "source": [
    "r.volumen"
   ]
  },
  {
   "cell_type": "code",
   "execution_count": 13,
   "id": "9e0006a4",
   "metadata": {},
   "outputs": [
    {
     "data": {
      "text/plain": [
       "444.0"
      ]
     },
     "execution_count": 13,
     "metadata": {},
     "output_type": "execute_result"
    }
   ],
   "source": [
    "h.volumen"
   ]
  }
 ],
 "metadata": {
  "kernelspec": {
   "display_name": "Python 3 (ipykernel)",
   "language": "python",
   "name": "python3"
  },
  "language_info": {
   "codemirror_mode": {
    "name": "ipython",
    "version": 3
   },
   "file_extension": ".py",
   "mimetype": "text/x-python",
   "name": "python",
   "nbconvert_exporter": "python",
   "pygments_lexer": "ipython3",
   "version": "3.9.7"
  }
 },
 "nbformat": 4,
 "nbformat_minor": 5
}
