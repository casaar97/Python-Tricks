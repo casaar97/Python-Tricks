{
 "cells": [
  {
   "cell_type": "markdown",
   "id": "99c3852e",
   "metadata": {},
   "source": [
    "# Polimorfismo"
   ]
  },
  {
   "cell_type": "markdown",
   "id": "17b5954b",
   "metadata": {},
   "source": [
    "El polimorfismo consiste en usar objetos de diferentes tipos a través de una misma interfaz uniforme.\n",
    "\n",
    "Se aplica tanto a funciones como a tipos mas complejos."
   ]
  },
  {
   "cell_type": "markdown",
   "id": "77dcabd0",
   "metadata": {},
   "source": [
    "En los lenguajes de programación orientados a objetos, se conoce como **duck typing o tipado pato** el estilo de tipificación dinámica de datos en que el conjunto actual de métodos y propiedades determina la validez semántica, en vez de que lo hagan la herencia de una clase en particular o la implementación de una interfaz específica."
   ]
  },
  {
   "cell_type": "markdown",
   "id": "3853ab7b",
   "metadata": {},
   "source": [
    "Esto basicamente quiere decir que, como Python es dinámico y no tipado, los valores se van asignando a las variables de forma dinámica y si al asignarse no da ningún problema sigue funcionando, en lugar de comprobar a priori si los tipos se corresponden de forma correcta.\n",
    "\n",
    "Ejemplo:"
   ]
  },
  {
   "cell_type": "raw",
   "id": "d9d6d02f",
   "metadata": {},
   "source": [
    "función calcular(a, b, c) => devuelve (a+b)*c\n",
    "\n",
    "ejemplo1 = calcular (1, 2, 3)\n",
    "ejemplo2 = calcular ([1, 2, 3], [4, 5, 6], 2)\n",
    "ejemplo3 = calcular ('manzanas ', 'y naranjas, ', 3)\n",
    "\n",
    "mostrar a_cadena ejemplo1\n",
    "mostrar a_cadena ejemplo2\n",
    "mostrar a_cadena ejemplo3"
   ]
  },
  {
   "cell_type": "code",
   "execution_count": 1,
   "id": "ae4a6980",
   "metadata": {},
   "outputs": [],
   "source": [
    "def calcular(a, b, c):\n",
    "    return (a+b)*c\n",
    "\n",
    "ejemplo1 = calcular (1, 2, 3)\n",
    "ejemplo2 = calcular ([1, 2, 3], [4, 5, 6], 2)\n",
    "ejemplo3 = calcular ('manzanas ', 'y naranjas, ', 3)"
   ]
  },
  {
   "cell_type": "code",
   "execution_count": 2,
   "id": "2f8cc891",
   "metadata": {},
   "outputs": [
    {
     "data": {
      "text/plain": [
       "9"
      ]
     },
     "execution_count": 2,
     "metadata": {},
     "output_type": "execute_result"
    }
   ],
   "source": [
    "ejemplo1"
   ]
  },
  {
   "cell_type": "code",
   "execution_count": 3,
   "id": "0868c860",
   "metadata": {},
   "outputs": [
    {
     "data": {
      "text/plain": [
       "[1, 2, 3, 4, 5, 6, 1, 2, 3, 4, 5, 6]"
      ]
     },
     "execution_count": 3,
     "metadata": {},
     "output_type": "execute_result"
    }
   ],
   "source": [
    "ejemplo2"
   ]
  },
  {
   "cell_type": "code",
   "execution_count": 4,
   "id": "4330ff9a",
   "metadata": {},
   "outputs": [
    {
     "data": {
      "text/plain": [
       "'manzanas y naranjas, manzanas y naranjas, manzanas y naranjas, '"
      ]
     },
     "execution_count": 4,
     "metadata": {},
     "output_type": "execute_result"
    }
   ],
   "source": [
    "ejemplo3"
   ]
  },
  {
   "cell_type": "markdown",
   "id": "82079eff",
   "metadata": {},
   "source": [
    "Como vemos, se pueden meter diferentes tipos de variables en la función calcular. \n",
    "\n",
    "### Late binding\n",
    "\n",
    "Como los valores y las operaciones subyacentes se van asignando y realizando de forma dinámica, mientras las asignaciones y operaciones sean admitidas no habrá ningún problema. \n",
    "\n",
    "Es decir, se puede utilizar cualquier método con cualquier objeto y si es admitido, el método funcionará. Esto se conoce como **\\\"late binding\"**.\n",
    "\n",
    "A esto es a lo que se refiere con que **el conjunto de métodos y propiedades determina la validez semántica**."
   ]
  },
  {
   "cell_type": "markdown",
   "id": "2a3a5c32",
   "metadata": {},
   "source": [
    "- La validez de un objeto a la hora de ser usado solo se determina cuando se está usando.\n",
    "- Esto es al contrario que en lenguajes de programación compilados estáticamente tipados.\n",
    "- La validez no la determina ni la herencia ni las interfaces."
   ]
  },
  {
   "cell_type": "markdown",
   "id": "d2704fa4",
   "metadata": {},
   "source": [
    "## Curiosidad"
   ]
  },
  {
   "cell_type": "markdown",
   "id": "1a1199b6",
   "metadata": {},
   "source": [
    "Se llama así porque el poeta James Whitecomb Riley dijo: ***\\\"Cuando veo un pájaro que anda como un pato, nada como un pato y hace \"quack\" como un pato, digo que ese pájaro es un pato\"***."
   ]
  },
  {
   "cell_type": "markdown",
   "id": "385a0794",
   "metadata": {},
   "source": [
    "Se podría interpretar como, si tiene todo lo necesario para cumplir dichas propiedades, me sirve."
   ]
  }
 ],
 "metadata": {
  "kernelspec": {
   "display_name": "Python 3 (ipykernel)",
   "language": "python",
   "name": "python3"
  },
  "language_info": {
   "codemirror_mode": {
    "name": "ipython",
    "version": 3
   },
   "file_extension": ".py",
   "mimetype": "text/x-python",
   "name": "python",
   "nbconvert_exporter": "python",
   "pygments_lexer": "ipython3",
   "version": "3.9.7"
  }
 },
 "nbformat": 4,
 "nbformat_minor": 5
}
