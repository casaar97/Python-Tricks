{
 "cells": [
  {
   "cell_type": "markdown",
   "id": "298c26d4",
   "metadata": {},
   "source": [
    "# Inspección de tipos"
   ]
  },
  {
   "cell_type": "markdown",
   "id": "8707e0fa",
   "metadata": {},
   "source": [
    "## isinstance()"
   ]
  },
  {
   "cell_type": "markdown",
   "id": "0d8f3314",
   "metadata": {},
   "source": [
    "Para comprobar si una instancia pertenece a una determinada clase, se usa el método isinstance() de Python:"
   ]
  },
  {
   "cell_type": "code",
   "execution_count": 1,
   "id": "e48f5b41",
   "metadata": {},
   "outputs": [
    {
     "data": {
      "text/plain": [
       "True"
      ]
     },
     "execution_count": 1,
     "metadata": {},
     "output_type": "execute_result"
    }
   ],
   "source": [
    "isinstance(1, int)"
   ]
  },
  {
   "cell_type": "markdown",
   "id": "83bdb154",
   "metadata": {},
   "source": [
    "Se puede pasar una tupla de clases como argumento y te devolverá \"True\" si el objeto es de alguna de las clases indicadas:"
   ]
  },
  {
   "cell_type": "code",
   "execution_count": 2,
   "id": "862c181b",
   "metadata": {},
   "outputs": [
    {
     "data": {
      "text/plain": [
       "True"
      ]
     },
     "execution_count": 2,
     "metadata": {},
     "output_type": "execute_result"
    }
   ],
   "source": [
    "isinstance(1, (int, float, str))"
   ]
  },
  {
   "cell_type": "markdown",
   "id": "4a90354f",
   "metadata": {},
   "source": [
    "## issubclass()"
   ]
  },
  {
   "cell_type": "markdown",
   "id": "1cf76042",
   "metadata": {},
   "source": [
    "Para comprobar si una clase es una subclase de otra clase, se usa el método issubclass() de Python:"
   ]
  },
  {
   "cell_type": "code",
   "execution_count": 3,
   "id": "c9c6bcb9",
   "metadata": {},
   "outputs": [],
   "source": [
    "class ClaseBase:\n",
    "    pass\n",
    "\n",
    "class SubClase(ClaseBase):\n",
    "    pass\n",
    "\n",
    "class SubSubClase(SubClase):\n",
    "    pass"
   ]
  },
  {
   "cell_type": "code",
   "execution_count": 4,
   "id": "bcbec395",
   "metadata": {},
   "outputs": [
    {
     "data": {
      "text/plain": [
       "True"
      ]
     },
     "execution_count": 4,
     "metadata": {},
     "output_type": "execute_result"
    }
   ],
   "source": [
    "issubclass(SubClase, ClaseBase)"
   ]
  },
  {
   "cell_type": "code",
   "execution_count": 5,
   "id": "db0952e2",
   "metadata": {},
   "outputs": [
    {
     "data": {
      "text/plain": [
       "True"
      ]
     },
     "execution_count": 5,
     "metadata": {},
     "output_type": "execute_result"
    }
   ],
   "source": [
    "issubclass(SubSubClase, SubClase)"
   ]
  }
 ],
 "metadata": {
  "kernelspec": {
   "display_name": "Python 3 (ipykernel)",
   "language": "python",
   "name": "python3"
  },
  "language_info": {
   "codemirror_mode": {
    "name": "ipython",
    "version": 3
   },
   "file_extension": ".py",
   "mimetype": "text/x-python",
   "name": "python",
   "nbconvert_exporter": "python",
   "pygments_lexer": "ipython3",
   "version": "3.9.7"
  }
 },
 "nbformat": 4,
 "nbformat_minor": 5
}
