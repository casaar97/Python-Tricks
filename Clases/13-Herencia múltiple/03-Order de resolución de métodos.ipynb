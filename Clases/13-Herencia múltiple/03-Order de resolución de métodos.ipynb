{
 "cells": [
  {
   "cell_type": "markdown",
   "id": "0f27f2bc",
   "metadata": {},
   "source": [
    "# Order de resolución de métodos (Method Resolution Order - MRO)"
   ]
  },
  {
   "cell_type": "markdown",
   "id": "12c6621c",
   "metadata": {},
   "source": [
    "Para ver el orden de resolución de métodos de una clase, podemos acceder a su atributo **\\__mro\\__**:"
   ]
  },
  {
   "cell_type": "code",
   "execution_count": 1,
   "id": "8fd8904c",
   "metadata": {},
   "outputs": [],
   "source": [
    "class ClaseBase1:\n",
    "    \n",
    "    def metodo(self):\n",
    "        print(\"Soy el método de la clase base 1\")\n",
    "\n",
    "class ClaseBase2:\n",
    "    \n",
    "    def metodo(self):\n",
    "        print(\"Soy el método de la clase base 2\")\n",
    "        \n",
    "class Subclase(ClaseBase1, ClaseBase2):\n",
    "    pass"
   ]
  },
  {
   "cell_type": "code",
   "execution_count": 2,
   "id": "212441f0",
   "metadata": {},
   "outputs": [
    {
     "data": {
      "text/plain": [
       "(__main__.Subclase, __main__.ClaseBase1, __main__.ClaseBase2, object)"
      ]
     },
     "execution_count": 2,
     "metadata": {},
     "output_type": "execute_result"
    }
   ],
   "source": [
    "Subclase.__mro__"
   ]
  },
  {
   "cell_type": "markdown",
   "id": "1c80a363",
   "metadata": {},
   "source": [
    "**Como podemos ver, si la clase ha sobrescrito dicho método, se usará el de la propia clase, sino el método de la primera clase base indicada**:"
   ]
  },
  {
   "cell_type": "code",
   "execution_count": 3,
   "id": "f747fe13",
   "metadata": {},
   "outputs": [
    {
     "name": "stdout",
     "output_type": "stream",
     "text": [
      "0 : <class '__main__.Subclase'>\n",
      "1 : <class '__main__.ClaseBase1'>\n",
      "2 : <class '__main__.ClaseBase2'>\n",
      "3 : <class 'object'>\n"
     ]
    }
   ],
   "source": [
    "for indice, elemento in enumerate(Subclase.__mro__):\n",
    "    print(indice, \":\", elemento)"
   ]
  },
  {
   "cell_type": "markdown",
   "id": "2559f7db",
   "metadata": {},
   "source": [
    "Como todas las clases provienen de la clase 'Object', esta siempre será la última clase base en Python."
   ]
  },
  {
   "cell_type": "code",
   "execution_count": 4,
   "id": "6726d63c",
   "metadata": {},
   "outputs": [
    {
     "name": "stdout",
     "output_type": "stream",
     "text": [
      "Soy el método de la clase base 1\n"
     ]
    }
   ],
   "source": [
    "Subclase().metodo()"
   ]
  },
  {
   "cell_type": "markdown",
   "id": "3463298c",
   "metadata": {},
   "source": [
    "## Problema del diamante"
   ]
  },
  {
   "cell_type": "markdown",
   "id": "1fb10091",
   "metadata": {},
   "source": [
    "Este problema ocurre cuando tenemos 4 clases definidas de la siguiente forma:\n",
    "    \n",
    "    - Clase A\n",
    "    - Clase B que hereda de A\n",
    "    - Clase C que hereda de A\n",
    "    - Clase D que hereda de B y C"
   ]
  },
  {
   "cell_type": "code",
   "execution_count": 5,
   "id": "8761d13c",
   "metadata": {},
   "outputs": [],
   "source": [
    "class A:\n",
    "    def method(self):\n",
    "        return \"A\"\n",
    "    \n",
    "class B(A):\n",
    "    def method(self):\n",
    "        return \"B\"\n",
    "\n",
    "class C(A):\n",
    "    def method(self):\n",
    "        return \"C\"\n",
    "    \n",
    "class D(B, C):\n",
    "    pass"
   ]
  },
  {
   "cell_type": "code",
   "execution_count": 6,
   "id": "6b65dbba",
   "metadata": {},
   "outputs": [
    {
     "data": {
      "text/plain": [
       "'B'"
      ]
     },
     "execution_count": 6,
     "metadata": {},
     "output_type": "execute_result"
    }
   ],
   "source": [
    "D().method()"
   ]
  },
  {
   "cell_type": "code",
   "execution_count": 7,
   "id": "21f89423",
   "metadata": {},
   "outputs": [
    {
     "data": {
      "text/plain": [
       "(__main__.D, __main__.B, __main__.C, __main__.A, object)"
      ]
     },
     "execution_count": 7,
     "metadata": {},
     "output_type": "execute_result"
    }
   ],
   "source": [
    "D.__mro__"
   ]
  },
  {
   "cell_type": "markdown",
   "id": "9231c73f",
   "metadata": {},
   "source": [
    "Si ahora cambiamos el orden de las clases base en la definición de la subclase D:"
   ]
  },
  {
   "cell_type": "code",
   "execution_count": 8,
   "id": "e0efccc7",
   "metadata": {},
   "outputs": [],
   "source": [
    "class D(C, B):\n",
    "    pass"
   ]
  },
  {
   "cell_type": "code",
   "execution_count": 9,
   "id": "e28ca5ae",
   "metadata": {},
   "outputs": [
    {
     "data": {
      "text/plain": [
       "'C'"
      ]
     },
     "execution_count": 9,
     "metadata": {},
     "output_type": "execute_result"
    }
   ],
   "source": [
    "D().method()"
   ]
  },
  {
   "cell_type": "code",
   "execution_count": 10,
   "id": "7c6fcf4a",
   "metadata": {},
   "outputs": [
    {
     "data": {
      "text/plain": [
       "(__main__.D, __main__.C, __main__.B, __main__.A, object)"
      ]
     },
     "execution_count": 10,
     "metadata": {},
     "output_type": "execute_result"
    }
   ],
   "source": [
    "D.__mro__"
   ]
  },
  {
   "cell_type": "markdown",
   "id": "761246dc",
   "metadata": {},
   "source": [
    "Vemos como siempre se utiliza el método perteneciente a la primera clase base de la que hereda la subclase."
   ]
  },
  {
   "cell_type": "markdown",
   "id": "093be125",
   "metadata": {},
   "source": [
    "## C3"
   ]
  },
  {
   "cell_type": "markdown",
   "id": "a3deaae2",
   "metadata": {},
   "source": [
    "C3 es el algoritmo utilizado para calcular el orden de resolución de métodos:\n",
    "    \n",
    "    1. Las subclases van antes que las clases\n",
    "    2. El orden de las clases base en la definición de la subclase es mantenido.\n",
    "    3. Estas dos cualidades se cumplen para todos los MRO de un programa."
   ]
  },
  {
   "cell_type": "markdown",
   "id": "2b00778e",
   "metadata": {},
   "source": [
    "## Incumpliendo el algoritmo C3"
   ]
  },
  {
   "cell_type": "code",
   "execution_count": 11,
   "id": "da4dfdaf",
   "metadata": {},
   "outputs": [
    {
     "name": "stdout",
     "output_type": "stream",
     "text": [
      "Cannot create a consistent method resolution\n",
      "order (MRO) for bases A, C\n"
     ]
    }
   ],
   "source": [
    "class A: pass\n",
    "\n",
    "class B(A): pass\n",
    "\n",
    "class C(A): pass\n",
    "\n",
    "try:\n",
    "    class D(B, A, C): pass\n",
    "    \n",
    "except TypeError as error:\n",
    "    print(error)"
   ]
  }
 ],
 "metadata": {
  "kernelspec": {
   "display_name": "Python 3 (ipykernel)",
   "language": "python",
   "name": "python3"
  },
  "language_info": {
   "codemirror_mode": {
    "name": "ipython",
    "version": 3
   },
   "file_extension": ".py",
   "mimetype": "text/x-python",
   "name": "python",
   "nbconvert_exporter": "python",
   "pygments_lexer": "ipython3",
   "version": "3.9.7"
  }
 },
 "nbformat": 4,
 "nbformat_minor": 5
}
