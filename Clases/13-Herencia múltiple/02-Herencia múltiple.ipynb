{
 "cells": [
  {
   "cell_type": "markdown",
   "id": "2a14b2b6",
   "metadata": {},
   "source": [
    "# Herencia múltiple"
   ]
  },
  {
   "cell_type": "markdown",
   "id": "2efa00ec",
   "metadata": {},
   "source": [
    "La herencia múltiple consiste en definir una clase que herede de mas de una clase base."
   ]
  },
  {
   "cell_type": "markdown",
   "id": "8d896f2d",
   "metadata": {},
   "source": [
    "## Sintaxis"
   ]
  },
  {
   "cell_type": "code",
   "execution_count": 1,
   "id": "63c12b3b",
   "metadata": {},
   "outputs": [],
   "source": [
    "class ClaseBase1:\n",
    "    pass\n",
    "\n",
    "class ClaseBase2:\n",
    "    pass\n",
    "\n",
    "class ClaseBase3:\n",
    "    pass\n",
    "\n",
    "class Subclase(ClaseBase1, ClaseBase2, ClaseBase3):\n",
    "    pass"
   ]
  },
  {
   "cell_type": "markdown",
   "id": "9b848a1b",
   "metadata": {},
   "source": [
    "## Funcionamiento"
   ]
  },
  {
   "cell_type": "markdown",
   "id": "a312207b",
   "metadata": {},
   "source": [
    "Al igual que pasa con la herencia simple, cuando hay herencia múltiple las subclases herendan todos los métodos de las clases base.\n",
    "\n",
    "Si no hay solapamiento de nombres, no existe ningún problema. Sin embargo, si el nombre los métodos de distintas clases base coinciden, Python utiliza el definido **\"Orden de resolución de métodos\"**."
   ]
  },
  {
   "cell_type": "markdown",
   "id": "ba95027e",
   "metadata": {},
   "source": [
    "## Inicialización de la clase base"
   ]
  },
  {
   "cell_type": "markdown",
   "id": "6b87f998",
   "metadata": {},
   "source": [
    "Si una clase utiliza herencia múltiple y no define inicializador, solo el inicializador de la primera clase base es llamado automáticamente."
   ]
  },
  {
   "cell_type": "code",
   "execution_count": 2,
   "id": "80643055",
   "metadata": {},
   "outputs": [],
   "source": [
    "class ClaseBase1:\n",
    "    \n",
    "    def __init__(self):\n",
    "        print(\"Inicializador de la clase base 1\")\n",
    "\n",
    "class ClaseBase2:\n",
    "    \n",
    "    def __init__(self):\n",
    "        print(\"Inicializador de la clase base 2\")\n",
    "        \n",
    "class Subclase(ClaseBase1, ClaseBase2):\n",
    "    pass"
   ]
  },
  {
   "cell_type": "code",
   "execution_count": 3,
   "id": "24c21000",
   "metadata": {},
   "outputs": [
    {
     "name": "stdout",
     "output_type": "stream",
     "text": [
      "Inicializador de la clase base 1\n"
     ]
    }
   ],
   "source": [
    "s = Subclase()"
   ]
  },
  {
   "cell_type": "markdown",
   "id": "f5aa179b",
   "metadata": {},
   "source": [
    "## Orden de resolución de métodos"
   ]
  },
  {
   "cell_type": "markdown",
   "id": "1ab12f01",
   "metadata": {},
   "source": [
    "Se escoge siempre el método de la primera clase base:"
   ]
  },
  {
   "cell_type": "code",
   "execution_count": 4,
   "id": "a82ea521",
   "metadata": {},
   "outputs": [],
   "source": [
    "class ClaseBase1:\n",
    "    \n",
    "    def metodo(self):\n",
    "        print(\"Soy el método de la clase base 1\")\n",
    "\n",
    "class ClaseBase2:\n",
    "    \n",
    "    def metodo(self):\n",
    "        print(\"Soy el método de la clase base 2\")\n",
    "        \n",
    "class Subclase(ClaseBase1, ClaseBase2):\n",
    "    pass"
   ]
  },
  {
   "cell_type": "code",
   "execution_count": 5,
   "id": "860cd306",
   "metadata": {},
   "outputs": [
    {
     "name": "stdout",
     "output_type": "stream",
     "text": [
      "Soy el método de la clase base 1\n"
     ]
    }
   ],
   "source": [
    "Subclase().metodo()"
   ]
  },
  {
   "cell_type": "markdown",
   "id": "e780d45a",
   "metadata": {},
   "source": [
    "## Ver las clases base de una clase"
   ]
  },
  {
   "cell_type": "code",
   "execution_count": 6,
   "id": "44c3cf36",
   "metadata": {},
   "outputs": [
    {
     "data": {
      "text/plain": [
       "(__main__.ClaseBase1, __main__.ClaseBase2)"
      ]
     },
     "execution_count": 6,
     "metadata": {},
     "output_type": "execute_result"
    }
   ],
   "source": [
    "Subclase.__bases__"
   ]
  }
 ],
 "metadata": {
  "kernelspec": {
   "display_name": "Python 3 (ipykernel)",
   "language": "python",
   "name": "python3"
  },
  "language_info": {
   "codemirror_mode": {
    "name": "ipython",
    "version": 3
   },
   "file_extension": ".py",
   "mimetype": "text/x-python",
   "name": "python",
   "nbconvert_exporter": "python",
   "pygments_lexer": "ipython3",
   "version": "3.9.7"
  }
 },
 "nbformat": 4,
 "nbformat_minor": 5
}
