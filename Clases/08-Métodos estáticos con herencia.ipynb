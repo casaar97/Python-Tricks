{
 "cells": [
  {
   "cell_type": "markdown",
   "id": "89b6f2c0",
   "metadata": {},
   "source": [
    "# Métodos estáticos con herencia"
   ]
  },
  {
   "cell_type": "code",
   "execution_count": 1,
   "id": "84559f1d",
   "metadata": {},
   "outputs": [],
   "source": [
    "import iso6346"
   ]
  },
  {
   "cell_type": "code",
   "execution_count": 2,
   "id": "3899bc61",
   "metadata": {},
   "outputs": [],
   "source": [
    "class ContenedorDeMercancias:\n",
    "    \n",
    "    # Definición de atributos de clase\n",
    "    \n",
    "    siguiente_codigo_de_serie = 1337\n",
    "    \n",
    "    @staticmethod\n",
    "    def _crear_codigo_BIC(codigo_propietario, codigo_de_serie):\n",
    "        return iso6346.create(\n",
    "        owner_code=codigo_propietario,\n",
    "        serial=str(codigo_de_serie).zfill(6))\n",
    "    \n",
    "    @classmethod\n",
    "    def _generar_codigo_de_serie(cls):\n",
    "        \n",
    "        resultado = cls.siguiente_codigo_de_serie \n",
    "        cls.siguiente_codigo_de_serie += 1\n",
    "        return resultado\n",
    "    \n",
    "    # Crea un contenedor vacío\n",
    "    @classmethod\n",
    "    def crear_contenedor_vacio(cls, codigo_propietario):\n",
    "        return cls(codigo_propietario, contenidos = [])\n",
    "    \n",
    "    # Crea un contenedor a partir de un codigo de propietario y unos items\n",
    "    @classmethod\n",
    "    def crear_contenedor_con_elementos(cls, codigo_propietario, contenidos):\n",
    "        return cls(codigo_propietario, list(contenidos))\n",
    "        \n",
    "    \n",
    "    def __init__(self, codigo_propietario, contenidos):\n",
    "        \n",
    "        # Definición de atributos de instancia\n",
    "        \n",
    "        self.codigo_propietario = codigo_propietario\n",
    "        self.contenidos = contenidos\n",
    "        self.bic = ContenedorDeMercancias._crear_codigo_BIC(\n",
    "            codigo_propietario=codigo_propietario,\n",
    "            codigo_de_serie=ContenedorDeMercancias._generar_codigo_de_serie()\n",
    "        )"
   ]
  },
  {
   "cell_type": "markdown",
   "id": "20439842",
   "metadata": {},
   "source": [
    "Ahora vamos a crear una clase que herede de la anterior y que represente un contenedor de mercancías refrigerado.\n",
    "\n",
    "Como es refrigerado, el código BIC debe tener una letra R en lugar de una U, ya que esta representa la categoría \"Refrigerado\".\n",
    "\n",
    "Por lo tanto, es necesario sobreescribir el método que genera el código BIC:"
   ]
  },
  {
   "cell_type": "code",
   "execution_count": 3,
   "id": "ec54d9b6",
   "metadata": {},
   "outputs": [],
   "source": [
    "class ContenedorDeMercanciasRefrigerado(ContenedorDeMercancias):\n",
    "    \n",
    "    @staticmethod\n",
    "    def _crear_codigo_BIC(codigo_propietario, codigo_de_serie):\n",
    "        return iso6346.create(\n",
    "        owner_code=codigo_propietario,\n",
    "        serial=str(codigo_de_serie).zfill(6),\n",
    "        category=\"R\")"
   ]
  },
  {
   "cell_type": "code",
   "execution_count": 4,
   "id": "7ff2e315",
   "metadata": {},
   "outputs": [],
   "source": [
    "r1 = ContenedorDeMercanciasRefrigerado(\"MAE\", [\"fish\"])"
   ]
  },
  {
   "cell_type": "code",
   "execution_count": 5,
   "id": "c6613560",
   "metadata": {},
   "outputs": [
    {
     "data": {
      "text/plain": [
       "'MAEU0013371'"
      ]
     },
     "execution_count": 5,
     "metadata": {},
     "output_type": "execute_result"
    }
   ],
   "source": [
    "r1.bic"
   ]
  },
  {
   "cell_type": "markdown",
   "id": "3a86c119",
   "metadata": {},
   "source": [
    "Sin embargo, vemos que aunque lo hayamos sobreescrito la letra sigue siendo \"U\", por lo que no está funcionando."
   ]
  }
 ],
 "metadata": {
  "kernelspec": {
   "display_name": "Python 3 (ipykernel)",
   "language": "python",
   "name": "python3"
  },
  "language_info": {
   "codemirror_mode": {
    "name": "ipython",
    "version": 3
   },
   "file_extension": ".py",
   "mimetype": "text/x-python",
   "name": "python",
   "nbconvert_exporter": "python",
   "pygments_lexer": "ipython3",
   "version": "3.9.7"
  }
 },
 "nbformat": 4,
 "nbformat_minor": 5
}
