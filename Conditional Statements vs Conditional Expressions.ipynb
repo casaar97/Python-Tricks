{
 "cells": [
  {
   "cell_type": "markdown",
   "id": "9b35dd55",
   "metadata": {},
   "source": [
    "# Conditional Statements vs Conditional Expressions"
   ]
  },
  {
   "cell_type": "code",
   "execution_count": 1,
   "id": "1a9728fa",
   "metadata": {},
   "outputs": [],
   "source": [
    "edad = 18"
   ]
  },
  {
   "cell_type": "markdown",
   "id": "9af266c2",
   "metadata": {},
   "source": [
    "## Conditional statement"
   ]
  },
  {
   "cell_type": "code",
   "execution_count": 2,
   "id": "5b2d3cc2",
   "metadata": {},
   "outputs": [
    {
     "name": "stdout",
     "output_type": "stream",
     "text": [
      "Mayor de edad\n"
     ]
    }
   ],
   "source": [
    "if edad >= 18:\n",
    "    print(\"Mayor de edad\")\n",
    "else:\n",
    "    print(\"Menor de edad\")"
   ]
  },
  {
   "cell_type": "markdown",
   "id": "f73c50ea",
   "metadata": {},
   "source": [
    "## Conditional Expression"
   ]
  },
  {
   "cell_type": "code",
   "execution_count": 3,
   "id": "43dc788c",
   "metadata": {},
   "outputs": [
    {
     "name": "stdout",
     "output_type": "stream",
     "text": [
      "Mayor de edad\n"
     ]
    }
   ],
   "source": [
    "print(\"Mayor de edad\") if edad >=18 else print(\"Menor de edad\")"
   ]
  }
 ],
 "metadata": {
  "kernelspec": {
   "display_name": "Python 3",
   "language": "python",
   "name": "python3"
  },
  "language_info": {
   "codemirror_mode": {
    "name": "ipython",
    "version": 3
   },
   "file_extension": ".py",
   "mimetype": "text/x-python",
   "name": "python",
   "nbconvert_exporter": "python",
   "pygments_lexer": "ipython3",
   "version": "3.8.8"
  }
 },
 "nbformat": 4,
 "nbformat_minor": 5
}
