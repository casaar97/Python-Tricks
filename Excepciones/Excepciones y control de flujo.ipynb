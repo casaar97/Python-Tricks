{
 "cells": [
  {
   "cell_type": "markdown",
   "id": "7a3dd4aa",
   "metadata": {},
   "source": [
    "# Excepciones y control de flujo"
   ]
  },
  {
   "cell_type": "markdown",
   "id": "7bc6842c",
   "metadata": {},
   "source": [
    "## Ejemplo de control de excepción"
   ]
  },
  {
   "cell_type": "code",
   "execution_count": 1,
   "id": "a9417755",
   "metadata": {},
   "outputs": [],
   "source": [
    "lista = [1, 2, 3]"
   ]
  },
  {
   "cell_type": "code",
   "execution_count": 2,
   "id": "fda2c121",
   "metadata": {},
   "outputs": [
    {
     "name": "stdout",
     "output_type": "stream",
     "text": [
      "Error: list index out of range\n"
     ]
    }
   ],
   "source": [
    "#Bloque try\n",
    "\n",
    "try:\n",
    "    lista[3]\n",
    "    \n",
    "#Bloque except\n",
    "\n",
    "except IndexError as error:\n",
    "    print(\"Error:\", error)"
   ]
  },
  {
   "cell_type": "markdown",
   "id": "adcbca5a",
   "metadata": {},
   "source": [
    "- Dentro del bloque try se introduce el bloque de código que puede lanzar la excepción.\n",
    "- Dentro del bloque except se introduce el bloque de código que manejará la excepción en caso de ser lanzada."
   ]
  },
  {
   "cell_type": "markdown",
   "id": "ec56e809",
   "metadata": {},
   "source": [
    "## Lanzar una excepción"
   ]
  },
  {
   "cell_type": "code",
   "execution_count": 3,
   "id": "d1fa3059",
   "metadata": {},
   "outputs": [
    {
     "name": "stdout",
     "output_type": "stream",
     "text": [
      "Error: Sorry, no numbers below zero\n"
     ]
    }
   ],
   "source": [
    "x = -1\n",
    "\n",
    "try: \n",
    "    if x < 0:\n",
    "      raise Exception(\"Sorry, no numbers below zero\")\n",
    "except Exception as error:\n",
    "    print(\"Error:\", error)"
   ]
  },
  {
   "cell_type": "markdown",
   "id": "59858266",
   "metadata": {},
   "source": [
    "Para lanzar una excepción, se utiliza la palabra clave **raise** seguida de la clase específica de la excepción.\n",
    "\n",
    "Si no hemos definido ninguna clase para la excepción o no hay ninguna ya en Python que se corresponda, podemos lanzar la clase **Exception**, que lanza una excepción genérica."
   ]
  },
  {
   "cell_type": "markdown",
   "id": "17880b5e",
   "metadata": {},
   "source": [
    "## Excepciones y Protocolos"
   ]
  },
  {
   "cell_type": "markdown",
   "id": "59d524d9",
   "metadata": {},
   "source": [
    "Las excepciones creadas por uno mismo deben ser correctamente implementadas y documentadas.\n",
    "\n",
    "Python contiene muchos tipos de excepciones por defecto que comunmente, son las que deben utilizarse."
   ]
  },
  {
   "cell_type": "markdown",
   "id": "47e00345",
   "metadata": {},
   "source": [
    "### IndexError"
   ]
  },
  {
   "cell_type": "markdown",
   "id": "fd0338a9",
   "metadata": {},
   "source": [
    "La excepción **IndexError** se utiliza cuando te sales del rango para una sequence."
   ]
  },
  {
   "cell_type": "code",
   "execution_count": 4,
   "id": "b302b875",
   "metadata": {},
   "outputs": [
    {
     "name": "stdout",
     "output_type": "stream",
     "text": [
      "list index out of range\n"
     ]
    }
   ],
   "source": [
    "lista = [1, 2, 3]\n",
    "\n",
    "try:\n",
    "    lista[3]\n",
    "except IndexError as error:\n",
    "    print(error)"
   ]
  },
  {
   "cell_type": "markdown",
   "id": "c5d65ba2",
   "metadata": {},
   "source": [
    "### ValueError"
   ]
  },
  {
   "cell_type": "markdown",
   "id": "280d237a",
   "metadata": {},
   "source": [
    "La excepción **ValueError** se utiliza cuando un objeto es del tipo correcto pero tiene un valor inapropiado."
   ]
  },
  {
   "cell_type": "code",
   "execution_count": 5,
   "id": "47eeb7b3",
   "metadata": {},
   "outputs": [
    {
     "name": "stdout",
     "output_type": "stream",
     "text": [
      "invalid literal for int() with base 10: 'Hola'\n"
     ]
    }
   ],
   "source": [
    "try:\n",
    "    int(\"Hola\")\n",
    "except ValueError as error:\n",
    "    print(error)"
   ]
  },
  {
   "cell_type": "markdown",
   "id": "600e701e",
   "metadata": {},
   "source": [
    "### KeyError"
   ]
  },
  {
   "cell_type": "markdown",
   "id": "0e3bfe1d",
   "metadata": {},
   "source": [
    "La excepción **KeyError** se utiliza cuando se intenta acceder a una clave que no está presente en un diccionario."
   ]
  },
  {
   "cell_type": "code",
   "execution_count": 6,
   "id": "e31a34d5",
   "metadata": {},
   "outputs": [
    {
     "name": "stdout",
     "output_type": "stream",
     "text": [
      "'cuatro'\n"
     ]
    }
   ],
   "source": [
    "diccionario = dict(uno=\"1\", dos=\"2\", tres=\"tres\")\n",
    "\n",
    "try:\n",
    "    diccionario[\"cuatro\"]\n",
    "except KeyError as error:\n",
    "    print(error)"
   ]
  }
 ],
 "metadata": {
  "kernelspec": {
   "display_name": "Python 3 (ipykernel)",
   "language": "python",
   "name": "python3"
  },
  "language_info": {
   "codemirror_mode": {
    "name": "ipython",
    "version": 3
   },
   "file_extension": ".py",
   "mimetype": "text/x-python",
   "name": "python",
   "nbconvert_exporter": "python",
   "pygments_lexer": "ipython3",
   "version": "3.9.7"
  }
 },
 "nbformat": 4,
 "nbformat_minor": 5
}
