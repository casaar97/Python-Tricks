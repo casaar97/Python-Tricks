{
 "cells": [
  {
   "cell_type": "markdown",
   "id": "c163a7ce",
   "metadata": {},
   "source": [
    "# Palabra clave ***finally***"
   ]
  },
  {
   "cell_type": "markdown",
   "id": "054f5cd0",
   "metadata": {},
   "source": [
    "Se utiliza junto con los bloques try-except."
   ]
  },
  {
   "cell_type": "markdown",
   "id": "a26c4d93",
   "metadata": {},
   "source": [
    "Digamos que el bloque de código de dentro de finally se ejecuta siempre, independientemente de que se lance la excepción en el bloque except o no."
   ]
  },
  {
   "cell_type": "code",
   "execution_count": 1,
   "id": "33128320",
   "metadata": {},
   "outputs": [
    {
     "name": "stdout",
     "output_type": "stream",
     "text": [
      "Error:  list index out of range\n",
      "Este bloque se ejecuta aunque se haya lanzado la excepción en el bloque except.\n"
     ]
    }
   ],
   "source": [
    "try:\n",
    "    lista = [1, 2, 3]\n",
    "    \n",
    "    lista[3]\n",
    "    \n",
    "except IndexError as error:\n",
    "    print(\"Error: \", error)\n",
    "    \n",
    "finally:\n",
    "    print(\"Este bloque se ejecuta aunque se haya lanzado la excepción en el bloque except.\")"
   ]
  },
  {
   "cell_type": "markdown",
   "id": "ba618076",
   "metadata": {},
   "source": [
    "El bloque finally puede ser útil en situaciones como cerrar un fichero independientemente de que haya ocurrido una excepción mientras se maneja. \n",
    "\n",
    "- El flujo sin finally sería:\n",
    "    \n",
    "    **try**:\n",
    "    \n",
    "        Abrir el fichero\n",
    "        \n",
    "        Utilizar el fichero\n",
    "        \n",
    "        Cerrar fichero\n",
    "        \n",
    "    **except**:\n",
    "    \n",
    "        Manejar excepción\n",
    "        \n",
    "        Cerrar fichero\n",
    "        \n",
    "- El flujo con finally sería:\n",
    "\n",
    "    **try**:\n",
    "    \n",
    "        Abrir el fichero\n",
    "        \n",
    "        Utilizar el fichero\n",
    "        \n",
    "    **except**:\n",
    "    \n",
    "        Manejar excepción\n",
    "\n",
    "    **finally**:\n",
    "    \n",
    "        Cerrar fichero"
   ]
  }
 ],
 "metadata": {
  "kernelspec": {
   "display_name": "Python 3 (ipykernel)",
   "language": "python",
   "name": "python3"
  },
  "language_info": {
   "codemirror_mode": {
    "name": "ipython",
    "version": 3
   },
   "file_extension": ".py",
   "mimetype": "text/x-python",
   "name": "python",
   "nbconvert_exporter": "python",
   "pygments_lexer": "ipython3",
   "version": "3.9.7"
  }
 },
 "nbformat": 4,
 "nbformat_minor": 5
}
