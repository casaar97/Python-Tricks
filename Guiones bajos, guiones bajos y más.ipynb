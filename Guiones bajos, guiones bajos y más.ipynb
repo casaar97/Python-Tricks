{
 "cells": [
  {
   "cell_type": "markdown",
   "metadata": {},
   "source": [
    "## Guiones bajos, guiones bajos y más"
   ]
  },
  {
   "cell_type": "markdown",
   "metadata": {},
   "source": [
    "Los guiones bajos simples y dobles tienen un significado en los nombres de variables y métodos de Python. Parte de ese significado es simplemente por convención y pretende ser una pista para el programador, y otra parte es impuesta por el intérprete de Python.\n",
    "\n",
    "Si te estás preguntando, \"¿Cuál es el significado de las puntuaciones simples y dobles en los nombres de variables y métodos de Python?\" Haré lo posible por darte la respuesta aquí. \n",
    "\n",
    "Vamos a ver los siguientes cinco patrones de subrayado y convenciones de nomenclatura, y cómo afectan al comportamiento de tus programas Python:"
   ]
  },
  {
   "cell_type": "markdown",
   "metadata": {},
   "source": [
    "* Subrayado simple: _var\n",
    "* Guión bajo final simple: var_\n",
    "* Doble guión bajo inicial: \\__var\n",
    "* Doble guión bajo inicial y final: \\__var\\__\n",
    "* Guión bajo simple: _"
   ]
  },
  {
   "cell_type": "markdown",
   "metadata": {},
   "source": [
    "### Subrayado simple: _var"
   ]
  },
  {
   "cell_type": "markdown",
   "metadata": {},
   "source": [
    "Cuando se trata de nombres de variables y métodos, el prefijo de puntuación simple tiene un significado sólo por convención. Es una pista para el programador: significa lo que la comunidad de Python acuerda que debe significar, pero no afecta al comportamiento de tus programas.\n",
    "\n",
    "**El prefijo de guión bajo está pensado como una pista para decirle a otro programador que una variable o método que comienza con un solo guión bajo está destinado a uso interno. Esta convención está definida en PEP 8, la guía de estilo de código Python más utilizada.**"
   ]
  },
  {
   "cell_type": "markdown",
   "metadata": {},
   "source": [
    "Sin embargo, esta convención no es aplicada por el intérprete de Python. Python no tiene distinciones fuertes entre variables \"privadas\" y \"públicas\" como lo hace Java. \n",
    "\n",
    "Añadir un solo guión bajo delante del nombre de una variable es más bien como si alguien pusiera una pequeña señal de advertencia de guión bajo que dijera: \"Oye, esto no está realmente destinado a formar parte de la interfaz pública de esta clase. Es mejor dejarlo estar\"."
   ]
  },
  {
   "cell_type": "code",
   "execution_count": 1,
   "metadata": {},
   "outputs": [],
   "source": [
    "class Test:\n",
    "    def __init__(self):\n",
    "        self.foo = 11 \n",
    "        self._bar = 23"
   ]
  },
  {
   "cell_type": "code",
   "execution_count": 2,
   "metadata": {},
   "outputs": [
    {
     "name": "stdout",
     "output_type": "stream",
     "text": [
      "11\n",
      "23\n"
     ]
    }
   ],
   "source": [
    "t = Test()\n",
    "\n",
    "print(t.foo)\n",
    "print(t._bar)"
   ]
  },
  {
   "cell_type": "markdown",
   "metadata": {},
   "source": [
    "Como puedes ver podemos acceder a estos valores de las variables sin problema. El _ simplemente indica que esa variable debe ser tratada como si fuera privada."
   ]
  },
  {
   "cell_type": "markdown",
   "metadata": {},
   "source": [
    "**Sin embargo, los guiones bajos iniciales afectan a la forma en que se importan los nombres de los módulos.**\n",
    "\n",
    "Imagina que tienes el siguiente código en un módulo llamado mi_módulo:"
   ]
  },
  {
   "cell_type": "code",
   "execution_count": 3,
   "metadata": {},
   "outputs": [],
   "source": [
    "# my_module.py:\n",
    "\n",
    "def external_func(): \n",
    "    return 23\n",
    "\n",
    "def _internal_func():\n",
    "    return 42"
   ]
  },
  {
   "cell_type": "markdown",
   "metadata": {},
   "source": [
    "Si hicieras:"
   ]
  },
  {
   "cell_type": "code",
   "execution_count": null,
   "metadata": {},
   "outputs": [],
   "source": [
    "from my_module import *"
   ]
  },
  {
   "cell_type": "markdown",
   "metadata": {},
   "source": [
    "y después:"
   ]
  },
  {
   "cell_type": "code",
   "execution_count": 5,
   "metadata": {},
   "outputs": [
    {
     "name": "stdout",
     "output_type": "stream",
     "text": [
      "23\n"
     ]
    }
   ],
   "source": [
    "print(external_func())"
   ]
  },
  {
   "cell_type": "markdown",
   "metadata": {},
   "source": [
    "Esta devolvería 23 como ahora."
   ]
  },
  {
   "cell_type": "code",
   "execution_count": null,
   "metadata": {},
   "outputs": [],
   "source": [
    "print(_internal_func())"
   ]
  },
  {
   "cell_type": "markdown",
   "metadata": {},
   "source": [
    "Pero esta última devolvería:\n",
    "    \n",
    "NameError: \"name '_internal_func' is not defined\""
   ]
  },
  {
   "cell_type": "markdown",
   "metadata": {},
   "source": [
    "Ahora bien, si se utiliza un comodín de importación (import *) para importar todos los nombres del módulo, Python no importará nombres con un guión bajo inicial (a menos que el módulo defina una lista \\__all\\__ que anule este comportamiento):"
   ]
  },
  {
   "cell_type": "markdown",
   "metadata": {},
   "source": [
    "**Por cierto, las importaciones con comodines deben evitarse, ya que no dejan claro qué nombres están presentes en el espacio de nombres.**\n",
    "\n",
    "Es mejor ceñirse a las importaciones regulares en aras de la claridad. A diferencia de las importaciones con comodines, las importaciones regulares no se ven afectadas por la convención de nomenclatura con un solo guión bajo:"
   ]
  },
  {
   "cell_type": "markdown",
   "metadata": {},
   "source": [
    "### Guión bajo final simple: var_"
   ]
  },
  {
   "cell_type": "markdown",
   "metadata": {},
   "source": [
    "A veces el nombre más apropiado para una variable ya está tomado por una palabra clave en el lenguaje Python.\n",
    "\n",
    "Por lo tanto, nombres como class o def no pueden usarse como nombres de variables en Python. En este caso, puedes añadir un único guión bajo para romper el conflicto de nombres:"
   ]
  },
  {
   "cell_type": "code",
   "execution_count": 6,
   "metadata": {},
   "outputs": [
    {
     "ename": "SyntaxError",
     "evalue": "invalid syntax (<ipython-input-6-8bc7202f8bcc>, line 1)",
     "output_type": "error",
     "traceback": [
      "\u001b[0;36m  File \u001b[0;32m\"<ipython-input-6-8bc7202f8bcc>\"\u001b[0;36m, line \u001b[0;32m1\u001b[0m\n\u001b[0;31m    def make_object(name, class):\u001b[0m\n\u001b[0m                          ^\u001b[0m\n\u001b[0;31mSyntaxError\u001b[0m\u001b[0;31m:\u001b[0m invalid syntax\n"
     ]
    }
   ],
   "source": [
    "def make_object(name, class):\n",
    "    pass"
   ]
  },
  {
   "cell_type": "code",
   "execution_count": 8,
   "metadata": {},
   "outputs": [],
   "source": [
    "def make_object(name, class_):\n",
    "    pass"
   ]
  },
  {
   "cell_type": "markdown",
   "metadata": {},
   "source": [
    "### Doble guión bajo inicial: \\__var"
   ]
  },
  {
   "cell_type": "markdown",
   "metadata": {},
   "source": [
    "Los patrones de nomenclatura que hemos cubierto hasta ahora reciben su significado únicamente de las convenciones acordadas. \n",
    "\n",
    "Con los atributos de clase de Python (variables y métodos) que comienzan con doble guión bajo, las cosas son un poco diferentes."
   ]
  },
  {
   "cell_type": "markdown",
   "metadata": {},
   "source": [
    "Un prefijo de doble guión bajo hace que el intérprete de Python reescriba el nombre del atributo para evitar conflictos de nombres en las subclases.\n",
    "\n",
    "Esto también se llama **name mangling**.\n",
    "\n",
    "El intérprete cambia el nombre de la variable de una manera que hace más difícil crear colisiones cuando la clase se extiende más tarde.\n",
    "Sé que esto suena bastante abstracto. Por eso he preparado este pequeño ejemplo de código que podemos utilizar para experimentar:"
   ]
  },
  {
   "cell_type": "code",
   "execution_count": 9,
   "metadata": {},
   "outputs": [],
   "source": [
    "class Test:\n",
    "    def __init__(self):\n",
    "        self.foo = 11\n",
    "        self._bar = 23 \n",
    "        self.__baz = 23"
   ]
  },
  {
   "cell_type": "markdown",
   "metadata": {},
   "source": [
    "Echemos un vistazo a los atributos de este objeto utilizando la función incorporada dir():"
   ]
  },
  {
   "cell_type": "code",
   "execution_count": 10,
   "metadata": {},
   "outputs": [
    {
     "data": {
      "text/plain": [
       "['_Test__baz',\n",
       " '__class__',\n",
       " '__delattr__',\n",
       " '__dict__',\n",
       " '__dir__',\n",
       " '__doc__',\n",
       " '__eq__',\n",
       " '__format__',\n",
       " '__ge__',\n",
       " '__getattribute__',\n",
       " '__gt__',\n",
       " '__hash__',\n",
       " '__init__',\n",
       " '__init_subclass__',\n",
       " '__le__',\n",
       " '__lt__',\n",
       " '__module__',\n",
       " '__ne__',\n",
       " '__new__',\n",
       " '__reduce__',\n",
       " '__reduce_ex__',\n",
       " '__repr__',\n",
       " '__setattr__',\n",
       " '__sizeof__',\n",
       " '__str__',\n",
       " '__subclasshook__',\n",
       " '__weakref__',\n",
       " '_bar',\n",
       " 'foo']"
      ]
     },
     "execution_count": 10,
     "metadata": {},
     "output_type": "execute_result"
    }
   ],
   "source": [
    "t = Test()\n",
    "\n",
    "dir(t)"
   ]
  },
  {
   "cell_type": "markdown",
   "metadata": {},
   "source": [
    "Esto nos da una lista con los atributos del objeto. Tomemos esta lista y busquemos nuestros nombres de variables originales foo, _bar y \\__baz. \n",
    "\n",
    "Vamos a ver algunos cambios notables.\n",
    "\n",
    "En primer lugar, la variable self.foo aparece sin modificar como foo en la lista de atributos.\n",
    "\n",
    "A continuación, self._bar se comporta de la misma manera: aparece en la clase como _bar. Como comenté antes, el guión bajo inicial es sólo una convención en este caso, una pista para el programador.\n",
    "\n",
    "Sin embargo, con self.\\__baz las cosas se ven un poco diferentes. Cuando busques \\__baz en esa lista, verás que no hay ninguna variable con ese nombre. \n",
    "\n",
    "Entonces, ¿Qué ha pasado con \\__baz?\n",
    "\n",
    "Si te fijas bien, verás que hay un atributo llamado _Test__baz en este objeto. Este es el nombre que aplica el intérprete de Python. Lo hace para proteger la variable de ser sobrescrita en subclases."
   ]
  },
  {
   "cell_type": "markdown",
   "metadata": {},
   "source": [
    "Vamos a crear otra clase que extienda la clase Test e intente anular sus atributos existentes añadidos en el constructor:"
   ]
  },
  {
   "cell_type": "code",
   "execution_count": 11,
   "metadata": {},
   "outputs": [],
   "source": [
    "class ExtendedTest(Test):\n",
    "    def __init__(self):\n",
    "        super().__init__() \n",
    "        self.foo = 'overridden' \n",
    "        self._bar = 'overridden' \n",
    "        self.__baz = 'overridden'"
   ]
  },
  {
   "cell_type": "code",
   "execution_count": 12,
   "metadata": {},
   "outputs": [
    {
     "data": {
      "text/plain": [
       "['_ExtendedTest__baz',\n",
       " '_Test__baz',\n",
       " '__class__',\n",
       " '__delattr__',\n",
       " '__dict__',\n",
       " '__dir__',\n",
       " '__doc__',\n",
       " '__eq__',\n",
       " '__format__',\n",
       " '__ge__',\n",
       " '__getattribute__',\n",
       " '__gt__',\n",
       " '__hash__',\n",
       " '__init__',\n",
       " '__init_subclass__',\n",
       " '__le__',\n",
       " '__lt__',\n",
       " '__module__',\n",
       " '__ne__',\n",
       " '__new__',\n",
       " '__reduce__',\n",
       " '__reduce_ex__',\n",
       " '__repr__',\n",
       " '__setattr__',\n",
       " '__sizeof__',\n",
       " '__str__',\n",
       " '__subclasshook__',\n",
       " '__weakref__',\n",
       " '_bar',\n",
       " 'foo']"
      ]
     },
     "execution_count": 12,
     "metadata": {},
     "output_type": "execute_result"
    }
   ],
   "source": [
    "t2 = ExtendedTest()\n",
    "\n",
    "dir(t2)"
   ]
  },
  {
   "cell_type": "code",
   "execution_count": 13,
   "metadata": {},
   "outputs": [
    {
     "data": {
      "text/plain": [
       "'overridden'"
      ]
     },
     "execution_count": 13,
     "metadata": {},
     "output_type": "execute_result"
    }
   ],
   "source": [
    "t2.foo"
   ]
  },
  {
   "cell_type": "code",
   "execution_count": 14,
   "metadata": {},
   "outputs": [
    {
     "data": {
      "text/plain": [
       "'overridden'"
      ]
     },
     "execution_count": 14,
     "metadata": {},
     "output_type": "execute_result"
    }
   ],
   "source": [
    "t2._bar"
   ]
  },
  {
   "cell_type": "code",
   "execution_count": 15,
   "metadata": {},
   "outputs": [
    {
     "ename": "AttributeError",
     "evalue": "'ExtendedTest' object has no attribute '__baz'",
     "output_type": "error",
     "traceback": [
      "\u001b[0;31m---------------------------------------------------------------------------\u001b[0m",
      "\u001b[0;31mAttributeError\u001b[0m                            Traceback (most recent call last)",
      "\u001b[0;32m<ipython-input-15-ce8e845954f0>\u001b[0m in \u001b[0;36m<module>\u001b[0;34m\u001b[0m\n\u001b[0;32m----> 1\u001b[0;31m \u001b[0mt2\u001b[0m\u001b[0;34m.\u001b[0m\u001b[0m__baz\u001b[0m\u001b[0;34m\u001b[0m\u001b[0;34m\u001b[0m\u001b[0m\n\u001b[0m",
      "\u001b[0;31mAttributeError\u001b[0m: 'ExtendedTest' object has no attribute '__baz'"
     ]
    }
   ],
   "source": [
    "t2.__baz"
   ]
  },
  {
   "cell_type": "markdown",
   "metadata": {},
   "source": [
    "Como podemos ver, la nueva clase ExtendedTest() que hereda de Test no tiene la variable \\__baz:\n",
    "\n",
    "* Tiene la variable heredada de Test llamada _Test__baz.\n",
    "* Y también su propia variable \\__baz llamada _ExtendedTest\\__baz."
   ]
  },
  {
   "cell_type": "code",
   "execution_count": 16,
   "metadata": {},
   "outputs": [
    {
     "data": {
      "text/plain": [
       "'overridden'"
      ]
     },
     "execution_count": 16,
     "metadata": {},
     "output_type": "execute_result"
    }
   ],
   "source": [
    "t2._ExtendedTest__baz"
   ]
  },
  {
   "cell_type": "code",
   "execution_count": 17,
   "metadata": {},
   "outputs": [
    {
     "data": {
      "text/plain": [
       "23"
      ]
     },
     "execution_count": 17,
     "metadata": {},
     "output_type": "execute_result"
    }
   ],
   "source": [
    "t2._Test__baz"
   ]
  },
  {
   "cell_type": "markdown",
   "metadata": {},
   "source": [
    "El name mangling es totalmente transparente al programador:\n",
    "    \n",
    "    "
   ]
  },
  {
   "cell_type": "code",
   "execution_count": 18,
   "metadata": {},
   "outputs": [],
   "source": [
    "class ManglingTest:\n",
    "    \n",
    "    def __init__(self):\n",
    "        self.__mangled = 'hello' \n",
    "    \n",
    "    def get_mangled(self):\n",
    "        return self.__mangled"
   ]
  },
  {
   "cell_type": "code",
   "execution_count": 19,
   "metadata": {},
   "outputs": [
    {
     "data": {
      "text/plain": [
       "'hello'"
      ]
     },
     "execution_count": 19,
     "metadata": {},
     "output_type": "execute_result"
    }
   ],
   "source": [
    "ManglingTest().get_mangled()"
   ]
  },
  {
   "cell_type": "markdown",
   "metadata": {},
   "source": [
    "Como ves puedes hacerle referencia a la variable desde dentro de un método de la propia clase."
   ]
  },
  {
   "cell_type": "code",
   "execution_count": 20,
   "metadata": {},
   "outputs": [
    {
     "ename": "AttributeError",
     "evalue": "'ManglingTest' object has no attribute '__mangled'",
     "output_type": "error",
     "traceback": [
      "\u001b[0;31m---------------------------------------------------------------------------\u001b[0m",
      "\u001b[0;31mAttributeError\u001b[0m                            Traceback (most recent call last)",
      "\u001b[0;32m<ipython-input-20-14d8b1db7c4f>\u001b[0m in \u001b[0;36m<module>\u001b[0;34m\u001b[0m\n\u001b[0;32m----> 1\u001b[0;31m \u001b[0mManglingTest\u001b[0m\u001b[0;34m(\u001b[0m\u001b[0;34m)\u001b[0m\u001b[0;34m.\u001b[0m\u001b[0m__mangled\u001b[0m\u001b[0;34m\u001b[0m\u001b[0;34m\u001b[0m\u001b[0m\n\u001b[0m",
      "\u001b[0;31mAttributeError\u001b[0m: 'ManglingTest' object has no attribute '__mangled'"
     ]
    }
   ],
   "source": [
    "ManglingTest().__mangled"
   ]
  },
  {
   "cell_type": "markdown",
   "metadata": {},
   "source": [
    "Pero no acceder a la variable de forma directa desde un objeto de la misma clase.\n",
    "\n",
    "Para ello habría que hacer:"
   ]
  },
  {
   "cell_type": "code",
   "execution_count": 22,
   "metadata": {},
   "outputs": [
    {
     "data": {
      "text/plain": [
       "'hello'"
      ]
     },
     "execution_count": 22,
     "metadata": {},
     "output_type": "execute_result"
    }
   ],
   "source": [
    "ManglingTest()._ManglingTest__mangled"
   ]
  },
  {
   "cell_type": "markdown",
   "metadata": {},
   "source": [
    "Con los métodos de clase pasa exactamente igual, puedes hacer referencia a ellos desde la definición de la clase, pero si quieres acceder a ellos en el objeto tienes que llamarlos como arriba:\n",
    "\n",
    "ObjetoClase()._NombreClase__nombreMetodo"
   ]
  },
  {
   "cell_type": "code",
   "execution_count": 23,
   "metadata": {},
   "outputs": [],
   "source": [
    "class MangledMethod: \n",
    "    \n",
    "    def __method(self):\n",
    "        return 42\n",
    "\n",
    "    def call_it(self):\n",
    "        return self.__method()"
   ]
  },
  {
   "cell_type": "code",
   "execution_count": 24,
   "metadata": {},
   "outputs": [
    {
     "ename": "AttributeError",
     "evalue": "'MangledMethod' object has no attribute '__method'",
     "output_type": "error",
     "traceback": [
      "\u001b[0;31m---------------------------------------------------------------------------\u001b[0m",
      "\u001b[0;31mAttributeError\u001b[0m                            Traceback (most recent call last)",
      "\u001b[0;32m<ipython-input-24-3a27f66f344d>\u001b[0m in \u001b[0;36m<module>\u001b[0;34m\u001b[0m\n\u001b[0;32m----> 1\u001b[0;31m \u001b[0mMangledMethod\u001b[0m\u001b[0;34m(\u001b[0m\u001b[0;34m)\u001b[0m\u001b[0;34m.\u001b[0m\u001b[0m__method\u001b[0m\u001b[0;34m(\u001b[0m\u001b[0;34m)\u001b[0m\u001b[0;34m\u001b[0m\u001b[0;34m\u001b[0m\u001b[0m\n\u001b[0m",
      "\u001b[0;31mAttributeError\u001b[0m: 'MangledMethod' object has no attribute '__method'"
     ]
    }
   ],
   "source": [
    "MangledMethod().__method()"
   ]
  },
  {
   "cell_type": "code",
   "execution_count": 25,
   "metadata": {},
   "outputs": [
    {
     "data": {
      "text/plain": [
       "42"
      ]
     },
     "execution_count": 25,
     "metadata": {},
     "output_type": "execute_result"
    }
   ],
   "source": [
    "MangledMethod().call_it()"
   ]
  },
  {
   "cell_type": "markdown",
   "metadata": {},
   "source": [
    "Otro ejemplo de name manglin es el siguiente:"
   ]
  },
  {
   "cell_type": "code",
   "execution_count": 1,
   "metadata": {},
   "outputs": [],
   "source": [
    "_MangledGlobal__mangled = 23\n",
    "\n",
    "class MangledGlobal: \n",
    "    \n",
    "    def test(self):\n",
    "        return __mangled"
   ]
  },
  {
   "cell_type": "code",
   "execution_count": 2,
   "metadata": {},
   "outputs": [
    {
     "data": {
      "text/plain": [
       "23"
      ]
     },
     "execution_count": 2,
     "metadata": {},
     "output_type": "execute_result"
    }
   ],
   "source": [
    "MangledGlobal().test()"
   ]
  },
  {
   "cell_type": "markdown",
   "metadata": {},
   "source": [
    "En este ejemplo, declaré _MangledGlobal__mangled como una variable global. \n",
    "\n",
    "Luego accedí a la variable dentro del contexto de una clase llamada MangledGlobal. Gracias al name mangling, pude referenciar la variable global _MangledGlobal__mangled como \\__mangled dentro del método test() de la clase.\n",
    "\n",
    "El intérprete de Python expandió automáticamente el nombre \\__mangled a _MangledGlobal__mangled porque comienza con dos caracteres de subrayado. \n",
    "\n",
    "**Esto demuestra que el name mangling no está ligado a los atributos de la clase específicamente. Se aplica a cualquier nombre que comience con dos caracteres de subrayado que se utilice en un contexto de clase.**"
   ]
  },
  {
   "cell_type": "markdown",
   "metadata": {},
   "source": [
    "### ¿Qué significa el término \"dunder\"?"
   ]
  },
  {
   "cell_type": "markdown",
   "metadata": {},
   "source": [
    "Si has escuchado a algunos pythonistas experimentados hablar de Python o has visto algunas charlas en conferencias, es posible que hayas oído el término dunder. Si te preguntas qué es eso, pues aquí tienes la respuesta:\n",
    "\n",
    "**Los dobles guiones bajos se denominan a menudo \"dunder\" en la comunidad de Python.**\n",
    "\n",
    "La razón es que los dobles guiones bajos aparecen con bastante frecuencia en el código de Python, y para evitar la fatiga de los músculos de la mandíbula, los pythonistas suelen acortar \"doble guión bajo\" a \"dunder\"."
   ]
  },
  {
   "cell_type": "markdown",
   "metadata": {},
   "source": [
    "### Doble guión bajo inicial y final: \\__var\\__"
   ]
  },
  {
   "cell_type": "markdown",
   "metadata": {},
   "source": [
    "**Los nombres que tienen doble puntuación inicial y final están reservados para un uso especial en el lenguaje.**\n",
    "\n",
    "Esta regla cubre cosas como __init__ para los constructores de objetos, o __call__ para hacer que los objetos sean invocables."
   ]
  },
  {
   "cell_type": "markdown",
   "metadata": {},
   "source": [
    "### Guión bajo simple: _"
   ]
  },
  {
   "cell_type": "markdown",
   "metadata": {},
   "source": [
    "Por convención, a veces se utiliza un solo guión bajo independiente como para indicar que una variable es temporal o insignificante.\n",
    "\n",
    "Por ejemplo, en el siguiente bucle no necesitamos acceder al índice y podemos usar \"_\" para indicar que es sólo un valor temporal:"
   ]
  },
  {
   "cell_type": "code",
   "execution_count": 4,
   "metadata": {},
   "outputs": [
    {
     "name": "stdout",
     "output_type": "stream",
     "text": [
      "Hello, World.\n",
      "Hello, World.\n",
      "Hello, World.\n"
     ]
    }
   ],
   "source": [
    "for _ in range(3):\n",
    "    print('Hello, World.')"
   ]
  },
  {
   "cell_type": "markdown",
   "metadata": {},
   "source": [
    "También puedes utilizar guiones bajos simples en las expresiones de desempaquetado para ignorar valores particulares que no vas a utilizar.\n",
    "\n",
    "De nuevo, este significado es sólo por convención y no provoca ningún comportamiento especial en el analizador de Python. El guión bajo simple es simplemente un nombre de variable válido que a veces se utiliza para este propósito."
   ]
  },
  {
   "cell_type": "code",
   "execution_count": 5,
   "metadata": {},
   "outputs": [],
   "source": [
    "car = ('red', 'auto', 12, 3812.4)\n",
    "color, _, _, mileage = car"
   ]
  },
  {
   "cell_type": "code",
   "execution_count": 6,
   "metadata": {},
   "outputs": [
    {
     "data": {
      "text/plain": [
       "'red'"
      ]
     },
     "execution_count": 6,
     "metadata": {},
     "output_type": "execute_result"
    }
   ],
   "source": [
    "color"
   ]
  },
  {
   "cell_type": "code",
   "execution_count": 7,
   "metadata": {},
   "outputs": [
    {
     "data": {
      "text/plain": [
       "3812.4"
      ]
     },
     "execution_count": 7,
     "metadata": {},
     "output_type": "execute_result"
    }
   ],
   "source": [
    "mileage"
   ]
  },
  {
   "cell_type": "code",
   "execution_count": 8,
   "metadata": {},
   "outputs": [
    {
     "data": {
      "text/plain": [
       "12"
      ]
     },
     "execution_count": 8,
     "metadata": {},
     "output_type": "execute_result"
    }
   ],
   "source": [
    "_"
   ]
  },
  {
   "cell_type": "markdown",
   "metadata": {},
   "source": [
    "Además de su uso como variable temporal, \"_\" es una variable especial en la mayoría de los REPL de Python que representa el resultado de la última expresión evaluada por el intérprete. Esto es útil si estás trabajando en una sesión de interpretación y quieres acceder al resultado de un cálculo anterior."
   ]
  },
  {
   "cell_type": "markdown",
   "metadata": {},
   "source": [
    "También es útil si creas un objeto sobre la marcha (como una lista) en el interprete sin asignarle un nombre. \n",
    "\n",
    "Puedes referirte a ella como \"_\", ya que es lo último que has puesto."
   ]
  },
  {
   "cell_type": "raw",
   "metadata": {},
   "source": [
    "Por ejemplo, si pones en el interprete:\n",
    "    \n",
    ">>>list()\n",
    "\n",
    "Te puedes referir a ella como\n",
    "\n",
    ">>> _.append(\"A\")"
   ]
  },
  {
   "cell_type": "markdown",
   "metadata": {},
   "source": [
    "## Claves:"
   ]
  },
  {
   "cell_type": "markdown",
   "metadata": {},
   "source": [
    "* Guión bajo simple inicial\"_var\": La convención de nomenclatura que indica un nombre es para uso interno. Generalmente no es forzada por el intérprete de Python (excepto en las importaciones con comodines) y sólo sirve como pista para el programador.\n",
    "\n",
    "* Guión bajo simple final \"var_\": Se utiliza por convención para evitar conflictos de nombres con las palabras clave de Python.\n",
    "\n",
    "* Doble guión bajo inicial \"\\__var\": Activa la búsqueda de nombres cuando se utiliza en un contexto de clase. Lo impone el intérprete de Python.\n",
    "\n",
    "* Doble guión bajo inicial y final \"\\__var\\__\": Indica métodos especiales definidos por el lenguaje Python. Evite este esquema de nomenclatura para sus propios atributos.\n",
    "\n",
    "* Guión bajo simple \"_\": A veces se utiliza como nombre para variables temporales o insignificantes (\"no importa\"). Además, representa el resultado de la última expresión en una sesión REPL de Python."
   ]
  }
 ],
 "metadata": {
  "kernelspec": {
   "display_name": "Python 3",
   "language": "python",
   "name": "python3"
  },
  "language_info": {
   "codemirror_mode": {
    "name": "ipython",
    "version": 3
   },
   "file_extension": ".py",
   "mimetype": "text/x-python",
   "name": "python",
   "nbconvert_exporter": "python",
   "pygments_lexer": "ipython3",
   "version": "3.8.5"
  }
 },
 "nbformat": 4,
 "nbformat_minor": 4
}
