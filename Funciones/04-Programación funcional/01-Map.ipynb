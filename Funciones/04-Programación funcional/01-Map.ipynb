{
 "cells": [
  {
   "cell_type": "markdown",
   "id": "7077948a",
   "metadata": {},
   "source": [
    "# Map"
   ]
  },
  {
   "cell_type": "markdown",
   "id": "8b00f4e7",
   "metadata": {},
   "source": [
    "La función map() es probablemente una de las mas reconocidas a la hora de utilizar programación funcional:"
   ]
  },
  {
   "cell_type": "markdown",
   "id": "e5e3b677",
   "metadata": {},
   "source": [
    "## Funcionamiento"
   ]
  },
  {
   "cell_type": "markdown",
   "id": "3b9b10c4",
   "metadata": {},
   "source": [
    "Dada una función y una secuencia de objetos, aplica dicha función a cada elemento de la secuencia, produciendo una nueva secuencia que contiene los valores devueltos por la función."
   ]
  },
  {
   "cell_type": "markdown",
   "id": "842ec420",
   "metadata": {},
   "source": [
    "Ejemplo: "
   ]
  },
  {
   "cell_type": "code",
   "execution_count": 1,
   "id": "fa8cd159",
   "metadata": {},
   "outputs": [],
   "source": [
    "suma_2 = lambda x: x+2"
   ]
  },
  {
   "cell_type": "code",
   "execution_count": 2,
   "id": "7b1d1928",
   "metadata": {},
   "outputs": [
    {
     "data": {
      "text/plain": [
       "<map at 0x18f2cb42370>"
      ]
     },
     "execution_count": 2,
     "metadata": {},
     "output_type": "execute_result"
    }
   ],
   "source": [
    "map(suma_2, [1, 2, 3, 4, 5])"
   ]
  },
  {
   "cell_type": "markdown",
   "id": "f3bb5af8",
   "metadata": {},
   "source": [
    "Como podemos ver, map devuelve un objeto map. \n",
    "\n",
    "La función map no devolverá los valores hasta que sea necesarios utilizarlos, lo que se conoce como ***lazy evaluation***."
   ]
  },
  {
   "cell_type": "markdown",
   "id": "1f692b2e",
   "metadata": {},
   "source": [
    "El objeto map devuelto es un **iterador**:"
   ]
  },
  {
   "cell_type": "code",
   "execution_count": 3,
   "id": "2bb46786",
   "metadata": {},
   "outputs": [
    {
     "name": "stdout",
     "output_type": "stream",
     "text": [
      "3\n",
      "4\n",
      "5\n",
      "6\n",
      "7\n"
     ]
    }
   ],
   "source": [
    "for elemento in map(suma_2, [1, 2, 3, 4, 5]):\n",
    "    print(elemento)"
   ]
  },
  {
   "cell_type": "markdown",
   "id": "e8b4b71a",
   "metadata": {},
   "source": [
    "## Importante"
   ]
  },
  {
   "cell_type": "markdown",
   "id": "75cafafd",
   "metadata": {},
   "source": [
    "La función map() requiere tantas secuencias como argumentos tenga la función:"
   ]
  },
  {
   "cell_type": "code",
   "execution_count": 4,
   "id": "97fc53ea",
   "metadata": {},
   "outputs": [],
   "source": [
    "suma = lambda x, y: x+y"
   ]
  },
  {
   "cell_type": "code",
   "execution_count": 5,
   "id": "1b14d996",
   "metadata": {},
   "outputs": [],
   "source": [
    "suma = map(suma, [1, 2, 3], [1, 2, 3])"
   ]
  },
  {
   "cell_type": "code",
   "execution_count": 6,
   "id": "3988ce54",
   "metadata": {},
   "outputs": [
    {
     "name": "stdout",
     "output_type": "stream",
     "text": [
      "2\n",
      "4\n",
      "6\n"
     ]
    }
   ],
   "source": [
    "for resultado in suma:\n",
    "    print(resultado)"
   ]
  },
  {
   "cell_type": "markdown",
   "id": "0384a0cd",
   "metadata": {},
   "source": [
    "**Al igual que ocurre con la función zip(), si las secuencias no son de la misma longitud, map terminará de ejecutarse cuando termine la secuencia más corta.**"
   ]
  }
 ],
 "metadata": {
  "kernelspec": {
   "display_name": "Python 3 (ipykernel)",
   "language": "python",
   "name": "python3"
  },
  "language_info": {
   "codemirror_mode": {
    "name": "ipython",
    "version": 3
   },
   "file_extension": ".py",
   "mimetype": "text/x-python",
   "name": "python",
   "nbconvert_exporter": "python",
   "pygments_lexer": "ipython3",
   "version": "3.9.7"
  }
 },
 "nbformat": 4,
 "nbformat_minor": 5
}
