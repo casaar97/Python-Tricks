{
 "cells": [
  {
   "cell_type": "markdown",
   "id": "5234e0b0",
   "metadata": {},
   "source": [
    "# Reduce"
   ]
  },
  {
   "cell_type": "markdown",
   "id": "ace17e81",
   "metadata": {},
   "source": [
    "## Funcionamiento"
   ]
  },
  {
   "cell_type": "markdown",
   "id": "555a2e4b",
   "metadata": {},
   "source": [
    "La función reduce() aplica repetidamente una función de dos argumentos a un valor acumulado y el siguiente elemento de una secuencia.\n",
    "\n",
    "El valor inicial puede ser el primer elemento en la secuencia de entrada o un argumento opcional.\n",
    "\n",
    "Finalmente, el valor final acumulado o \"valor reducido\" es devuelto."
   ]
  },
  {
   "cell_type": "code",
   "execution_count": 1,
   "id": "8094590d",
   "metadata": {},
   "outputs": [
    {
     "data": {
      "text/plain": [
       "15"
      ]
     },
     "execution_count": 1,
     "metadata": {},
     "output_type": "execute_result"
    }
   ],
   "source": [
    "from functools import reduce\n",
    "\n",
    "numeros = [1, 2, 3, 4, 5]\n",
    "\n",
    "reduce((lambda x, y: x+y), numeros)"
   ]
  },
  {
   "cell_type": "markdown",
   "id": "08444e85",
   "metadata": {},
   "source": [
    "Podemos ver el funcionamiento añadiendo un print a la definición de la función:"
   ]
  },
  {
   "cell_type": "code",
   "execution_count": 2,
   "id": "a879a60f",
   "metadata": {},
   "outputs": [],
   "source": [
    "def suma(x, y):\n",
    "    resultado = x+y\n",
    "    print(\"x:\", x, \"y:\", y, \"resultado:\", resultado)\n",
    "    return resultado"
   ]
  },
  {
   "cell_type": "code",
   "execution_count": 3,
   "id": "26864611",
   "metadata": {},
   "outputs": [
    {
     "name": "stdout",
     "output_type": "stream",
     "text": [
      "x: 1 y: 2 resultado: 3\n",
      "x: 3 y: 3 resultado: 6\n",
      "x: 6 y: 4 resultado: 10\n",
      "x: 10 y: 5 resultado: 15\n"
     ]
    },
    {
     "data": {
      "text/plain": [
       "15"
      ]
     },
     "execution_count": 3,
     "metadata": {},
     "output_type": "execute_result"
    }
   ],
   "source": [
    "reduce(suma, numeros)"
   ]
  },
  {
   "cell_type": "markdown",
   "id": "b8badc43",
   "metadata": {},
   "source": [
    "## Añadir un valor inicial"
   ]
  },
  {
   "cell_type": "code",
   "execution_count": 4,
   "id": "c07f04a3",
   "metadata": {},
   "outputs": [
    {
     "name": "stdout",
     "output_type": "stream",
     "text": [
      "x: 0 y: 1 resultado: 1\n",
      "x: 1 y: 2 resultado: 3\n",
      "x: 3 y: 3 resultado: 6\n",
      "x: 6 y: 4 resultado: 10\n",
      "x: 10 y: 5 resultado: 15\n"
     ]
    },
    {
     "data": {
      "text/plain": [
       "15"
      ]
     },
     "execution_count": 4,
     "metadata": {},
     "output_type": "execute_result"
    }
   ],
   "source": [
    "reduce(suma, numeros, 0)"
   ]
  }
 ],
 "metadata": {
  "kernelspec": {
   "display_name": "Python 3 (ipykernel)",
   "language": "python",
   "name": "python3"
  },
  "language_info": {
   "codemirror_mode": {
    "name": "ipython",
    "version": 3
   },
   "file_extension": ".py",
   "mimetype": "text/x-python",
   "name": "python",
   "nbconvert_exporter": "python",
   "pygments_lexer": "ipython3",
   "version": "3.9.7"
  }
 },
 "nbformat": 4,
 "nbformat_minor": 5
}
