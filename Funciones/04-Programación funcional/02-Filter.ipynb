{
 "cells": [
  {
   "cell_type": "markdown",
   "id": "c171054f",
   "metadata": {},
   "source": [
    "# Filter"
   ]
  },
  {
   "cell_type": "markdown",
   "id": "1e383503",
   "metadata": {},
   "source": [
    "## Funcionamiento"
   ]
  },
  {
   "cell_type": "markdown",
   "id": "65b385ae",
   "metadata": {},
   "source": [
    "La función filter() elimina los elementos de una secuencia que no cumplen un determinado criterio. Es decir, se aplica una función predicado a cada elemento de la secuencia.\n",
    "\n",
    "- Al igual que map, produce un resultado *lazy*.\n",
    "\n",
    "- A diferencia de map, solo admite una única secuencia de entrada y la función debe aceptar un único argumento."
   ]
  },
  {
   "cell_type": "code",
   "execution_count": 1,
   "id": "6db1dea6",
   "metadata": {},
   "outputs": [],
   "source": [
    "es_par = lambda x: x%2==0"
   ]
  },
  {
   "cell_type": "code",
   "execution_count": 2,
   "id": "f660b8e5",
   "metadata": {},
   "outputs": [
    {
     "data": {
      "text/plain": [
       "<filter at 0x1b74bf6ad30>"
      ]
     },
     "execution_count": 2,
     "metadata": {},
     "output_type": "execute_result"
    }
   ],
   "source": [
    "filter(es_par, [1, 2, 3, 4, 5])"
   ]
  },
  {
   "cell_type": "code",
   "execution_count": 3,
   "id": "262ff537",
   "metadata": {},
   "outputs": [
    {
     "name": "stdout",
     "output_type": "stream",
     "text": [
      "2\n",
      "4\n"
     ]
    }
   ],
   "source": [
    "for elemento in filter(es_par, [1, 2, 3, 4, 5]):\n",
    "    print(elemento)"
   ]
  }
 ],
 "metadata": {
  "kernelspec": {
   "display_name": "Python 3 (ipykernel)",
   "language": "python",
   "name": "python3"
  },
  "language_info": {
   "codemirror_mode": {
    "name": "ipython",
    "version": 3
   },
   "file_extension": ".py",
   "mimetype": "text/x-python",
   "name": "python",
   "nbconvert_exporter": "python",
   "pygments_lexer": "ipython3",
   "version": "3.9.7"
  }
 },
 "nbformat": 4,
 "nbformat_minor": 5
}
