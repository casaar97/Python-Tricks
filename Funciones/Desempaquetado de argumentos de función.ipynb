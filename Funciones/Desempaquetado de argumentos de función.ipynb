{
 "cells": [
  {
   "cell_type": "markdown",
   "metadata": {},
   "source": [
    "# Desempaquetado de argumentos de función"
   ]
  },
  {
   "cell_type": "markdown",
   "metadata": {},
   "source": [
    "Una característica muy interesante, aunque un poco arcaica, es la posibilidad de \"desempaquetar\" argumentos de funciones de secuencias y diccionarios con los operadores \\* y \\**.\n",
    "\n",
    "Definamos una función sencilla para trabajar como ejemplo:"
   ]
  },
  {
   "cell_type": "code",
   "execution_count": 1,
   "metadata": {},
   "outputs": [],
   "source": [
    "def mostrarVector(x, y, z): \n",
    "    print('<%s, %s, %s>' % (x, y, z))"
   ]
  },
  {
   "cell_type": "markdown",
   "metadata": {},
   "source": [
    "Como puedes ver, esta función toma tres argumentos (x, y, y z) y los imprime de una forma bonita. Podemos utilizar esta función para imprimir vectores tridimensionales en nuestro programa:"
   ]
  },
  {
   "cell_type": "code",
   "execution_count": 2,
   "metadata": {},
   "outputs": [
    {
     "name": "stdout",
     "output_type": "stream",
     "text": [
      "<0, 1, 0>\n"
     ]
    }
   ],
   "source": [
    "mostrarVector(0,1,0)"
   ]
  },
  {
   "cell_type": "markdown",
   "metadata": {},
   "source": [
    "Ahora bien, dependiendo de la estructura de datos que elijamos para representar los vectores 3D, imprimirlos con nuestra función mostrarVector puede resultar un poco incómodo. \n",
    "\n",
    "Por ejemplo, si nuestros vectores se representan como tuplas o listas, debemos especificar explícitamente el índice de cada componente al imprimirlos:"
   ]
  },
  {
   "cell_type": "code",
   "execution_count": 3,
   "metadata": {},
   "outputs": [
    {
     "name": "stdout",
     "output_type": "stream",
     "text": [
      "<1, 0, 1>\n"
     ]
    }
   ],
   "source": [
    "vector_tupla = (1,0,1)\n",
    "\n",
    "mostrarVector(vector_tupla[0],vector_tupla[1],vector_tupla[2])"
   ]
  },
  {
   "cell_type": "code",
   "execution_count": 4,
   "metadata": {},
   "outputs": [
    {
     "name": "stdout",
     "output_type": "stream",
     "text": [
      "<1, 0, 1>\n"
     ]
    }
   ],
   "source": [
    "vector_lista= [1,0,1]\n",
    "\n",
    "mostrarVector(vector_lista[0],vector_lista[1],vector_lista[2])"
   ]
  },
  {
   "cell_type": "markdown",
   "metadata": {},
   "source": [
    "¿No sería mucho mejor si pudiéramos simplemente \"explotar\" un objeto vectorial en sus tres componentes y pasar todo a la función print_vector de una vez?\n",
    "\n",
    "Afortunadamente, hay una forma mejor de manejar esta situación en Python con el desempaquetado de argumentos de función usando el operador \\*:"
   ]
  },
  {
   "cell_type": "code",
   "execution_count": 5,
   "metadata": {},
   "outputs": [
    {
     "name": "stdout",
     "output_type": "stream",
     "text": [
      "<1, 0, 1>\n"
     ]
    }
   ],
   "source": [
    "mostrarVector(*vector_lista)"
   ]
  },
  {
   "cell_type": "code",
   "execution_count": 6,
   "metadata": {},
   "outputs": [
    {
     "name": "stdout",
     "output_type": "stream",
     "text": [
      "<1, 0, 1>\n"
     ]
    }
   ],
   "source": [
    "mostrarVector(*vector_tupla)"
   ]
  },
  {
   "cell_type": "markdown",
   "metadata": {},
   "source": [
    "Poner un \\* antes de un iterable en una llamada a una función lo desempaquetará y pasará sus elementos como argumentos posicionales separados a la función llamada.\n",
    "\n",
    "Esta técnica funciona para cualquier iterable, incluidas las expresiones del generador. El uso del operador \\* en un generador consume todos los elementos del generador y los pasa a la función:"
   ]
  },
  {
   "cell_type": "code",
   "execution_count": 7,
   "metadata": {},
   "outputs": [
    {
     "name": "stdout",
     "output_type": "stream",
     "text": [
      "<0, 1, 4>\n"
     ]
    }
   ],
   "source": [
    "genexpr = (x * x for x in range(3))\n",
    "mostrarVector(*genexpr)"
   ]
  },
  {
   "cell_type": "markdown",
   "metadata": {},
   "source": [
    "Además del operador * para desempaquetar secuencias como tuplas, listas y generadores en argumentos posicionales, también existe el operador \\** para desempaquetar argumentos de palabras clave de diccionarios. \n",
    "\n",
    "Imagina que nuestro vector se representa como el siguiente objeto dict:"
   ]
  },
  {
   "cell_type": "code",
   "execution_count": 8,
   "metadata": {},
   "outputs": [],
   "source": [
    "vector_diccionario = {'y': 0, 'z': 1, 'x': 1}"
   ]
  },
  {
   "cell_type": "code",
   "execution_count": 9,
   "metadata": {},
   "outputs": [
    {
     "name": "stdout",
     "output_type": "stream",
     "text": [
      "<1, 0, 1>\n"
     ]
    }
   ],
   "source": [
    "mostrarVector(**vector_diccionario)"
   ]
  },
  {
   "cell_type": "markdown",
   "metadata": {},
   "source": [
    "Como los diccionarios no están ordenados, esto hace coincidir los valores del diccionario y los argumentos de la función en función de las claves del diccionario: el argumento x recibe el valor asociado a la clave 'x' del diccionario.\n",
    "\n",
    "Si se utilizara el operador de asterisco simple (*) para descomponer el diccionario, las claves se pasarían a la función en orden aleatorio:"
   ]
  },
  {
   "cell_type": "code",
   "execution_count": 10,
   "metadata": {},
   "outputs": [
    {
     "name": "stdout",
     "output_type": "stream",
     "text": [
      "<y, z, x>\n"
     ]
    }
   ],
   "source": [
    "mostrarVector(*vector_diccionario)"
   ]
  },
  {
   "cell_type": "markdown",
   "metadata": {},
   "source": [
    "La función de desempaquetado de argumentos de funciones de Python te da mucha flexibilidad de forma gratuita. A menudo esto significa que no tendrás que implementar una clase para un tipo de datos necesario para tu programa.\n",
    "\n",
    "Como resultado, el uso de estructuras de datos simples incorporadas como tuplas o listas será suficiente y ayudará a reducir la complejidad de su código.\n"
   ]
  },
  {
   "cell_type": "markdown",
   "metadata": {},
   "source": [
    "## Claves"
   ]
  },
  {
   "cell_type": "markdown",
   "metadata": {},
   "source": [
    "* Los operadores \\* y \\** pueden utilizarse para \"desempaquetar\" los argumentos de las funciones a partir de secuencias y diccionarios.\n",
    "* El uso eficaz del desempaquetado de argumentos puede ayudarle a escribir interfaces más flexibles para sus módulos y funciones."
   ]
  }
 ],
 "metadata": {
  "kernelspec": {
   "display_name": "Python 3",
   "language": "python",
   "name": "python3"
  },
  "language_info": {
   "codemirror_mode": {
    "name": "ipython",
    "version": 3
   },
   "file_extension": ".py",
   "mimetype": "text/x-python",
   "name": "python",
   "nbconvert_exporter": "python",
   "pygments_lexer": "ipython3",
   "version": "3.8.5"
  }
 },
 "nbformat": 4,
 "nbformat_minor": 4
}
