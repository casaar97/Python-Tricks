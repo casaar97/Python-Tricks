{
 "cells": [
  {
   "cell_type": "markdown",
   "metadata": {},
   "source": [
    "# Nada que devolver"
   ]
  },
  {
   "cell_type": "markdown",
   "metadata": {},
   "source": [
    "Python añade una declaración implícita de retorno None al final de cualquier función. Por lo tanto, si una función no especifica un valor de retorno, se convierte en None por defecto.\n",
    "\n",
    "Esto significa que puedes reemplazar las sentencias return None con sentencias return desnudas o incluso omitirlas por completo y seguir obteniendo el mismo resultado:"
   ]
  },
  {
   "cell_type": "code",
   "execution_count": 1,
   "metadata": {},
   "outputs": [],
   "source": [
    "def prueba1(valor): \n",
    "    \n",
    "    if valor:\n",
    "        return valor \n",
    "    else:\n",
    "        return None\n",
    "    \n",
    "def prueba2(valor):\n",
    "\n",
    "    if valor:\n",
    "        return valor \n",
    "    else:\n",
    "        return\n",
    "\n",
    "def prueba3(valor):\n",
    "    \n",
    "    if valor:\n",
    "        return valor"
   ]
  },
  {
   "cell_type": "code",
   "execution_count": 2,
   "metadata": {},
   "outputs": [
    {
     "data": {
      "text/plain": [
       "NoneType"
      ]
     },
     "execution_count": 2,
     "metadata": {},
     "output_type": "execute_result"
    }
   ],
   "source": [
    "type(prueba1(0))"
   ]
  },
  {
   "cell_type": "code",
   "execution_count": 3,
   "metadata": {},
   "outputs": [
    {
     "data": {
      "text/plain": [
       "NoneType"
      ]
     },
     "execution_count": 3,
     "metadata": {},
     "output_type": "execute_result"
    }
   ],
   "source": [
    "type(prueba2(0))"
   ]
  },
  {
   "cell_type": "code",
   "execution_count": 4,
   "metadata": {},
   "outputs": [
    {
     "data": {
      "text/plain": [
       "NoneType"
      ]
     },
     "execution_count": 4,
     "metadata": {},
     "output_type": "execute_result"
    }
   ],
   "source": [
    "type(prueba3(0))"
   ]
  },
  {
   "cell_type": "markdown",
   "metadata": {},
   "source": [
    "Ahora bien, ¿cuándo es una buena idea utilizar esta función en tu propio código Python?\n",
    "\n",
    "Mi regla general es que si una función no tiene un valor de retorno (otros lenguajes la llamarían procedimiento), entonces omitiré la declaración de retorno. Añadir una sería superfluo y confuso. Un ejemplo de procedimiento sería la función print de Python, que sólo se llama por sus efectos secundarios (imprimir texto) y nunca por su valor de retorno.\n",
    "\n",
    "Tomemos una función como la suma incorporada de Python. Claramente tiene un valor de retorno logico, y tipicamente la suma no seria llamada solo por sus efectos secundarios. Su propósito es sumar una secuencia de números y luego entregar el resultado. Ahora bien, si una función tiene un valor de retorno desde un punto de vista lógico, hay que decidir si se utiliza un retorno implícito o no.\n",
    "\n",
    "Por un lado, se podría argumentar que omitir una declaración explícita de retorno None hace que el código sea más conciso y, por tanto, más fácil de leer y entender. Subjetivamente, también podría decir que hace que el código sea \"más bonito\".\n",
    "\n",
    "Por otro lado, podría sorprender a algunos programadores que Python se comporte de esta manera. Cuando se trata de escribir código limpio y mantenible, un comportamiento sorprendente rara vez es una buena señal."
   ]
  },
  {
   "cell_type": "markdown",
   "metadata": {},
   "source": [
    "## Claves"
   ]
  },
  {
   "cell_type": "markdown",
   "metadata": {},
   "source": [
    "* Si una función no especifica un valor de retorno, devuelve None. Devolver explícitamente None es una decisión de estilo.\n",
    "* Esta es una característica central de Python, pero tu código podría comunicar su intención más claramente con una declaración explícita de retorno de None."
   ]
  }
 ],
 "metadata": {
  "kernelspec": {
   "display_name": "Python 3 (ipykernel)",
   "language": "python",
   "name": "python3"
  },
  "language_info": {
   "codemirror_mode": {
    "name": "ipython",
    "version": 3
   },
   "file_extension": ".py",
   "mimetype": "text/x-python",
   "name": "python",
   "nbconvert_exporter": "python",
   "pygments_lexer": "ipython3",
   "version": "3.9.7"
  }
 },
 "nbformat": 4,
 "nbformat_minor": 4
}
