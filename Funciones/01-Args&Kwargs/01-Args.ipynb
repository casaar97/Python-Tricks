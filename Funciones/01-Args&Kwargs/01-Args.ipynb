{
 "cells": [
  {
   "cell_type": "markdown",
   "id": "f79fd1e3",
   "metadata": {},
   "source": [
    "# Args"
   ]
  },
  {
   "cell_type": "markdown",
   "id": "f7036b5f",
   "metadata": {},
   "source": [
    "- Args compacta todos los argumentos que se pasen a un método en una tupla.\n",
    "\n",
    "- Se utiliza la sintaxis de un asterisco delante del nombre del argumento.\n",
    "\n",
    "- El parámetro no tiene que llamarse args obligatoriamente, se usa args por convención.\n",
    "\n",
    "- Siempre va después de los argumentos posicionales."
   ]
  },
  {
   "cell_type": "markdown",
   "id": "3842d0ed",
   "metadata": {},
   "source": [
    "Vamos a ver el siguiente ejemplo:"
   ]
  },
  {
   "cell_type": "code",
   "execution_count": 1,
   "id": "f164f05c",
   "metadata": {},
   "outputs": [],
   "source": [
    "def mostrar_args(*args):\n",
    "    print(args)\n",
    "    print(type(args))"
   ]
  },
  {
   "cell_type": "code",
   "execution_count": 2,
   "id": "59b6dc67",
   "metadata": {},
   "outputs": [
    {
     "name": "stdout",
     "output_type": "stream",
     "text": [
      "(1, 2, 3, 4, 5)\n",
      "<class 'tuple'>\n"
     ]
    }
   ],
   "source": [
    "mostrar_args(1, 2, 3, 4, 5)"
   ]
  },
  {
   "cell_type": "markdown",
   "id": "b6979dc8",
   "metadata": {},
   "source": [
    "Si creamos una función para hacer el sumatorio:"
   ]
  },
  {
   "cell_type": "code",
   "execution_count": 3,
   "id": "3fdf039b",
   "metadata": {},
   "outputs": [],
   "source": [
    "def sumatorio(*args):\n",
    "    \n",
    "    sumatorio = 0\n",
    "    \n",
    "    iterador = iter(args)\n",
    "    \n",
    "    for elemento in iterador:\n",
    "        sumatorio += elemento\n",
    "        \n",
    "    return sumatorio"
   ]
  },
  {
   "cell_type": "code",
   "execution_count": 4,
   "id": "d0c31573",
   "metadata": {},
   "outputs": [
    {
     "data": {
      "text/plain": [
       "15"
      ]
     },
     "execution_count": 4,
     "metadata": {},
     "output_type": "execute_result"
    }
   ],
   "source": [
    "sumatorio(1, 2, 3, 4, 5)"
   ]
  },
  {
   "cell_type": "markdown",
   "id": "097bd858",
   "metadata": {},
   "source": [
    "También se puede hacer así:"
   ]
  },
  {
   "cell_type": "code",
   "execution_count": 5,
   "id": "b6b4ac2a",
   "metadata": {},
   "outputs": [],
   "source": [
    "def sumatorio(*args):\n",
    "    \n",
    "    sumatorio = 0\n",
    "\n",
    "    for elemento in args:\n",
    "        sumatorio += elemento\n",
    "        \n",
    "    return sumatorio"
   ]
  },
  {
   "cell_type": "code",
   "execution_count": 6,
   "id": "388e73ca",
   "metadata": {},
   "outputs": [
    {
     "data": {
      "text/plain": [
       "15"
      ]
     },
     "execution_count": 6,
     "metadata": {},
     "output_type": "execute_result"
    }
   ],
   "source": [
    "sumatorio(1, 2, 3, 4, 5)"
   ]
  },
  {
   "cell_type": "markdown",
   "id": "26dd4d31",
   "metadata": {},
   "source": [
    "Pero usar un iterador es mas eficiente."
   ]
  },
  {
   "cell_type": "markdown",
   "id": "51f3e617",
   "metadata": {},
   "source": [
    "## Args siempre debe ir después de los argumentos posicionales"
   ]
  },
  {
   "cell_type": "markdown",
   "id": "1c20b6e2",
   "metadata": {},
   "source": [
    "En el caso de que haya mas argumentos:"
   ]
  },
  {
   "cell_type": "code",
   "execution_count": 7,
   "id": "69a5fb96",
   "metadata": {},
   "outputs": [],
   "source": [
    "def mostrar_args(primer_valor, *args):\n",
    "    print(args)"
   ]
  },
  {
   "cell_type": "code",
   "execution_count": 8,
   "id": "a11d3449",
   "metadata": {},
   "outputs": [
    {
     "name": "stdout",
     "output_type": "stream",
     "text": [
      "(2, 3, 4, 5)\n"
     ]
    }
   ],
   "source": [
    "mostrar_args(1, 2, 3, 4, 5)"
   ]
  }
 ],
 "metadata": {
  "kernelspec": {
   "display_name": "Python 3 (ipykernel)",
   "language": "python",
   "name": "python3"
  },
  "language_info": {
   "codemirror_mode": {
    "name": "ipython",
    "version": 3
   },
   "file_extension": ".py",
   "mimetype": "text/x-python",
   "name": "python",
   "nbconvert_exporter": "python",
   "pygments_lexer": "ipython3",
   "version": "3.9.7"
  }
 },
 "nbformat": 4,
 "nbformat_minor": 5
}
