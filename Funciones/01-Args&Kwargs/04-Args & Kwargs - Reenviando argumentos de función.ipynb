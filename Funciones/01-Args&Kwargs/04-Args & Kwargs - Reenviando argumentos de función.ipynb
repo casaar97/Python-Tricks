{
 "cells": [
  {
   "cell_type": "markdown",
   "id": "a067570a",
   "metadata": {},
   "source": [
    "# Args & Kwargs: Reenviando argumentos de función"
   ]
  },
  {
   "cell_type": "markdown",
   "id": "f8ec31b1",
   "metadata": {},
   "source": [
    "Podemos utilizar args y kwargs para enviar argumentos de entrada a una función:"
   ]
  },
  {
   "cell_type": "code",
   "execution_count": 1,
   "id": "f6ae0564",
   "metadata": {},
   "outputs": [],
   "source": [
    "def trace(f, *args, **kwargs):\n",
    "    print('args = ', args)\n",
    "    print('kwargs = ', kwargs)\n",
    "    result = f(*args, **kwargs)\n",
    "    print('result = ', result)\n",
    "    return result"
   ]
  },
  {
   "cell_type": "markdown",
   "id": "3cfaaa58",
   "metadata": {},
   "source": [
    "Vamos demostrarlo con la función int:"
   ]
  },
  {
   "cell_type": "code",
   "execution_count": 2,
   "id": "8a3997e0",
   "metadata": {},
   "outputs": [
    {
     "data": {
      "text/plain": [
       "255"
      ]
     },
     "execution_count": 2,
     "metadata": {},
     "output_type": "execute_result"
    }
   ],
   "source": [
    "int(\"ff\", base=16)"
   ]
  },
  {
   "cell_type": "code",
   "execution_count": 3,
   "id": "e3327b4e",
   "metadata": {},
   "outputs": [
    {
     "name": "stdout",
     "output_type": "stream",
     "text": [
      "args =  ('ff',)\n",
      "kwargs =  {'base': 16}\n",
      "result =  255\n"
     ]
    },
    {
     "data": {
      "text/plain": [
       "255"
      ]
     },
     "execution_count": 3,
     "metadata": {},
     "output_type": "execute_result"
    }
   ],
   "source": [
    "trace(int,\"ff\",base=16)"
   ]
  },
  {
   "cell_type": "markdown",
   "id": "8b1679f2",
   "metadata": {},
   "source": [
    "Todo esto viene explicado en mas detalle en el notebook: **Args and Kwargs**.\n",
    "\n",
    "Enlace: https://github.com/casaar97/Python-Tricks/blob/main/Args%20and%20kwargs.ipynb"
   ]
  }
 ],
 "metadata": {
  "kernelspec": {
   "display_name": "Python 3 (ipykernel)",
   "language": "python",
   "name": "python3"
  },
  "language_info": {
   "codemirror_mode": {
    "name": "ipython",
    "version": 3
   },
   "file_extension": ".py",
   "mimetype": "text/x-python",
   "name": "python",
   "nbconvert_exporter": "python",
   "pygments_lexer": "ipython3",
   "version": "3.9.7"
  }
 },
 "nbformat": 4,
 "nbformat_minor": 5
}
