{
 "cells": [
  {
   "cell_type": "markdown",
   "metadata": {},
   "source": [
    "# Args and Kwargs"
   ]
  },
  {
   "cell_type": "markdown",
   "metadata": {},
   "source": [
    "Ahora bien, aunque son fácilmente imitables, los parámetros \\*args y \\**kwargs no dejan de ser una característica muy útil en Python. Y entender su potencia te convertirá en un desarrollador más eficaz.\n",
    "\n",
    "¿Para qué sirven los parámetros \\*args y \\**kwargs? \n",
    "\n",
    "Permiten que una función acepte argumentos opcionales, para que puedas crear APIs flexibles en tus módulos y clases:"
   ]
  },
  {
   "cell_type": "code",
   "execution_count": 1,
   "metadata": {},
   "outputs": [],
   "source": [
    "def prueba(argumentoRequerido, *args, **kwargs): \n",
    "    \n",
    "    print(argumentoRequerido)\n",
    "\n",
    "    if args: \n",
    "        print(args)\n",
    "\n",
    "    if kwargs: \n",
    "        print(kwargs)"
   ]
  },
  {
   "cell_type": "markdown",
   "metadata": {},
   "source": [
    "La función anterior requiere al menos un argumento llamado \"required\", pero puede aceptar también argumentos posicionales y de palabra clave adicionales.\n",
    "\n",
    "* Si llamamos a la función con argumentos adicionales, args recogerá los argumentos posicionales extra como una tupla porque el nombre del parámetro tiene un prefijo \\*.\n",
    "\n",
    "* Del mismo modo, kwargs recogerá los argumentos extra de palabra clave como un diccionario porque el nombre del parámetro tiene un prefijo \\**.\n",
    "\n",
    "Tanto args como kwargs pueden estar vacíos si no se pasan argumentos adicionales a la función.\n",
    "A medida que llamamos a la función con varias combinaciones de argumentos, verás cómo Python los recoge dentro de los parámetros args y kwargs según sean argumentos posicionales o de palabra clave:"
   ]
  },
  {
   "cell_type": "code",
   "execution_count": 2,
   "metadata": {},
   "outputs": [
    {
     "name": "stdout",
     "output_type": "stream",
     "text": [
      "prueba() missing 1 required positional argument: 'argumentoRequerido'\n"
     ]
    }
   ],
   "source": [
    "try:\n",
    "    prueba()\n",
    "except TypeError as error:\n",
    "    print(error)"
   ]
  },
  {
   "cell_type": "code",
   "execution_count": 3,
   "metadata": {},
   "outputs": [
    {
     "name": "stdout",
     "output_type": "stream",
     "text": [
      "Hola\n"
     ]
    }
   ],
   "source": [
    "prueba(\"Hola\")"
   ]
  },
  {
   "cell_type": "code",
   "execution_count": 4,
   "metadata": {},
   "outputs": [
    {
     "name": "stdout",
     "output_type": "stream",
     "text": [
      "Hola\n",
      "(1, 2, 3)\n"
     ]
    }
   ],
   "source": [
    "prueba(\"Hola\", 1, 2, 3)"
   ]
  },
  {
   "cell_type": "code",
   "execution_count": 5,
   "metadata": {},
   "outputs": [
    {
     "name": "stdout",
     "output_type": "stream",
     "text": [
      "Hola\n",
      "(1, 2, 3)\n",
      "{'clave1': 'value', 'clave2': 999}\n"
     ]
    }
   ],
   "source": [
    "prueba(\"Hola\", 1, 2, 3, clave1=\"value\", clave2=999)"
   ]
  },
  {
   "cell_type": "markdown",
   "metadata": {},
   "source": [
    "**Llamar a los parámetros args y kwargs es simplemente una convención de nombres.**\n",
    "\n",
    "El ejemplo anterior funcionaría igual de bien si los llamaras \\*parms y \\**argv. La sintaxis real es simplemente el asterisco (\\*) o el doble asterisco (\\**), respectivamente.\n",
    "\n",
    "Sin embargo, es recomendable que se atenga a la convención de nomenclatura aceptada para evitar confusiones."
   ]
  },
  {
   "cell_type": "markdown",
   "metadata": {},
   "source": [
    "## Reenvío de argumentos opcionales o de palabras clave"
   ]
  },
  {
   "cell_type": "markdown",
   "metadata": {},
   "source": [
    "Es posible pasar parámetros opcionales o de palabra clave de una función a otra. Puedes hacerlo utilizando los operadores de desempaquetado de argumentos * y ** al llamar a la función a la que desea enviar los argumentos.\n",
    "\n",
    "Esto también le da la oportunidad de modificar los argumentos antes de\n",
    "pasarlos.\n",
    "\n",
    "He aquí un ejemplo:"
   ]
  },
  {
   "cell_type": "code",
   "execution_count": 6,
   "metadata": {},
   "outputs": [],
   "source": [
    "def prueba(x, *args, **kwargs): \n",
    "    kwargs['nombre'] = 'Alicia' \n",
    "    nuevosArgs = args + ('extra', ) \n",
    "    bar(x, *nuevosArgs, **kwargs)"
   ]
  },
  {
   "cell_type": "markdown",
   "metadata": {},
   "source": [
    "Esta técnica puede ser útil para subclasificar y escribir funciones envolventes. Por ejemplo, se puede utilizar para extender el comportamiento de una clase padre sin tener que replicar la firma completa de su constructor en la clase hija."
   ]
  },
  {
   "cell_type": "markdown",
   "metadata": {},
   "source": [
    "Otro escenario en el que esta técnica es potencialmente útil es la escritura de funciones envolventes como los decoradores. En este caso, normalmente también se desea aceptar argumentos arbitrarios que se pasen a la función envuelta.\n",
    "\n",
    "Y, si podemos hacerlo sin tener que copiar y pegar la firma de la función original, podría ser más fácil de mantener:"
   ]
  },
  {
   "cell_type": "code",
   "execution_count": 7,
   "metadata": {},
   "outputs": [],
   "source": [
    "import functools\n",
    "\n",
    "def trace(f):\n",
    "    \n",
    "    @functools.wraps(f)\n",
    "    def funcionDecorada(*args, **kwargs):\n",
    "        print(f, args, kwargs) \n",
    "        result = f(*args, **kwargs) \n",
    "        print(result)\n",
    "        \n",
    "    return funcionDecorada"
   ]
  },
  {
   "cell_type": "code",
   "execution_count": 8,
   "metadata": {},
   "outputs": [],
   "source": [
    "@trace\n",
    "def saludar(saludo, nombre):\n",
    "    return '{}, {}!'.format(saludo, nombre)"
   ]
  },
  {
   "cell_type": "code",
   "execution_count": 9,
   "metadata": {},
   "outputs": [
    {
     "name": "stdout",
     "output_type": "stream",
     "text": [
      "<function saludar at 0x00000211F246D820> ('Hola', 'Carlos') {}\n",
      "Hola, Carlos!\n"
     ]
    }
   ],
   "source": [
    "saludar(\"Hola\",\"Carlos\")"
   ]
  },
  {
   "cell_type": "markdown",
   "metadata": {},
   "source": [
    "Con técnicas como ésta, a veces es difícil equilibrar la idea de hacer el código lo suficientemente explícito y, al mismo tiempo, adherirse al principio de No te repitas \"Don´t repeat yourself (DRY).\""
   ]
  },
  {
   "cell_type": "markdown",
   "metadata": {},
   "source": [
    "## Claves"
   ]
  },
  {
   "cell_type": "markdown",
   "metadata": {},
   "source": [
    "* \\*args y \\**kwargs te permiten escribir funciones con un número variable de argumentos en Python.\n",
    "* \\*args recoge los argumentos posicionales extra como una tupla. \\**kwargs recoge los argumentos extra de palabra clave como un diccionario.\n",
    "* La sintaxis real es \\* y \\**. Llamarlos args y kwargs es sólo una convención (a la que deberías atenerte). "
   ]
  }
 ],
 "metadata": {
  "kernelspec": {
   "display_name": "Python 3 (ipykernel)",
   "language": "python",
   "name": "python3"
  },
  "language_info": {
   "codemirror_mode": {
    "name": "ipython",
    "version": 3
   },
   "file_extension": ".py",
   "mimetype": "text/x-python",
   "name": "python",
   "nbconvert_exporter": "python",
   "pygments_lexer": "ipython3",
   "version": "3.9.7"
  }
 },
 "nbformat": 4,
 "nbformat_minor": 4
}
