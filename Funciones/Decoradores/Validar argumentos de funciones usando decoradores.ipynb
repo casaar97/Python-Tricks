{
 "cells": [
  {
   "cell_type": "markdown",
   "id": "13fc180b",
   "metadata": {},
   "source": [
    "# Validar argumentos de funciones usando decoradores"
   ]
  },
  {
   "cell_type": "markdown",
   "id": "d0121875",
   "metadata": {},
   "source": [
    "Antes de leer este notebook se recomienda haber leído todos los otros notebooks acerca de ***Decoradores***."
   ]
  },
  {
   "cell_type": "markdown",
   "id": "59e12877",
   "metadata": {},
   "source": [
    "Vamos a validar que los argumentos de una función no son negativos:"
   ]
  },
  {
   "cell_type": "code",
   "execution_count": 1,
   "id": "fa54cd0a",
   "metadata": {},
   "outputs": [],
   "source": [
    "def validar_no_negativo(indice):\n",
    "    def validador(f):\n",
    "        def envoltorio(*args):\n",
    "            if args[indice] < 0:\n",
    "                raise ValueError(\"El argumento {} debe ser no negativo\".format(indice))\n",
    "            return f(*args)\n",
    "        return envoltorio\n",
    "    return validador"
   ]
  },
  {
   "cell_type": "code",
   "execution_count": 2,
   "id": "9d3d43d0",
   "metadata": {},
   "outputs": [],
   "source": [
    "@validar_no_negativo(1)\n",
    "def crear_lista(valor, tamano):\n",
    "    return [valor] * tamano"
   ]
  },
  {
   "cell_type": "code",
   "execution_count": 3,
   "id": "bba58683",
   "metadata": {},
   "outputs": [],
   "source": [
    "lista = crear_lista(\"a\",5)"
   ]
  },
  {
   "cell_type": "code",
   "execution_count": 4,
   "id": "2185fc44",
   "metadata": {},
   "outputs": [],
   "source": [
    "lista = crear_lista(1,5)"
   ]
  },
  {
   "cell_type": "code",
   "execution_count": 5,
   "id": "197d9570",
   "metadata": {},
   "outputs": [
    {
     "ename": "ValueError",
     "evalue": "El argumento 1 debe ser no negativo",
     "output_type": "error",
     "traceback": [
      "\u001b[1;31m---------------------------------------------------------------------------\u001b[0m",
      "\u001b[1;31mValueError\u001b[0m                                Traceback (most recent call last)",
      "\u001b[1;32m<ipython-input-5-021167c30eeb>\u001b[0m in \u001b[0;36m<module>\u001b[1;34m\u001b[0m\n\u001b[1;32m----> 1\u001b[1;33m \u001b[0mlista\u001b[0m \u001b[1;33m=\u001b[0m \u001b[0mcrear_lista\u001b[0m\u001b[1;33m(\u001b[0m\u001b[1;36m1\u001b[0m\u001b[1;33m,\u001b[0m\u001b[1;33m-\u001b[0m\u001b[1;36m5\u001b[0m\u001b[1;33m)\u001b[0m\u001b[1;33m\u001b[0m\u001b[1;33m\u001b[0m\u001b[0m\n\u001b[0m",
      "\u001b[1;32m<ipython-input-1-807c06319648>\u001b[0m in \u001b[0;36menvoltorio\u001b[1;34m(*args)\u001b[0m\n\u001b[0;32m      3\u001b[0m         \u001b[1;32mdef\u001b[0m \u001b[0menvoltorio\u001b[0m\u001b[1;33m(\u001b[0m\u001b[1;33m*\u001b[0m\u001b[0margs\u001b[0m\u001b[1;33m)\u001b[0m\u001b[1;33m:\u001b[0m\u001b[1;33m\u001b[0m\u001b[1;33m\u001b[0m\u001b[0m\n\u001b[0;32m      4\u001b[0m             \u001b[1;32mif\u001b[0m \u001b[0margs\u001b[0m\u001b[1;33m[\u001b[0m\u001b[0mindice\u001b[0m\u001b[1;33m]\u001b[0m \u001b[1;33m<\u001b[0m \u001b[1;36m0\u001b[0m\u001b[1;33m:\u001b[0m\u001b[1;33m\u001b[0m\u001b[1;33m\u001b[0m\u001b[0m\n\u001b[1;32m----> 5\u001b[1;33m                 \u001b[1;32mraise\u001b[0m \u001b[0mValueError\u001b[0m\u001b[1;33m(\u001b[0m\u001b[1;34m\"El argumento {} debe ser no negativo\"\u001b[0m\u001b[1;33m.\u001b[0m\u001b[0mformat\u001b[0m\u001b[1;33m(\u001b[0m\u001b[0mindice\u001b[0m\u001b[1;33m)\u001b[0m\u001b[1;33m)\u001b[0m\u001b[1;33m\u001b[0m\u001b[1;33m\u001b[0m\u001b[0m\n\u001b[0m\u001b[0;32m      6\u001b[0m             \u001b[1;32mreturn\u001b[0m \u001b[0mf\u001b[0m\u001b[1;33m(\u001b[0m\u001b[1;33m*\u001b[0m\u001b[0margs\u001b[0m\u001b[1;33m)\u001b[0m\u001b[1;33m\u001b[0m\u001b[1;33m\u001b[0m\u001b[0m\n\u001b[0;32m      7\u001b[0m         \u001b[1;32mreturn\u001b[0m \u001b[0menvoltorio\u001b[0m\u001b[1;33m\u001b[0m\u001b[1;33m\u001b[0m\u001b[0m\n",
      "\u001b[1;31mValueError\u001b[0m: El argumento 1 debe ser no negativo"
     ]
    }
   ],
   "source": [
    "lista = crear_lista(1,-5)"
   ]
  },
  {
   "cell_type": "markdown",
   "id": "bda7ec09",
   "metadata": {},
   "source": [
    "Realmente, ***validar_no_negativo*** no es un decorador, ya que un decorador coge como entrada un objeto invocable y devuelde otro objeto invocable."
   ]
  },
  {
   "cell_type": "markdown",
   "id": "5b61cbb6",
   "metadata": {},
   "source": [
    "En este caso, ***validar_no_negativo*** coge como entrada un **entero**, que es el **índice del argumento que representa el tamaño de la lista a crear**."
   ]
  },
  {
   "cell_type": "markdown",
   "id": "0643b44a",
   "metadata": {},
   "source": [
    "El verdadero decorador aquí es ***validador***. Es decir, ***validar_no_negativo*** **no es un decorador, sino un método que devuelve un decorador**."
   ]
  },
  {
   "cell_type": "markdown",
   "id": "0fc024f6",
   "metadata": {},
   "source": [
    "El motivo por el que se hace esto es para aprovechar los cierres léxicos o ***closures***, ya que en este caso, gracias a ellos, ***indice*** puede ser usado dentro del decorador ***validador*** y su **envoltorio**."
   ]
  }
 ],
 "metadata": {
  "kernelspec": {
   "display_name": "Python 3",
   "language": "python",
   "name": "python3"
  },
  "language_info": {
   "codemirror_mode": {
    "name": "ipython",
    "version": 3
   },
   "file_extension": ".py",
   "mimetype": "text/x-python",
   "name": "python",
   "nbconvert_exporter": "python",
   "pygments_lexer": "ipython3",
   "version": "3.8.8"
  }
 },
 "nbformat": 4,
 "nbformat_minor": 5
}
