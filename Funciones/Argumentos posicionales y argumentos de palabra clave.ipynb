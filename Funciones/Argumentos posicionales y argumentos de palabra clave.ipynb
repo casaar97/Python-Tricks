{
 "cells": [
  {
   "cell_type": "markdown",
   "id": "c19afb87",
   "metadata": {},
   "source": [
    "# Argumentos posicionales y argumentos de palabra clave"
   ]
  },
  {
   "cell_type": "markdown",
   "id": "0cf5fff5",
   "metadata": {},
   "source": [
    "Cuando usamos una función, podemos utilizar el nombre de los argumentos como palabra clave:"
   ]
  },
  {
   "cell_type": "code",
   "execution_count": 1,
   "id": "c127ac9f",
   "metadata": {},
   "outputs": [],
   "source": [
    "def banner(message, border='-'):\n",
    "    banner = len(message) * border\n",
    "    print(banner)\n",
    "    print(message)\n",
    "    print(banner)"
   ]
  },
  {
   "cell_type": "code",
   "execution_count": 2,
   "id": "65ec2586",
   "metadata": {},
   "outputs": [
    {
     "name": "stdout",
     "output_type": "stream",
     "text": [
      "----\n",
      "Hola\n",
      "----\n"
     ]
    }
   ],
   "source": [
    "banner(\"Hola\")"
   ]
  },
  {
   "cell_type": "code",
   "execution_count": 3,
   "id": "a215f3ef",
   "metadata": {},
   "outputs": [
    {
     "name": "stdout",
     "output_type": "stream",
     "text": [
      "****\n",
      "Hola\n",
      "****\n"
     ]
    }
   ],
   "source": [
    "banner(\"Hola\", border='*')"
   ]
  },
  {
   "cell_type": "code",
   "execution_count": 4,
   "id": "d5e7dff6",
   "metadata": {},
   "outputs": [
    {
     "name": "stdout",
     "output_type": "stream",
     "text": [
      "****\n",
      "Hola\n",
      "****\n"
     ]
    }
   ],
   "source": [
    "banner(message=\"Hola\", border='*')"
   ]
  },
  {
   "cell_type": "markdown",
   "id": "bc6eed20",
   "metadata": {},
   "source": [
    "Gracias a los argumentos de palabra clave (En los que se indica el nombre del argumento cuando se invoca la función), podemos cambiar el orden en el que se insertan los argumentos:"
   ]
  },
  {
   "cell_type": "code",
   "execution_count": 6,
   "id": "9d0bd5de",
   "metadata": {},
   "outputs": [
    {
     "name": "stdout",
     "output_type": "stream",
     "text": [
      "****\n",
      "Hola\n",
      "****\n"
     ]
    }
   ],
   "source": [
    "banner(border='*', message=\"Hola\")"
   ]
  },
  {
   "cell_type": "markdown",
   "id": "033c50a1",
   "metadata": {},
   "source": [
    "Como vemos, no hay ningún problema, ya que como todos están indicados no va a haber confusiones."
   ]
  },
  {
   "cell_type": "markdown",
   "id": "2e8d17dd",
   "metadata": {},
   "source": [
    "## Importante"
   ]
  },
  {
   "cell_type": "markdown",
   "id": "80648d38",
   "metadata": {},
   "source": [
    "Cuando se usan los argumentos posicionales y los de palabra clave al mismo tiempo, **siempre deben indicarse primero los posicionales en el orden establecido**."
   ]
  },
  {
   "cell_type": "markdown",
   "id": "d65f3a9e",
   "metadata": {},
   "source": [
    "No se puede hacer lo siguiente:"
   ]
  },
  {
   "cell_type": "code",
   "execution_count": 8,
   "id": "15c22513",
   "metadata": {},
   "outputs": [
    {
     "ename": "TypeError",
     "evalue": "banner() got multiple values for argument 'message'",
     "output_type": "error",
     "traceback": [
      "\u001b[1;31m---------------------------------------------------------------------------\u001b[0m",
      "\u001b[1;31mTypeError\u001b[0m                                 Traceback (most recent call last)",
      "\u001b[1;32m~\\AppData\\Local\\Temp/ipykernel_9704/2473425295.py\u001b[0m in \u001b[0;36m<module>\u001b[1;34m\u001b[0m\n\u001b[1;32m----> 1\u001b[1;33m \u001b[0mbanner\u001b[0m\u001b[1;33m(\u001b[0m\u001b[1;34m'*'\u001b[0m\u001b[1;33m,\u001b[0m \u001b[0mmessage\u001b[0m\u001b[1;33m=\u001b[0m\u001b[1;34m\"Hola\"\u001b[0m\u001b[1;33m)\u001b[0m\u001b[1;33m\u001b[0m\u001b[1;33m\u001b[0m\u001b[0m\n\u001b[0m",
      "\u001b[1;31mTypeError\u001b[0m: banner() got multiple values for argument 'message'"
     ]
    }
   ],
   "source": [
    "banner('*', message=\"Hola\")"
   ]
  },
  {
   "cell_type": "markdown",
   "id": "be19c190",
   "metadata": {},
   "source": [
    "Esto se debe a que atribuye el valor de '\\*' al primer argumento posicional que es ***message***."
   ]
  },
  {
   "cell_type": "markdown",
   "id": "b3a9fe33",
   "metadata": {},
   "source": [
    "Tampoco se puede hacer esto, ya que los argumentos de palabra clave siempre deben ir después de los posicionales:"
   ]
  },
  {
   "cell_type": "code",
   "execution_count": 13,
   "id": "da32adb3",
   "metadata": {},
   "outputs": [
    {
     "ename": "SyntaxError",
     "evalue": "positional argument follows keyword argument (Temp/ipykernel_9704/3818223769.py, line 1)",
     "output_type": "error",
     "traceback": [
      "\u001b[1;36m  File \u001b[1;32m\"C:\\Users\\Trabajo\\AppData\\Local\\Temp/ipykernel_9704/3818223769.py\"\u001b[1;36m, line \u001b[1;32m1\u001b[0m\n\u001b[1;33m    banner(message=\"Hola\", '*')\u001b[0m\n\u001b[1;37m                              ^\u001b[0m\n\u001b[1;31mSyntaxError\u001b[0m\u001b[1;31m:\u001b[0m positional argument follows keyword argument\n"
     ]
    }
   ],
   "source": [
    "banner(message=\"Hola\", '*')"
   ]
  }
 ],
 "metadata": {
  "kernelspec": {
   "display_name": "Python 3 (ipykernel)",
   "language": "python",
   "name": "python3"
  },
  "language_info": {
   "codemirror_mode": {
    "name": "ipython",
    "version": 3
   },
   "file_extension": ".py",
   "mimetype": "text/x-python",
   "name": "python",
   "nbconvert_exporter": "python",
   "pygments_lexer": "ipython3",
   "version": "3.9.7"
  }
 },
 "nbformat": 4,
 "nbformat_minor": 5
}
