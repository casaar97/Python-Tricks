{
 "cells": [
  {
   "cell_type": "markdown",
   "id": "8ec8ac58",
   "metadata": {},
   "source": [
    "# Sintaxis de llamada extendida"
   ]
  },
  {
   "cell_type": "code",
   "execution_count": 1,
   "id": "b763f1fb",
   "metadata": {},
   "outputs": [],
   "source": [
    "def mostrar_argumentos(arg1, arg2, *args):\n",
    "    print(arg1)\n",
    "    print(arg2)\n",
    "    print(args)"
   ]
  },
  {
   "cell_type": "markdown",
   "id": "26b154a7",
   "metadata": {},
   "source": [
    "Cuando se usan *args, podemos usar el asterisco en la llamada a la función para que se desempaqueten automáticamente.\n",
    "\n",
    "Los dos argumentos posicionales se asociarán a los argumentos posicionales y el resto a los args:"
   ]
  },
  {
   "cell_type": "code",
   "execution_count": 2,
   "id": "00b8c986",
   "metadata": {},
   "outputs": [],
   "source": [
    "tupla = (11, 12, 13, 14, 15)"
   ]
  },
  {
   "cell_type": "code",
   "execution_count": 3,
   "id": "e2a02104",
   "metadata": {},
   "outputs": [
    {
     "name": "stdout",
     "output_type": "stream",
     "text": [
      "11\n",
      "12\n",
      "(13, 14, 15)\n"
     ]
    }
   ],
   "source": [
    "mostrar_argumentos(*tupla)"
   ]
  },
  {
   "cell_type": "markdown",
   "id": "6bc279ee",
   "metadata": {},
   "source": [
    "Cuando se usan \\*\\*kwargs, podemos usar el doble asterisco en la llamada a la función para que se desempaqueten automáticamente.\n",
    "\n",
    "Los tres argumentos posicionales se asociarán a los argumentos posicionales y el resto a los kwargs:"
   ]
  },
  {
   "cell_type": "code",
   "execution_count": 4,
   "id": "0ab9eaa9",
   "metadata": {},
   "outputs": [],
   "source": [
    "def color(rojo, verde, azul, **kwargs):\n",
    "    print(\"rojo =\", rojo)\n",
    "    print(\"verde =\", verde)\n",
    "    print(\"azul =\", azul)\n",
    "    print(kwargs)"
   ]
  },
  {
   "cell_type": "code",
   "execution_count": 5,
   "id": "786defe2",
   "metadata": {},
   "outputs": [],
   "source": [
    "k = dict(rojo=21, verde=34, azul=56, alpha=43)"
   ]
  },
  {
   "cell_type": "code",
   "execution_count": 6,
   "id": "334bd827",
   "metadata": {},
   "outputs": [
    {
     "name": "stdout",
     "output_type": "stream",
     "text": [
      "rojo = 21\n",
      "verde = 34\n",
      "azul = 56\n",
      "{'alpha': 43}\n"
     ]
    }
   ],
   "source": [
    "color(**k)"
   ]
  }
 ],
 "metadata": {
  "kernelspec": {
   "display_name": "Python 3 (ipykernel)",
   "language": "python",
   "name": "python3"
  },
  "language_info": {
   "codemirror_mode": {
    "name": "ipython",
    "version": 3
   },
   "file_extension": ".py",
   "mimetype": "text/x-python",
   "name": "python",
   "nbconvert_exporter": "python",
   "pygments_lexer": "ipython3",
   "version": "3.9.7"
  }
 },
 "nbformat": 4,
 "nbformat_minor": 5
}
