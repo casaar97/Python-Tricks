{
 "cells": [
  {
   "cell_type": "markdown",
   "id": "758822ca",
   "metadata": {},
   "source": [
    "# Args & Kwargs: Desempaquetando de argumentos de función"
   ]
  },
  {
   "cell_type": "markdown",
   "id": "3317c6e2",
   "metadata": {},
   "source": [
    "Vamos a definir una variable t:"
   ]
  },
  {
   "cell_type": "code",
   "execution_count": 1,
   "id": "39dc54d0",
   "metadata": {},
   "outputs": [],
   "source": [
    "t = (1,2,3,4,5)"
   ]
  },
  {
   "cell_type": "markdown",
   "id": "a6c478be",
   "metadata": {},
   "source": [
    "## Args"
   ]
  },
  {
   "cell_type": "markdown",
   "id": "1435fc97",
   "metadata": {},
   "source": [
    "Definimos una función print_t:"
   ]
  },
  {
   "cell_type": "code",
   "execution_count": 2,
   "id": "81946515",
   "metadata": {},
   "outputs": [],
   "source": [
    "def print_t(arg1, arg2, arg3, *args):\n",
    "    print(arg1)\n",
    "    print(arg2)\n",
    "    print(arg3)\n",
    "    print(args)"
   ]
  },
  {
   "cell_type": "markdown",
   "id": "68e39c8d",
   "metadata": {},
   "source": [
    "Si llamamos a esta función pasando solo t como argumento dará error, ya que necesita 3 argumentos posicionales:"
   ]
  },
  {
   "cell_type": "code",
   "execution_count": 3,
   "id": "1304b740",
   "metadata": {},
   "outputs": [
    {
     "ename": "TypeError",
     "evalue": "print_t() missing 2 required positional arguments: 'arg2' and 'arg3'",
     "output_type": "error",
     "traceback": [
      "\u001b[1;31m---------------------------------------------------------------------------\u001b[0m",
      "\u001b[1;31mTypeError\u001b[0m                                 Traceback (most recent call last)",
      "\u001b[1;32m<ipython-input-3-ac283c37cad1>\u001b[0m in \u001b[0;36m<module>\u001b[1;34m\u001b[0m\n\u001b[1;32m----> 1\u001b[1;33m \u001b[0mprint_t\u001b[0m\u001b[1;33m(\u001b[0m\u001b[0mt\u001b[0m\u001b[1;33m)\u001b[0m\u001b[1;33m\u001b[0m\u001b[1;33m\u001b[0m\u001b[0m\n\u001b[0m",
      "\u001b[1;31mTypeError\u001b[0m: print_t() missing 2 required positional arguments: 'arg2' and 'arg3'"
     ]
    }
   ],
   "source": [
    "print_t(t)"
   ]
  },
  {
   "cell_type": "markdown",
   "id": "8dcbfc2b",
   "metadata": {},
   "source": [
    "Sin embargo, si la pasamos utilizando el asterisco, t se desempaqueta, adaptandose a los argumentos:"
   ]
  },
  {
   "cell_type": "code",
   "execution_count": 4,
   "id": "a8cc300d",
   "metadata": {},
   "outputs": [
    {
     "name": "stdout",
     "output_type": "stream",
     "text": [
      "1\n",
      "2\n",
      "3\n",
      "(4, 5)\n"
     ]
    }
   ],
   "source": [
    "print_t(*t)"
   ]
  },
  {
   "cell_type": "markdown",
   "id": "8770d3af",
   "metadata": {},
   "source": [
    "## Kwargs"
   ]
  },
  {
   "cell_type": "markdown",
   "id": "9856acd2",
   "metadata": {},
   "source": [
    "Vamos a crear una variable *k*, que va a ser un diccionario:"
   ]
  },
  {
   "cell_type": "code",
   "execution_count": 5,
   "id": "8c407908",
   "metadata": {},
   "outputs": [],
   "source": [
    "k = {'red':21, 'green':45, 'blue': 54, 'alpha':65}"
   ]
  },
  {
   "cell_type": "markdown",
   "id": "63e73e3c",
   "metadata": {},
   "source": [
    "Ahora definimos una función que se va a encargar de mostrar los colores:"
   ]
  },
  {
   "cell_type": "code",
   "execution_count": 6,
   "id": "0271d3a7",
   "metadata": {},
   "outputs": [],
   "source": [
    "def print_color(red, green, blue, **kwargs):\n",
    "    print('red =', red)\n",
    "    print('green =', green)\n",
    "    print('blue =', blue)\n",
    "    print(kwargs)"
   ]
  },
  {
   "cell_type": "markdown",
   "id": "b9458643",
   "metadata": {},
   "source": [
    "Como ocurre con los args, si no se le pasa en este caso el doble asterisco, la función dará error:"
   ]
  },
  {
   "cell_type": "code",
   "execution_count": 7,
   "id": "6ae1a4dc",
   "metadata": {},
   "outputs": [
    {
     "ename": "TypeError",
     "evalue": "print_color() missing 2 required positional arguments: 'green' and 'blue'",
     "output_type": "error",
     "traceback": [
      "\u001b[1;31m---------------------------------------------------------------------------\u001b[0m",
      "\u001b[1;31mTypeError\u001b[0m                                 Traceback (most recent call last)",
      "\u001b[1;32m<ipython-input-7-5b8942c3de53>\u001b[0m in \u001b[0;36m<module>\u001b[1;34m\u001b[0m\n\u001b[1;32m----> 1\u001b[1;33m \u001b[0mprint_color\u001b[0m\u001b[1;33m(\u001b[0m\u001b[0mk\u001b[0m\u001b[1;33m)\u001b[0m\u001b[1;33m\u001b[0m\u001b[1;33m\u001b[0m\u001b[0m\n\u001b[0m",
      "\u001b[1;31mTypeError\u001b[0m: print_color() missing 2 required positional arguments: 'green' and 'blue'"
     ]
    }
   ],
   "source": [
    "print_color(k)"
   ]
  },
  {
   "cell_type": "markdown",
   "id": "1aefa419",
   "metadata": {},
   "source": [
    "Para que desempaquete bien los argumentos, hace falta pasarle el doble asterisco:"
   ]
  },
  {
   "cell_type": "code",
   "execution_count": 8,
   "id": "91f20f33",
   "metadata": {},
   "outputs": [
    {
     "name": "stdout",
     "output_type": "stream",
     "text": [
      "red = 21\n",
      "green = 45\n",
      "blue = 54\n",
      "{'alpha': 65}\n"
     ]
    }
   ],
   "source": [
    "print_color(**k)"
   ]
  }
 ],
 "metadata": {
  "kernelspec": {
   "display_name": "Python 3",
   "language": "python",
   "name": "python3"
  },
  "language_info": {
   "codemirror_mode": {
    "name": "ipython",
    "version": 3
   },
   "file_extension": ".py",
   "mimetype": "text/x-python",
   "name": "python",
   "nbconvert_exporter": "python",
   "pygments_lexer": "ipython3",
   "version": "3.8.8"
  }
 },
 "nbformat": 4,
 "nbformat_minor": 5
}
