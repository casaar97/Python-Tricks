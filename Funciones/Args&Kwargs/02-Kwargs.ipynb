{
 "cells": [
  {
   "cell_type": "markdown",
   "id": "c2f44bba",
   "metadata": {},
   "source": [
    "# Kwargs"
   ]
  },
  {
   "cell_type": "markdown",
   "id": "3190b71f",
   "metadata": {},
   "source": [
    "- Kwargs compacta todos los argumentos que se pasen como un diccionario.\n",
    "- Utiliza la sintaxis de los dos asteriscos delante del nombre del argumento.\n",
    "- El parámetro no tiene porque llamarse kwargs obligatoriamente, se llama así por convención."
   ]
  },
  {
   "cell_type": "code",
   "execution_count": 1,
   "id": "8c106b7f",
   "metadata": {},
   "outputs": [],
   "source": [
    "def mostrar_kwargs(**kwargs):\n",
    "    print(kwargs)\n",
    "    print(type(kwargs))"
   ]
  },
  {
   "cell_type": "code",
   "execution_count": 2,
   "id": "10fbac88",
   "metadata": {},
   "outputs": [
    {
     "name": "stdout",
     "output_type": "stream",
     "text": [
      "{'uno': 1, 'dos': 2}\n",
      "<class 'dict'>\n"
     ]
    }
   ],
   "source": [
    "mostrar_kwargs(uno=1, dos=2)"
   ]
  },
  {
   "cell_type": "markdown",
   "id": "21dbcbb0",
   "metadata": {},
   "source": [
    "Para pasar un kwarg tienes que indicar su clave y su valor."
   ]
  },
  {
   "cell_type": "markdown",
   "id": "3b7c5a46",
   "metadata": {},
   "source": [
    "## Importante\n",
    "Los argumentos posicionales siempre tienen que ir delante de los args.\n",
    "\n",
    "Los args siempre tienen que ir delante de los kwargs.\n",
    "\n",
    "**def funcion(argumentos posicionales, \\*args, \\*\\*kwargs)**"
   ]
  },
  {
   "cell_type": "code",
   "execution_count": 3,
   "id": "6747c92d",
   "metadata": {},
   "outputs": [],
   "source": [
    "def mostrar_argumentos(numero, *args, **kwargs):\n",
    "    print(numero)\n",
    "    print(args)\n",
    "    print(kwargs)"
   ]
  },
  {
   "cell_type": "code",
   "execution_count": 4,
   "id": "0df4e4f0",
   "metadata": {},
   "outputs": [
    {
     "name": "stdout",
     "output_type": "stream",
     "text": [
      "1\n",
      "()\n",
      "{}\n"
     ]
    }
   ],
   "source": [
    "mostrar_argumentos(1)"
   ]
  },
  {
   "cell_type": "code",
   "execution_count": 5,
   "id": "1f38ae3c",
   "metadata": {},
   "outputs": [
    {
     "name": "stdout",
     "output_type": "stream",
     "text": [
      "1\n",
      "(2, 3)\n",
      "{}\n"
     ]
    }
   ],
   "source": [
    "mostrar_argumentos(1, 2, 3)"
   ]
  },
  {
   "cell_type": "code",
   "execution_count": 6,
   "id": "c89c3383",
   "metadata": {},
   "outputs": [
    {
     "name": "stdout",
     "output_type": "stream",
     "text": [
      "1\n",
      "(2,)\n",
      "{'tres': 3}\n"
     ]
    }
   ],
   "source": [
    "mostrar_argumentos(1, 2, tres=3)"
   ]
  },
  {
   "cell_type": "markdown",
   "id": "263eea9b",
   "metadata": {},
   "source": [
    "Puedes pasar argumentos posicionales después de los args pero tienes que usar la clave obligatoriamente:"
   ]
  },
  {
   "cell_type": "code",
   "execution_count": 7,
   "id": "fa758db2",
   "metadata": {},
   "outputs": [],
   "source": [
    "def mostrar_argumentos(numero, *args, argumento1, argumento2, **kwargs):\n",
    "    print(numero)\n",
    "    print(args)\n",
    "    print(argumento1)\n",
    "    print(argumento2)\n",
    "    print(kwargs)"
   ]
  },
  {
   "cell_type": "code",
   "execution_count": 8,
   "id": "f9db98f4",
   "metadata": {},
   "outputs": [
    {
     "name": "stdout",
     "output_type": "stream",
     "text": [
      "1\n",
      "(2, 3, 4)\n",
      "5\n",
      "6\n",
      "{'argumento3': 8, 'argumento4': 9}\n"
     ]
    }
   ],
   "source": [
    "mostrar_argumentos(1, 2, 3, 4, argumento1=5, argumento2=6, argumento3=8, argumento4=9)"
   ]
  },
  {
   "cell_type": "markdown",
   "id": "f25ae58c",
   "metadata": {},
   "source": [
    "## Argumentos únicamente posicionales"
   ]
  },
  {
   "cell_type": "markdown",
   "id": "2bceb778",
   "metadata": {},
   "source": [
    "Python ha incluido los argumentos unicamente posicionales. \n",
    "\n",
    "Para que los argumentos sean unicamente posicionales se indica una \"/\" en los argumentos. Todos los argumentos que estén **antes** de la **/** deberán ser pasados con sintaxis de argumentos posicionales, es decir, sin usar su palabra clave:"
   ]
  },
  {
   "cell_type": "code",
   "execution_count": 9,
   "id": "e5b525a0",
   "metadata": {},
   "outputs": [],
   "source": [
    "def mostrar_argumentos(x, /):\n",
    "    print(x)"
   ]
  },
  {
   "cell_type": "code",
   "execution_count": 10,
   "id": "8ead9923",
   "metadata": {},
   "outputs": [
    {
     "name": "stdout",
     "output_type": "stream",
     "text": [
      "mostrar_argumentos() got some positional-only arguments passed as keyword arguments: 'x'\n"
     ]
    }
   ],
   "source": [
    "try:\n",
    "    mostrar_argumentos(x=1)\n",
    "except TypeError as error:\n",
    "    print(error)"
   ]
  },
  {
   "cell_type": "code",
   "execution_count": 11,
   "id": "46c58326",
   "metadata": {},
   "outputs": [
    {
     "name": "stdout",
     "output_type": "stream",
     "text": [
      "1\n"
     ]
    }
   ],
   "source": [
    "mostrar_argumentos(1)"
   ]
  }
 ],
 "metadata": {
  "kernelspec": {
   "display_name": "Python 3 (ipykernel)",
   "language": "python",
   "name": "python3"
  },
  "language_info": {
   "codemirror_mode": {
    "name": "ipython",
    "version": 3
   },
   "file_extension": ".py",
   "mimetype": "text/x-python",
   "name": "python",
   "nbconvert_exporter": "python",
   "pygments_lexer": "ipython3",
   "version": "3.9.7"
  }
 },
 "nbformat": 4,
 "nbformat_minor": 5
}
