{
 "cells": [
  {
   "cell_type": "markdown",
   "id": "6f4667ba",
   "metadata": {},
   "source": [
    "# ¿Qué puede ser un decorador?"
   ]
  },
  {
   "cell_type": "markdown",
   "id": "598cfb02",
   "metadata": {},
   "source": [
    "En el notebook: **Decoradores**, hemos visto que las funciones pueden ser decoradores, pero hay otros objetos que también pueden serlo.\n",
    "\n",
    "Enlace: https://github.com/casaar97/Python-Tricks/blob/main/Decoradores.ipynb"
   ]
  },
  {
   "cell_type": "markdown",
   "id": "8fa39cd4",
   "metadata": {},
   "source": [
    "## Clases como decoradores"
   ]
  },
  {
   "cell_type": "markdown",
   "id": "0472f7b6",
   "metadata": {},
   "source": [
    "Los objetos devueltos por los decoradores deben ser ***callables*** (invocables), por lo que las **instancias** que devuelvan las **clases que sean decoradores** deben ser ***callables***."
   ]
  },
  {
   "cell_type": "code",
   "execution_count": 1,
   "id": "0f8bbe5b",
   "metadata": {},
   "outputs": [],
   "source": [
    "class ContadorLLamadas:\n",
    "    \n",
    "    def __init__(self, f):\n",
    "        self.f = f\n",
    "        self.contador = 0\n",
    "        \n",
    "    def __call__(self, *args, **kwargs):\n",
    "        self.contador += 1\n",
    "        return self.f(*args, **kwargs)"
   ]
  },
  {
   "cell_type": "code",
   "execution_count": 2,
   "id": "2c210fde",
   "metadata": {},
   "outputs": [],
   "source": [
    "@ContadorLLamadas\n",
    "def hola(nombre):\n",
    "    print(\"Hola, {}\".format(nombre))"
   ]
  },
  {
   "cell_type": "code",
   "execution_count": 3,
   "id": "3c6428ec",
   "metadata": {},
   "outputs": [
    {
     "name": "stdout",
     "output_type": "stream",
     "text": [
      "Hola, Carlos\n",
      "Hola, Carlos\n",
      "Hola, Carlos\n",
      "Hola, Carlos\n",
      "Hola, Carlos\n"
     ]
    }
   ],
   "source": [
    "hola('Carlos') \n",
    "hola('Carlos') \n",
    "hola('Carlos') \n",
    "hola('Carlos') \n",
    "hola('Carlos') "
   ]
  },
  {
   "cell_type": "code",
   "execution_count": 4,
   "id": "e9487520",
   "metadata": {},
   "outputs": [
    {
     "data": {
      "text/plain": [
       "5"
      ]
     },
     "execution_count": 4,
     "metadata": {},
     "output_type": "execute_result"
    }
   ],
   "source": [
    "hola.contador"
   ]
  },
  {
   "cell_type": "markdown",
   "id": "ee1e4fc8",
   "metadata": {},
   "source": [
    "**f**, es la función que va a ser devuelta al decorador, en este caso ***hola***. \n",
    "\n",
    "Es decir:\n",
    "\n",
    "- La primera vez que lo llames va a almacenar esa función e inicializar un contador a 0. \n",
    "- Cada vez que lo llames va a aumentar el contador y volver a llamar a la función."
   ]
  },
  {
   "cell_type": "code",
   "execution_count": 5,
   "id": "0e52e0ab",
   "metadata": {},
   "outputs": [],
   "source": [
    "@ContadorLLamadas\n",
    "def adios(nombre):\n",
    "    print(\"Adios, {}\".format(nombre))"
   ]
  },
  {
   "cell_type": "code",
   "execution_count": 6,
   "id": "47a8b59b",
   "metadata": {},
   "outputs": [
    {
     "name": "stdout",
     "output_type": "stream",
     "text": [
      "Hola, Carlos\n",
      "Adios, Carlos\n",
      "Hola, Carlos\n",
      "Adios, Carlos\n",
      "Hola, Carlos\n",
      "Adios, Carlos\n",
      "Hola, Carlos\n",
      "Adios, Carlos\n",
      "Hola, Carlos\n",
      "Adios, Carlos\n"
     ]
    }
   ],
   "source": [
    "hola('Carlos') \n",
    "adios('Carlos') \n",
    "hola('Carlos') \n",
    "adios('Carlos') \n",
    "hola('Carlos') \n",
    "adios('Carlos') \n",
    "hola('Carlos') \n",
    "adios('Carlos') \n",
    "hola('Carlos') \n",
    "adios('Carlos')"
   ]
  },
  {
   "cell_type": "code",
   "execution_count": 7,
   "id": "0f8fef89",
   "metadata": {},
   "outputs": [
    {
     "data": {
      "text/plain": [
       "10"
      ]
     },
     "execution_count": 7,
     "metadata": {},
     "output_type": "execute_result"
    }
   ],
   "source": [
    "hola.contador"
   ]
  },
  {
   "cell_type": "code",
   "execution_count": 8,
   "id": "b7f33957",
   "metadata": {},
   "outputs": [
    {
     "data": {
      "text/plain": [
       "5"
      ]
     },
     "execution_count": 8,
     "metadata": {},
     "output_type": "execute_result"
    }
   ],
   "source": [
    "adios.contador"
   ]
  },
  {
   "cell_type": "markdown",
   "id": "57f71c00",
   "metadata": {},
   "source": [
    "## Instancias como Decoradores"
   ]
  },
  {
   "cell_type": "markdown",
   "id": "2125b209",
   "metadata": {},
   "source": [
    "Definimos la clase ***Trace***, la cual nos servirá para mostrar cuando invocamos la función que decoremos."
   ]
  },
  {
   "cell_type": "code",
   "execution_count": 9,
   "id": "46abe1e2",
   "metadata": {},
   "outputs": [],
   "source": [
    "class Trace:\n",
    "    \n",
    "    def __init__(self):\n",
    "        self.enabled = True\n",
    "        \n",
    "    def __call__(self,f):\n",
    "        \n",
    "        def wrap(*args, **kwargs):\n",
    "            if(self.enabled): # Comprobamos si el tracing está activado\n",
    "                print(\"Invocando {}\".format(f)) #Mostramos el mensaje si lo está\n",
    "            return f(*args, **kwargs) #Devolvemos la función\n",
    "        \n",
    "        return wrap"
   ]
  },
  {
   "cell_type": "markdown",
   "id": "b609fa08",
   "metadata": {},
   "source": [
    "Creamos una instancia:"
   ]
  },
  {
   "cell_type": "code",
   "execution_count": 10,
   "id": "85246e65",
   "metadata": {},
   "outputs": [],
   "source": [
    "tracer = Trace()"
   ]
  },
  {
   "cell_type": "markdown",
   "id": "9e96e0f9",
   "metadata": {},
   "source": [
    "Decoramos la función ***rotar_lista*** con dicha instancia:"
   ]
  },
  {
   "cell_type": "code",
   "execution_count": 11,
   "id": "2f460aa8",
   "metadata": {},
   "outputs": [],
   "source": [
    "@tracer\n",
    "def rotar_lista(l):\n",
    "    return l[1:] + [l[0]]"
   ]
  },
  {
   "cell_type": "code",
   "execution_count": 12,
   "id": "3ac4922b",
   "metadata": {},
   "outputs": [],
   "source": [
    "lista = [1, 2, 3]"
   ]
  },
  {
   "cell_type": "code",
   "execution_count": 13,
   "id": "7454f28a",
   "metadata": {},
   "outputs": [
    {
     "name": "stdout",
     "output_type": "stream",
     "text": [
      "Invocando <function rotar_lista at 0x000002AD31629790>\n"
     ]
    },
    {
     "data": {
      "text/plain": [
       "[2, 3, 1]"
      ]
     },
     "execution_count": 13,
     "metadata": {},
     "output_type": "execute_result"
    }
   ],
   "source": [
    "lista = rotar_lista(lista)\n",
    "lista"
   ]
  },
  {
   "cell_type": "code",
   "execution_count": 14,
   "id": "80931695",
   "metadata": {},
   "outputs": [
    {
     "name": "stdout",
     "output_type": "stream",
     "text": [
      "Invocando <function rotar_lista at 0x000002AD31629790>\n"
     ]
    },
    {
     "data": {
      "text/plain": [
       "[3, 1, 2]"
      ]
     },
     "execution_count": 14,
     "metadata": {},
     "output_type": "execute_result"
    }
   ],
   "source": [
    "lista = rotar_lista(lista)\n",
    "lista"
   ]
  },
  {
   "cell_type": "code",
   "execution_count": 15,
   "id": "452281ac",
   "metadata": {},
   "outputs": [
    {
     "name": "stdout",
     "output_type": "stream",
     "text": [
      "Invocando <function rotar_lista at 0x000002AD31629790>\n"
     ]
    },
    {
     "data": {
      "text/plain": [
       "[1, 2, 3]"
      ]
     },
     "execution_count": 15,
     "metadata": {},
     "output_type": "execute_result"
    }
   ],
   "source": [
    "lista = rotar_lista(lista)\n",
    "lista"
   ]
  },
  {
   "cell_type": "markdown",
   "id": "0fdba70a",
   "metadata": {},
   "source": [
    "Si queremos desactivar el tracing, simplemente hacemos lo siguiente:"
   ]
  },
  {
   "cell_type": "code",
   "execution_count": 16,
   "id": "e56d5ced",
   "metadata": {},
   "outputs": [],
   "source": [
    "tracer.enabled = False"
   ]
  },
  {
   "cell_type": "code",
   "execution_count": 17,
   "id": "5dec17ef",
   "metadata": {},
   "outputs": [
    {
     "data": {
      "text/plain": [
       "[2, 3, 1]"
      ]
     },
     "execution_count": 17,
     "metadata": {},
     "output_type": "execute_result"
    }
   ],
   "source": [
    "lista = rotar_lista(lista)\n",
    "lista"
   ]
  },
  {
   "cell_type": "markdown",
   "id": "d56f068c",
   "metadata": {},
   "source": [
    "Lo que ocurre basicamente es:\n",
    "    \n",
    "1- Se invoca ***rotar_lista(lista)***\n",
    "\n",
    "2- El decorador recibe la función ***rotar_lista***\n",
    "\n",
    "3- El decorador comprueba si ***enabled*** es verdadero\n",
    "\n",
    "4- Si es verdadero, muestra el mensaje\n",
    "\n",
    "5- El decorador devuelve la función ***rotar_lista***\n",
    "\n",
    "6- La función ***rotar_lista*** se ejecuta"
   ]
  },
  {
   "cell_type": "markdown",
   "id": "dde2d266",
   "metadata": {},
   "source": [
    "## Vamos a crear un ejemplo para comprobar el uso de args y kwargs:"
   ]
  },
  {
   "cell_type": "code",
   "execution_count": 18,
   "id": "5c404ec4",
   "metadata": {},
   "outputs": [],
   "source": [
    "class Trace:\n",
    "    \n",
    "    def __init__(self):\n",
    "        self.enabled = True\n",
    "        \n",
    "    def __call__(self,f):\n",
    "        \n",
    "        def wrap(*args, **kwargs):\n",
    "            if(self.enabled): # Comprobamos si el tracing está activado\n",
    "                print(\"Invocando {}\".format(f)) #Mostramos el mensaje si lo está\n",
    "                print(args) #Mostrarmos args\n",
    "                print(kwargs) #Mostramos kwargs\n",
    "            return f(*args, **kwargs) #Devolvemos la función\n",
    "        \n",
    "        return wrap"
   ]
  },
  {
   "cell_type": "code",
   "execution_count": 19,
   "id": "da0bdc86",
   "metadata": {},
   "outputs": [],
   "source": [
    "tracer = Trace()"
   ]
  },
  {
   "cell_type": "code",
   "execution_count": 20,
   "id": "429343b5",
   "metadata": {},
   "outputs": [],
   "source": [
    "@tracer\n",
    "def rotar_lista(l, *args,**kwargs):\n",
    "    return l[1:] + [l[0]]"
   ]
  },
  {
   "cell_type": "code",
   "execution_count": 21,
   "id": "a5dea482",
   "metadata": {},
   "outputs": [
    {
     "name": "stdout",
     "output_type": "stream",
     "text": [
      "Invocando <function rotar_lista at 0x000002AD3163DA60>\n",
      "([2, 3, 1], 1, 2, 3)\n",
      "{'number': 5}\n"
     ]
    },
    {
     "data": {
      "text/plain": [
       "[3, 1, 2]"
      ]
     },
     "execution_count": 21,
     "metadata": {},
     "output_type": "execute_result"
    }
   ],
   "source": [
    "rotar_lista(lista, 1,2,3, number=5)"
   ]
  }
 ],
 "metadata": {
  "kernelspec": {
   "display_name": "Python 3",
   "language": "python",
   "name": "python3"
  },
  "language_info": {
   "codemirror_mode": {
    "name": "ipython",
    "version": 3
   },
   "file_extension": ".py",
   "mimetype": "text/x-python",
   "name": "python",
   "nbconvert_exporter": "python",
   "pygments_lexer": "ipython3",
   "version": "3.8.8"
  }
 },
 "nbformat": 4,
 "nbformat_minor": 5
}
