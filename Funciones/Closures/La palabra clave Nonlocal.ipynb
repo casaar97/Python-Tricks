{
 "cells": [
  {
   "cell_type": "markdown",
   "id": "551b6e68",
   "metadata": {},
   "source": [
    "# La palabra clave \"Nonlocal\""
   ]
  },
  {
   "cell_type": "code",
   "execution_count": 3,
   "id": "c083c1ed",
   "metadata": {},
   "outputs": [],
   "source": [
    "mensaje = 'global'\n",
    "\n",
    "def enclosing():\n",
    "    \n",
    "    mensaje = 'enclosing'\n",
    "    \n",
    "    def local():\n",
    "        \n",
    "        mensaje = 'local'\n",
    "        \n",
    "    print(\"Mensaje:\", mensaje)\n",
    "    local()\n",
    "    print(\"Mensaje:\", mensaje)"
   ]
  },
  {
   "cell_type": "code",
   "execution_count": 4,
   "id": "fa0d0184",
   "metadata": {},
   "outputs": [
    {
     "name": "stdout",
     "output_type": "stream",
     "text": [
      "Mensaje global:  global\n",
      "Mensaje: enclosing\n",
      "Mensaje: enclosing\n",
      "Mensaje global:  global\n"
     ]
    }
   ],
   "source": [
    "print(\"Mensaje global: \", mensaje)\n",
    "enclosing()\n",
    "print(\"Mensaje global: \", mensaje)"
   ]
  },
  {
   "cell_type": "markdown",
   "id": "1e7208b5",
   "metadata": {},
   "source": [
    "Como podemos ver:\n",
    "\n",
    "- Fuera de la función **enclosing** la variable ***mensaje*** tiene el valor de la **variable global** ***mensaje***.\n",
    "\n",
    "- Dentro de la función **enclosing** la variable ***mensaje*** tiene el valor de la **variable local** ***mensaje***.\n",
    "\n",
    "- La variable **mensaje** definida dentro de la función **local** solo tiene el valor ***local*** durante la ejecución de la función **local**."
   ]
  },
  {
   "cell_type": "markdown",
   "id": "0fe71f05",
   "metadata": {},
   "source": [
    "Si queremos referirnos a la **variable global** ***mensaje*** dentro de la función ***local*** tenemos que usar la palabra clave ***global***:"
   ]
  },
  {
   "cell_type": "code",
   "execution_count": 5,
   "id": "f6f06615",
   "metadata": {},
   "outputs": [],
   "source": [
    "mensaje = 'global'\n",
    "\n",
    "def enclosing():\n",
    "    \n",
    "    mensaje = 'enclosing'\n",
    "    \n",
    "    def local():\n",
    "        \n",
    "        global mensaje # Estamos diciendo que use la variable global mensaje en vez de crear una local.\n",
    "        \n",
    "        mensaje = 'local'\n",
    "        \n",
    "    print(\"Mensaje:\", mensaje)\n",
    "    local()\n",
    "    print(\"Mensaje:\", mensaje)"
   ]
  },
  {
   "cell_type": "code",
   "execution_count": 6,
   "id": "e8ab26b8",
   "metadata": {},
   "outputs": [
    {
     "name": "stdout",
     "output_type": "stream",
     "text": [
      "Mensaje global:  global\n",
      "Mensaje: enclosing\n",
      "Mensaje: enclosing\n",
      "Mensaje global:  local\n"
     ]
    }
   ],
   "source": [
    "print(\"Mensaje global: \", mensaje)\n",
    "enclosing()\n",
    "print(\"Mensaje global: \", mensaje)"
   ]
  },
  {
   "cell_type": "markdown",
   "id": "6d65dcdd",
   "metadata": {},
   "source": [
    "Como podemos ver, nos hemos referido a la **variable global** ***mensaje*** en vez de definir una nueva variable llamada *mensaje*."
   ]
  },
  {
   "cell_type": "markdown",
   "id": "72fe4d11",
   "metadata": {},
   "source": [
    "Si ahora en vez de querer referirnos a la **variable global** ***mensaje*** nos queremos referir a la variable mensaje definida dentro de la función ***enclosing***, usaremos la palabra clave **\"Nonlocal\"**."
   ]
  },
  {
   "cell_type": "code",
   "execution_count": 7,
   "id": "372d7c99",
   "metadata": {},
   "outputs": [],
   "source": [
    "mensaje = 'global'\n",
    "\n",
    "def enclosing():\n",
    "    \n",
    "    mensaje = 'enclosing'\n",
    "    \n",
    "    def local():\n",
    "        \n",
    "        nonlocal mensaje # Estamos diciendo que use la variable global mensaje en vez de crear una local.\n",
    "        \n",
    "        mensaje = 'local'\n",
    "        \n",
    "    print(\"Mensaje:\", mensaje)\n",
    "    local()\n",
    "    print(\"Mensaje:\", mensaje)"
   ]
  },
  {
   "cell_type": "code",
   "execution_count": 8,
   "id": "f42b587a",
   "metadata": {},
   "outputs": [
    {
     "name": "stdout",
     "output_type": "stream",
     "text": [
      "Mensaje global:  global\n",
      "Mensaje: enclosing\n",
      "Mensaje: local\n",
      "Mensaje global:  global\n"
     ]
    }
   ],
   "source": [
    "print(\"Mensaje global: \", mensaje)\n",
    "enclosing()\n",
    "print(\"Mensaje global: \", mensaje)"
   ]
  },
  {
   "cell_type": "markdown",
   "id": "5e4a453a",
   "metadata": {},
   "source": [
    "Lo que hace esta palabra clave es introducir nombres del espacio de nombres que envuelve a la función local dentro de la función local.\n",
    "\n",
    "En este caso, mete la variable **mensaje**, perteneciente al espacio de nombres de la función ***enclosing***, dentro del espacio de nombres de la función local ***local***."
   ]
  }
 ],
 "metadata": {
  "kernelspec": {
   "display_name": "Python 3",
   "language": "python",
   "name": "python3"
  },
  "language_info": {
   "codemirror_mode": {
    "name": "ipython",
    "version": 3
   },
   "file_extension": ".py",
   "mimetype": "text/x-python",
   "name": "python",
   "nbconvert_exporter": "python",
   "pygments_lexer": "ipython3",
   "version": "3.8.8"
  }
 },
 "nbformat": 4,
 "nbformat_minor": 5
}
