{
 "cells": [
  {
   "cell_type": "markdown",
   "id": "5d9370ff",
   "metadata": {},
   "source": [
    "# Funciones Factory"
   ]
  },
  {
   "cell_type": "markdown",
   "id": "db601d3c",
   "metadata": {},
   "source": [
    "Una función factory es una función que devuelve funciones nuevas y especializadas."
   ]
  },
  {
   "cell_type": "markdown",
   "id": "20320b28",
   "metadata": {},
   "source": [
    "La función factory recibe algunos argumentos y crea una función local, la cual tiene sus propios argumentos, pero también usa los argumentos pasados a la función factory. Ejemplo:"
   ]
  },
  {
   "cell_type": "code",
   "execution_count": 1,
   "id": "1668c01c",
   "metadata": {},
   "outputs": [],
   "source": [
    "def elevar_a(exp):\n",
    "    \n",
    "    def elevar_a_exponente(x):\n",
    "        return pow(x,exp)\n",
    "    \n",
    "    return elevar_a_exponente"
   ]
  },
  {
   "cell_type": "code",
   "execution_count": 2,
   "id": "b097db5a",
   "metadata": {},
   "outputs": [
    {
     "data": {
      "text/plain": [
       "9"
      ]
     },
     "execution_count": 2,
     "metadata": {},
     "output_type": "execute_result"
    }
   ],
   "source": [
    "elevar_a(2)(3)"
   ]
  },
  {
   "cell_type": "code",
   "execution_count": 3,
   "id": "f95923ca",
   "metadata": {},
   "outputs": [],
   "source": [
    "elevar_cuadrado = elevar_a(2)"
   ]
  },
  {
   "cell_type": "code",
   "execution_count": 4,
   "id": "f1da1984",
   "metadata": {},
   "outputs": [
    {
     "data": {
      "text/plain": [
       "9"
      ]
     },
     "execution_count": 4,
     "metadata": {},
     "output_type": "execute_result"
    }
   ],
   "source": [
    "elevar_cuadrado(3)"
   ]
  },
  {
   "cell_type": "markdown",
   "id": "8eb61c2d",
   "metadata": {},
   "source": [
    "Esto viene explicado en el notebook: **Funciones - Objetos de primera clase**.\n",
    "\n",
    "Recomiendo leer las secciones anteriores antes.\n",
    "\n",
    "Enlace: https://github.com/casaar97/Python-Tricks/blob/main/Funciones-Objetos%20de%20primera%20clase.ipynb"
   ]
  }
 ],
 "metadata": {
  "kernelspec": {
   "display_name": "Python 3",
   "language": "python",
   "name": "python3"
  },
  "language_info": {
   "codemirror_mode": {
    "name": "ipython",
    "version": 3
   },
   "file_extension": ".py",
   "mimetype": "text/x-python",
   "name": "python",
   "nbconvert_exporter": "python",
   "pygments_lexer": "ipython3",
   "version": "3.8.8"
  }
 },
 "nbformat": 4,
 "nbformat_minor": 5
}
