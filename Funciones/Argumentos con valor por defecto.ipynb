{
 "cells": [
  {
   "cell_type": "markdown",
   "id": "79e24aee",
   "metadata": {},
   "source": [
    "# Argumentos con valor por defecto"
   ]
  },
  {
   "cell_type": "markdown",
   "id": "941e648a",
   "metadata": {},
   "source": [
    "Para crear un argumento con valor por defecto, simplemente tenemos que definir dicho valor en la definición de los argumentos de la función en la que se usa:"
   ]
  },
  {
   "cell_type": "code",
   "execution_count": 1,
   "id": "c4df17bf",
   "metadata": {},
   "outputs": [],
   "source": [
    "def banner(message, border='-'):\n",
    "    banner = len(message) * border\n",
    "    print(banner)\n",
    "    print(message)\n",
    "    print(banner)"
   ]
  },
  {
   "cell_type": "code",
   "execution_count": 2,
   "id": "7ecf1dc5",
   "metadata": {},
   "outputs": [
    {
     "name": "stdout",
     "output_type": "stream",
     "text": [
      "----\n",
      "Hola\n",
      "----\n"
     ]
    }
   ],
   "source": [
    "banner(\"Hola\")"
   ]
  },
  {
   "cell_type": "markdown",
   "id": "7baf524b",
   "metadata": {},
   "source": [
    "Por defecto, usará el separador **_**, pero también podemos indicarle a la función que utilice el que nosotros queramos:"
   ]
  },
  {
   "cell_type": "code",
   "execution_count": 3,
   "id": "446ce726",
   "metadata": {},
   "outputs": [
    {
     "name": "stdout",
     "output_type": "stream",
     "text": [
      "****\n",
      "Hola\n",
      "****\n"
     ]
    }
   ],
   "source": [
    "banner(\"Hola\",'*')"
   ]
  },
  {
   "cell_type": "markdown",
   "id": "d2230a27",
   "metadata": {},
   "source": [
    "## Importante"
   ]
  },
  {
   "cell_type": "markdown",
   "id": "0f22c6d7",
   "metadata": {},
   "source": [
    "Hay que tener cuidado, porque una vez que se define el la función, se define el valor por defecto y este es inmutable:"
   ]
  },
  {
   "cell_type": "code",
   "execution_count": 4,
   "id": "c4de1293",
   "metadata": {},
   "outputs": [],
   "source": [
    "import time"
   ]
  },
  {
   "cell_type": "code",
   "execution_count": 5,
   "id": "b8d5e124",
   "metadata": {},
   "outputs": [],
   "source": [
    "def show_current_time(current_time=time.ctime()):\n",
    "    print(current_time)"
   ]
  },
  {
   "cell_type": "code",
   "execution_count": 6,
   "id": "9daaa49b",
   "metadata": {},
   "outputs": [
    {
     "name": "stdout",
     "output_type": "stream",
     "text": [
      "Wed Dec 15 15:25:55 2021\n"
     ]
    }
   ],
   "source": [
    "show_current_time()"
   ]
  },
  {
   "cell_type": "code",
   "execution_count": 7,
   "id": "fc71c7fc",
   "metadata": {},
   "outputs": [
    {
     "name": "stdout",
     "output_type": "stream",
     "text": [
      "Wed Dec 15 15:25:55 2021\n"
     ]
    }
   ],
   "source": [
    "show_current_time()"
   ]
  },
  {
   "cell_type": "code",
   "execution_count": 8,
   "id": "37887e56",
   "metadata": {},
   "outputs": [
    {
     "name": "stdout",
     "output_type": "stream",
     "text": [
      "Wed Dec 15 15:25:55 2021\n"
     ]
    }
   ],
   "source": [
    "show_current_time()"
   ]
  },
  {
   "cell_type": "markdown",
   "id": "e783a418",
   "metadata": {},
   "source": [
    "Como podemos ver, siempre devuelve el mismo resultado, esto se debe a que el valor de current_time se establece al definirse la función."
   ]
  },
  {
   "cell_type": "markdown",
   "id": "46a62925",
   "metadata": {},
   "source": [
    "## Conclusión"
   ]
  },
  {
   "cell_type": "markdown",
   "id": "3efa2d6b",
   "metadata": {},
   "source": [
    "Siempre debemos elegir **valores inmutables** para los valores por defecto de los argumentos."
   ]
  },
  {
   "cell_type": "markdown",
   "id": "ddc05642",
   "metadata": {},
   "source": [
    "## Ejemplo"
   ]
  },
  {
   "cell_type": "code",
   "execution_count": 9,
   "id": "793f9b41",
   "metadata": {},
   "outputs": [],
   "source": [
    "def add_spam(menu = []):\n",
    "    menu.append(\"spam\")\n",
    "    return menu"
   ]
  },
  {
   "cell_type": "code",
   "execution_count": 10,
   "id": "d3b659ca",
   "metadata": {},
   "outputs": [
    {
     "data": {
      "text/plain": [
       "['spam']"
      ]
     },
     "execution_count": 10,
     "metadata": {},
     "output_type": "execute_result"
    }
   ],
   "source": [
    "add_spam()"
   ]
  },
  {
   "cell_type": "code",
   "execution_count": 11,
   "id": "832ef4d2",
   "metadata": {},
   "outputs": [
    {
     "data": {
      "text/plain": [
       "['spam', 'spam']"
      ]
     },
     "execution_count": 11,
     "metadata": {},
     "output_type": "execute_result"
    }
   ],
   "source": [
    "add_spam()"
   ]
  },
  {
   "cell_type": "code",
   "execution_count": 12,
   "id": "c841e2ba",
   "metadata": {},
   "outputs": [
    {
     "data": {
      "text/plain": [
       "['spam', 'spam', 'spam']"
      ]
     },
     "execution_count": 12,
     "metadata": {},
     "output_type": "execute_result"
    }
   ],
   "source": [
    "add_spam()"
   ]
  },
  {
   "cell_type": "markdown",
   "id": "dce7984d",
   "metadata": {},
   "source": [
    "Como podemos ver, como la lista **menu** se crea cuando se define la función, las siguientes veces que se ejecuta ya contiene valores."
   ]
  },
  {
   "cell_type": "markdown",
   "id": "0fbe0f62",
   "metadata": {},
   "source": [
    "Para evitar esto, debemos definir la función de la siguiente forma usando valores inmutables:"
   ]
  },
  {
   "cell_type": "code",
   "execution_count": 13,
   "id": "5d70b98e",
   "metadata": {},
   "outputs": [],
   "source": [
    "def add_spam(menu = None):\n",
    "    \n",
    "    if menu is None:\n",
    "        menu = []\n",
    "        \n",
    "    menu.append(\"spam\")\n",
    "    return menu"
   ]
  },
  {
   "cell_type": "code",
   "execution_count": 14,
   "id": "79d698eb",
   "metadata": {},
   "outputs": [
    {
     "data": {
      "text/plain": [
       "['spam']"
      ]
     },
     "execution_count": 14,
     "metadata": {},
     "output_type": "execute_result"
    }
   ],
   "source": [
    "add_spam()"
   ]
  },
  {
   "cell_type": "code",
   "execution_count": 15,
   "id": "99c0670c",
   "metadata": {},
   "outputs": [
    {
     "data": {
      "text/plain": [
       "['spam']"
      ]
     },
     "execution_count": 15,
     "metadata": {},
     "output_type": "execute_result"
    }
   ],
   "source": [
    "add_spam()"
   ]
  },
  {
   "cell_type": "code",
   "execution_count": 16,
   "id": "e1848c9b",
   "metadata": {},
   "outputs": [
    {
     "data": {
      "text/plain": [
       "['spam']"
      ]
     },
     "execution_count": 16,
     "metadata": {},
     "output_type": "execute_result"
    }
   ],
   "source": [
    "add_spam()"
   ]
  },
  {
   "cell_type": "markdown",
   "id": "20fb8f33",
   "metadata": {},
   "source": [
    "De esta forma, si no se introduce ningún argumento, el argumento por defecto será **None** y se creará una lista vacía a la que posteriormente se le añadirá la palabra spam. En caso de introducirse una lista como argumento, simplemente se le añaderá la palabra spam."
   ]
  }
 ],
 "metadata": {
  "kernelspec": {
   "display_name": "Python 3 (ipykernel)",
   "language": "python",
   "name": "python3"
  },
  "language_info": {
   "codemirror_mode": {
    "name": "ipython",
    "version": 3
   },
   "file_extension": ".py",
   "mimetype": "text/x-python",
   "name": "python",
   "nbconvert_exporter": "python",
   "pygments_lexer": "ipython3",
   "version": "3.9.7"
  }
 },
 "nbformat": 4,
 "nbformat_minor": 5
}
