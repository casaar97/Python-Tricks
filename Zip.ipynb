{
 "cells": [
  {
   "cell_type": "markdown",
   "id": "6be4e4e3",
   "metadata": {},
   "source": [
    "# Zip"
   ]
  },
  {
   "cell_type": "markdown",
   "id": "2e5a884c",
   "metadata": {},
   "source": [
    "Vamos a definir dos listas:"
   ]
  },
  {
   "cell_type": "code",
   "execution_count": 1,
   "id": "9e00be8a",
   "metadata": {},
   "outputs": [],
   "source": [
    "lista_a = [0,1,2,3,4,5,6,7,8,9,10]\n",
    "\n",
    "lista_b = [10,11,12,13,14,15,16,17,18,19,20]"
   ]
  },
  {
   "cell_type": "markdown",
   "id": "d6fae5be",
   "metadata": {},
   "source": [
    "Lo que hace zip es permitir que el bucle recorra las dos listas al mismo tiempo como si de un único elemento se tratase:"
   ]
  },
  {
   "cell_type": "code",
   "execution_count": 2,
   "id": "c9ed5e15",
   "metadata": {},
   "outputs": [
    {
     "name": "stdout",
     "output_type": "stream",
     "text": [
      "(0, 10)\n",
      "(1, 11)\n",
      "(2, 12)\n",
      "(3, 13)\n",
      "(4, 14)\n",
      "(5, 15)\n",
      "(6, 16)\n",
      "(7, 17)\n",
      "(8, 18)\n",
      "(9, 19)\n",
      "(10, 20)\n"
     ]
    }
   ],
   "source": [
    "for elemento in zip(lista_a, lista_b):\n",
    "    print(elemento)"
   ]
  },
  {
   "cell_type": "markdown",
   "id": "699cbadd",
   "metadata": {},
   "source": [
    "Podemos hacerlo con 3 listas a la vez:"
   ]
  },
  {
   "cell_type": "code",
   "execution_count": 3,
   "id": "f8c76d58",
   "metadata": {},
   "outputs": [],
   "source": [
    "lista_c = [20,21,22,23,24,25,26,27,28,29,30]"
   ]
  },
  {
   "cell_type": "code",
   "execution_count": 4,
   "id": "d76d7338",
   "metadata": {},
   "outputs": [
    {
     "name": "stdout",
     "output_type": "stream",
     "text": [
      "(0, 10, 20)\n",
      "(1, 11, 21)\n",
      "(2, 12, 22)\n",
      "(3, 13, 23)\n",
      "(4, 14, 24)\n",
      "(5, 15, 25)\n",
      "(6, 16, 26)\n",
      "(7, 17, 27)\n",
      "(8, 18, 28)\n",
      "(9, 19, 29)\n",
      "(10, 20, 30)\n"
     ]
    }
   ],
   "source": [
    "for elemento in zip(lista_a, lista_b, lista_c):\n",
    "    print(elemento)"
   ]
  },
  {
   "cell_type": "markdown",
   "id": "4639151b",
   "metadata": {},
   "source": [
    "Si tuvieramos una lista de listas:"
   ]
  },
  {
   "cell_type": "code",
   "execution_count": 5,
   "id": "30ca4df0",
   "metadata": {},
   "outputs": [],
   "source": [
    "lista = [lista_a, lista_b, lista_c]"
   ]
  },
  {
   "cell_type": "code",
   "execution_count": 6,
   "id": "4b655390",
   "metadata": {},
   "outputs": [
    {
     "name": "stdout",
     "output_type": "stream",
     "text": [
      "(0, 10, 20)\n",
      "(1, 11, 21)\n",
      "(2, 12, 22)\n",
      "(3, 13, 23)\n",
      "(4, 14, 24)\n",
      "(5, 15, 25)\n",
      "(6, 16, 26)\n",
      "(7, 17, 27)\n",
      "(8, 18, 28)\n",
      "(9, 19, 29)\n",
      "(10, 20, 30)\n"
     ]
    }
   ],
   "source": [
    "for elemento in zip(lista[0], lista[1], lista[2]):\n",
    "    print(elemento)"
   ]
  },
  {
   "cell_type": "markdown",
   "id": "cc091c24",
   "metadata": {},
   "source": [
    "También podemos usar el desempaquetado:"
   ]
  },
  {
   "cell_type": "code",
   "execution_count": 7,
   "id": "49bb0c72",
   "metadata": {},
   "outputs": [
    {
     "name": "stdout",
     "output_type": "stream",
     "text": [
      "(0, 10, 20)\n",
      "(1, 11, 21)\n",
      "(2, 12, 22)\n",
      "(3, 13, 23)\n",
      "(4, 14, 24)\n",
      "(5, 15, 25)\n",
      "(6, 16, 26)\n",
      "(7, 17, 27)\n",
      "(8, 18, 28)\n",
      "(9, 19, 29)\n",
      "(10, 20, 30)\n"
     ]
    }
   ],
   "source": [
    "for elemento in zip(*lista):\n",
    "    print(elemento)"
   ]
  },
  {
   "cell_type": "markdown",
   "id": "d206f193",
   "metadata": {},
   "source": [
    "Podemos crear la matriz transpuesta usando zip:"
   ]
  },
  {
   "cell_type": "markdown",
   "id": "97025624",
   "metadata": {},
   "source": [
    "Matriz:"
   ]
  },
  {
   "cell_type": "code",
   "execution_count": 8,
   "id": "dfdb1fba",
   "metadata": {},
   "outputs": [
    {
     "data": {
      "text/plain": [
       "[[0, 1, 2, 3, 4, 5, 6, 7, 8, 9, 10],\n",
       " [10, 11, 12, 13, 14, 15, 16, 17, 18, 19, 20],\n",
       " [20, 21, 22, 23, 24, 25, 26, 27, 28, 29, 30]]"
      ]
     },
     "execution_count": 8,
     "metadata": {},
     "output_type": "execute_result"
    }
   ],
   "source": [
    "lista"
   ]
  },
  {
   "cell_type": "markdown",
   "id": "9a89d2d9",
   "metadata": {},
   "source": [
    "Matriz transpuesta:"
   ]
  },
  {
   "cell_type": "code",
   "execution_count": 9,
   "id": "401ad23d",
   "metadata": {},
   "outputs": [
    {
     "data": {
      "text/plain": [
       "[(0, 10, 20),\n",
       " (1, 11, 21),\n",
       " (2, 12, 22),\n",
       " (3, 13, 23),\n",
       " (4, 14, 24),\n",
       " (5, 15, 25),\n",
       " (6, 16, 26),\n",
       " (7, 17, 27),\n",
       " (8, 18, 28),\n",
       " (9, 19, 29),\n",
       " (10, 20, 30)]"
      ]
     },
     "execution_count": 9,
     "metadata": {},
     "output_type": "execute_result"
    }
   ],
   "source": [
    "list(zip(*lista))"
   ]
  },
  {
   "cell_type": "code",
   "execution_count": null,
   "id": "e9928a92",
   "metadata": {},
   "outputs": [],
   "source": []
  }
 ],
 "metadata": {
  "kernelspec": {
   "display_name": "Python 3",
   "language": "python",
   "name": "python3"
  },
  "language_info": {
   "codemirror_mode": {
    "name": "ipython",
    "version": 3
   },
   "file_extension": ".py",
   "mimetype": "text/x-python",
   "name": "python",
   "nbconvert_exporter": "python",
   "pygments_lexer": "ipython3",
   "version": "3.8.8"
  }
 },
 "nbformat": 4,
 "nbformat_minor": 5
}
