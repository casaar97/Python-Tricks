{
 "cells": [
  {
   "cell_type": "markdown",
   "metadata": {},
   "source": [
    "# Gestores de contexto y la declaración \"with\""
   ]
  },
  {
   "cell_type": "markdown",
   "metadata": {},
   "source": [
    "La sentencia with en Python es considerada por algunos como una característica oscura. Pero cuando echas un vistazo detrás de las escenas, verás que no hay ninguna magia involucrada, y en realidad es una característica muy útil que puede ayudarte a escribir un código Python más limpio y legible."
   ]
  },
  {
   "cell_type": "markdown",
   "metadata": {},
   "source": [
    "Entonces, ¿para qué sirve la sentencia with? Ayuda a simplificar algunos patrones de gestión de recursos comunes al abstraer su funcionalidad y permitir que sean factorizados y reutilizados."
   ]
  },
  {
   "cell_type": "markdown",
   "metadata": {},
   "source": [
    "Una buena forma de ver cómo se utiliza esta función de forma efectiva es observando ejemplos de la biblioteca estándar de Python. La función incorporada open() nos proporciona un excelente caso de uso:"
   ]
  },
  {
   "cell_type": "code",
   "execution_count": 1,
   "metadata": {},
   "outputs": [],
   "source": [
    "with open('hello.txt', 'w') as f: \n",
    "    f.write('hello, world!')"
   ]
  },
  {
   "cell_type": "markdown",
   "metadata": {},
   "source": [
    "La apertura de archivos mediante la sentencia with se recomienda generalmente porque asegura que los descriptores de archivo abiertos se cierren automáticamente después de que la ejecución del programa abandone el contexto de la sentencia with. \n",
    "\n",
    "En definitiva, el ejemplo de código anterior se traduce en algo así:"
   ]
  },
  {
   "cell_type": "code",
   "execution_count": 2,
   "metadata": {},
   "outputs": [],
   "source": [
    "f = open('hello.txt', 'w') \n",
    "\n",
    "try:\n",
    "    f.write('hello, world') \n",
    "finally:\n",
    "    f.close()"
   ]
  },
  {
   "cell_type": "markdown",
   "metadata": {},
   "source": [
    "Ya puedes ver que esto es bastante más explícito. \n",
    "\n",
    "hay que tener en cuenta que la declaración try...finally es significativa. No sería suficiente con escribir algo como esto:"
   ]
  },
  {
   "cell_type": "code",
   "execution_count": 3,
   "metadata": {},
   "outputs": [],
   "source": [
    "f = open('hello.txt', 'w') \n",
    "f.write('hello, world') \n",
    "f.close()"
   ]
  },
  {
   "cell_type": "markdown",
   "metadata": {},
   "source": [
    "Esta implementación no garantizará que el archivo se cierre si hay una excepción durante la llamada a f.write(), y por lo tanto nuestro programa podría filtrar un descriptor de archivo. Por eso la sentencia with es tan útil. Hace que la adquisición y liberación de recursos sea muy fácil."
   ]
  },
  {
   "cell_type": "markdown",
   "metadata": {},
   "source": [
    "## Usar with con tus propios objetos"
   ]
  },
  {
   "cell_type": "markdown",
   "metadata": {},
   "source": [
    "Puedes proporcionar la misma funcionalidad en tus propias clases y funciones implementando los llamados gestores de contexto.\n",
    "\n",
    "¿Qué es un gestor de contexto? \n",
    "\n",
    "Es un simple \"protocolo\" (o interfaz) que tu objeto debe seguir para soportar la sentencia with. \n",
    "\n",
    "Básicamente, todo lo que necesitas hacer es añadir los métodos __enter__ y __exit__ a un objeto si quieres que funcione como un gestor de contexto. Python llamará a estos dos métodos en los momentos adecuados del ciclo de gestión de recursos."
   ]
  },
  {
   "cell_type": "markdown",
   "metadata": {},
   "source": [
    "Veamos cómo sería esto en términos prácticos. He aquí cómo podría ser una implementación sencilla del gestor de contexto open():"
   ]
  },
  {
   "cell_type": "markdown",
   "metadata": {},
   "source": [
    "class ManagedFile:\n",
    "    \n",
    "    def __init__(self, name):\n",
    "        self.name = name\n",
    "        \n",
    "    def __enter__(self):\n",
    "        self.file = open(self.name, 'w') \n",
    "        return self.file\n",
    "    \n",
    "    def __exit__(self, exc_type, exc_val, exc_tb): \n",
    "        if self.file:\n",
    "            self.file.close()"
   ]
  },
  {
   "cell_type": "markdown",
   "metadata": {},
   "source": [
    "Nuestra clase ManagedFile sigue el protocolo del gestor de contexto y ahora soporta la sentencia with, al igual que el ejemplo original de open():"
   ]
  },
  {
   "cell_type": "code",
   "execution_count": 5,
   "metadata": {},
   "outputs": [],
   "source": [
    "with ManagedFile('hello.txt') as f:\n",
    "    f.write('hello, world!')\n",
    "    f.write('bye now')"
   ]
  },
  {
   "cell_type": "markdown",
   "metadata": {},
   "source": [
    "Python llama a __enter__ cuando la ejecución entra en el contexto de la sentencia with y es el momento de adquirir el recurso. Cuando la ejecución vuelve a salir del contexto, Python llama a __exit__ para liberar el recurso."
   ]
  },
  {
   "cell_type": "markdown",
   "metadata": {},
   "source": [
    "Escribir un gestor de contexto basado en una clase no es la única forma de soportar la sentencia with en Python. \n",
    "\n",
    "El módulo de utilidad contextlib7 en la biblioteca estándar proporciona algunas abstracciones más construidas sobre el protocolo básico del gestor de contexto. Esto puede hacer tu vida un poco más fácil si tus casos de uso coinciden con lo que ofrece contextlib.\n"
   ]
  },
  {
   "cell_type": "code",
   "execution_count": 7,
   "metadata": {},
   "outputs": [],
   "source": [
    "from contextlib import contextmanager\n",
    "@contextmanager\n",
    "def managed_file(name): \n",
    "    try:\n",
    "        f = open(name, 'w')\n",
    "        yield f \n",
    "    finally:\n",
    "        f.close()"
   ]
  },
  {
   "cell_type": "code",
   "execution_count": 8,
   "metadata": {},
   "outputs": [],
   "source": [
    "with managed_file('hello.txt') as f:\n",
    "    f.write('hello, world!')\n",
    "    f.write('bye now')"
   ]
  },
  {
   "cell_type": "markdown",
   "metadata": {},
   "source": [
    "En este caso, managed_file() es un generador que primero adquiere el recurso. Después, suspende temporalmente su propia ejecución y cede el recurso para que pueda ser utilizado por la persona que llama. Cuando la persona que llama abandona el contexto, el generador continúa ejecutándose para que cualquier paso de limpieza restante pueda ocurrir y el recurso pueda ser liberado de nuevo al sistema."
   ]
  },
  {
   "cell_type": "markdown",
   "metadata": {},
   "source": [
    "La implementación basada en la clase y la basada en el generador son básicamente equivalentes. Puedes preferir una sobre la otra, dependiendo de qué enfoque encuentres más legible.\n",
    "\n",
    "Una desventaja de la implementación basada en @contextmanager puede ser que requiere cierta comprensión de los conceptos avanzados de Python como los decoradores y generadores.\n",
    "\n",
    "Una vez más, la elección de la implementación correcta se reduce a lo que tú y tu equipo os sintáis cómodos utilizando y a lo que encontréis más legible."
   ]
  },
  {
   "cell_type": "markdown",
   "metadata": {},
   "source": [
    "## Escribir APIs bonitas con gestores de contexto"
   ]
  },
  {
   "cell_type": "markdown",
   "metadata": {},
   "source": [
    "Los gestores de contexto son bastante flexibles, y si utilizas el estado con de forma creativa, puedes definir APIs convenientes para tus módulos y clases.\n",
    "\n",
    "Por ejemplo, ¿qué pasaría si el \"recurso\" que quisiéramos gestionar fueran los niveles de sangría del texto en algún tipo de programa generador de informes? ¿Y si pudiéramos escribir un código como este para hacerlo?"
   ]
  },
  {
   "cell_type": "code",
   "execution_count": 10,
   "metadata": {},
   "outputs": [],
   "source": [
    "class Indenter:\n",
    "    \n",
    "    def __init__(self):\n",
    "        self.level = 0\n",
    "        \n",
    "    def __enter__(self): \n",
    "        self.level += 1\n",
    "        return self\n",
    "    \n",
    "    def __exit__(self, exc_type, exc_val, exc_tb):\n",
    "        self.level -= 1\n",
    "        \n",
    "    def print(self, text):\n",
    "        print(' ' * self.level + text)"
   ]
  },
  {
   "cell_type": "code",
   "execution_count": 11,
   "metadata": {},
   "outputs": [
    {
     "name": "stdout",
     "output_type": "stream",
     "text": [
      " hi!\n",
      "  hello\n",
      "   bonjour\n",
      " hey\n"
     ]
    }
   ],
   "source": [
    "with Indenter() as indent:\n",
    "    indent.print('hi!') \n",
    "    with indent:\n",
    "        indent.print('hello') \n",
    "        with indent:\n",
    "            indent.print('bonjour')\n",
    "    indent.print('hey')"
   ]
  },
  {
   "cell_type": "markdown",
   "metadata": {},
   "source": [
    "## Claves"
   ]
  },
  {
   "cell_type": "markdown",
   "metadata": {},
   "source": [
    "* La sentencia with simplifica la gestión de excepciones encapsulando los usos estándar de las sentencias try/finally en los llamados gestores de contexto.\n",
    "\n",
    "* Lo más habitual es que se utilice para gestionar la adquisición y liberación segura de recursos del sistema. Los recursos son adquiridos por la sentencia with y liberados automáticamente cuando la ejecución deja el contexto with.\n",
    "\n",
    "* Usar with de forma efectiva puede ayudarte a evitar fugas de recursos y hacer que tu código sea más fácil de leer."
   ]
  }
 ],
 "metadata": {
  "kernelspec": {
   "display_name": "Python 3 (ipykernel)",
   "language": "python",
   "name": "python3"
  },
  "language_info": {
   "codemirror_mode": {
    "name": "ipython",
    "version": 3
   },
   "file_extension": ".py",
   "mimetype": "text/x-python",
   "name": "python",
   "nbconvert_exporter": "python",
   "pygments_lexer": "ipython3",
   "version": "3.9.7"
  }
 },
 "nbformat": 4,
 "nbformat_minor": 4
}
