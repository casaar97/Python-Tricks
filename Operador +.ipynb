{
 "cells": [
  {
   "cell_type": "markdown",
   "id": "7050a392",
   "metadata": {},
   "source": [
    "# Operador +"
   ]
  },
  {
   "cell_type": "markdown",
   "id": "c0f4866c",
   "metadata": {},
   "source": [
    "## string"
   ]
  },
  {
   "cell_type": "markdown",
   "id": "adef2629",
   "metadata": {},
   "source": [
    "Se usa para concatenar:"
   ]
  },
  {
   "cell_type": "code",
   "execution_count": 1,
   "id": "953061ae",
   "metadata": {},
   "outputs": [
    {
     "data": {
      "text/plain": [
       "'Hola mundo'"
      ]
     },
     "execution_count": 1,
     "metadata": {},
     "output_type": "execute_result"
    }
   ],
   "source": [
    "\"Hola\" + \" \" + \"mundo\""
   ]
  },
  {
   "cell_type": "markdown",
   "id": "097f0215",
   "metadata": {},
   "source": [
    "## int y float"
   ]
  },
  {
   "cell_type": "markdown",
   "id": "fc012b74",
   "metadata": {},
   "source": [
    "Se usa para sumar:"
   ]
  },
  {
   "cell_type": "code",
   "execution_count": 2,
   "id": "c18233b8",
   "metadata": {},
   "outputs": [
    {
     "data": {
      "text/plain": [
       "10"
      ]
     },
     "execution_count": 2,
     "metadata": {},
     "output_type": "execute_result"
    }
   ],
   "source": [
    "5 + 5"
   ]
  },
  {
   "cell_type": "code",
   "execution_count": 3,
   "id": "a4f88532",
   "metadata": {},
   "outputs": [
    {
     "data": {
      "text/plain": [
       "0.4"
      ]
     },
     "execution_count": 3,
     "metadata": {},
     "output_type": "execute_result"
    }
   ],
   "source": [
    "0.1 + 0.3"
   ]
  },
  {
   "cell_type": "markdown",
   "id": "7c9d6cc4",
   "metadata": {},
   "source": [
    "## list y tuple"
   ]
  },
  {
   "cell_type": "markdown",
   "id": "078dbf53",
   "metadata": {},
   "source": [
    "Se usa para concatenar listas y tuplas:"
   ]
  },
  {
   "cell_type": "code",
   "execution_count": 4,
   "id": "d833a68e",
   "metadata": {},
   "outputs": [
    {
     "data": {
      "text/plain": [
       "[1, 2, 3, 4]"
      ]
     },
     "execution_count": 4,
     "metadata": {},
     "output_type": "execute_result"
    }
   ],
   "source": [
    "[1, 2] + [3, 4]"
   ]
  },
  {
   "cell_type": "code",
   "execution_count": 5,
   "id": "b7778b8a",
   "metadata": {},
   "outputs": [
    {
     "data": {
      "text/plain": [
       "(1, 2, 3, 4)"
      ]
     },
     "execution_count": 5,
     "metadata": {},
     "output_type": "execute_result"
    }
   ],
   "source": [
    "(1,2) + (3,4)"
   ]
  }
 ],
 "metadata": {
  "kernelspec": {
   "display_name": "Python 3 (ipykernel)",
   "language": "python",
   "name": "python3"
  },
  "language_info": {
   "codemirror_mode": {
    "name": "ipython",
    "version": 3
   },
   "file_extension": ".py",
   "mimetype": "text/x-python",
   "name": "python",
   "nbconvert_exporter": "python",
   "pygments_lexer": "ipython3",
   "version": "3.9.7"
  }
 },
 "nbformat": 4,
 "nbformat_minor": 5
}
