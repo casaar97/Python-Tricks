{
 "cells": [
  {
   "cell_type": "markdown",
   "metadata": {},
   "source": [
    "### Colocación de la coma complaciente"
   ]
  },
  {
   "cell_type": "markdown",
   "metadata": {},
   "source": [
    "Un truco muy útil a la hora de añadir y eliminar elementos de una lista, diccionario o conjunto en Python: \n",
    "    \n",
    "**Termina todas tus lineas con una coma.**"
   ]
  },
  {
   "cell_type": "markdown",
   "metadata": {},
   "source": [
    "Imagina que tenemos la siguiente lista:"
   ]
  },
  {
   "cell_type": "code",
   "execution_count": 1,
   "metadata": {},
   "outputs": [],
   "source": [
    "nombres = [\"Alicia\", \"Roberto\", \"Juan\"]"
   ]
  },
  {
   "cell_type": "markdown",
   "metadata": {},
   "source": [
    "Siempre que hagas un cambio en esta lista de nombres, será difícil saber qué se ha modificado mirando un diff de Git, por ejemplo. **La mayoría de los sistemas de control de fuentes se basan en las líneas y les cuesta resaltar los cambios múltiples en una sola línea.**"
   ]
  },
  {
   "cell_type": "code",
   "execution_count": 2,
   "metadata": {},
   "outputs": [],
   "source": [
    "nombres = [\"Alicia\",\n",
    "           \"Roberto\",\n",
    "           \"Juan\"]"
   ]
  },
  {
   "cell_type": "markdown",
   "metadata": {},
   "source": [
    "De esta manera hay un elemento por línea, dejando perfectamente claro cuál se ha añadido, eliminado o modificado cuando se ve un diff en el sistema de control de código. \n",
    "\n",
    "Es un pequeño cambio, pero ayuda a evitar errores tontos.Además facilita a tus compañeros de equipo la revisión de cambios en el código."
   ]
  },
  {
   "cell_type": "markdown",
   "metadata": {},
   "source": [
    "El problema ahora puede estar en estas dos situaciones:\n",
    "    \n",
    "\n"
   ]
  },
  {
   "cell_type": "markdown",
   "metadata": {},
   "source": [
    "* 1- Cada vez que añades un elemento al final de la lista le tienes que poner una coma al penúltimo.\n",
    "\n",
    "* 2- Cuando eliminas el último hay quitar la coma del anterior."
   ]
  },
  {
   "cell_type": "code",
   "execution_count": 3,
   "metadata": {},
   "outputs": [],
   "source": [
    "nombres = [\"Alicia\",\n",
    "           \"Roberto\",\n",
    "           \"Juan\" #<- Se te puede pasar poner la coma\n",
    "           \"Pepe\"]"
   ]
  },
  {
   "cell_type": "code",
   "execution_count": 4,
   "metadata": {},
   "outputs": [
    {
     "data": {
      "text/plain": [
       "['Alicia', 'Roberto', 'JuanPepe']"
      ]
     },
     "execution_count": 4,
     "metadata": {},
     "output_type": "execute_result"
    }
   ],
   "source": [
    "nombres"
   ]
  },
  {
   "cell_type": "markdown",
   "metadata": {},
   "source": [
    "Y te van a salir juntos los dos últimos, ya que concatena las dos últimas cadenas de texto que están seguidas. \n",
    "\n",
    "Esto se debe a la función de concatenación de cadenas de Python, que dice lo siguiente:\n",
    "\n",
    "\"Se permiten múltiples literales de cadena o bytes adyacentes (delimitados por espacios en blanco), posiblemente utilizando diferentes convenciones de citación, y su significado es el mismo que su concatenación.\""
   ]
  },
  {
   "cell_type": "markdown",
   "metadata": {},
   "source": [
    "Demostración:"
   ]
  },
  {
   "cell_type": "code",
   "execution_count": 5,
   "metadata": {},
   "outputs": [
    {
     "data": {
      "text/plain": [
       "'Esto es una sola cadena'"
      ]
     },
     "execution_count": 5,
     "metadata": {},
     "output_type": "execute_result"
    }
   ],
   "source": [
    "cadena = \"Esto\" \" es\" \" una\" \" sola\" \" cadena\"\n",
    "\n",
    "cadena"
   ]
  },
  {
   "cell_type": "markdown",
   "metadata": {},
   "source": [
    "**Para solucionar esto, Python permite añadir una coma detrás del último elemento de cada lista.**\n",
    "\n",
    "Así te permite ponerlo siempre y evitas tener que volver a buscar donde te falta cuando se te olvide y te de error."
   ]
  },
  {
   "cell_type": "code",
   "execution_count": 6,
   "metadata": {},
   "outputs": [],
   "source": [
    "nombres = [\"Alicia\",\n",
    "           \"Roberto\",\n",
    "           \"Juan\",]"
   ]
  },
  {
   "cell_type": "code",
   "execution_count": 7,
   "metadata": {},
   "outputs": [
    {
     "data": {
      "text/plain": [
       "['Alicia', 'Roberto', 'Juan']"
      ]
     },
     "execution_count": 7,
     "metadata": {},
     "output_type": "execute_result"
    }
   ],
   "source": [
    "nombres"
   ]
  },
  {
   "cell_type": "markdown",
   "metadata": {},
   "source": [
    "## Claves"
   ]
  },
  {
   "cell_type": "markdown",
   "metadata": {},
   "source": [
    "* El formato inteligente y la colocación de comas pueden facilitar el mantenimiento de sus listas, dictados o conjuntos de constantes.\n",
    "\n",
    "* La función de concatenación de cadenas de Python puede ser beneficiosa o introducir errores difíciles de detectar."
   ]
  }
 ],
 "metadata": {
  "kernelspec": {
   "display_name": "Python 3",
   "language": "python",
   "name": "python3"
  },
  "language_info": {
   "codemirror_mode": {
    "name": "ipython",
    "version": 3
   },
   "file_extension": ".py",
   "mimetype": "text/x-python",
   "name": "python",
   "nbconvert_exporter": "python",
   "pygments_lexer": "ipython3",
   "version": "3.8.5"
  }
 },
 "nbformat": 4,
 "nbformat_minor": 4
}
