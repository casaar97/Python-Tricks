{
 "cells": [
  {
   "cell_type": "markdown",
   "id": "e94f1318",
   "metadata": {},
   "source": [
    "# Funciones locales"
   ]
  },
  {
   "cell_type": "code",
   "execution_count": 1,
   "id": "dd83668c",
   "metadata": {},
   "outputs": [],
   "source": [
    "g = 'global'\n",
    "\n",
    "def funcion_externa(p=\"param\"):\n",
    "    \n",
    "    l = 'local'\n",
    "    \n",
    "    def funcion_interna():\n",
    "        print(g,p,l)\n",
    "    \n",
    "    funcion_interna()"
   ]
  },
  {
   "cell_type": "code",
   "execution_count": 2,
   "id": "465f01b2",
   "metadata": {},
   "outputs": [
    {
     "name": "stdout",
     "output_type": "stream",
     "text": [
      "global param local\n"
     ]
    }
   ],
   "source": [
    "funcion_externa()"
   ]
  },
  {
   "cell_type": "markdown",
   "id": "f807bb98",
   "metadata": {},
   "source": [
    "Como **l** y **p** están definidas al mismo tiempo que se define la función interna, esta es capaz de ver dichas variables. Es decir, están dentro de su alcance (scope).\n",
    "\n",
    "Para funcion_interna, **l** y **p** son vistas como \"variables globales\":"
   ]
  }
 ],
 "metadata": {
  "kernelspec": {
   "display_name": "Python 3",
   "language": "python",
   "name": "python3"
  },
  "language_info": {
   "codemirror_mode": {
    "name": "ipython",
    "version": 3
   },
   "file_extension": ".py",
   "mimetype": "text/x-python",
   "name": "python",
   "nbconvert_exporter": "python",
   "pygments_lexer": "ipython3",
   "version": "3.8.8"
  }
 },
 "nbformat": 4,
 "nbformat_minor": 5
}
