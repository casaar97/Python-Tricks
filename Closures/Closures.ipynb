{
 "cells": [
  {
   "cell_type": "markdown",
   "id": "229ce470",
   "metadata": {},
   "source": [
    "# Closures (Cierres léxicos)"
   ]
  },
  {
   "cell_type": "markdown",
   "id": "ac0b3eef",
   "metadata": {},
   "source": [
    "Un closure no es más que una función la cual puede genear, de forma dinámica, a otra función.\n",
    "\n",
    "Además, que esta nueva función puede acceder a las variables locales aun cuando la primera haya finalizado."
   ]
  },
  {
   "cell_type": "code",
   "execution_count": 1,
   "id": "3ba68656",
   "metadata": {},
   "outputs": [],
   "source": [
    "def saludar_usuario(username):\n",
    "    \n",
    "    mensaje = 'Hola ' + username\n",
    "\n",
    "    def saludar():\n",
    "        print(mensaje)\n",
    "\n",
    "    return saludar"
   ]
  },
  {
   "cell_type": "code",
   "execution_count": 2,
   "id": "c4b5da96",
   "metadata": {},
   "outputs": [
    {
     "data": {
      "text/plain": [
       "<function __main__.saludar_usuario.<locals>.saludar()>"
      ]
     },
     "execution_count": 2,
     "metadata": {},
     "output_type": "execute_result"
    }
   ],
   "source": [
    "saludar_usuario('Carlos')"
   ]
  },
  {
   "cell_type": "code",
   "execution_count": 3,
   "id": "17045a3d",
   "metadata": {},
   "outputs": [
    {
     "name": "stdout",
     "output_type": "stream",
     "text": [
      "Hola  Carlos\n"
     ]
    }
   ],
   "source": [
    "saludar_usuario(' Carlos')()"
   ]
  },
  {
   "cell_type": "markdown",
   "id": "2d38a1d2",
   "metadata": {},
   "source": [
    "Como podemos ver, aunque haya terminado la ejecución de la función saludar_usuario, la función saludar sigue manteniendo el valor de la variable mensaje:"
   ]
  },
  {
   "cell_type": "code",
   "execution_count": 4,
   "id": "0c031a68",
   "metadata": {},
   "outputs": [],
   "source": [
    "saludar = saludar_usuario('Carlos')"
   ]
  },
  {
   "cell_type": "code",
   "execution_count": 5,
   "id": "e1d28e3b",
   "metadata": {},
   "outputs": [
    {
     "name": "stdout",
     "output_type": "stream",
     "text": [
      "Hola Carlos\n"
     ]
    }
   ],
   "source": [
    "saludar()"
   ]
  },
  {
   "cell_type": "code",
   "execution_count": 6,
   "id": "c75d53e9",
   "metadata": {},
   "outputs": [
    {
     "data": {
      "text/plain": [
       "(<cell at 0x000001E7623D6A30: str object at 0x000001E7624155B0>,)"
      ]
     },
     "execution_count": 6,
     "metadata": {},
     "output_type": "execute_result"
    }
   ],
   "source": [
    "saludar.__closure__"
   ]
  },
  {
   "cell_type": "markdown",
   "id": "eb4eb69a",
   "metadata": {},
   "source": [
    "Este objeto que vemos aquí es la referencia en memoria a \"Hola Carlos\"."
   ]
  },
  {
   "cell_type": "markdown",
   "id": "5a598f56",
   "metadata": {},
   "source": [
    "Esto está indicado en el notebook **Funciones - Objetos de primera clase**, concretamente en la sección ***Las funciones pueden capturar un estado local***. \n",
    "\n",
    "Recomiendo leer las secciones anteriores antes.\n",
    "\n",
    "Enlace: https://github.com/casaar97/Python-Tricks/blob/main/Funciones-Objetos%20de%20primera%20clase.ipynb"
   ]
  },
  {
   "cell_type": "markdown",
   "id": "60feb58b",
   "metadata": {},
   "source": [
    "## ¿Cuándo usar closures?"
   ]
  },
  {
   "cell_type": "markdown",
   "id": "4dddbf0f",
   "metadata": {},
   "source": [
    "Sin duda haremos uso de los closures cuando trabajamos con decoradores, dando de esta forma mayor flexibilidad a las funciones, teniendo la posibilidad de extender nuevas funcionalidades sin modificar el código fuente."
   ]
  }
 ],
 "metadata": {
  "kernelspec": {
   "display_name": "Python 3",
   "language": "python",
   "name": "python3"
  },
  "language_info": {
   "codemirror_mode": {
    "name": "ipython",
    "version": 3
   },
   "file_extension": ".py",
   "mimetype": "text/x-python",
   "name": "python",
   "nbconvert_exporter": "python",
   "pygments_lexer": "ipython3",
   "version": "3.8.8"
  }
 },
 "nbformat": 4,
 "nbformat_minor": 5
}
