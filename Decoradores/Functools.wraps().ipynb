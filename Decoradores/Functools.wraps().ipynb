{
 "cells": [
  {
   "cell_type": "markdown",
   "id": "605a6566",
   "metadata": {},
   "source": [
    "# Functools.wraps()"
   ]
  },
  {
   "cell_type": "markdown",
   "id": "3babbef3",
   "metadata": {},
   "source": [
    "Evita que se pierdan metadatos al usar decoradores."
   ]
  },
  {
   "cell_type": "code",
   "execution_count": 1,
   "id": "39373d69",
   "metadata": {},
   "outputs": [],
   "source": [
    "def hola_mundo():\n",
    "    \"Muestra el mensaje 'Hola mundo'\"\n",
    "    print(\"Hola mundo\")"
   ]
  },
  {
   "cell_type": "code",
   "execution_count": 2,
   "id": "db89124c",
   "metadata": {},
   "outputs": [
    {
     "data": {
      "text/plain": [
       "'hola_mundo'"
      ]
     },
     "execution_count": 2,
     "metadata": {},
     "output_type": "execute_result"
    }
   ],
   "source": [
    "hola_mundo.__name__"
   ]
  },
  {
   "cell_type": "markdown",
   "id": "137c4366",
   "metadata": {},
   "source": [
    "Si ahora usamos un decorador:"
   ]
  },
  {
   "cell_type": "code",
   "execution_count": 3,
   "id": "dc71cec9",
   "metadata": {},
   "outputs": [],
   "source": [
    "def decorador(f):\n",
    "    \n",
    "    def envoltorio():\n",
    "        return f()\n",
    "    \n",
    "    return envoltorio"
   ]
  },
  {
   "cell_type": "code",
   "execution_count": 4,
   "id": "cba4cead",
   "metadata": {},
   "outputs": [],
   "source": [
    "@decorador\n",
    "def hola_mundo():\n",
    "    \"Muestra el mensaje 'Hola mundo'\"\n",
    "    print(\"Hola mundo\")"
   ]
  },
  {
   "cell_type": "code",
   "execution_count": 5,
   "id": "2591f248",
   "metadata": {},
   "outputs": [
    {
     "name": "stdout",
     "output_type": "stream",
     "text": [
      "Hola mundo\n"
     ]
    }
   ],
   "source": [
    "hola_mundo()"
   ]
  },
  {
   "cell_type": "code",
   "execution_count": 6,
   "id": "699ec857",
   "metadata": {},
   "outputs": [
    {
     "data": {
      "text/plain": [
       "'envoltorio'"
      ]
     },
     "execution_count": 6,
     "metadata": {},
     "output_type": "execute_result"
    }
   ],
   "source": [
    "hola_mundo.__name__"
   ]
  },
  {
   "cell_type": "markdown",
   "id": "a5a3bccd",
   "metadata": {},
   "source": [
    "Como podemos ver, nos está devolviendo el nombre del objeto que devuelve el decorador."
   ]
  },
  {
   "cell_type": "markdown",
   "id": "8ac998a1",
   "metadata": {},
   "source": [
    "Para evitar esto, podemos hacer lo siguiente:"
   ]
  },
  {
   "cell_type": "code",
   "execution_count": 7,
   "id": "b65d43c6",
   "metadata": {},
   "outputs": [],
   "source": [
    "def decorador(f):\n",
    "    \n",
    "    def envoltorio():\n",
    "        return f()\n",
    "    \n",
    "    envoltorio.__name__ = f.__name__ # Añadimos esto\n",
    "    \n",
    "    return envoltorio"
   ]
  },
  {
   "cell_type": "code",
   "execution_count": 8,
   "id": "28e62562",
   "metadata": {},
   "outputs": [],
   "source": [
    "@decorador\n",
    "def hola_mundo():\n",
    "    \"Muestra el mensaje 'Hola mundo'\"\n",
    "    print(\"Hola mundo\")"
   ]
  },
  {
   "cell_type": "code",
   "execution_count": 9,
   "id": "53fec1e1",
   "metadata": {},
   "outputs": [
    {
     "data": {
      "text/plain": [
       "'hola_mundo'"
      ]
     },
     "execution_count": 9,
     "metadata": {},
     "output_type": "execute_result"
    }
   ],
   "source": [
    "hola_mundo.__name__"
   ]
  },
  {
   "cell_type": "markdown",
   "id": "ae873f73",
   "metadata": {},
   "source": [
    "Sin embargo, esto es un poco feo y deberíamos hacerlo siempre que usemos un decorador. Para ello existe el paquete **functools**, el cual tiene una función llamada ***wrap***:"
   ]
  },
  {
   "cell_type": "code",
   "execution_count": 10,
   "id": "c8298a27",
   "metadata": {},
   "outputs": [],
   "source": [
    "import functools"
   ]
  },
  {
   "cell_type": "code",
   "execution_count": 11,
   "id": "775a0ec4",
   "metadata": {},
   "outputs": [],
   "source": [
    "def decorador(f):\n",
    "    \n",
    "    @functools.wraps(f)\n",
    "    def envoltorio():\n",
    "        return f()\n",
    "        \n",
    "    return envoltorio"
   ]
  },
  {
   "cell_type": "code",
   "execution_count": 12,
   "id": "889319d9",
   "metadata": {},
   "outputs": [],
   "source": [
    "@decorador\n",
    "def hola_mundo():\n",
    "    \"Muestra el mensaje 'Hola mundo'\"\n",
    "    print(\"Hola mundo\")"
   ]
  },
  {
   "cell_type": "code",
   "execution_count": 13,
   "id": "a98cbf89",
   "metadata": {},
   "outputs": [
    {
     "data": {
      "text/plain": [
       "'hola_mundo'"
      ]
     },
     "execution_count": 13,
     "metadata": {},
     "output_type": "execute_result"
    }
   ],
   "source": [
    "hola_mundo.__name__"
   ]
  }
 ],
 "metadata": {
  "kernelspec": {
   "display_name": "Python 3",
   "language": "python",
   "name": "python3"
  },
  "language_info": {
   "codemirror_mode": {
    "name": "ipython",
    "version": 3
   },
   "file_extension": ".py",
   "mimetype": "text/x-python",
   "name": "python",
   "nbconvert_exporter": "python",
   "pygments_lexer": "ipython3",
   "version": "3.8.8"
  }
 },
 "nbformat": 4,
 "nbformat_minor": 5
}
