{
 "cells": [
  {
   "cell_type": "markdown",
   "id": "3470660c",
   "metadata": {},
   "source": [
    "# Multiples Decoradores"
   ]
  },
  {
   "cell_type": "markdown",
   "id": "f24b042f",
   "metadata": {},
   "source": [
    "Podemos usar varios decoradores al mismo tiempo sobre una función:"
   ]
  },
  {
   "cell_type": "raw",
   "id": "cba51156",
   "metadata": {},
   "source": [
    "@decorador1\n",
    "@decorador2\n",
    "@decorador3\n",
    "def mi_funcion():\n",
    "    return \"Hola, esta es mi función\""
   ]
  },
  {
   "cell_type": "markdown",
   "id": "6807a90c",
   "metadata": {},
   "source": [
    "El orden de ejecución será el siguiente:\n",
    "    \n",
    "1- Se invoca la función ***mi_funcion***\n",
    "\n",
    "2- Se ejecuta el decorador1\n",
    "\n",
    "3- Se ejecuta el decorador2\n",
    "\n",
    "4- Se ejecuta el decorador3\n",
    "\n",
    "5- Se ejecuta la función ***mi_funcion***"
   ]
  },
  {
   "cell_type": "markdown",
   "id": "3c33c64f",
   "metadata": {},
   "source": [
    "Para este ejemplo, vamos a usar el decorador Tracer, el cual es una clase que implementamos en el notebook: \n",
    "\n",
    "**¿Qué puede ser un decorador?**"
   ]
  },
  {
   "cell_type": "code",
   "execution_count": 1,
   "id": "9c9ca9b6",
   "metadata": {},
   "outputs": [],
   "source": [
    "class Trace:\n",
    "    \n",
    "    def __init__(self):\n",
    "        self.enabled = True\n",
    "        \n",
    "    def __call__(self,f):\n",
    "        \n",
    "        def wrap(*args, **kwargs):\n",
    "            if(self.enabled): # Comprobamos si el tracing está activado\n",
    "                print(\"Invocando {}\".format(f)) #Mostramos el mensaje si lo está\n",
    "            return f(*args, **kwargs) #Devolvemos la función\n",
    "        \n",
    "        return wrap"
   ]
  },
  {
   "cell_type": "code",
   "execution_count": 2,
   "id": "9a561047",
   "metadata": {},
   "outputs": [],
   "source": [
    "tracer = Trace()"
   ]
  },
  {
   "cell_type": "markdown",
   "id": "f009972c",
   "metadata": {},
   "source": [
    "Vamos también a definir un decorador que pase a mayúsculas un mensaje:"
   ]
  },
  {
   "cell_type": "code",
   "execution_count": 22,
   "id": "d6a9e1ed",
   "metadata": {},
   "outputs": [],
   "source": [
    "def mayusculas(funcion): \n",
    "    \n",
    "    def envoltorio(*args,**kwargs):\n",
    "        print(\"Pasando {} a {}\".format(args[0], args[0].upper()))\n",
    "        return funcion(*args,**kwargs).upper()\n",
    "    \n",
    "    return envoltorio"
   ]
  },
  {
   "cell_type": "code",
   "execution_count": 23,
   "id": "7c0f421c",
   "metadata": {},
   "outputs": [],
   "source": [
    "@tracer\n",
    "@mayusculas\n",
    "def mostrar_mensaje(mensaje):\n",
    "    return mensaje"
   ]
  },
  {
   "cell_type": "code",
   "execution_count": 24,
   "id": "608c6103",
   "metadata": {},
   "outputs": [
    {
     "name": "stdout",
     "output_type": "stream",
     "text": [
      "Invocando <function mayusculas.<locals>.envoltorio at 0x0000018061CC15E0>\n",
      "Pasando Hola! a HOLA!\n"
     ]
    },
    {
     "data": {
      "text/plain": [
       "'HOLA!'"
      ]
     },
     "execution_count": 24,
     "metadata": {},
     "output_type": "execute_result"
    }
   ],
   "source": [
    "mostrar_mensaje(\"Hola!\")"
   ]
  },
  {
   "cell_type": "markdown",
   "id": "063b81ff",
   "metadata": {},
   "source": [
    "Como podemos ver:\n",
    "    \n",
    "1 - Se invoca a mostrar_mensaje\n",
    "\n",
    "2 - El decorador mayusculas recibe la función mostrar_mensaje\n",
    "\n",
    "3 - El decorador tracer recibe la función mayusculas\n",
    "\n",
    "4 - Se ejecuta el decorador tracer\n",
    "\n",
    "5 - Se ejecuta el decorador mayusculas\n",
    "\n",
    "6 - Se ejecuta la función mostrar_mensaje"
   ]
  }
 ],
 "metadata": {
  "kernelspec": {
   "display_name": "Python 3",
   "language": "python",
   "name": "python3"
  },
  "language_info": {
   "codemirror_mode": {
    "name": "ipython",
    "version": 3
   },
   "file_extension": ".py",
   "mimetype": "text/x-python",
   "name": "python",
   "nbconvert_exporter": "python",
   "pygments_lexer": "ipython3",
   "version": "3.8.8"
  }
 },
 "nbformat": 4,
 "nbformat_minor": 5
}
