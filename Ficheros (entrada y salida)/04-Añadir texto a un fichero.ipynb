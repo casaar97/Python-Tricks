{
 "cells": [
  {
   "cell_type": "markdown",
   "id": "4385c2bf",
   "metadata": {},
   "source": [
    "# Añadir texto a un fichero"
   ]
  },
  {
   "cell_type": "code",
   "execution_count": 1,
   "id": "6e86ec26",
   "metadata": {},
   "outputs": [],
   "source": [
    "# Abrimos el fichero en modo append (añadir)\n",
    "f = open(\"prueba.txt\", mode=\"at\", encoding=\"utf-8\")\n",
    "\n",
    "# Añadimos las líneas al fichero\n",
    "f.writelines([\"Esta es la linea \" + str(linea) + \" del fichero de prueba.\\n\" for linea in range(10, 20)])\n",
    "\n",
    "# Cerramos el fichero\n",
    "f.close()"
   ]
  },
  {
   "cell_type": "markdown",
   "id": "ab8d2b4b",
   "metadata": {},
   "source": [
    "Ahora vamos a leer el fichero para ver que se ha añadido correctamente:"
   ]
  },
  {
   "cell_type": "code",
   "execution_count": 2,
   "id": "7460bc74",
   "metadata": {},
   "outputs": [
    {
     "name": "stdout",
     "output_type": "stream",
     "text": [
      "Esta es la linea 0 del fichero de prueba.\n",
      "\n",
      "Esta es la linea 1 del fichero de prueba.\n",
      "\n",
      "Esta es la linea 2 del fichero de prueba.\n",
      "\n",
      "Esta es la linea 3 del fichero de prueba.\n",
      "\n",
      "Esta es la linea 4 del fichero de prueba.\n",
      "\n",
      "Esta es la linea 5 del fichero de prueba.\n",
      "\n",
      "Esta es la linea 6 del fichero de prueba.\n",
      "\n",
      "Esta es la linea 7 del fichero de prueba.\n",
      "\n",
      "Esta es la linea 8 del fichero de prueba.\n",
      "\n",
      "Esta es la linea 9 del fichero de prueba.\n",
      "\n",
      "Esta es la linea 10 del fichero de prueba.\n",
      "\n",
      "Esta es la linea 11 del fichero de prueba.\n",
      "\n",
      "Esta es la linea 12 del fichero de prueba.\n",
      "\n",
      "Esta es la linea 13 del fichero de prueba.\n",
      "\n",
      "Esta es la linea 14 del fichero de prueba.\n",
      "\n",
      "Esta es la linea 15 del fichero de prueba.\n",
      "\n",
      "Esta es la linea 16 del fichero de prueba.\n",
      "\n",
      "Esta es la linea 17 del fichero de prueba.\n",
      "\n",
      "Esta es la linea 18 del fichero de prueba.\n",
      "\n",
      "Esta es la linea 19 del fichero de prueba.\n",
      "\n",
      "Esta es la linea 10 del fichero de prueba.\n",
      "\n",
      "Esta es la linea 11 del fichero de prueba.\n",
      "\n",
      "Esta es la linea 12 del fichero de prueba.\n",
      "\n",
      "Esta es la linea 13 del fichero de prueba.\n",
      "\n",
      "Esta es la linea 14 del fichero de prueba.\n",
      "\n",
      "Esta es la linea 15 del fichero de prueba.\n",
      "\n",
      "Esta es la linea 16 del fichero de prueba.\n",
      "\n",
      "Esta es la linea 17 del fichero de prueba.\n",
      "\n",
      "Esta es la linea 18 del fichero de prueba.\n",
      "\n",
      "Esta es la linea 19 del fichero de prueba.\n",
      "\n"
     ]
    }
   ],
   "source": [
    "# Abrimos el fichero en modo append (añadir)\n",
    "f = open(\"prueba.txt\", mode=\"rt\", encoding=\"utf-8\")\n",
    "\n",
    "# Añadimos las líneas al fichero\n",
    "for linea in f.readlines():\n",
    "    print(linea)\n",
    "\n",
    "# Cerramos el fichero\n",
    "f.close()"
   ]
  },
  {
   "cell_type": "markdown",
   "id": "afb87abb",
   "metadata": {},
   "source": [
    "Como podemos ver, las líneas se han añadido correctamente al fichero de texto."
   ]
  }
 ],
 "metadata": {
  "kernelspec": {
   "display_name": "Python 3 (ipykernel)",
   "language": "python",
   "name": "python3"
  },
  "language_info": {
   "codemirror_mode": {
    "name": "ipython",
    "version": 3
   },
   "file_extension": ".py",
   "mimetype": "text/x-python",
   "name": "python",
   "nbconvert_exporter": "python",
   "pygments_lexer": "ipython3",
   "version": "3.9.7"
  }
 },
 "nbformat": 4,
 "nbformat_minor": 5
}
