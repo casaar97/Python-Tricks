{
 "cells": [
  {
   "cell_type": "markdown",
   "id": "7ae5cf58",
   "metadata": {},
   "source": [
    "# Bloques With"
   ]
  },
  {
   "cell_type": "markdown",
   "id": "3bba5748",
   "metadata": {},
   "source": [
    "Cuando trabajamos con un fichero, los pasos son siempre los mismos:\n",
    "    \n",
    "- Abrir el fichero\n",
    "- Manipular el fichero\n",
    "- Cerrar el fichero"
   ]
  },
  {
   "cell_type": "markdown",
   "id": "07e0f836",
   "metadata": {},
   "source": [
    "Queremos un mecanismo que nos permita abrir y cerrar el fichero de forma automática. \n",
    "\n",
    "Aquí es donde entra en juego el bloque **with**:"
   ]
  },
  {
   "cell_type": "markdown",
   "id": "dd35f0ad",
   "metadata": {},
   "source": [
    "## With"
   ]
  },
  {
   "cell_type": "markdown",
   "id": "c5cde73f",
   "metadata": {},
   "source": [
    "Es una estructura para el control del flujo a la hora de manejar recursos.\n",
    "\n",
    "Puede ser utilizado con cualquier objeto que soporte el protocolo **manejador de contextos**.\n",
    "\n",
    "Ejemplo:"
   ]
  },
  {
   "cell_type": "code",
   "execution_count": 1,
   "id": "5f23df68",
   "metadata": {},
   "outputs": [
    {
     "name": "stdout",
     "output_type": "stream",
     "text": [
      "Esta es la linea 0 del fichero de prueba.\n",
      "\n",
      "Esta es la linea 1 del fichero de prueba.\n",
      "\n",
      "Esta es la linea 2 del fichero de prueba.\n",
      "\n",
      "Esta es la linea 3 del fichero de prueba.\n",
      "\n",
      "Esta es la linea 4 del fichero de prueba.\n",
      "\n",
      "Esta es la linea 5 del fichero de prueba.\n",
      "\n",
      "Esta es la linea 6 del fichero de prueba.\n",
      "\n",
      "Esta es la linea 7 del fichero de prueba.\n",
      "\n",
      "Esta es la linea 8 del fichero de prueba.\n",
      "\n",
      "Esta es la linea 9 del fichero de prueba.\n",
      "\n",
      "Esta es la linea 10 del fichero de prueba.\n",
      "\n",
      "Esta es la linea 11 del fichero de prueba.\n",
      "\n",
      "Esta es la linea 12 del fichero de prueba.\n",
      "\n",
      "Esta es la linea 13 del fichero de prueba.\n",
      "\n",
      "Esta es la linea 14 del fichero de prueba.\n",
      "\n",
      "Esta es la linea 15 del fichero de prueba.\n",
      "\n",
      "Esta es la linea 16 del fichero de prueba.\n",
      "\n",
      "Esta es la linea 17 del fichero de prueba.\n",
      "\n",
      "Esta es la linea 18 del fichero de prueba.\n",
      "\n",
      "Esta es la linea 19 del fichero de prueba.\n",
      "\n",
      "Esta es la linea 10 del fichero de prueba.\n",
      "\n",
      "Esta es la linea 11 del fichero de prueba.\n",
      "\n",
      "Esta es la linea 12 del fichero de prueba.\n",
      "\n",
      "Esta es la linea 13 del fichero de prueba.\n",
      "\n",
      "Esta es la linea 14 del fichero de prueba.\n",
      "\n",
      "Esta es la linea 15 del fichero de prueba.\n",
      "\n",
      "Esta es la linea 16 del fichero de prueba.\n",
      "\n",
      "Esta es la linea 17 del fichero de prueba.\n",
      "\n",
      "Esta es la linea 18 del fichero de prueba.\n",
      "\n",
      "Esta es la linea 19 del fichero de prueba.\n",
      "\n"
     ]
    }
   ],
   "source": [
    "with open(\"prueba.txt\", mode=\"rt\", encoding=\"utf-8\") as f:\n",
    "    for linea in f:\n",
    "        print(linea)"
   ]
  },
  {
   "cell_type": "markdown",
   "id": "672e9411",
   "metadata": {},
   "source": [
    "Una vez terminado el bloque with, el fichero es cerrado automáticamente:"
   ]
  },
  {
   "cell_type": "code",
   "execution_count": 3,
   "id": "9d1fc484",
   "metadata": {},
   "outputs": [
    {
     "data": {
      "text/plain": [
       "True"
      ]
     },
     "execution_count": 3,
     "metadata": {},
     "output_type": "execute_result"
    }
   ],
   "source": [
    "f.closed"
   ]
  }
 ],
 "metadata": {
  "kernelspec": {
   "display_name": "Python 3 (ipykernel)",
   "language": "python",
   "name": "python3"
  },
  "language_info": {
   "codemirror_mode": {
    "name": "ipython",
    "version": 3
   },
   "file_extension": ".py",
   "mimetype": "text/x-python",
   "name": "python",
   "nbconvert_exporter": "python",
   "pygments_lexer": "ipython3",
   "version": "3.9.7"
  }
 },
 "nbformat": 4,
 "nbformat_minor": 5
}
