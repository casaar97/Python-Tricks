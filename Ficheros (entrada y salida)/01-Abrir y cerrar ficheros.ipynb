{
 "cells": [
  {
   "cell_type": "markdown",
   "id": "48ff8cef",
   "metadata": {},
   "source": [
    "# Abrir y cerrar ficheros"
   ]
  },
  {
   "cell_type": "markdown",
   "id": "76224faf",
   "metadata": {},
   "source": [
    "Para abrir ficheros se utiliza el método open()."
   ]
  },
  {
   "cell_type": "markdown",
   "id": "baafa90d",
   "metadata": {},
   "source": [
    "## Modos de apertura"
   ]
  },
  {
   "cell_type": "markdown",
   "id": "1c3f1eb0",
   "metadata": {},
   "source": [
    "- **r**: Abrir para lectura\n",
    "- **w**: Abrir para escritura\n",
    "- **a**: Abrir para añadir contenido"
   ]
  },
  {
   "cell_type": "markdown",
   "id": "355248e9",
   "metadata": {},
   "source": [
    "### Selector"
   ]
  },
  {
   "cell_type": "markdown",
   "id": "df7acc0a",
   "metadata": {},
   "source": [
    "- **b**: Modo binario\n",
    "- **t**: Modo texto"
   ]
  },
  {
   "cell_type": "markdown",
   "id": "6512385b",
   "metadata": {},
   "source": [
    "Ejemplo: "
   ]
  },
  {
   "cell_type": "code",
   "execution_count": 1,
   "id": "5f586f01",
   "metadata": {},
   "outputs": [],
   "source": [
    "f = open(\"prueba.txt\", mode=\"wt\", encoding=\"utf-8\")\n",
    "f.close()"
   ]
  },
  {
   "cell_type": "markdown",
   "id": "c501fd0f",
   "metadata": {},
   "source": [
    "Aquí hemos abierto un fichero llamado \"prueba.txt\" en modo escritura texto con formado de codificación uft-8."
   ]
  },
  {
   "cell_type": "markdown",
   "id": "56ef3b90",
   "metadata": {},
   "source": [
    "## Cerrar ficheros"
   ]
  },
  {
   "cell_type": "markdown",
   "id": "9aea60b8",
   "metadata": {},
   "source": [
    "Cuando se abre un fichero siempre hay que cerrarlo con el método close() tras terminar de trabajar con él."
   ]
  }
 ],
 "metadata": {
  "kernelspec": {
   "display_name": "Python 3 (ipykernel)",
   "language": "python",
   "name": "python3"
  },
  "language_info": {
   "codemirror_mode": {
    "name": "ipython",
    "version": 3
   },
   "file_extension": ".py",
   "mimetype": "text/x-python",
   "name": "python",
   "nbconvert_exporter": "python",
   "pygments_lexer": "ipython3",
   "version": "3.9.7"
  }
 },
 "nbformat": 4,
 "nbformat_minor": 5
}
