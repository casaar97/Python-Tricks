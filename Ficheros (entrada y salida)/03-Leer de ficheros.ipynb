{
 "cells": [
  {
   "cell_type": "markdown",
   "id": "bfa82e10",
   "metadata": {},
   "source": [
    "# Leer de ficheros"
   ]
  },
  {
   "cell_type": "markdown",
   "id": "fd040052",
   "metadata": {},
   "source": [
    "## Leer fichero completo"
   ]
  },
  {
   "cell_type": "markdown",
   "id": "bca07ab3",
   "metadata": {},
   "source": [
    "Para leer de un fichero, tenemos que usar la función read():"
   ]
  },
  {
   "cell_type": "code",
   "execution_count": 1,
   "id": "9610e4fa",
   "metadata": {},
   "outputs": [
    {
     "data": {
      "text/plain": [
       "'Esta es la linea 0 del fichero de prueba.\\nEsta es la linea 1 del fichero de prueba.\\nEsta es la linea 2 del fichero de prueba.\\nEsta es la linea 3 del fichero de prueba.\\nEsta es la linea 4 del fichero de prueba.\\nEsta es la linea 5 del fichero de prueba.\\nEsta es la linea 6 del fichero de prueba.\\nEsta es la linea 7 del fichero de prueba.\\nEsta es la linea 8 del fichero de prueba.\\nEsta es la linea 9 del fichero de prueba.\\n'"
      ]
     },
     "execution_count": 1,
     "metadata": {},
     "output_type": "execute_result"
    }
   ],
   "source": [
    "# Abrimos el fichero\n",
    "f = open('prueba.txt', mode='rt', encoding=\"utf-8\")\n",
    "\n",
    "# Leemos el contenido del fichero\n",
    "f.read()"
   ]
  },
  {
   "cell_type": "code",
   "execution_count": 2,
   "id": "221157b6",
   "metadata": {},
   "outputs": [],
   "source": [
    "# Cerramos el fichero\n",
    "f.close()"
   ]
  },
  {
   "cell_type": "markdown",
   "id": "7b6902a6",
   "metadata": {},
   "source": [
    "## Leer x caracteres de un fichero"
   ]
  },
  {
   "cell_type": "markdown",
   "id": "c1f3c5d2",
   "metadata": {},
   "source": [
    "En el caso de querer leer los 10 primeros caracteres del fichero, le pasaríamos como argumento ese número de caracteres a la funcion read():"
   ]
  },
  {
   "cell_type": "code",
   "execution_count": 3,
   "id": "b98f7d6d",
   "metadata": {},
   "outputs": [
    {
     "data": {
      "text/plain": [
       "'Esta es la'"
      ]
     },
     "execution_count": 3,
     "metadata": {},
     "output_type": "execute_result"
    }
   ],
   "source": [
    "# Abrimos el fichero\n",
    "f = open('prueba.txt', mode='rt', encoding=\"utf-8\")\n",
    "\n",
    "# Leemos el contenido del fichero\n",
    "f.read(10)"
   ]
  },
  {
   "cell_type": "markdown",
   "id": "31cadb4a",
   "metadata": {},
   "source": [
    "Si ahora seguimos leyendo otros 10 caracteres, no empieza desde el principio, sino que continua por donde se quedó el puntero del fichero:"
   ]
  },
  {
   "cell_type": "code",
   "execution_count": 4,
   "id": "9cea2fb1",
   "metadata": {},
   "outputs": [
    {
     "data": {
      "text/plain": [
       "' linea 0 d'"
      ]
     },
     "execution_count": 4,
     "metadata": {},
     "output_type": "execute_result"
    }
   ],
   "source": [
    "f.read(10)"
   ]
  },
  {
   "cell_type": "code",
   "execution_count": 5,
   "id": "61108c77",
   "metadata": {},
   "outputs": [],
   "source": [
    "# Cerramos el fichero\n",
    "f.close()"
   ]
  },
  {
   "cell_type": "markdown",
   "id": "a528e1d5",
   "metadata": {},
   "source": [
    "## Volver al principio del fichero"
   ]
  },
  {
   "cell_type": "markdown",
   "id": "60ea9bf8",
   "metadata": {},
   "source": [
    "Si queremos volver al principio del fichero, ponemos la posición del puntero del fichero a 0.\n",
    "\n",
    "Esto se hace con el método seek():"
   ]
  },
  {
   "cell_type": "code",
   "execution_count": 6,
   "id": "2a07fad3",
   "metadata": {},
   "outputs": [
    {
     "data": {
      "text/plain": [
       "'Esta es la'"
      ]
     },
     "execution_count": 6,
     "metadata": {},
     "output_type": "execute_result"
    }
   ],
   "source": [
    "# Abrimos el fichero\n",
    "f = open('prueba.txt', mode='rt', encoding=\"utf-8\")\n",
    "\n",
    "# Leemos el contenido del fichero\n",
    "f.read(10)"
   ]
  },
  {
   "cell_type": "code",
   "execution_count": 7,
   "id": "3bc14e54",
   "metadata": {},
   "outputs": [
    {
     "data": {
      "text/plain": [
       "'Esta es la'"
      ]
     },
     "execution_count": 7,
     "metadata": {},
     "output_type": "execute_result"
    }
   ],
   "source": [
    "# Volvemos al principio del fichero\n",
    "f.seek(0)\n",
    "\n",
    "# Volvemos a leer 10 caracteres\n",
    "f.read(10)"
   ]
  },
  {
   "cell_type": "code",
   "execution_count": 8,
   "id": "19a92927",
   "metadata": {},
   "outputs": [],
   "source": [
    "# Cerramos el fichero\n",
    "f.close()"
   ]
  },
  {
   "cell_type": "markdown",
   "id": "ffaa360f",
   "metadata": {},
   "source": [
    "### Importante"
   ]
  },
  {
   "cell_type": "markdown",
   "id": "6c949a16",
   "metadata": {},
   "source": [
    "seek() solo admite el valor 0 o valores del método tell(). Si le pasas otro valor como argumento el resultado será aleatorio."
   ]
  },
  {
   "cell_type": "markdown",
   "id": "77174433",
   "metadata": {},
   "source": [
    "## Leer por lineas"
   ]
  },
  {
   "cell_type": "markdown",
   "id": "e591ddb3",
   "metadata": {},
   "source": [
    "Para leer por líneas, utilizamos el método readline()."
   ]
  },
  {
   "cell_type": "code",
   "execution_count": 9,
   "id": "228be274",
   "metadata": {},
   "outputs": [
    {
     "data": {
      "text/plain": [
       "'Esta es la linea 0 del fichero de prueba.\\n'"
      ]
     },
     "execution_count": 9,
     "metadata": {},
     "output_type": "execute_result"
    }
   ],
   "source": [
    "# Abrimos el fichero\n",
    "f = open('prueba.txt', mode='rt', encoding=\"utf-8\")\n",
    "\n",
    "# Leemos el contenido del fichero\n",
    "f.readline()"
   ]
  },
  {
   "cell_type": "markdown",
   "id": "42489929",
   "metadata": {},
   "source": [
    "Cuando no queden mas líneas que leer, readline() devolverá una cadena de caracteres vacía:"
   ]
  },
  {
   "cell_type": "code",
   "execution_count": 10,
   "id": "8e42a6a2",
   "metadata": {},
   "outputs": [
    {
     "name": "stdout",
     "output_type": "stream",
     "text": [
      "Esta es la linea 1 del fichero de prueba.\n",
      "\n",
      "Esta es la linea 2 del fichero de prueba.\n",
      "\n",
      "Esta es la linea 3 del fichero de prueba.\n",
      "\n",
      "Esta es la linea 4 del fichero de prueba.\n",
      "\n",
      "Esta es la linea 5 del fichero de prueba.\n",
      "\n",
      "Esta es la linea 6 del fichero de prueba.\n",
      "\n",
      "Esta es la linea 7 del fichero de prueba.\n",
      "\n",
      "Esta es la linea 8 del fichero de prueba.\n",
      "\n",
      "Esta es la linea 9 del fichero de prueba.\n",
      "\n",
      "\n",
      "\n",
      "\n",
      "\n",
      "\n",
      "\n"
     ]
    }
   ],
   "source": [
    "for i in range(15):\n",
    "    print(f.readline())"
   ]
  },
  {
   "cell_type": "markdown",
   "id": "346d561e",
   "metadata": {},
   "source": [
    "Para obtener una lista con todas las líneas del fichero, utilizamos el método **readlines()**:"
   ]
  },
  {
   "cell_type": "code",
   "execution_count": 11,
   "id": "2da89d0d",
   "metadata": {},
   "outputs": [
    {
     "data": {
      "text/plain": [
       "['Esta es la linea 0 del fichero de prueba.\\n',\n",
       " 'Esta es la linea 1 del fichero de prueba.\\n',\n",
       " 'Esta es la linea 2 del fichero de prueba.\\n',\n",
       " 'Esta es la linea 3 del fichero de prueba.\\n',\n",
       " 'Esta es la linea 4 del fichero de prueba.\\n',\n",
       " 'Esta es la linea 5 del fichero de prueba.\\n',\n",
       " 'Esta es la linea 6 del fichero de prueba.\\n',\n",
       " 'Esta es la linea 7 del fichero de prueba.\\n',\n",
       " 'Esta es la linea 8 del fichero de prueba.\\n',\n",
       " 'Esta es la linea 9 del fichero de prueba.\\n']"
      ]
     },
     "execution_count": 11,
     "metadata": {},
     "output_type": "execute_result"
    }
   ],
   "source": [
    "# Volvemos al principio del fichero\n",
    "f.seek(0)\n",
    "\n",
    "f.readlines()"
   ]
  },
  {
   "cell_type": "code",
   "execution_count": 12,
   "id": "7c3342ba",
   "metadata": {},
   "outputs": [],
   "source": [
    "f.close()"
   ]
  }
 ],
 "metadata": {
  "kernelspec": {
   "display_name": "Python 3 (ipykernel)",
   "language": "python",
   "name": "python3"
  },
  "language_info": {
   "codemirror_mode": {
    "name": "ipython",
    "version": 3
   },
   "file_extension": ".py",
   "mimetype": "text/x-python",
   "name": "python",
   "nbconvert_exporter": "python",
   "pygments_lexer": "ipython3",
   "version": "3.9.7"
  }
 },
 "nbformat": 4,
 "nbformat_minor": 5
}
