{
 "cells": [
  {
   "cell_type": "markdown",
   "id": "f23f8f1d",
   "metadata": {},
   "source": [
    "# Escribir en ficheros"
   ]
  },
  {
   "cell_type": "markdown",
   "id": "7d209552",
   "metadata": {},
   "source": [
    "Para escribir en ficheros de texto, tenemos que usar la función write():"
   ]
  },
  {
   "cell_type": "code",
   "execution_count": 1,
   "id": "f15a482a",
   "metadata": {},
   "outputs": [],
   "source": [
    "# Abrimos el fichero\n",
    "f = open('prueba.txt', 'wt')\n",
    "\n",
    "#Escribimos en el fichero\n",
    "\n",
    "for linea in range(10):\n",
    "    f.write(\"Esta es la linea \" + str(linea) + \" del fichero de prueba.\\n\")\n",
    "\n",
    "#Cerramos el fichero\n",
    "f.close()"
   ]
  }
 ],
 "metadata": {
  "kernelspec": {
   "display_name": "Python 3 (ipykernel)",
   "language": "python",
   "name": "python3"
  },
  "language_info": {
   "codemirror_mode": {
    "name": "ipython",
    "version": 3
   },
   "file_extension": ".py",
   "mimetype": "text/x-python",
   "name": "python",
   "nbconvert_exporter": "python",
   "pygments_lexer": "ipython3",
   "version": "3.9.7"
  }
 },
 "nbformat": 4,
 "nbformat_minor": 5
}
