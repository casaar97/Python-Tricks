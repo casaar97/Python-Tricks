{
 "cells": [
  {
   "cell_type": "markdown",
   "id": "484447ef",
   "metadata": {},
   "source": [
    "# Cerrando los ficheros con finally"
   ]
  },
  {
   "cell_type": "markdown",
   "id": "8b5de836",
   "metadata": {},
   "source": [
    "A la hora de trabajar con ficheros, es una buena práctica utilizar bloques try-except-finally para evitar que el fichero no se cierre en el caso de ocurrir una excepción. \n",
    "\n",
    "Por ejemplo, vamos a intentar escribir sobre un fichero abierto en modo lectura:"
   ]
  },
  {
   "cell_type": "code",
   "execution_count": 1,
   "id": "30d0cb3e",
   "metadata": {},
   "outputs": [
    {
     "name": "stdout",
     "output_type": "stream",
     "text": [
      "Ha ocurrido una excepción intentando escribir en el fichero.\n",
      "El fichero está cerrado\n"
     ]
    }
   ],
   "source": [
    "try:\n",
    "    # Abrimos el fichero\n",
    "    f = open('prueba.txt', mode='rt', encoding=\"utf-8\")\n",
    "\n",
    "    f.write(\"Hola\")\n",
    "    \n",
    "except:\n",
    "    print(\"Ha ocurrido una excepción intentando escribir en el fichero.\")\n",
    "    \n",
    "finally: \n",
    "    f.close()\n",
    "\n",
    "print(\"El fichero está cerrado\") if f.close else print(\"El fichero no está cerrado.\")"
   ]
  },
  {
   "cell_type": "markdown",
   "id": "6c5aca4b",
   "metadata": {},
   "source": [
    "Como podemos ver: \n",
    "    \n",
    "- El fichero ha sido abierto dentro del bloque try.\n",
    "- Como se ha intentado escribir en el en modo lectura ha lanzado una excepción.\n",
    "- La excepción ha sido capturada por el bloque except, que se ha ejecutado.\n",
    "- Finalmente, el bloque finally ha cerrado el fichero, ya que se ejecuta independientemente de que falle o no el bloque try."
   ]
  }
 ],
 "metadata": {
  "kernelspec": {
   "display_name": "Python 3 (ipykernel)",
   "language": "python",
   "name": "python3"
  },
  "language_info": {
   "codemirror_mode": {
    "name": "ipython",
    "version": 3
   },
   "file_extension": ".py",
   "mimetype": "text/x-python",
   "name": "python",
   "nbconvert_exporter": "python",
   "pygments_lexer": "ipython3",
   "version": "3.9.7"
  }
 },
 "nbformat": 4,
 "nbformat_minor": 5
}
