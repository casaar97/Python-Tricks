{
 "cells": [
  {
   "cell_type": "markdown",
   "id": "a44592dc",
   "metadata": {},
   "source": [
    "# Iterar sobre ficheros"
   ]
  },
  {
   "cell_type": "markdown",
   "id": "9551218e",
   "metadata": {},
   "source": [
    "Los ficheros soportan el protocolo **iterator**, devolviendo en cada iteración la siguiente línea del fichero:"
   ]
  },
  {
   "cell_type": "code",
   "execution_count": 1,
   "id": "ab0087a7",
   "metadata": {},
   "outputs": [
    {
     "name": "stdout",
     "output_type": "stream",
     "text": [
      "Esta es la linea 0 del fichero de prueba.\n",
      "\n",
      "Esta es la linea 1 del fichero de prueba.\n",
      "\n",
      "Esta es la linea 2 del fichero de prueba.\n",
      "\n",
      "Esta es la linea 3 del fichero de prueba.\n",
      "\n",
      "Esta es la linea 4 del fichero de prueba.\n",
      "\n",
      "Esta es la linea 5 del fichero de prueba.\n",
      "\n",
      "Esta es la linea 6 del fichero de prueba.\n",
      "\n",
      "Esta es la linea 7 del fichero de prueba.\n",
      "\n",
      "Esta es la linea 8 del fichero de prueba.\n",
      "\n",
      "Esta es la linea 9 del fichero de prueba.\n",
      "\n",
      "Esta es la linea 10 del fichero de prueba.\n",
      "\n",
      "Esta es la linea 11 del fichero de prueba.\n",
      "\n",
      "Esta es la linea 12 del fichero de prueba.\n",
      "\n",
      "Esta es la linea 13 del fichero de prueba.\n",
      "\n",
      "Esta es la linea 14 del fichero de prueba.\n",
      "\n",
      "Esta es la linea 15 del fichero de prueba.\n",
      "\n",
      "Esta es la linea 16 del fichero de prueba.\n",
      "\n",
      "Esta es la linea 17 del fichero de prueba.\n",
      "\n",
      "Esta es la linea 18 del fichero de prueba.\n",
      "\n",
      "Esta es la linea 19 del fichero de prueba.\n",
      "\n",
      "Esta es la linea 10 del fichero de prueba.\n",
      "\n",
      "Esta es la linea 11 del fichero de prueba.\n",
      "\n",
      "Esta es la linea 12 del fichero de prueba.\n",
      "\n",
      "Esta es la linea 13 del fichero de prueba.\n",
      "\n",
      "Esta es la linea 14 del fichero de prueba.\n",
      "\n",
      "Esta es la linea 15 del fichero de prueba.\n",
      "\n",
      "Esta es la linea 16 del fichero de prueba.\n",
      "\n",
      "Esta es la linea 17 del fichero de prueba.\n",
      "\n",
      "Esta es la linea 18 del fichero de prueba.\n",
      "\n",
      "Esta es la linea 19 del fichero de prueba.\n",
      "\n"
     ]
    }
   ],
   "source": [
    "# Abrimos el fichero\n",
    "f = open('prueba.txt', mode='rt', encoding=\"utf-8\")\n",
    "\n",
    "for linea in f:\n",
    "    print(linea)\n",
    "    \n",
    "f.close()"
   ]
  },
  {
   "cell_type": "markdown",
   "id": "b8fea1b7",
   "metadata": {},
   "source": [
    "En el caso en el que queramos eliminar la línea en blanco que el método print añade automáticamente al mostrar las líneas del fichero, podemos usar el método **sys.stdout.write()**:"
   ]
  },
  {
   "cell_type": "code",
   "execution_count": 2,
   "id": "6af58d73",
   "metadata": {},
   "outputs": [
    {
     "name": "stdout",
     "output_type": "stream",
     "text": [
      "Esta es la linea 0 del fichero de prueba.\n",
      "Esta es la linea 1 del fichero de prueba.\n",
      "Esta es la linea 2 del fichero de prueba.\n",
      "Esta es la linea 3 del fichero de prueba.\n",
      "Esta es la linea 4 del fichero de prueba.\n",
      "Esta es la linea 5 del fichero de prueba.\n",
      "Esta es la linea 6 del fichero de prueba.\n",
      "Esta es la linea 7 del fichero de prueba.\n",
      "Esta es la linea 8 del fichero de prueba.\n",
      "Esta es la linea 9 del fichero de prueba.\n",
      "Esta es la linea 10 del fichero de prueba.\n",
      "Esta es la linea 11 del fichero de prueba.\n",
      "Esta es la linea 12 del fichero de prueba.\n",
      "Esta es la linea 13 del fichero de prueba.\n",
      "Esta es la linea 14 del fichero de prueba.\n",
      "Esta es la linea 15 del fichero de prueba.\n",
      "Esta es la linea 16 del fichero de prueba.\n",
      "Esta es la linea 17 del fichero de prueba.\n",
      "Esta es la linea 18 del fichero de prueba.\n",
      "Esta es la linea 19 del fichero de prueba.\n",
      "Esta es la linea 10 del fichero de prueba.\n",
      "Esta es la linea 11 del fichero de prueba.\n",
      "Esta es la linea 12 del fichero de prueba.\n",
      "Esta es la linea 13 del fichero de prueba.\n",
      "Esta es la linea 14 del fichero de prueba.\n",
      "Esta es la linea 15 del fichero de prueba.\n",
      "Esta es la linea 16 del fichero de prueba.\n",
      "Esta es la linea 17 del fichero de prueba.\n",
      "Esta es la linea 18 del fichero de prueba.\n",
      "Esta es la linea 19 del fichero de prueba.\n"
     ]
    }
   ],
   "source": [
    "import sys\n",
    "\n",
    "# Abrimos el fichero\n",
    "f = open('prueba.txt', mode='rt', encoding=\"utf-8\")\n",
    "\n",
    "for linea in f:\n",
    "    sys.stdout.write(linea)\n",
    "    \n",
    "f.close()"
   ]
  },
  {
   "cell_type": "code",
   "execution_count": null,
   "id": "ecf01b29",
   "metadata": {},
   "outputs": [],
   "source": []
  }
 ],
 "metadata": {
  "kernelspec": {
   "display_name": "Python 3 (ipykernel)",
   "language": "python",
   "name": "python3"
  },
  "language_info": {
   "codemirror_mode": {
    "name": "ipython",
    "version": 3
   },
   "file_extension": ".py",
   "mimetype": "text/x-python",
   "name": "python",
   "nbconvert_exporter": "python",
   "pygments_lexer": "ipython3",
   "version": "3.9.7"
  }
 },
 "nbformat": 4,
 "nbformat_minor": 5
}
