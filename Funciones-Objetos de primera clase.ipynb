{
 "cells": [
  {
   "cell_type": "markdown",
   "metadata": {},
   "source": [
    "# Funciones - Objetos de primera clase"
   ]
  },
  {
   "cell_type": "markdown",
   "metadata": {},
   "source": [
    "**Las funciones de Python son objetos de primera clase. Puedes asignarlas a variables, almacenarlas en estructuras de datos, pasarlas como argumentos a otras funciones, e incluso devolverlas como valores de otras funciones.**\n",
    "\n",
    "Si aprendes estos conceptos de forma intuitiva, te resultará mucho más fácil entender las funciones avanzadas de Python, como las lambdas y los decoradores. También te pone en el camino hacia las técnicas de programación funcional."
   ]
  },
  {
   "cell_type": "code",
   "execution_count": 1,
   "metadata": {},
   "outputs": [],
   "source": [
    "def gritar(text):\n",
    "    return text.upper() + '!'\n",
    "\n",
    "gritar('hola')"
   ]
  },
  {
   "cell_type": "markdown",
   "metadata": {},
   "source": [
    "## Las funciones son objetos"
   ]
  },
  {
   "cell_type": "code",
   "execution_count": 2,
   "metadata": {},
   "outputs": [],
   "source": [
    "ladrar = gritar"
   ]
  },
  {
   "cell_type": "code",
   "execution_count": 3,
   "metadata": {},
   "outputs": [
    {
     "data": {
      "text/plain": [
       "'GUAU!'"
      ]
     },
     "execution_count": 3,
     "metadata": {},
     "output_type": "execute_result"
    }
   ],
   "source": [
    "ladrar(\"Guau\")"
   ]
  },
  {
   "cell_type": "markdown",
   "metadata": {},
   "source": [
    "Los objetos de función y sus nombres son dos asuntos distintos.\n",
    "\n",
    "Puedes eliminar el nombre original de la función (gritar). Como otro nombre (ladrar) sigue apuntando a la función subyacente, puedes seguir llamando a la función a través de ella:"
   ]
  },
  {
   "cell_type": "code",
   "execution_count": 4,
   "metadata": {},
   "outputs": [
    {
     "ename": "NameError",
     "evalue": "name 'gritar' is not defined",
     "output_type": "error",
     "traceback": [
      "\u001b[0;31m---------------------------------------------------------------------------\u001b[0m",
      "\u001b[0;31mNameError\u001b[0m                                 Traceback (most recent call last)",
      "\u001b[0;32m<ipython-input-4-3b73a60d098c>\u001b[0m in \u001b[0;36m<module>\u001b[0;34m\u001b[0m\n\u001b[1;32m      1\u001b[0m \u001b[0;32mdel\u001b[0m \u001b[0mgritar\u001b[0m\u001b[0;34m\u001b[0m\u001b[0;34m\u001b[0m\u001b[0m\n\u001b[1;32m      2\u001b[0m \u001b[0;34m\u001b[0m\u001b[0m\n\u001b[0;32m----> 3\u001b[0;31m \u001b[0mgritar\u001b[0m\u001b[0;34m(\u001b[0m\u001b[0;34m\"hola\"\u001b[0m\u001b[0;34m)\u001b[0m\u001b[0;34m\u001b[0m\u001b[0;34m\u001b[0m\u001b[0m\n\u001b[0m",
      "\u001b[0;31mNameError\u001b[0m: name 'gritar' is not defined"
     ]
    }
   ],
   "source": [
    "del gritar\n",
    "\n",
    "gritar(\"hola\")"
   ]
  },
  {
   "cell_type": "code",
   "execution_count": 5,
   "metadata": {},
   "outputs": [
    {
     "data": {
      "text/plain": [
       "'HOLA!'"
      ]
     },
     "execution_count": 5,
     "metadata": {},
     "output_type": "execute_result"
    }
   ],
   "source": [
    "ladrar(\"hola\")"
   ]
  },
  {
   "cell_type": "markdown",
   "metadata": {},
   "source": [
    "Python adjunta un identificador de cadena a cada función en el momento de la creación para fines de depuración. Puedes acceder a este identificador interno con el atributo \\__name\\__:"
   ]
  },
  {
   "cell_type": "code",
   "execution_count": 6,
   "metadata": {},
   "outputs": [
    {
     "data": {
      "text/plain": [
       "'gritar'"
      ]
     },
     "execution_count": 6,
     "metadata": {},
     "output_type": "execute_result"
    }
   ],
   "source": [
    "ladrar.__name__"
   ]
  },
  {
   "cell_type": "markdown",
   "metadata": {},
   "source": [
    "Ahora, mientras que el \\__name\\__ de la función sigue siendo \"gritar\", eso no afecta a cómo se puede acceder al objeto de la función desde el código. \n",
    "\n",
    "El identificador del nombre es simplemente una ayuda para la depuración.\n",
    "\n",
    "**Una variable que apunta a una función y la función en sí misma son realmente dos cosas separadas.**"
   ]
  },
  {
   "cell_type": "markdown",
   "metadata": {},
   "source": [
    "## Las funciones pueden ser almacenadas en estructuras de datos"
   ]
  },
  {
   "cell_type": "markdown",
   "metadata": {},
   "source": [
    "Dado que las funciones son ciudadanos de primera clase, puedes almacenarlas en estructuras de datos, al igual que haces con otros objetos. \n",
    "\n",
    "Por ejemplo, puedes añadir funciones a una lista:"
   ]
  },
  {
   "cell_type": "code",
   "execution_count": 7,
   "metadata": {},
   "outputs": [],
   "source": [
    "funcs = [ladrar, str.lower, str.capitalize]"
   ]
  },
  {
   "cell_type": "code",
   "execution_count": 8,
   "metadata": {},
   "outputs": [
    {
     "data": {
      "text/plain": [
       "[<function __main__.gritar(text)>,\n",
       " <method 'lower' of 'str' objects>,\n",
       " <method 'capitalize' of 'str' objects>]"
      ]
     },
     "execution_count": 8,
     "metadata": {},
     "output_type": "execute_result"
    }
   ],
   "source": [
    "funcs"
   ]
  },
  {
   "cell_type": "code",
   "execution_count": 9,
   "metadata": {},
   "outputs": [
    {
     "name": "stdout",
     "output_type": "stream",
     "text": [
      "<function gritar at 0x7fda99768f70> HOLA, QUÉ TAL?!\n",
      "<method 'lower' of 'str' objects> hola, qué tal?\n",
      "<method 'capitalize' of 'str' objects> Hola, qué tal?\n"
     ]
    }
   ],
   "source": [
    "for function in funcs:\n",
    "    print(function, function(\"hola, qué tal?\"))"
   ]
  },
  {
   "cell_type": "code",
   "execution_count": 10,
   "metadata": {},
   "outputs": [
    {
     "data": {
      "text/plain": [
       "'HOLA ME LLAMO JUAN!'"
      ]
     },
     "execution_count": 10,
     "metadata": {},
     "output_type": "execute_result"
    }
   ],
   "source": [
    "funcs[0](\"hola me llamo juan\")"
   ]
  },
  {
   "cell_type": "markdown",
   "metadata": {},
   "source": [
    "## Las funciones pueden ser pasadas como argumento a otras funciones"
   ]
  },
  {
   "cell_type": "markdown",
   "metadata": {},
   "source": [
    "Como las funciones son objetos, puedes pasarlas como argumentos a otras funciones. \n",
    "\n",
    "Aquí hay una función greet que formatea una cadena de saludo usando el objeto de función que se le pasa y luego la imprime:\n"
   ]
  },
  {
   "cell_type": "code",
   "execution_count": 11,
   "metadata": {},
   "outputs": [],
   "source": [
    "def saludar(func):\n",
    "    saludo = func('Hola, me llamo Carlos') \n",
    "    print(saludo)"
   ]
  },
  {
   "cell_type": "code",
   "execution_count": 12,
   "metadata": {},
   "outputs": [
    {
     "name": "stdout",
     "output_type": "stream",
     "text": [
      "HOLA, ME LLAMO CARLOS!\n"
     ]
    }
   ],
   "source": [
    "saludar(ladrar)"
   ]
  },
  {
   "cell_type": "markdown",
   "metadata": {},
   "source": [
    "Con otra función sería así:"
   ]
  },
  {
   "cell_type": "code",
   "execution_count": 13,
   "metadata": {},
   "outputs": [],
   "source": [
    "def susurrar(text):\n",
    "    return text.lower() + '...'"
   ]
  },
  {
   "cell_type": "code",
   "execution_count": 14,
   "metadata": {},
   "outputs": [
    {
     "name": "stdout",
     "output_type": "stream",
     "text": [
      "hola, me llamo carlos...\n"
     ]
    }
   ],
   "source": [
    "saludar(susurrar)"
   ]
  },
  {
   "cell_type": "markdown",
   "metadata": {},
   "source": [
    "La capacidad de pasar objetos de función como argumentos a otras funciones es poderosa. Te permite abstraer y pasar comportamientos en tus programas. \n",
    "\n",
    "En este ejemplo, la función saludar sigue siendo la misma, pero puedes influir en su salida pasando diferentes comportamientos de saludo.\n",
    "\n",
    "Las funciones que pueden aceptar otras funciones como argumentos también se llaman funciones de orden superior. Son una necesidad para el estilo de programación funcional.\n",
    "\n",
    "El ejemplo clásico de funciones de orden superior en Python es la función **map**:\n",
    "    \n",
    "Toma un objeto de función y un iterable, y luego llama a la función en cada elemento del iterable, produciendo los resultados a medida que avanza.\n",
    "\n",
    "Así es como se puede formatear una secuencia de saludos de una sola vez mediante el mapeo de la función ladrar:"
   ]
  },
  {
   "cell_type": "code",
   "execution_count": 15,
   "metadata": {},
   "outputs": [
    {
     "data": {
      "text/plain": [
       "['HOLA!', 'HEY!', 'QUE TAL!']"
      ]
     },
     "execution_count": 15,
     "metadata": {},
     "output_type": "execute_result"
    }
   ],
   "source": [
    "list(map(ladrar,[\"hola\",\"hey\",\"que tal\"]))"
   ]
  },
  {
   "cell_type": "markdown",
   "metadata": {},
   "source": [
    "Como has visto, map recorrió toda la lista y aplicó la función ladrar a cada elemento. Como resultado, ahora tenemos un nuevo objeto de lista con cadenas de saludo modificadas."
   ]
  },
  {
   "cell_type": "markdown",
   "metadata": {},
   "source": [
    "## Las funciones pueden anidarse"
   ]
  },
  {
   "cell_type": "markdown",
   "metadata": {},
   "source": [
    "Python permite definir funciones dentro de otras funciones. A menudo se llaman funciones anidadas o funciones internas:"
   ]
  },
  {
   "cell_type": "code",
   "execution_count": 16,
   "metadata": {},
   "outputs": [],
   "source": [
    "def hablar(text): \n",
    "    def susurrar(t):\n",
    "        return t.lower() + '...' \n",
    "    return whisper(text)"
   ]
  },
  {
   "cell_type": "code",
   "execution_count": 17,
   "metadata": {},
   "outputs": [
    {
     "ename": "NameError",
     "evalue": "name 'whisper' is not defined",
     "output_type": "error",
     "traceback": [
      "\u001b[0;31m---------------------------------------------------------------------------\u001b[0m",
      "\u001b[0;31mNameError\u001b[0m                                 Traceback (most recent call last)",
      "\u001b[0;32m<ipython-input-17-d22f1e23657b>\u001b[0m in \u001b[0;36m<module>\u001b[0;34m\u001b[0m\n\u001b[0;32m----> 1\u001b[0;31m \u001b[0mhablar\u001b[0m\u001b[0;34m(\u001b[0m\u001b[0;34m\"Hola\"\u001b[0m\u001b[0;34m)\u001b[0m\u001b[0;34m\u001b[0m\u001b[0;34m\u001b[0m\u001b[0m\n\u001b[0m",
      "\u001b[0;32m<ipython-input-16-5604815f73c2>\u001b[0m in \u001b[0;36mhablar\u001b[0;34m(text)\u001b[0m\n\u001b[1;32m      2\u001b[0m     \u001b[0;32mdef\u001b[0m \u001b[0msusurrar\u001b[0m\u001b[0;34m(\u001b[0m\u001b[0mt\u001b[0m\u001b[0;34m)\u001b[0m\u001b[0;34m:\u001b[0m\u001b[0;34m\u001b[0m\u001b[0;34m\u001b[0m\u001b[0m\n\u001b[1;32m      3\u001b[0m         \u001b[0;32mreturn\u001b[0m \u001b[0mt\u001b[0m\u001b[0;34m.\u001b[0m\u001b[0mlower\u001b[0m\u001b[0;34m(\u001b[0m\u001b[0;34m)\u001b[0m \u001b[0;34m+\u001b[0m \u001b[0;34m'...'\u001b[0m\u001b[0;34m\u001b[0m\u001b[0;34m\u001b[0m\u001b[0m\n\u001b[0;32m----> 4\u001b[0;31m     \u001b[0;32mreturn\u001b[0m \u001b[0mwhisper\u001b[0m\u001b[0;34m(\u001b[0m\u001b[0mtext\u001b[0m\u001b[0;34m)\u001b[0m\u001b[0;34m\u001b[0m\u001b[0;34m\u001b[0m\u001b[0m\n\u001b[0m",
      "\u001b[0;31mNameError\u001b[0m: name 'whisper' is not defined"
     ]
    }
   ],
   "source": [
    "hablar(\"Hola\")"
   ]
  },
  {
   "cell_type": "markdown",
   "metadata": {},
   "source": [
    "Cada vez que se llama a hablar, se define una nueva función interna susurrar y se la llama inmediatamente después."
   ]
  },
  {
   "cell_type": "markdown",
   "metadata": {},
   "source": [
    "¿Pero qué pasa si realmente quieres acceder a esa función anidada de whisper desde fuera de speak? \n",
    "\n",
    "Bueno, las funciones son objetos: puedes devolver la función interna a quien llama a la función padre.\n",
    "\n",
    "Por ejemplo, aquí hay una función que define dos funciones internas. Dependiendo del argumento pasado a la función de nivel superior, selecciona y devuelve una de las funciones internas al llamador:"
   ]
  },
  {
   "cell_type": "code",
   "execution_count": 18,
   "metadata": {},
   "outputs": [],
   "source": [
    "def hablarEnFuncionDelVolumen(volumen): \n",
    "    \n",
    "    def susurrar(texto):\n",
    "        return texto.lower() + '...' \n",
    "    \n",
    "    def gritar(texto):\n",
    "        return texto.upper() + '!' \n",
    "    \n",
    "    if volumen >= 0.5:\n",
    "        return gritar \n",
    "    else:\n",
    "        return susurrar"
   ]
  },
  {
   "cell_type": "markdown",
   "metadata": {},
   "source": [
    "Fíjate que get_speak_func no llama a ninguna de sus funciones internas, sino que simplemente selecciona la función interna apropiada basándose en el argumento del volumen y luego devuelve el objeto de la función:"
   ]
  },
  {
   "cell_type": "code",
   "execution_count": 19,
   "metadata": {},
   "outputs": [
    {
     "data": {
      "text/plain": [
       "<function __main__.hablarEnFuncionDelVolumen.<locals>.susurrar(texto)>"
      ]
     },
     "execution_count": 19,
     "metadata": {},
     "output_type": "execute_result"
    }
   ],
   "source": [
    "hablarEnFuncionDelVolumen(0.3)"
   ]
  },
  {
   "cell_type": "code",
   "execution_count": 20,
   "metadata": {},
   "outputs": [
    {
     "data": {
      "text/plain": [
       "<function __main__.hablarEnFuncionDelVolumen.<locals>.gritar(texto)>"
      ]
     },
     "execution_count": 20,
     "metadata": {},
     "output_type": "execute_result"
    }
   ],
   "source": [
    "hablarEnFuncionDelVolumen(0.7)"
   ]
  },
  {
   "cell_type": "code",
   "execution_count": 21,
   "metadata": {},
   "outputs": [],
   "source": [
    "func = hablarEnFuncionDelVolumen(0.7)"
   ]
  },
  {
   "cell_type": "code",
   "execution_count": 22,
   "metadata": {},
   "outputs": [
    {
     "data": {
      "text/plain": [
       "'HOLA!'"
      ]
     },
     "execution_count": 22,
     "metadata": {},
     "output_type": "execute_result"
    }
   ],
   "source": [
    "func(\"hola\")"
   ]
  },
  {
   "cell_type": "markdown",
   "metadata": {},
   "source": [
    "## Las funciones pueden capturar un estado local"
   ]
  },
  {
   "cell_type": "markdown",
   "metadata": {},
   "source": [
    "Acabas de ver cómo las funciones pueden contener funciones internas, y que incluso es posible devolver estas funciones internas (de otro modo ocultas) desde la función padre.\n",
    "\n",
    "Las funciones no sólo pueden devolver otras funciones, sino que estas funciones internas también pueden capturar y llevar consigo parte del estado de la función padre."
   ]
  },
  {
   "cell_type": "code",
   "execution_count": 23,
   "metadata": {},
   "outputs": [],
   "source": [
    "def hablarEnFuncionDelVolumen(texto, volumen): \n",
    "    \n",
    "    def susurrar():\n",
    "        return texto.lower() + '...' \n",
    "    \n",
    "    def gritar():\n",
    "        return texto.upper() + '!' \n",
    "    \n",
    "    if volumen > 0.5:\n",
    "        return gritar \n",
    "    else:\n",
    "        return susurrar"
   ]
  },
  {
   "cell_type": "code",
   "execution_count": 24,
   "metadata": {},
   "outputs": [
    {
     "data": {
      "text/plain": [
       "'HOLA!'"
      ]
     },
     "execution_count": 24,
     "metadata": {},
     "output_type": "execute_result"
    }
   ],
   "source": [
    "hablarEnFuncionDelVolumen(\"hola\", 0.7)()"
   ]
  },
  {
   "cell_type": "markdown",
   "metadata": {},
   "source": [
    "Los segundos parémtesis son la llamada a la función que se devuelve. Como todos los parámetros se indican en la superior, solo hace falta llamarla."
   ]
  },
  {
   "cell_type": "markdown",
   "metadata": {},
   "source": [
    "Esto es lo mismo que:"
   ]
  },
  {
   "cell_type": "code",
   "execution_count": 25,
   "metadata": {},
   "outputs": [
    {
     "data": {
      "text/plain": [
       "'HOLA!'"
      ]
     },
     "execution_count": 25,
     "metadata": {},
     "output_type": "execute_result"
    }
   ],
   "source": [
    "hablar = hablarEnFuncionDelVolumen(\"hola\", 0.7)\n",
    "\n",
    "hablar()"
   ]
  },
  {
   "cell_type": "markdown",
   "metadata": {},
   "source": [
    "Fíjate bien en las funciones internas whisper y yell ahora. ¿Ves que ya no tienen un parámetro de texto? Pero de alguna manera todavía pueden acceder al parámetro de texto definido en la función padre. De hecho, parecen capturar y \"recordar\" el valor de ese argumento.\n",
    "\n",
    "Las funciones que hacen esto se llaman **cierres léxicos** (o simplemente cierres, para abreviar). Un cierre recuerda los valores de su ámbito léxico incluso cuando el flujo del programa ya no está en ese ámbito.\n",
    "\n",
    "En términos prácticos, esto significa que las funciones no sólo pueden devolver comportamientos, sino que también pueden preconfigurar esos comportamientos. Aquí hay otro ejemplo básico para ilustrar esta idea:"
   ]
  },
  {
   "cell_type": "code",
   "execution_count": 26,
   "metadata": {},
   "outputs": [],
   "source": [
    "def sumador(n): \n",
    "   \n",
    "    def sumar(x):\n",
    "        return x + n \n",
    "    \n",
    "    return sumar\n"
   ]
  },
  {
   "cell_type": "code",
   "execution_count": 27,
   "metadata": {},
   "outputs": [],
   "source": [
    "suma_5 = sumador(5)"
   ]
  },
  {
   "cell_type": "code",
   "execution_count": 28,
   "metadata": {},
   "outputs": [
    {
     "data": {
      "text/plain": [
       "8"
      ]
     },
     "execution_count": 28,
     "metadata": {},
     "output_type": "execute_result"
    }
   ],
   "source": [
    "suma_5(3)"
   ]
  },
  {
   "cell_type": "markdown",
   "metadata": {},
   "source": [
    "Como puedes ver, sumador es una función que te devuelve otra función, la cual le va a sumar el número indicado en sumador al parámetro que le metas a la función que devuelve."
   ]
  },
  {
   "cell_type": "markdown",
   "metadata": {},
   "source": [
    "sumador(5) es una función que suma 5 al número que le metamos como parámetro. Si le metemos como parámetro 3 devuelve 8:"
   ]
  },
  {
   "cell_type": "code",
   "execution_count": 29,
   "metadata": {},
   "outputs": [
    {
     "data": {
      "text/plain": [
       "8"
      ]
     },
     "execution_count": 29,
     "metadata": {},
     "output_type": "execute_result"
    }
   ],
   "source": [
    "sumador(5)(3)"
   ]
  },
  {
   "cell_type": "markdown",
   "metadata": {},
   "source": [
    "## Los objetos pueden comportarse como funciones"
   ]
  },
  {
   "cell_type": "markdown",
   "metadata": {},
   "source": [
    "Mientras que todas las funciones son objetos en Python, lo contrario no es cierto. \n",
    "\n",
    "Los objetos no son funciones. Pero se pueden hacer llamables, lo que permite tratarlos como funciones en muchos casos."
   ]
  },
  {
   "cell_type": "markdown",
   "metadata": {},
   "source": [
    "**Si un objeto es invocable (callable), significa que puedes utilizar la sintaxis de llamada a función de paréntesis redondos en él e incluso pasar argumentos de llamada a función.**\n",
    "\n",
    "Todo esto es impulsado por el método \\__call\\__ dunder. \n",
    "\n",
    "Este es un ejemplo de clase que define un objeto invocable:"
   ]
  },
  {
   "cell_type": "code",
   "execution_count": 30,
   "metadata": {},
   "outputs": [
    {
     "data": {
      "text/plain": [
       "7"
      ]
     },
     "execution_count": 30,
     "metadata": {},
     "output_type": "execute_result"
    }
   ],
   "source": [
    "class Sumador:\n",
    "    def __init__(self, n):\n",
    "        self.n = n\n",
    "\n",
    "    def __call__(self, x):\n",
    "        return self.n + x\n",
    "    \n",
    "mas_3 = Sumador(3)\n",
    "\n",
    "mas_3(4)"
   ]
  },
  {
   "cell_type": "markdown",
   "metadata": {},
   "source": [
    "Por debajo, \"llamar\" a una instancia de objeto como una función intenta ejecutar el método \\__call\\__ del objeto."
   ]
  },
  {
   "cell_type": "markdown",
   "metadata": {},
   "source": [
    "Por supuesto, no todos los objetos son invocables. Por eso hay una función callable incorporada para comprobar si un objeto parece ser invocable o no:"
   ]
  },
  {
   "cell_type": "code",
   "execution_count": 31,
   "metadata": {},
   "outputs": [
    {
     "data": {
      "text/plain": [
       "True"
      ]
     },
     "execution_count": 31,
     "metadata": {},
     "output_type": "execute_result"
    }
   ],
   "source": [
    "callable(mas_3)"
   ]
  },
  {
   "cell_type": "code",
   "execution_count": 32,
   "metadata": {},
   "outputs": [
    {
     "data": {
      "text/plain": [
       "False"
      ]
     },
     "execution_count": 32,
     "metadata": {},
     "output_type": "execute_result"
    }
   ],
   "source": [
    "callable(\"hola\")"
   ]
  },
  {
   "cell_type": "markdown",
   "metadata": {},
   "source": [
    "## Claves"
   ]
  },
  {
   "cell_type": "markdown",
   "metadata": {},
   "source": [
    "* Todo en Python es un objeto, incluidas las funciones. Puede asignarlas a variables, almacenarlas en estructuras de datos y pasarlas o devolverlas a y desde otras funciones (funciones de primera clase).\n",
    "\n",
    "* Las funciones de primera clase le permiten abstraer y pasar de un comportamiento a otro en sus programas.\n",
    "\n",
    "* Las funciones pueden ser anidadas y pueden capturar y llevar parte del estado de la función padre con ellas. Las funciones que hacen esto se llaman cierres.\n",
    "\n",
    "* Los objetos pueden hacerse invocables. En muchos casos, esto permite tratarlos como funciones."
   ]
  }
 ],
 "metadata": {
  "kernelspec": {
   "display_name": "Python 3",
   "language": "python",
   "name": "python3"
  },
  "language_info": {
   "codemirror_mode": {
    "name": "ipython",
    "version": 3
   },
   "file_extension": ".py",
   "mimetype": "text/x-python",
   "name": "python",
   "nbconvert_exporter": "python",
   "pygments_lexer": "ipython3",
   "version": "3.8.5"
  }
 },
 "nbformat": 4,
 "nbformat_minor": 4
}
