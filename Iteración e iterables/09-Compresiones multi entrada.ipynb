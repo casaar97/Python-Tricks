{
 "cells": [
  {
   "cell_type": "markdown",
   "id": "58910dd0",
   "metadata": {},
   "source": [
    "# Compresiones multi entrada"
   ]
  },
  {
   "cell_type": "markdown",
   "id": "9f677dfc",
   "metadata": {},
   "source": [
    "Como hemos visto anteriormente, existen varios tipos de compresiones:"
   ]
  },
  {
   "cell_type": "markdown",
   "id": "b73f3f2f",
   "metadata": {},
   "source": [
    "## Compresiones con un solo input"
   ]
  },
  {
   "cell_type": "code",
   "execution_count": 1,
   "id": "5a318589",
   "metadata": {},
   "outputs": [],
   "source": [
    "lista = [i*2 for i in range(10)]"
   ]
  },
  {
   "cell_type": "code",
   "execution_count": 2,
   "id": "871146e1",
   "metadata": {},
   "outputs": [],
   "source": [
    "diccionario = {i:i*2 for i in range(10)}"
   ]
  },
  {
   "cell_type": "code",
   "execution_count": 3,
   "id": "5acbb44c",
   "metadata": {},
   "outputs": [],
   "source": [
    "conjunto = {i*2 for i in range(10)}"
   ]
  },
  {
   "cell_type": "code",
   "execution_count": 4,
   "id": "c8ce6820",
   "metadata": {},
   "outputs": [],
   "source": [
    "generador = (i*2 for i in range(10))"
   ]
  },
  {
   "cell_type": "markdown",
   "id": "df765cda",
   "metadata": {},
   "source": [
    "## Compresiones con varios input"
   ]
  },
  {
   "cell_type": "code",
   "execution_count": 5,
   "id": "31234973",
   "metadata": {},
   "outputs": [],
   "source": [
    "lista = [(x, y) for x in range(5) for y in range(5)]"
   ]
  },
  {
   "cell_type": "code",
   "execution_count": 6,
   "id": "d037c4e4",
   "metadata": {},
   "outputs": [
    {
     "data": {
      "text/plain": [
       "[(0, 0),\n",
       " (0, 1),\n",
       " (0, 2),\n",
       " (0, 3),\n",
       " (0, 4),\n",
       " (1, 0),\n",
       " (1, 1),\n",
       " (1, 2),\n",
       " (1, 3),\n",
       " (1, 4),\n",
       " (2, 0),\n",
       " (2, 1),\n",
       " (2, 2),\n",
       " (2, 3),\n",
       " (2, 4),\n",
       " (3, 0),\n",
       " (3, 1),\n",
       " (3, 2),\n",
       " (3, 3),\n",
       " (3, 4),\n",
       " (4, 0),\n",
       " (4, 1),\n",
       " (4, 2),\n",
       " (4, 3),\n",
       " (4, 4)]"
      ]
     },
     "execution_count": 6,
     "metadata": {},
     "output_type": "execute_result"
    }
   ],
   "source": [
    "lista"
   ]
  },
  {
   "cell_type": "markdown",
   "id": "4db9c01f",
   "metadata": {},
   "source": [
    "Esto es lo mismo que hacer:"
   ]
  },
  {
   "cell_type": "code",
   "execution_count": 7,
   "id": "0ef3da39",
   "metadata": {},
   "outputs": [],
   "source": [
    "lista = []\n",
    "\n",
    "for x in range(5):\n",
    "    for y in range(5):\n",
    "        lista.append((x, y))"
   ]
  },
  {
   "cell_type": "code",
   "execution_count": 8,
   "id": "f6a7eff2",
   "metadata": {},
   "outputs": [
    {
     "data": {
      "text/plain": [
       "[(0, 0),\n",
       " (0, 1),\n",
       " (0, 2),\n",
       " (0, 3),\n",
       " (0, 4),\n",
       " (1, 0),\n",
       " (1, 1),\n",
       " (1, 2),\n",
       " (1, 3),\n",
       " (1, 4),\n",
       " (2, 0),\n",
       " (2, 1),\n",
       " (2, 2),\n",
       " (2, 3),\n",
       " (2, 4),\n",
       " (3, 0),\n",
       " (3, 1),\n",
       " (3, 2),\n",
       " (3, 3),\n",
       " (3, 4),\n",
       " (4, 0),\n",
       " (4, 1),\n",
       " (4, 2),\n",
       " (4, 3),\n",
       " (4, 4)]"
      ]
     },
     "execution_count": 8,
     "metadata": {},
     "output_type": "execute_result"
    }
   ],
   "source": [
    "lista"
   ]
  },
  {
   "cell_type": "markdown",
   "id": "f8b3b9d0",
   "metadata": {},
   "source": [
    "## Añadiendo condicionales"
   ]
  },
  {
   "cell_type": "code",
   "execution_count": 9,
   "id": "b1f2a99b",
   "metadata": {},
   "outputs": [],
   "source": [
    "valores = [x / (x-y) for x in range(100) if x > 50 for y in range(100) if (x - y) != 0]"
   ]
  },
  {
   "cell_type": "markdown",
   "id": "c40c8e37",
   "metadata": {},
   "source": [
    "Esto puede resultar dificil de leer, por lo que es mejor escribirlo así:"
   ]
  },
  {
   "cell_type": "code",
   "execution_count": 10,
   "id": "167f6f51",
   "metadata": {},
   "outputs": [],
   "source": [
    "valores = [x / (x-y) \n",
    "           for x in range(100) \n",
    "           if x > 50 \n",
    "           for y in range(100) \n",
    "           if (x - y) != 0]"
   ]
  },
  {
   "cell_type": "markdown",
   "id": "641c7023",
   "metadata": {},
   "source": [
    "Es el equivalente a hacer esto:"
   ]
  },
  {
   "cell_type": "code",
   "execution_count": 11,
   "id": "537afc42",
   "metadata": {},
   "outputs": [],
   "source": [
    "valores = []\n",
    "\n",
    "for x in range(100):\n",
    "    if x>50:\n",
    "        for y in range(100):\n",
    "            if (x-y) != 0:\n",
    "                valores.append(x / (x-y))"
   ]
  }
 ],
 "metadata": {
  "kernelspec": {
   "display_name": "Python 3 (ipykernel)",
   "language": "python",
   "name": "python3"
  },
  "language_info": {
   "codemirror_mode": {
    "name": "ipython",
    "version": 3
   },
   "file_extension": ".py",
   "mimetype": "text/x-python",
   "name": "python",
   "nbconvert_exporter": "python",
   "pygments_lexer": "ipython3",
   "version": "3.9.7"
  }
 },
 "nbformat": 4,
 "nbformat_minor": 5
}
