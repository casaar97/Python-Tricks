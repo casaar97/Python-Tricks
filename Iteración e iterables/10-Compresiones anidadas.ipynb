{
 "cells": [
  {
   "cell_type": "markdown",
   "id": "eee26aa7",
   "metadata": {},
   "source": [
    "# Compresiones anidadas"
   ]
  },
  {
   "cell_type": "markdown",
   "id": "d5b10575",
   "metadata": {},
   "source": [
    "Las compresiones pueden contener a su vez otras compresiones anidadas en su interior:"
   ]
  },
  {
   "cell_type": "code",
   "execution_count": 1,
   "id": "75edf335",
   "metadata": {},
   "outputs": [],
   "source": [
    "valores = [[y * 3 for y in range(x)] for x in range(10)]"
   ]
  },
  {
   "cell_type": "code",
   "execution_count": 2,
   "id": "8a809dfa",
   "metadata": {},
   "outputs": [
    {
     "data": {
      "text/plain": [
       "[[],\n",
       " [0],\n",
       " [0, 3],\n",
       " [0, 3, 6],\n",
       " [0, 3, 6, 9],\n",
       " [0, 3, 6, 9, 12],\n",
       " [0, 3, 6, 9, 12, 15],\n",
       " [0, 3, 6, 9, 12, 15, 18],\n",
       " [0, 3, 6, 9, 12, 15, 18, 21],\n",
       " [0, 3, 6, 9, 12, 15, 18, 21, 24]]"
      ]
     },
     "execution_count": 2,
     "metadata": {},
     "output_type": "execute_result"
    }
   ],
   "source": [
    "valores"
   ]
  },
  {
   "cell_type": "markdown",
   "id": "0bc5c88b",
   "metadata": {},
   "source": [
    "Esto producirá una lista de listas, es decir, una lista anidada o matriz.\n",
    "\n",
    "El equivalente es el siguiente:"
   ]
  },
  {
   "cell_type": "code",
   "execution_count": 3,
   "id": "00c0c865",
   "metadata": {},
   "outputs": [],
   "source": [
    "lista_exterior = []\n",
    "\n",
    "for x in range(10):\n",
    "    lista_interior = []\n",
    "    for y in range(x):\n",
    "        lista_interior.append(y*3)\n",
    "    lista_exterior.append(lista_interior)"
   ]
  },
  {
   "cell_type": "code",
   "execution_count": 4,
   "id": "78bc8258",
   "metadata": {},
   "outputs": [
    {
     "data": {
      "text/plain": [
       "[[],\n",
       " [0],\n",
       " [0, 3],\n",
       " [0, 3, 6],\n",
       " [0, 3, 6, 9],\n",
       " [0, 3, 6, 9, 12],\n",
       " [0, 3, 6, 9, 12, 15],\n",
       " [0, 3, 6, 9, 12, 15, 18],\n",
       " [0, 3, 6, 9, 12, 15, 18, 21],\n",
       " [0, 3, 6, 9, 12, 15, 18, 21, 24]]"
      ]
     },
     "execution_count": 4,
     "metadata": {},
     "output_type": "execute_result"
    }
   ],
   "source": [
    "lista_exterior"
   ]
  }
 ],
 "metadata": {
  "kernelspec": {
   "display_name": "Python 3 (ipykernel)",
   "language": "python",
   "name": "python3"
  },
  "language_info": {
   "codemirror_mode": {
    "name": "ipython",
    "version": 3
   },
   "file_extension": ".py",
   "mimetype": "text/x-python",
   "name": "python",
   "nbconvert_exporter": "python",
   "pygments_lexer": "ipython3",
   "version": "3.9.7"
  }
 },
 "nbformat": 4,
 "nbformat_minor": 5
}
