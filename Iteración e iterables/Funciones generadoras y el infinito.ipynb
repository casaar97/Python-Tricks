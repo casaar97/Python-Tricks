{
 "cells": [
  {
   "cell_type": "markdown",
   "id": "274d5abb",
   "metadata": {},
   "source": [
    "# Funciones generadoras y el infinito"
   ]
  },
  {
   "cell_type": "markdown",
   "id": "749174fa",
   "metadata": {},
   "source": [
    "Las funciones generadoras tienen un gran uso cuando queremos generar valores hasta el infinito:"
   ]
  },
  {
   "cell_type": "code",
   "execution_count": 1,
   "id": "be347bea",
   "metadata": {},
   "outputs": [],
   "source": [
    "def generador_numeros():\n",
    "    start = 0\n",
    "    while True:\n",
    "        yield start\n",
    "        start += 1"
   ]
  },
  {
   "cell_type": "code",
   "execution_count": 2,
   "id": "a28c0ad3",
   "metadata": {},
   "outputs": [],
   "source": [
    "g = generador_numeros()"
   ]
  },
  {
   "cell_type": "code",
   "execution_count": 3,
   "id": "94fb7d88",
   "metadata": {},
   "outputs": [
    {
     "data": {
      "text/plain": [
       "0"
      ]
     },
     "execution_count": 3,
     "metadata": {},
     "output_type": "execute_result"
    }
   ],
   "source": [
    "next(g)"
   ]
  },
  {
   "cell_type": "code",
   "execution_count": 4,
   "id": "0501c838",
   "metadata": {},
   "outputs": [
    {
     "data": {
      "text/plain": [
       "1"
      ]
     },
     "execution_count": 4,
     "metadata": {},
     "output_type": "execute_result"
    }
   ],
   "source": [
    "next(g)"
   ]
  },
  {
   "cell_type": "code",
   "execution_count": 5,
   "id": "e55b9b88",
   "metadata": {},
   "outputs": [
    {
     "data": {
      "text/plain": [
       "2"
      ]
     },
     "execution_count": 5,
     "metadata": {},
     "output_type": "execute_result"
    }
   ],
   "source": [
    "next(g)"
   ]
  },
  {
   "cell_type": "code",
   "execution_count": 6,
   "id": "fea2c499",
   "metadata": {},
   "outputs": [
    {
     "data": {
      "text/plain": [
       "3"
      ]
     },
     "execution_count": 6,
     "metadata": {},
     "output_type": "execute_result"
    }
   ],
   "source": [
    "next(g)"
   ]
  },
  {
   "cell_type": "code",
   "execution_count": 7,
   "id": "dcce9afd",
   "metadata": {},
   "outputs": [
    {
     "data": {
      "text/plain": [
       "4"
      ]
     },
     "execution_count": 7,
     "metadata": {},
     "output_type": "execute_result"
    }
   ],
   "source": [
    "next(g)"
   ]
  },
  {
   "cell_type": "markdown",
   "id": "1a5aadfc",
   "metadata": {},
   "source": [
    "Esto no podríamos hacerlo con un bucle for, ya que no podemos iterar hasta el infinito ni pausar su ejecución y reanudarla cuando queramos:"
   ]
  },
  {
   "cell_type": "code",
   "execution_count": 8,
   "id": "d140b453",
   "metadata": {},
   "outputs": [
    {
     "name": "stdout",
     "output_type": "stream",
     "text": [
      "0\n",
      "1\n",
      "2\n",
      "3\n",
      "4\n",
      "5\n",
      "6\n",
      "7\n",
      "8\n",
      "9\n",
      "10\n"
     ]
    }
   ],
   "source": [
    "for x in generador_numeros():\n",
    "    print(x)\n",
    "    \n",
    "    if(x == 10):\n",
    "        break"
   ]
  },
  {
   "cell_type": "markdown",
   "id": "3c69f212",
   "metadata": {},
   "source": [
    "Lo hemos parado en 10 para que no se desbordase la memoria, pero iteraría hasta que no tuviera mas memoria para almacenar los valores, intentando llegar al infinito."
   ]
  }
 ],
 "metadata": {
  "kernelspec": {
   "display_name": "Python 3 (ipykernel)",
   "language": "python",
   "name": "python3"
  },
  "language_info": {
   "codemirror_mode": {
    "name": "ipython",
    "version": 3
   },
   "file_extension": ".py",
   "mimetype": "text/x-python",
   "name": "python",
   "nbconvert_exporter": "python",
   "pygments_lexer": "ipython3",
   "version": "3.9.7"
  }
 },
 "nbformat": 4,
 "nbformat_minor": 5
}
