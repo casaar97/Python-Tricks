{
 "cells": [
  {
   "cell_type": "markdown",
   "id": "b00294fe",
   "metadata": {},
   "source": [
    "# Usando compresiones para filtrar"
   ]
  },
  {
   "cell_type": "markdown",
   "id": "7497a3ee",
   "metadata": {},
   "source": [
    "Podemos utilizar las compresiones para realizar filtrado en iterables:"
   ]
  },
  {
   "cell_type": "code",
   "execution_count": 1,
   "id": "45356406",
   "metadata": {},
   "outputs": [],
   "source": [
    "lista_pares = [x for x in range(0,11) if x % 2 == 0]"
   ]
  },
  {
   "cell_type": "code",
   "execution_count": 2,
   "id": "021cce55",
   "metadata": {},
   "outputs": [
    {
     "data": {
      "text/plain": [
       "[0, 2, 4, 6, 8, 10]"
      ]
     },
     "execution_count": 2,
     "metadata": {},
     "output_type": "execute_result"
    }
   ],
   "source": [
    "lista_pares"
   ]
  }
 ],
 "metadata": {
  "kernelspec": {
   "display_name": "Python 3 (ipykernel)",
   "language": "python",
   "name": "python3"
  },
  "language_info": {
   "codemirror_mode": {
    "name": "ipython",
    "version": 3
   },
   "file_extension": ".py",
   "mimetype": "text/x-python",
   "name": "python",
   "nbconvert_exporter": "python",
   "pygments_lexer": "ipython3",
   "version": "3.9.7"
  }
 },
 "nbformat": 4,
 "nbformat_minor": 5
}
