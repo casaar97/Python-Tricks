{
 "cells": [
  {
   "cell_type": "markdown",
   "id": "8a36b9c1",
   "metadata": {},
   "source": [
    "# Protocolos de iteración"
   ]
  },
  {
   "cell_type": "markdown",
   "id": "b12e1487",
   "metadata": {},
   "source": [
    "## Iterable "
   ]
  },
  {
   "cell_type": "markdown",
   "id": "824c6c88",
   "metadata": {},
   "source": [
    "Puede ser pasado a iter() para crear un iterador"
   ]
  },
  {
   "cell_type": "code",
   "execution_count": 1,
   "id": "ce8ee526",
   "metadata": {},
   "outputs": [],
   "source": [
    "iterable = [\"Primavera\", \"Verano\", \"Otoño\", \"Invierno\"]\n",
    "\n",
    "iterador = iter(iterable)"
   ]
  },
  {
   "cell_type": "markdown",
   "id": "c5da2fb2",
   "metadata": {},
   "source": [
    "## Iterator"
   ]
  },
  {
   "cell_type": "markdown",
   "id": "6be9c8b7",
   "metadata": {},
   "source": [
    "Puede ser pasado a next() para obtener el siguiente valor en la secuencia de objetos."
   ]
  },
  {
   "cell_type": "code",
   "execution_count": 2,
   "id": "6a9b117b",
   "metadata": {},
   "outputs": [
    {
     "name": "stdout",
     "output_type": "stream",
     "text": [
      "Primavera\n",
      "Verano\n",
      "Otoño\n",
      "Invierno\n"
     ]
    }
   ],
   "source": [
    "for i in range(4):\n",
    "    print(next(iterador))"
   ]
  },
  {
   "cell_type": "markdown",
   "id": "f82b47c6",
   "metadata": {},
   "source": [
    "### Importante"
   ]
  },
  {
   "cell_type": "markdown",
   "id": "bb2dc893",
   "metadata": {},
   "source": [
    "Cuando se iteran todos los elementos de un iterador y se vuelve a utilizar next() sobre este, devuelve una excepción del tipo **StopIteration**."
   ]
  },
  {
   "cell_type": "code",
   "execution_count": 3,
   "id": "eabae033",
   "metadata": {},
   "outputs": [
    {
     "name": "stdout",
     "output_type": "stream",
     "text": [
      "Se ha lanzado la excepción StopIteration\n"
     ]
    }
   ],
   "source": [
    "try:\n",
    "    print(next(iterador))\n",
    "except StopIteration:\n",
    "    print(\"Se ha lanzado la excepción StopIteration\")"
   ]
  }
 ],
 "metadata": {
  "kernelspec": {
   "display_name": "Python 3 (ipykernel)",
   "language": "python",
   "name": "python3"
  },
  "language_info": {
   "codemirror_mode": {
    "name": "ipython",
    "version": 3
   },
   "file_extension": ".py",
   "mimetype": "text/x-python",
   "name": "python",
   "nbconvert_exporter": "python",
   "pygments_lexer": "ipython3",
   "version": "3.9.7"
  }
 },
 "nbformat": 4,
 "nbformat_minor": 5
}
