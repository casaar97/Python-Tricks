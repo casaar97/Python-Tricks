{
 "cells": [
  {
   "cell_type": "markdown",
   "id": "8aa8ac57",
   "metadata": {},
   "source": [
    "# Funciones generadoras"
   ]
  },
  {
   "cell_type": "markdown",
   "id": "afc30df1",
   "metadata": {},
   "source": [
    "## Yield"
   ]
  },
  {
   "cell_type": "markdown",
   "id": "a28d9009",
   "metadata": {},
   "source": [
    "Las funciones generadoras deben incluir al menos un **yield**.\n",
    "\n",
    "También pueden contener un **return**."
   ]
  },
  {
   "cell_type": "markdown",
   "id": "14c00195",
   "metadata": {},
   "source": [
    "### Como funcionan las funciones generadoras"
   ]
  },
  {
   "cell_type": "markdown",
   "id": "c5f21b70",
   "metadata": {},
   "source": [
    "Cada vez que invoquemos el iterador, se va a ejecutar hasta el siguiente yield:"
   ]
  },
  {
   "cell_type": "code",
   "execution_count": 1,
   "id": "0a547d46",
   "metadata": {},
   "outputs": [],
   "source": [
    "def gen123():\n",
    "    print(\"Devolviendo 1\")\n",
    "    yield 1\n",
    "    print(\"Devolviendo 2\")\n",
    "    yield 2\n",
    "    print(\"Devolviendo 3\")\n",
    "    yield 3"
   ]
  },
  {
   "cell_type": "markdown",
   "id": "b1414499",
   "metadata": {},
   "source": [
    "Como vemos, devuelve un objeto generador."
   ]
  },
  {
   "cell_type": "code",
   "execution_count": 2,
   "id": "94b5d1f6",
   "metadata": {},
   "outputs": [
    {
     "data": {
      "text/plain": [
       "<generator object gen123 at 0x00000233A49EC890>"
      ]
     },
     "execution_count": 2,
     "metadata": {},
     "output_type": "execute_result"
    }
   ],
   "source": [
    "gen123()"
   ]
  },
  {
   "cell_type": "markdown",
   "id": "0c134097",
   "metadata": {},
   "source": [
    "Dicho objeto puede ser iterado, ya que realmente los objetos generadores son iteradores."
   ]
  },
  {
   "cell_type": "code",
   "execution_count": 3,
   "id": "583b2c93",
   "metadata": {},
   "outputs": [],
   "source": [
    "g = gen123()"
   ]
  },
  {
   "cell_type": "code",
   "execution_count": 4,
   "id": "1e28d695",
   "metadata": {},
   "outputs": [
    {
     "name": "stdout",
     "output_type": "stream",
     "text": [
      "Devolviendo 1\n"
     ]
    },
    {
     "data": {
      "text/plain": [
       "1"
      ]
     },
     "execution_count": 4,
     "metadata": {},
     "output_type": "execute_result"
    }
   ],
   "source": [
    "next(g)"
   ]
  },
  {
   "cell_type": "code",
   "execution_count": 5,
   "id": "4495e275",
   "metadata": {},
   "outputs": [
    {
     "name": "stdout",
     "output_type": "stream",
     "text": [
      "Devolviendo 2\n"
     ]
    },
    {
     "data": {
      "text/plain": [
       "2"
      ]
     },
     "execution_count": 5,
     "metadata": {},
     "output_type": "execute_result"
    }
   ],
   "source": [
    "next(g)"
   ]
  },
  {
   "cell_type": "code",
   "execution_count": 6,
   "id": "2db95368",
   "metadata": {},
   "outputs": [
    {
     "name": "stdout",
     "output_type": "stream",
     "text": [
      "Devolviendo 3\n"
     ]
    },
    {
     "data": {
      "text/plain": [
       "3"
      ]
     },
     "execution_count": 6,
     "metadata": {},
     "output_type": "execute_result"
    }
   ],
   "source": [
    "next(g)"
   ]
  },
  {
   "cell_type": "code",
   "execution_count": 7,
   "id": "e09d27c0",
   "metadata": {},
   "outputs": [
    {
     "name": "stdout",
     "output_type": "stream",
     "text": [
      "Se ha lanzado la excepción StopIteration\n"
     ]
    }
   ],
   "source": [
    "try:\n",
    "    print(next(g))\n",
    "except StopIteration:\n",
    "    print(\"Se ha lanzado la excepción StopIteration\")"
   ]
  },
  {
   "cell_type": "markdown",
   "id": "43396449",
   "metadata": {},
   "source": [
    "### Iterar con bucle for"
   ]
  },
  {
   "cell_type": "markdown",
   "id": "b7a249d9",
   "metadata": {},
   "source": [
    "Las funciones generadoras se pueden iterar con un bucle for:"
   ]
  },
  {
   "cell_type": "code",
   "execution_count": 8,
   "id": "65b33905",
   "metadata": {},
   "outputs": [
    {
     "name": "stdout",
     "output_type": "stream",
     "text": [
      "Devolviendo 1\n",
      "1\n",
      "Devolviendo 2\n",
      "2\n",
      "Devolviendo 3\n",
      "3\n"
     ]
    }
   ],
   "source": [
    "for elemento in gen123():\n",
    "    print(elemento)"
   ]
  },
  {
   "cell_type": "markdown",
   "id": "345d9f67",
   "metadata": {},
   "source": [
    "**Cuando no quedan mas yields, la ejecución del bucle for se termina.**"
   ]
  }
 ],
 "metadata": {
  "kernelspec": {
   "display_name": "Python 3 (ipykernel)",
   "language": "python",
   "name": "python3"
  },
  "language_info": {
   "codemirror_mode": {
    "name": "ipython",
    "version": 3
   },
   "file_extension": ".py",
   "mimetype": "text/x-python",
   "name": "python",
   "nbconvert_exporter": "python",
   "pygments_lexer": "ipython3",
   "version": "3.9.7"
  }
 },
 "nbformat": 4,
 "nbformat_minor": 5
}
