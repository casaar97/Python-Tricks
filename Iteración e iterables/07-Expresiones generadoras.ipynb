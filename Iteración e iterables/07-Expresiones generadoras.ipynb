{
 "cells": [
  {
   "cell_type": "markdown",
   "id": "0e703283",
   "metadata": {},
   "source": [
    "# Expresiones generadoras"
   ]
  },
  {
   "cell_type": "markdown",
   "id": "fd2228ef",
   "metadata": {},
   "source": [
    "Las expresiones generadoras son como las compresiones, pero con paréntesis en vez de llaves o corchetes."
   ]
  },
  {
   "cell_type": "markdown",
   "id": "282ad36d",
   "metadata": {},
   "source": [
    "Estas tienen una gran ventaja en cuanto a memoria se refiere.\n",
    "\n",
    "Para almacenar una lista de 10 millones de números, se necesita muchisima memoria: "
   ]
  },
  {
   "cell_type": "code",
   "execution_count": 1,
   "id": "fb7a8439",
   "metadata": {},
   "outputs": [
    {
     "name": "stdout",
     "output_type": "stream",
     "text": [
      "8448728\n"
     ]
    }
   ],
   "source": [
    "import sys\n",
    "\n",
    "lista = [x for x in range(0,1000000)]\n",
    "\n",
    "print(sys.getsizeof(lista))"
   ]
  },
  {
   "cell_type": "markdown",
   "id": "f18b3a81",
   "metadata": {},
   "source": [
    "Pero si utilizamos una expresión generadora que los va generando sobre la marcha, la memoria requerida es ínfima en comparación:"
   ]
  },
  {
   "cell_type": "code",
   "execution_count": 2,
   "id": "df867861",
   "metadata": {},
   "outputs": [
    {
     "name": "stdout",
     "output_type": "stream",
     "text": [
      "112\n"
     ]
    }
   ],
   "source": [
    "funcion_generadora = (x for x in range(0, 1000000))\n",
    "\n",
    "print(sys.getsizeof(funcion_generadora))"
   ]
  },
  {
   "cell_type": "markdown",
   "id": "b6a2b950",
   "metadata": {},
   "source": [
    "## Sintáxis"
   ]
  },
  {
   "cell_type": "markdown",
   "id": "a2acdf3a",
   "metadata": {},
   "source": [
    "**(expresión(elemento) for elemento in iterable)**"
   ]
  },
  {
   "cell_type": "markdown",
   "id": "a0bdac7b",
   "metadata": {},
   "source": [
    "Por ejemplo, para crear una función generadora que devuelva los cuadrados de los numeros del rango especificado:"
   ]
  },
  {
   "cell_type": "code",
   "execution_count": 3,
   "id": "3c14aa57",
   "metadata": {},
   "outputs": [],
   "source": [
    "def generar_numeros(inicio, fin):\n",
    "    return (numero for numero in range(inicio, fin))"
   ]
  },
  {
   "cell_type": "code",
   "execution_count": 4,
   "id": "44d2fd2f",
   "metadata": {},
   "outputs": [
    {
     "data": {
      "text/plain": [
       "<generator object generar_numeros.<locals>.<genexpr> at 0x0000017C57E9CEB0>"
      ]
     },
     "execution_count": 4,
     "metadata": {},
     "output_type": "execute_result"
    }
   ],
   "source": [
    "generar_numeros(1, 10)"
   ]
  },
  {
   "cell_type": "code",
   "execution_count": 5,
   "id": "4e2347e2",
   "metadata": {},
   "outputs": [],
   "source": [
    "def generar_cuadrados(inicio, fin):\n",
    "    return (elemento*elemento for elemento in range(inicio, fin))"
   ]
  },
  {
   "cell_type": "code",
   "execution_count": 6,
   "id": "b0f3d2c3",
   "metadata": {},
   "outputs": [
    {
     "data": {
      "text/plain": [
       "<generator object generar_cuadrados.<locals>.<genexpr> at 0x0000017C5AB76040>"
      ]
     },
     "execution_count": 6,
     "metadata": {},
     "output_type": "execute_result"
    }
   ],
   "source": [
    "generar_cuadrados(1, 10)"
   ]
  },
  {
   "cell_type": "markdown",
   "id": "7f78700a",
   "metadata": {},
   "source": [
    "Como vemos, ha devuelto un objeto generador."
   ]
  },
  {
   "cell_type": "code",
   "execution_count": 7,
   "id": "7202e9b6",
   "metadata": {},
   "outputs": [
    {
     "name": "stdout",
     "output_type": "stream",
     "text": [
      "1\n",
      "2\n",
      "3\n",
      "4\n",
      "5\n",
      "6\n",
      "7\n",
      "8\n",
      "9\n"
     ]
    }
   ],
   "source": [
    "for elemento in generar_numeros(1, 10):\n",
    "    print(elemento)"
   ]
  },
  {
   "cell_type": "code",
   "execution_count": 8,
   "id": "e524c65e",
   "metadata": {},
   "outputs": [
    {
     "name": "stdout",
     "output_type": "stream",
     "text": [
      "1\n",
      "4\n",
      "9\n",
      "16\n",
      "25\n",
      "36\n",
      "49\n",
      "64\n",
      "81\n"
     ]
    }
   ],
   "source": [
    "for elemento in generar_cuadrados(1, 10):\n",
    "    print(elemento)"
   ]
  },
  {
   "cell_type": "markdown",
   "id": "9a32df0a",
   "metadata": {},
   "source": [
    "## Sintaxis con funciones"
   ]
  },
  {
   "cell_type": "markdown",
   "id": "59f4cb85",
   "metadata": {},
   "source": [
    "Cuando se recibe como argumento de una función, no es necesario incluir los paréntesis:"
   ]
  },
  {
   "cell_type": "code",
   "execution_count": 9,
   "id": "695215ea",
   "metadata": {},
   "outputs": [
    {
     "data": {
      "text/plain": [
       "45"
      ]
     },
     "execution_count": 9,
     "metadata": {},
     "output_type": "execute_result"
    }
   ],
   "source": [
    "sum(elemento for elemento in range(1, 10))"
   ]
  },
  {
   "cell_type": "code",
   "execution_count": 10,
   "id": "601e3a7d",
   "metadata": {},
   "outputs": [
    {
     "data": {
      "text/plain": [
       "285"
      ]
     },
     "execution_count": 10,
     "metadata": {},
     "output_type": "execute_result"
    }
   ],
   "source": [
    "sum(elemento*elemento for elemento in range(1, 10))"
   ]
  }
 ],
 "metadata": {
  "kernelspec": {
   "display_name": "Python 3 (ipykernel)",
   "language": "python",
   "name": "python3"
  },
  "language_info": {
   "codemirror_mode": {
    "name": "ipython",
    "version": 3
   },
   "file_extension": ".py",
   "mimetype": "text/x-python",
   "name": "python",
   "nbconvert_exporter": "python",
   "pygments_lexer": "ipython3",
   "version": "3.9.7"
  }
 },
 "nbformat": 4,
 "nbformat_minor": 5
}
