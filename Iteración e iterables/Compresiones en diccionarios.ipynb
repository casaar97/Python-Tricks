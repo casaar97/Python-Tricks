{
 "cells": [
  {
   "cell_type": "markdown",
   "id": "613bad8c",
   "metadata": {},
   "source": [
    "# Compresiones en diccionarios"
   ]
  },
  {
   "cell_type": "markdown",
   "id": "2f981705",
   "metadata": {},
   "source": [
    "{\n",
    "    \n",
    "    expresion_clave(elemento): expresion_valor(elemento)\n",
    "    \n",
    "    for elemento in interable\n",
    "}"
   ]
  },
  {
   "cell_type": "code",
   "execution_count": 1,
   "id": "0f6a718b",
   "metadata": {},
   "outputs": [],
   "source": [
    "pais_y_capital = {\"Reino Unido\": \"Londres\", \"Brasil\": \"Brasilia\", \"Marruecos\": \"Rabat\", \"Suecia\": \"Estocolmo\", \"España\": \"Madrid\"}"
   ]
  },
  {
   "cell_type": "code",
   "execution_count": 2,
   "id": "87f13440",
   "metadata": {},
   "outputs": [
    {
     "data": {
      "text/plain": [
       "{'Reino Unido': 'Londres',\n",
       " 'Brasil': 'Brasilia',\n",
       " 'Marruecos': 'Rabat',\n",
       " 'Suecia': 'Estocolmo',\n",
       " 'España': 'Madrid'}"
      ]
     },
     "execution_count": 2,
     "metadata": {},
     "output_type": "execute_result"
    }
   ],
   "source": [
    "pais_y_capital"
   ]
  },
  {
   "cell_type": "code",
   "execution_count": 4,
   "id": "61e5221e",
   "metadata": {},
   "outputs": [],
   "source": [
    "capital_y_pais = {capital: pais for pais, capital in pais_y_capital.items()}"
   ]
  },
  {
   "cell_type": "code",
   "execution_count": 5,
   "id": "d75320c0",
   "metadata": {},
   "outputs": [
    {
     "name": "stdout",
     "output_type": "stream",
     "text": [
      "{'Brasilia': 'Brasil',\n",
      " 'Estocolmo': 'Suecia',\n",
      " 'Londres': 'Reino Unido',\n",
      " 'Madrid': 'España',\n",
      " 'Rabat': 'Marruecos'}\n"
     ]
    }
   ],
   "source": [
    "from pprint import pprint as pp\n",
    "\n",
    "pp(capital_y_pais)"
   ]
  }
 ],
 "metadata": {
  "kernelspec": {
   "display_name": "Python 3 (ipykernel)",
   "language": "python",
   "name": "python3"
  },
  "language_info": {
   "codemirror_mode": {
    "name": "ipython",
    "version": 3
   },
   "file_extension": ".py",
   "mimetype": "text/x-python",
   "name": "python",
   "nbconvert_exporter": "python",
   "pygments_lexer": "ipython3",
   "version": "3.9.7"
  }
 },
 "nbformat": 4,
 "nbformat_minor": 5
}
