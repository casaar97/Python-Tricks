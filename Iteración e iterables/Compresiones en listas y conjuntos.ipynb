{
 "cells": [
  {
   "cell_type": "markdown",
   "id": "a6faf3c2",
   "metadata": {},
   "source": [
    "# Compresiones en listas y conjuntos"
   ]
  },
  {
   "cell_type": "markdown",
   "id": "a381d01c",
   "metadata": {},
   "source": [
    "Existe una sintáxis consisa para describir listas, conjuntos y diccionarios.\n",
    "\n",
    "Debe ser legible y expresiva, cercana al lenguaje natural."
   ]
  },
  {
   "cell_type": "markdown",
   "id": "d6038a01",
   "metadata": {},
   "source": [
    "Ejemplo de compresión:"
   ]
  },
  {
   "cell_type": "code",
   "execution_count": 1,
   "id": "656b2b5a",
   "metadata": {},
   "outputs": [],
   "source": [
    "palabras = \"Hola me llamo Carlos y esta es una frase que va a ser dividida en una lista de palabras\"\n",
    "\n",
    "lista = [len(palabra) for palabra in palabras.split()]"
   ]
  },
  {
   "cell_type": "code",
   "execution_count": 2,
   "id": "6b807790",
   "metadata": {},
   "outputs": [
    {
     "data": {
      "text/plain": [
       "[4, 2, 5, 6, 1, 4, 2, 3, 5, 3, 2, 1, 3, 8, 2, 3, 5, 2, 8]"
      ]
     },
     "execution_count": 2,
     "metadata": {},
     "output_type": "execute_result"
    }
   ],
   "source": [
    "lista"
   ]
  },
  {
   "cell_type": "markdown",
   "id": "0dba3b65",
   "metadata": {},
   "source": [
    "Lo que estamos indicando en esta línea de código es lo siguiente: \n",
    "\n",
    "Crea una lista en la que cada elemento va a ser la longitud de palabra, siendo palabra cada elemento de la cadena de caracteres \"palabras\"."
   ]
  },
  {
   "cell_type": "markdown",
   "id": "be213687",
   "metadata": {},
   "source": [
    "## Sintaxis de una compresión en listas"
   ]
  },
  {
   "cell_type": "markdown",
   "id": "cfab2a71",
   "metadata": {},
   "source": [
    "**[expresión(elemento) for elemento in iterable]**"
   ]
  },
  {
   "cell_type": "markdown",
   "id": "b21d7474",
   "metadata": {},
   "source": [
    "Esto se interpreta como: \n",
    "    \n",
    "Crea una lista vacía y almacena en ella el resultado de aplicar la expresión a cada elemento del objeto iterable."
   ]
  },
  {
   "cell_type": "markdown",
   "id": "20b2673f",
   "metadata": {},
   "source": [
    "Esto es el equivalente a:"
   ]
  },
  {
   "cell_type": "code",
   "execution_count": 3,
   "id": "dbb15e6f",
   "metadata": {},
   "outputs": [],
   "source": [
    "lista = []\n",
    "\n",
    "for palabra in palabras.split():\n",
    "    lista.append(len(palabra))"
   ]
  },
  {
   "cell_type": "code",
   "execution_count": 4,
   "id": "48ab11f8",
   "metadata": {},
   "outputs": [
    {
     "data": {
      "text/plain": [
       "[4, 2, 5, 6, 1, 4, 2, 3, 5, 3, 2, 1, 3, 8, 2, 3, 5, 2, 8]"
      ]
     },
     "execution_count": 4,
     "metadata": {},
     "output_type": "execute_result"
    }
   ],
   "source": [
    "lista"
   ]
  },
  {
   "cell_type": "code",
   "execution_count": 5,
   "id": "4aec4f28",
   "metadata": {},
   "outputs": [],
   "source": [
    "lista = [len(palabra) for palabra in palabras.split()]"
   ]
  },
  {
   "cell_type": "code",
   "execution_count": 6,
   "id": "b9f26978",
   "metadata": {},
   "outputs": [
    {
     "data": {
      "text/plain": [
       "[4, 2, 5, 6, 1, 4, 2, 3, 5, 3, 2, 1, 3, 8, 2, 3, 5, 2, 8]"
      ]
     },
     "execution_count": 6,
     "metadata": {},
     "output_type": "execute_result"
    }
   ],
   "source": [
    "lista"
   ]
  },
  {
   "cell_type": "markdown",
   "id": "b67fa2b8",
   "metadata": {},
   "source": [
    "## Sintaxis de una compresión en conjuntos"
   ]
  },
  {
   "cell_type": "markdown",
   "id": "3c869591",
   "metadata": {},
   "source": [
    "Con los conjuntos sería igual pero cambiando [] por {}.\n",
    "\n",
    "Hay que tener en cuenta dos propiedades de los conjuntos:\n",
    "\n",
    "- Se van a eliminar los duplicados\n",
    "- Los elementos no van a estar ordenados"
   ]
  },
  {
   "cell_type": "code",
   "execution_count": 7,
   "id": "b2a8e232",
   "metadata": {},
   "outputs": [],
   "source": [
    "conjunto = {len(palabra) for palabra in palabras.split()}"
   ]
  },
  {
   "cell_type": "code",
   "execution_count": 8,
   "id": "7b9a7133",
   "metadata": {},
   "outputs": [
    {
     "data": {
      "text/plain": [
       "{1, 2, 3, 4, 5, 6, 8}"
      ]
     },
     "execution_count": 8,
     "metadata": {},
     "output_type": "execute_result"
    }
   ],
   "source": [
    "conjunto"
   ]
  }
 ],
 "metadata": {
  "kernelspec": {
   "display_name": "Python 3 (ipykernel)",
   "language": "python",
   "name": "python3"
  },
  "language_info": {
   "codemirror_mode": {
    "name": "ipython",
    "version": 3
   },
   "file_extension": ".py",
   "mimetype": "text/x-python",
   "name": "python",
   "nbconvert_exporter": "python",
   "pygments_lexer": "ipython3",
   "version": "3.9.7"
  }
 },
 "nbformat": 4,
 "nbformat_minor": 5
}
