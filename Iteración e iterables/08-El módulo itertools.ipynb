{
 "cells": [
  {
   "cell_type": "markdown",
   "id": "e472733c",
   "metadata": {},
   "source": [
    "# El módulo **itertools**"
   ]
  },
  {
   "cell_type": "markdown",
   "id": "03c3925b",
   "metadata": {},
   "source": [
    "Python proporciona un vocabulario potente para trabajar con iteradores.\n",
    "\n",
    "Algunos ejemplos son las funciones sum() o enumerate() que hemos utilizado en algunos cuadernos.\n",
    "\n",
    "El módulo itertools proporciona muchas mas:"
   ]
  },
  {
   "cell_type": "markdown",
   "id": "2e4807d6",
   "metadata": {},
   "source": [
    "## itertools.islice()"
   ]
  },
  {
   "cell_type": "markdown",
   "id": "871864ab",
   "metadata": {},
   "source": [
    "### Utilidad"
   ]
  },
  {
   "cell_type": "markdown",
   "id": "97dd7c09",
   "metadata": {},
   "source": [
    "Trocea una lista según se le indique."
   ]
  },
  {
   "cell_type": "markdown",
   "id": "fbe9289b",
   "metadata": {},
   "source": [
    "### Sintaxis"
   ]
  },
  {
   "cell_type": "markdown",
   "id": "1d94829f",
   "metadata": {},
   "source": [
    "**islice(iterable, start, stop, step)**"
   ]
  },
  {
   "cell_type": "markdown",
   "id": "f6dfa9da",
   "metadata": {},
   "source": [
    "### Ejemplo"
   ]
  },
  {
   "cell_type": "code",
   "execution_count": 1,
   "id": "0db20e6c",
   "metadata": {},
   "outputs": [
    {
     "name": "stdout",
     "output_type": "stream",
     "text": [
      "0\n",
      "1\n",
      "2\n",
      "3\n",
      "4\n"
     ]
    }
   ],
   "source": [
    "from itertools import islice\n",
    "\n",
    "for i in islice(range(20), 5): \n",
    "    print(i)"
   ]
  },
  {
   "cell_type": "markdown",
   "id": "ed933e90",
   "metadata": {},
   "source": [
    "Como vemos, cuando se le introducen dos parámetros lo que hace es: **islice(iterable, stop)**"
   ]
  },
  {
   "cell_type": "code",
   "execution_count": 2,
   "id": "2e5b12aa",
   "metadata": {},
   "outputs": [
    {
     "name": "stdout",
     "output_type": "stream",
     "text": [
      "[1, 3, 5]\n"
     ]
    }
   ],
   "source": [
    "li = [2, 4, 5, 7, 8, 10, 20] \n",
    "  \n",
    "# Slicing the list\n",
    "print(list(islice(range(20), 1, 6, 2))) "
   ]
  },
  {
   "cell_type": "markdown",
   "id": "702303fa",
   "metadata": {},
   "source": [
    "## itertools.count()"
   ]
  },
  {
   "cell_type": "markdown",
   "id": "7e3f0aea",
   "metadata": {},
   "source": [
    "### Utilidad"
   ]
  },
  {
   "cell_type": "markdown",
   "id": "930e9ce1",
   "metadata": {},
   "source": [
    "Cuenta hasta el intinito desde el comienzo (start) indicado y con el salto (step) indicado."
   ]
  },
  {
   "cell_type": "markdown",
   "id": "b1afaf5f",
   "metadata": {},
   "source": [
    "### Sintaxis"
   ]
  },
  {
   "cell_type": "markdown",
   "id": "34522286",
   "metadata": {},
   "source": [
    "**count(start, step)**"
   ]
  },
  {
   "cell_type": "markdown",
   "id": "7e648df1",
   "metadata": {},
   "source": [
    "### Ejemplo"
   ]
  },
  {
   "cell_type": "code",
   "execution_count": 3,
   "id": "dbbfd0d2",
   "metadata": {},
   "outputs": [],
   "source": [
    "from itertools import count\n",
    "\n",
    "iterador = count(1, 1)"
   ]
  },
  {
   "cell_type": "code",
   "execution_count": 4,
   "id": "c9866d5b",
   "metadata": {},
   "outputs": [
    {
     "name": "stdout",
     "output_type": "stream",
     "text": [
      "1\n",
      "2\n",
      "3\n",
      "4\n",
      "5\n",
      "6\n",
      "7\n",
      "8\n",
      "9\n",
      "10\n"
     ]
    }
   ],
   "source": [
    "for elemento in iterador:\n",
    "    print(elemento)\n",
    "    \n",
    "    if(elemento == 10):\n",
    "        break"
   ]
  },
  {
   "cell_type": "markdown",
   "id": "c8322ec9",
   "metadata": {},
   "source": [
    "## Booleanos"
   ]
  },
  {
   "cell_type": "markdown",
   "id": "d8ee3cb1",
   "metadata": {},
   "source": [
    "### Any"
   ]
  },
  {
   "cell_type": "markdown",
   "id": "13fe8db9",
   "metadata": {},
   "source": [
    "Devuelve True si en la lista hay algún True:"
   ]
  },
  {
   "cell_type": "code",
   "execution_count": 5,
   "id": "d95c1a56",
   "metadata": {},
   "outputs": [
    {
     "data": {
      "text/plain": [
       "True"
      ]
     },
     "execution_count": 5,
     "metadata": {},
     "output_type": "execute_result"
    }
   ],
   "source": [
    "any([False, True, False])"
   ]
  },
  {
   "cell_type": "markdown",
   "id": "45cd9ded",
   "metadata": {},
   "source": [
    "### All"
   ]
  },
  {
   "cell_type": "markdown",
   "id": "f9d99255",
   "metadata": {},
   "source": [
    "Devuelve True si en la lista todos son True:"
   ]
  },
  {
   "cell_type": "code",
   "execution_count": 6,
   "id": "3dd6fd17",
   "metadata": {},
   "outputs": [
    {
     "data": {
      "text/plain": [
       "False"
      ]
     },
     "execution_count": 6,
     "metadata": {},
     "output_type": "execute_result"
    }
   ],
   "source": [
    "all([False, True, False])"
   ]
  },
  {
   "cell_type": "markdown",
   "id": "2203d727",
   "metadata": {},
   "source": [
    "## Zip"
   ]
  },
  {
   "cell_type": "markdown",
   "id": "9f62d856",
   "metadata": {},
   "source": [
    "Agrupa listas para iterar sobre ellas:"
   ]
  },
  {
   "cell_type": "code",
   "execution_count": 9,
   "id": "7fadd4da",
   "metadata": {},
   "outputs": [
    {
     "name": "stdout",
     "output_type": "stream",
     "text": [
      "(1, 1)\n",
      "(2, 2)\n",
      "(3, 3)\n",
      "(4, 4)\n",
      "(5, 5)\n",
      "(6, 6)\n",
      "(7, 7)\n",
      "(8, 8)\n",
      "(9, 9)\n"
     ]
    }
   ],
   "source": [
    "for item in zip(range(1, 10), range(1, 20)):\n",
    "    print(item)"
   ]
  },
  {
   "cell_type": "markdown",
   "id": "2b15a071",
   "metadata": {},
   "source": [
    "Si una de las dos listas es mas larga, se recorta y se adapta al tamaño de la lista mas corta."
   ]
  }
 ],
 "metadata": {
  "kernelspec": {
   "display_name": "Python 3 (ipykernel)",
   "language": "python",
   "name": "python3"
  },
  "language_info": {
   "codemirror_mode": {
    "name": "ipython",
    "version": 3
   },
   "file_extension": ".py",
   "mimetype": "text/x-python",
   "name": "python",
   "nbconvert_exporter": "python",
   "pygments_lexer": "ipython3",
   "version": "3.9.7"
  }
 },
 "nbformat": 4,
 "nbformat_minor": 5
}
