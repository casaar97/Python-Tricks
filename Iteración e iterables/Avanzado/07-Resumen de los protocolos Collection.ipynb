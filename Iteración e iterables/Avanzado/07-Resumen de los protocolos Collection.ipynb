{
 "cells": [
  {
   "cell_type": "markdown",
   "id": "2849838e",
   "metadata": {},
   "source": [
    "# Resumen de los protocolos Collection"
   ]
  },
  {
   "cell_type": "markdown",
   "id": "35c78213",
   "metadata": {},
   "source": [
    "**Para implementar un protocolo, los objetos deben soportar ciertas operaciones.**\n",
    "\n",
    "Normalmente estas operaciones son implementadas como métodos ***dunder***. Por ejemplo: \\__iter__\n",
    "\n",
    "La mayoría de las colecciones implementan los protocolos: \n",
    "\n",
    "- **Container**\n",
    "- **Sized**\n",
    "- **Iterable**\n",
    "\n",
    "Muchos de ellos soportan el protocolo ***sequence***. Son *sequences* todos menos:\n",
    "\n",
    "- **dict**\n",
    "- **set**\n",
    "- **frozenset**\n",
    "\n"
   ]
  },
  {
   "cell_type": "markdown",
   "id": "f62c85c2",
   "metadata": {},
   "source": [
    "Las colecciones que soportan el protocolo ***container*** permiten el uso de los operadores:\n",
    "    \n",
    "- **in**\n",
    "- **not in**"
   ]
  },
  {
   "cell_type": "markdown",
   "id": "9c1d7ea9",
   "metadata": {},
   "source": [
    "Las colecciones que soportan el protocolo ***sized*** permiten el uso del operador ***len***."
   ]
  },
  {
   "cell_type": "markdown",
   "id": "116deec4",
   "metadata": {},
   "source": [
    "Las colecciones que soportan el protocolo ***Iterable*** pueden producir un iterador a partir del método **iter()**."
   ]
  },
  {
   "cell_type": "markdown",
   "id": "de9ce3f7",
   "metadata": {},
   "source": [
    "Las colecciones que soportan el protocolo ***sequence*** permiten:\n",
    "\n",
    "- **Obtener elementos por indice**: elemento = secuencia[indice]\n",
    "- **Encontrar elementos por valor**: indice = secuencia.index(elemento)\n",
    "- **Contar el número de elementos en la colección**: num = secuencia.count()\n",
    "- **Producir un iterador invertido**: r = reversed(secuencia)"
   ]
  },
  {
   "cell_type": "markdown",
   "id": "7cae4b60",
   "metadata": {},
   "source": [
    "Las colecciones que soportan el protocolo **set** permiten crear colecciones que establecen operaciones algebráicas como:\n",
    "\n",
    "- subset\n",
    "- proper subset\n",
    "- equal\n",
    "- not equal\n",
    "- proper superset\n",
    "- superset\n",
    "- intersection\n",
    "- union\n",
    "- symmetric difference\n",
    "- difference"
   ]
  }
 ],
 "metadata": {
  "kernelspec": {
   "display_name": "Python 3 (ipykernel)",
   "language": "python",
   "name": "python3"
  },
  "language_info": {
   "codemirror_mode": {
    "name": "ipython",
    "version": 3
   },
   "file_extension": ".py",
   "mimetype": "text/x-python",
   "name": "python",
   "nbconvert_exporter": "python",
   "pygments_lexer": "ipython3",
   "version": "3.9.7"
  }
 },
 "nbformat": 4,
 "nbformat_minor": 5
}
