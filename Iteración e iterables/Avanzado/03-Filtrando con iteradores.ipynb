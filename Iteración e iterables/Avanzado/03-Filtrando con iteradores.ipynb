{
 "cells": [
  {
   "cell_type": "markdown",
   "id": "0db9e8eb",
   "metadata": {},
   "source": [
    "# Filtrando con iteradores"
   ]
  },
  {
   "cell_type": "markdown",
   "id": "bf2cf4b9",
   "metadata": {},
   "source": [
    "Este notebook va a consistir en crear una clase iterador que recibiendo un objeto iterable, devuelva un iterador de ese objeto filtrando elementos según un filtro:"
   ]
  },
  {
   "cell_type": "code",
   "execution_count": 1,
   "id": "7867b503",
   "metadata": {},
   "outputs": [],
   "source": [
    "secuencia = [elemento for elemento in range(10)]"
   ]
  },
  {
   "cell_type": "code",
   "execution_count": 2,
   "id": "49490911",
   "metadata": {},
   "outputs": [],
   "source": [
    "esPar = lambda x: x%2==0"
   ]
  },
  {
   "cell_type": "code",
   "execution_count": 3,
   "id": "3f014525",
   "metadata": {},
   "outputs": [],
   "source": [
    "class IteradorDeFiltrado:\n",
    "    \n",
    "    def __init__(self, secuencia, filtro):\n",
    "    \n",
    "        self._iterador = iter(secuencia)\n",
    "        self._filtro = filtro\n",
    "        \n",
    "    def __iter__(self):\n",
    "        return self\n",
    "    \n",
    "    def __next__(self):\n",
    "        \n",
    "        while True:\n",
    "            elemento = next(self._iterador)\n",
    "            if self._filtro(elemento):\n",
    "                return elemento"
   ]
  },
  {
   "cell_type": "code",
   "execution_count": 4,
   "id": "11af18a8",
   "metadata": {},
   "outputs": [],
   "source": [
    "iterador = IteradorDeFiltrado(secuencia=secuencia, filtro=esPar)"
   ]
  },
  {
   "cell_type": "code",
   "execution_count": 5,
   "id": "8d7d3fa6",
   "metadata": {
    "scrolled": true
   },
   "outputs": [
    {
     "name": "stdout",
     "output_type": "stream",
     "text": [
      "0\n",
      "2\n",
      "4\n",
      "6\n",
      "8\n"
     ]
    }
   ],
   "source": [
    "for elemento in iterador:\n",
    "    print(elemento)"
   ]
  },
  {
   "cell_type": "code",
   "execution_count": 6,
   "id": "65156431",
   "metadata": {},
   "outputs": [],
   "source": [
    "mayorQue7 = lambda x: x>7"
   ]
  },
  {
   "cell_type": "code",
   "execution_count": 7,
   "id": "7665a036",
   "metadata": {},
   "outputs": [],
   "source": [
    "iterador = IteradorDeFiltrado(secuencia=secuencia, filtro=mayorQue7)"
   ]
  },
  {
   "cell_type": "code",
   "execution_count": 8,
   "id": "025be69f",
   "metadata": {},
   "outputs": [
    {
     "name": "stdout",
     "output_type": "stream",
     "text": [
      "8\n",
      "9\n"
     ]
    }
   ],
   "source": [
    "for elemento in iterador:\n",
    "    print(elemento)"
   ]
  },
  {
   "cell_type": "markdown",
   "id": "9397dd7d",
   "metadata": {},
   "source": [
    "Sin utilizar iteradores dentro del iterador, sería así:"
   ]
  },
  {
   "cell_type": "code",
   "execution_count": 9,
   "id": "4559c043",
   "metadata": {},
   "outputs": [],
   "source": [
    "class IteradorDeFiltrado:\n",
    "    \n",
    "    def __init__(self, secuencia, filtro):\n",
    "    \n",
    "        self._secuencia = secuencia\n",
    "        self._indice = 0\n",
    "        self._filtro = filtro\n",
    "        \n",
    "    def __iter__(self):\n",
    "        return self\n",
    "    \n",
    "    def __next__(self):\n",
    "        \n",
    "        while self._indice < len(self._secuencia):\n",
    "            \n",
    "            if self._filtro(self._secuencia[self._indice]):\n",
    "                resultado = self._secuencia[self._indice]\n",
    "                self._indice += 1\n",
    "                return resultado\n",
    "            \n",
    "            self._indice += 1\n",
    "                \n",
    "        \n",
    "        raise StopIteration"
   ]
  },
  {
   "cell_type": "code",
   "execution_count": 10,
   "id": "ee9042fc",
   "metadata": {},
   "outputs": [],
   "source": [
    "iterador = IteradorDeFiltrado(secuencia=secuencia, filtro=esPar)"
   ]
  },
  {
   "cell_type": "code",
   "execution_count": 11,
   "id": "a61e0d95",
   "metadata": {
    "scrolled": true
   },
   "outputs": [
    {
     "name": "stdout",
     "output_type": "stream",
     "text": [
      "0\n",
      "2\n",
      "4\n",
      "6\n",
      "8\n"
     ]
    }
   ],
   "source": [
    "for elemento in iterador:\n",
    "    print(elemento)"
   ]
  },
  {
   "cell_type": "code",
   "execution_count": 12,
   "id": "3ca84cf8",
   "metadata": {},
   "outputs": [],
   "source": [
    "mayorQue7 = lambda x: x>7"
   ]
  },
  {
   "cell_type": "code",
   "execution_count": 13,
   "id": "26173190",
   "metadata": {},
   "outputs": [],
   "source": [
    "iterador = IteradorDeFiltrado(secuencia=secuencia, filtro=mayorQue7)"
   ]
  },
  {
   "cell_type": "code",
   "execution_count": 14,
   "id": "779e24bb",
   "metadata": {},
   "outputs": [
    {
     "name": "stdout",
     "output_type": "stream",
     "text": [
      "8\n",
      "9\n"
     ]
    }
   ],
   "source": [
    "for elemento in iterador:\n",
    "    print(elemento)"
   ]
  }
 ],
 "metadata": {
  "kernelspec": {
   "display_name": "Python 3 (ipykernel)",
   "language": "python",
   "name": "python3"
  },
  "language_info": {
   "codemirror_mode": {
    "name": "ipython",
    "version": 3
   },
   "file_extension": ".py",
   "mimetype": "text/x-python",
   "name": "python",
   "nbconvert_exporter": "python",
   "pygments_lexer": "ipython3",
   "version": "3.9.7"
  }
 },
 "nbformat": 4,
 "nbformat_minor": 5
}
