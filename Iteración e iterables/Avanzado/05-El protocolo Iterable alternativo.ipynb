{
 "cells": [
  {
   "cell_type": "markdown",
   "id": "cf74b4a4",
   "metadata": {},
   "source": [
    "# El protocolo Iterable alternativo"
   ]
  },
  {
   "cell_type": "markdown",
   "id": "9c865b88",
   "metadata": {},
   "source": [
    "Este protocolo utiliza el método especial **\\__getitem__**."
   ]
  },
  {
   "cell_type": "markdown",
   "id": "c55535ab",
   "metadata": {},
   "source": [
    "Para que se pueda implementar el protocolo Iterable con getitem, es necesario que este devuelva valores consecutivos enteros empezando en cero.\n",
    "\n",
    "Una vez se acaben los números en la secuencia, el iterador debe lanzar la excepción **IndexError**."
   ]
  },
  {
   "cell_type": "code",
   "execution_count": 1,
   "id": "f9db0530",
   "metadata": {},
   "outputs": [],
   "source": [
    "class IteradorDeFiltrado:\n",
    "    \n",
    "    def __init__(self, secuencia, filtro):\n",
    "    \n",
    "        self._secuencia = secuencia\n",
    "        self._indice = 0\n",
    "        self._filtro = filtro\n",
    "    \n",
    "    def __getitem__(self, indice):\n",
    "        \n",
    "        while 0 <= self._indice < len(self._secuencia):\n",
    "            \n",
    "            if self._filtro(self._secuencia[self._indice]):\n",
    "                resultado = self._secuencia[self._indice]\n",
    "                self._indice += 1\n",
    "                return resultado\n",
    "            \n",
    "            self._indice += 1\n",
    "                \n",
    "        \n",
    "        raise IndexError"
   ]
  },
  {
   "cell_type": "code",
   "execution_count": 2,
   "id": "ec847d6a",
   "metadata": {},
   "outputs": [],
   "source": [
    "secuencia = [elemento for elemento in range(10)]"
   ]
  },
  {
   "cell_type": "code",
   "execution_count": 3,
   "id": "8e9c61db",
   "metadata": {},
   "outputs": [],
   "source": [
    "esPar = lambda x: x%2==0"
   ]
  },
  {
   "cell_type": "code",
   "execution_count": 4,
   "id": "519f674d",
   "metadata": {},
   "outputs": [],
   "source": [
    "iterador = IteradorDeFiltrado(secuencia=secuencia, filtro=esPar)"
   ]
  },
  {
   "cell_type": "code",
   "execution_count": 5,
   "id": "f9539831",
   "metadata": {},
   "outputs": [
    {
     "name": "stdout",
     "output_type": "stream",
     "text": [
      "0\n",
      "2\n",
      "4\n",
      "6\n",
      "8\n"
     ]
    }
   ],
   "source": [
    "for elemento in iterador:\n",
    "    print(elemento)"
   ]
  }
 ],
 "metadata": {
  "kernelspec": {
   "display_name": "Python 3 (ipykernel)",
   "language": "python",
   "name": "python3"
  },
  "language_info": {
   "codemirror_mode": {
    "name": "ipython",
    "version": 3
   },
   "file_extension": ".py",
   "mimetype": "text/x-python",
   "name": "python",
   "nbconvert_exporter": "python",
   "pygments_lexer": "ipython3",
   "version": "3.9.7"
  }
 },
 "nbformat": 4,
 "nbformat_minor": 5
}
