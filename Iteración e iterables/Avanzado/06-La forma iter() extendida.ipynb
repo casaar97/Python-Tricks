{
 "cells": [
  {
   "cell_type": "markdown",
   "id": "fd391280",
   "metadata": {},
   "source": [
    "# La forma iter() extendida"
   ]
  },
  {
   "cell_type": "markdown",
   "id": "e6f85047",
   "metadata": {},
   "source": [
    "Esta forma extendida sigue la siguiente sintásis: **iterador = iter(callable, sentinel)**.\n",
    "\n",
    "- **callable**: Es un objeto invocable con cero argumentos que se invoca una vez por iteración.\n",
    "- **sentinel**: La iteración termina cuando el objeto invocable produce este valor."
   ]
  },
  {
   "cell_type": "markdown",
   "id": "35e8eafe",
   "metadata": {},
   "source": [
    "Un ejemplo de su uso es la de leer un fichero de texto hasta que se encuentre el sentinel:"
   ]
  },
  {
   "cell_type": "code",
   "execution_count": 1,
   "id": "525a174e",
   "metadata": {},
   "outputs": [
    {
     "data": {
      "text/plain": [
       "[1, 2, 3, 4, 5, 6, 7, 8, 9, 10]"
      ]
     },
     "execution_count": 1,
     "metadata": {},
     "output_type": "execute_result"
    }
   ],
   "source": [
    "with open(\"fichero.txt\", \"rt\") as fichero:\n",
    "    lineas = iter(lambda: fichero.readline(), \"END\")\n",
    "    numeros = [int(numero) for numero in lineas]\n",
    "    \n",
    "numeros"
   ]
  },
  {
   "cell_type": "markdown",
   "id": "bb8c6a56",
   "metadata": {},
   "source": [
    "Lo que hemos hecho en este bloque ha sido lo siguiente:\n",
    "    \n",
    "    1. Abrir el fichero en modo lectura\n",
    "    2. Crear una función lambda que simplemente llama a la siguiente línea del fichero\n",
    "    3. Crear un iterable a partir de esa función y pasarle el sentinel en el que debe parar\n",
    "    4. Crear una lista de números enteros utilizando el iterador"
   ]
  }
 ],
 "metadata": {
  "kernelspec": {
   "display_name": "Python 3 (ipykernel)",
   "language": "python",
   "name": "python3"
  },
  "language_info": {
   "codemirror_mode": {
    "name": "ipython",
    "version": 3
   },
   "file_extension": ".py",
   "mimetype": "text/x-python",
   "name": "python",
   "nbconvert_exporter": "python",
   "pygments_lexer": "ipython3",
   "version": "3.9.7"
  }
 },
 "nbformat": 4,
 "nbformat_minor": 5
}
