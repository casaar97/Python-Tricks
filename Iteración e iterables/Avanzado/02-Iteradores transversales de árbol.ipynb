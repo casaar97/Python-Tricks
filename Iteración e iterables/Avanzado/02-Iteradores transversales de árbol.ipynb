{
 "cells": [
  {
   "cell_type": "markdown",
   "id": "db3cc0c5",
   "metadata": {},
   "source": [
    "# Iteradores transversales de árbol"
   ]
  },
  {
   "cell_type": "markdown",
   "id": "5a7e34db",
   "metadata": {},
   "source": [
    "## Iterador de orden \"amplitud primero\" (Breadth first)"
   ]
  },
  {
   "cell_type": "markdown",
   "id": "a12ba22e",
   "metadata": {},
   "source": [
    "Ser capaz de obtener elementos en orden puede no parecer muy excitante, pero es vital. \n",
    "\n",
    "Este es el motivo por el que iterables como las listas lo hacen de forma automática. Es un concepto base que nos permite entender como desarrollar iteradores desde cero."
   ]
  },
  {
   "cell_type": "markdown",
   "id": "3a566af9",
   "metadata": {},
   "source": [
    "Vamos a crear un iterador que se comporte como el que viene por defecto en las listas:"
   ]
  },
  {
   "cell_type": "code",
   "execution_count": 1,
   "id": "3b79aebb",
   "metadata": {},
   "outputs": [],
   "source": [
    "class LevelOrderIterator:\n",
    "    \n",
    "    def __init__(self, sequence):\n",
    "        self._sequence = sequence\n",
    "        self._index = 0\n",
    "        \n",
    "    def __next__(self):\n",
    "        \n",
    "        if self._index >= len(self._sequence):\n",
    "            raise StopIteration\n",
    "        \n",
    "        result = self._sequence[self._index]\n",
    "        self._index += 1\n",
    "        return result\n",
    "    \n",
    "    def __iter__(self):\n",
    "        return self"
   ]
  },
  {
   "cell_type": "markdown",
   "id": "8cb884ee",
   "metadata": {},
   "source": [
    "Queremos representar lo siguiente:"
   ]
  },
  {
   "cell_type": "raw",
   "id": "4b7743b2",
   "metadata": {},
   "source": [
    "                        *\n",
    "                   +         -\n",
    "               a      b   c     d"
   ]
  },
  {
   "cell_type": "code",
   "execution_count": 2,
   "id": "434d4682",
   "metadata": {},
   "outputs": [],
   "source": [
    "expr_tree = [\"*\", \"+\", \"-\", \"a\", \"b\", \"c\", \"d\"]"
   ]
  },
  {
   "cell_type": "code",
   "execution_count": 3,
   "id": "eeed4d6c",
   "metadata": {},
   "outputs": [],
   "source": [
    "iterador = LevelOrderIterator(expr_tree)"
   ]
  },
  {
   "cell_type": "code",
   "execution_count": 4,
   "id": "d91723ef",
   "metadata": {},
   "outputs": [
    {
     "name": "stdout",
     "output_type": "stream",
     "text": [
      "*\n",
      "+\n",
      "-\n",
      "a\n",
      "b\n",
      "c\n",
      "d\n",
      "No hay mas elementos\n"
     ]
    }
   ],
   "source": [
    "try:\n",
    "    while True:\n",
    "        print(next(iterador))\n",
    "        \n",
    "except StopIteration as error:\n",
    "    print((\"No hay mas elementos\"))"
   ]
  },
  {
   "cell_type": "code",
   "execution_count": 5,
   "id": "af12eaf8",
   "metadata": {},
   "outputs": [],
   "source": [
    "iterador = LevelOrderIterator(expr_tree)"
   ]
  },
  {
   "cell_type": "code",
   "execution_count": 6,
   "id": "96fa467a",
   "metadata": {},
   "outputs": [
    {
     "data": {
      "text/plain": [
       "'* + - a b c d'"
      ]
     },
     "execution_count": 6,
     "metadata": {},
     "output_type": "execute_result"
    }
   ],
   "source": [
    "\" \".join(iterador)"
   ]
  },
  {
   "cell_type": "markdown",
   "id": "5f28dc7d",
   "metadata": {},
   "source": [
    "Sin embargo, hay un problema, y es que para todos los árboles binarios perfectos se tiene que cumplir que **2^n + 1** sea igual al número de elementos, siendo n la profundidad del árbol. Como queremos que nuestro iterador funcione solo para árboles binarios perfectos, tenemos que meter esta restricción:"
   ]
  },
  {
   "cell_type": "code",
   "execution_count": 7,
   "id": "c18f1a4c",
   "metadata": {},
   "outputs": [],
   "source": [
    "def is_perfect_length(sequence):\n",
    "    n = len(sequence)\n",
    "    return ((n + 1) & n == 0) and (n != 0)"
   ]
  },
  {
   "cell_type": "code",
   "execution_count": 8,
   "id": "8cb13f47",
   "metadata": {},
   "outputs": [],
   "source": [
    "class LevelOrderIterator:\n",
    "    \n",
    "    def __init__(self, sequence):\n",
    "        if not is_perfect_length(sequence):\n",
    "            raise ValueError(f\"Sequence of length {len(sequence)} does not represent a perfect binary tree\")\n",
    "        self._sequence = sequence\n",
    "        self._index = 0\n",
    "        \n",
    "    def __next__(self):\n",
    "        \n",
    "        if self._index >= len(self._sequence):\n",
    "            raise StopIteration\n",
    "        \n",
    "        result = self._sequence[self._index]\n",
    "        self._index += 1\n",
    "        return result\n",
    "    \n",
    "    def __iter__(self):\n",
    "        return self"
   ]
  },
  {
   "cell_type": "markdown",
   "id": "3adf3545",
   "metadata": {},
   "source": [
    "Para ver las longitudes de sequencia que serían admitidas, podemos hacer lo siguiente:"
   ]
  },
  {
   "cell_type": "code",
   "execution_count": 9,
   "id": "7ec72f42",
   "metadata": {},
   "outputs": [
    {
     "data": {
      "text/plain": [
       "{0: False,\n",
       " 1: True,\n",
       " 2: False,\n",
       " 3: True,\n",
       " 4: False,\n",
       " 5: False,\n",
       " 6: False,\n",
       " 7: True,\n",
       " 8: False,\n",
       " 9: False,\n",
       " 10: False,\n",
       " 11: False,\n",
       " 12: False,\n",
       " 13: False,\n",
       " 14: False,\n",
       " 15: True,\n",
       " 16: False,\n",
       " 17: False,\n",
       " 18: False,\n",
       " 19: False,\n",
       " 20: False,\n",
       " 21: False,\n",
       " 22: False,\n",
       " 23: False,\n",
       " 24: False,\n",
       " 25: False,\n",
       " 26: False,\n",
       " 27: False,\n",
       " 28: False,\n",
       " 29: False,\n",
       " 30: False,\n",
       " 31: True}"
      ]
     },
     "execution_count": 9,
     "metadata": {},
     "output_type": "execute_result"
    }
   ],
   "source": [
    "{i: is_perfect_length([\"x\"] * i) for i in range(0, 32)}"
   ]
  },
  {
   "cell_type": "code",
   "execution_count": 10,
   "id": "2cf53a55",
   "metadata": {},
   "outputs": [],
   "source": [
    "filtro = filter(\n",
    "                lambda x: x[1], \n",
    "                list({i: is_perfect_length([\"x\"] * i) for i in range(0, 32)}.items())\n",
    "               )"
   ]
  },
  {
   "cell_type": "code",
   "execution_count": 11,
   "id": "46830a90",
   "metadata": {},
   "outputs": [
    {
     "name": "stdout",
     "output_type": "stream",
     "text": [
      "1\n",
      "3\n",
      "7\n",
      "15\n",
      "31\n"
     ]
    }
   ],
   "source": [
    "for elemento in filtro:\n",
    "    print(elemento[0])"
   ]
  },
  {
   "cell_type": "markdown",
   "id": "80950c00",
   "metadata": {},
   "source": [
    "Con estas longitudes de sequencia, nuestro iterador no lanza ninguna excepción."
   ]
  }
 ],
 "metadata": {
  "kernelspec": {
   "display_name": "Python 3 (ipykernel)",
   "language": "python",
   "name": "python3"
  },
  "language_info": {
   "codemirror_mode": {
    "name": "ipython",
    "version": 3
   },
   "file_extension": ".py",
   "mimetype": "text/x-python",
   "name": "python",
   "nbconvert_exporter": "python",
   "pygments_lexer": "ipython3",
   "version": "3.9.7"
  }
 },
 "nbformat": 4,
 "nbformat_minor": 5
}
