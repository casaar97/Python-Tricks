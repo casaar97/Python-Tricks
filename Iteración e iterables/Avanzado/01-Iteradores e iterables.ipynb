{
 "cells": [
  {
   "cell_type": "markdown",
   "id": "b9037bc5",
   "metadata": {},
   "source": [
    "# Iteradores e iterables"
   ]
  },
  {
   "cell_type": "markdown",
   "id": "cede3129",
   "metadata": {},
   "source": [
    "Los iteradores nos permiten separar como obtenemos items de un objeto de la propia estructura del objeto.\n",
    "\n",
    "Esto quiere decir, que dado un determinado objeto, podemos obtener sucesivos elemento de ese objeto sin tener conocimiento alguno de como esos elementos estan siendo generados."
   ]
  },
  {
   "cell_type": "markdown",
   "id": "6b046acf",
   "metadata": {},
   "source": [
    "Estos elementos pueden estar:\n",
    "    \n",
    "    - Almacenados en una colección, como una lista o diccionario.\n",
    "    - Devueltos por un yield en una expresión generadora, siendo generados sobre la marcha.\n",
    "    - Devueltos desde un fichero.\n",
    "    - Producidos en tiempo real por un sensor."
   ]
  },
  {
   "cell_type": "markdown",
   "id": "48d977b9",
   "metadata": {},
   "source": [
    "La obtención de elementos de un objeto iterable es gestionada por otro tipo de objeto estrechamente relacionado, llamado **iterador**.\n",
    "\n",
    "Los iteradores en Python se conocen como ***iteradores hacia delante***, ya que recorren el objeto iterable desde el principio del mismo hasta el final, elemento a elemento, sin saltos inesperados ni cambios de dirección.\n",
    "\n",
    "El iterable que está siendo recorrido puede ser indefinido, si los resultados están siendo dinámicamente producidos por una expresión generadora o están siendo recibidos desde un sensor en lugar de estar siendo devueltos desde memoria estática o dinámica.\n",
    "\n",
    "Python también proporciona medios para crear iteradores inversos, que recorren el objeto iterable desde el final hasta el principio. Estos realmente son iteradores hacia delante con la dirección invertida. Los iteradores invertidos solo tienen sentido en objetos iterables con un número finito de elementos, ya que comienzan por el final."
   ]
  },
  {
   "cell_type": "markdown",
   "id": "55375e26",
   "metadata": {},
   "source": [
    "## Ejemplo de como obtener un iterador e iterarlo"
   ]
  },
  {
   "cell_type": "code",
   "execution_count": 1,
   "id": "4138c6e2",
   "metadata": {},
   "outputs": [],
   "source": [
    "lista = range(10)"
   ]
  },
  {
   "cell_type": "code",
   "execution_count": 2,
   "id": "efd9cb43",
   "metadata": {},
   "outputs": [],
   "source": [
    "iterador = iter(lista)"
   ]
  },
  {
   "cell_type": "code",
   "execution_count": 3,
   "id": "a818cb8a",
   "metadata": {},
   "outputs": [
    {
     "name": "stdout",
     "output_type": "stream",
     "text": [
      "0\n",
      "1\n",
      "2\n",
      "3\n",
      "4\n",
      "5\n",
      "6\n",
      "7\n",
      "8\n",
      "9\n",
      "No quedan mas elementos\n"
     ]
    }
   ],
   "source": [
    "try:\n",
    "    while(True):\n",
    "        elemento = next(iterador)\n",
    "        print(elemento)\n",
    "        \n",
    "except StopIteration:\n",
    "    print(\"No quedan mas elementos\")"
   ]
  },
  {
   "cell_type": "markdown",
   "id": "9c9c7ab4",
   "metadata": {},
   "source": [
    "## Crear iterables"
   ]
  },
  {
   "cell_type": "markdown",
   "id": "967baf2f",
   "metadata": {},
   "source": [
    "### Lista"
   ]
  },
  {
   "cell_type": "code",
   "execution_count": 4,
   "id": "81a8f9bc",
   "metadata": {},
   "outputs": [],
   "source": [
    "lista = [elemento for elemento in range(10)]"
   ]
  },
  {
   "cell_type": "markdown",
   "id": "21d4cf78",
   "metadata": {},
   "source": [
    "### Tupla"
   ]
  },
  {
   "cell_type": "code",
   "execution_count": 5,
   "id": "1445ebbb",
   "metadata": {},
   "outputs": [],
   "source": [
    "tupla = tuple(lista)"
   ]
  },
  {
   "cell_type": "markdown",
   "id": "36d69b87",
   "metadata": {},
   "source": [
    "### Diccionario"
   ]
  },
  {
   "cell_type": "code",
   "execution_count": 6,
   "id": "9530efb6",
   "metadata": {},
   "outputs": [],
   "source": [
    "diccionario = dict(uno=1, dos=2, tres=3, cuatro=4, cinco=5)"
   ]
  },
  {
   "cell_type": "markdown",
   "id": "85ac36f2",
   "metadata": {},
   "source": [
    "### Función generadora"
   ]
  },
  {
   "cell_type": "code",
   "execution_count": 7,
   "id": "6955cc4d",
   "metadata": {},
   "outputs": [],
   "source": [
    "def funcion_iterable():\n",
    "    for elemento in range(10):\n",
    "        yield elemento"
   ]
  },
  {
   "cell_type": "code",
   "execution_count": 8,
   "id": "b9c4b748",
   "metadata": {},
   "outputs": [],
   "source": [
    "iterador = funcion_iterable()"
   ]
  },
  {
   "cell_type": "code",
   "execution_count": 9,
   "id": "71d74fb1",
   "metadata": {},
   "outputs": [
    {
     "name": "stdout",
     "output_type": "stream",
     "text": [
      "0\n",
      "1\n",
      "2\n",
      "3\n",
      "4\n",
      "5\n",
      "6\n",
      "7\n",
      "8\n",
      "9\n",
      "No quedan mas elementos\n"
     ]
    }
   ],
   "source": [
    "try:\n",
    "    while(True):\n",
    "        elemento = next(iterador)\n",
    "        print(elemento)\n",
    "        \n",
    "except StopIteration:\n",
    "    print(\"No quedan mas elementos\")"
   ]
  },
  {
   "cell_type": "markdown",
   "id": "4591107f",
   "metadata": {},
   "source": [
    "### Expresión generadora"
   ]
  },
  {
   "cell_type": "code",
   "execution_count": 10,
   "id": "ba3316d9",
   "metadata": {},
   "outputs": [],
   "source": [
    "expresion_generadora = (elemento for elemento in range(10))"
   ]
  },
  {
   "cell_type": "code",
   "execution_count": 11,
   "id": "1088f45f",
   "metadata": {},
   "outputs": [],
   "source": [
    "iterador = expresion_generadora"
   ]
  },
  {
   "cell_type": "code",
   "execution_count": 12,
   "id": "cc69587a",
   "metadata": {},
   "outputs": [
    {
     "name": "stdout",
     "output_type": "stream",
     "text": [
      "0\n",
      "1\n",
      "2\n",
      "3\n",
      "4\n",
      "5\n",
      "6\n",
      "7\n",
      "8\n",
      "9\n",
      "No quedan mas elementos\n"
     ]
    }
   ],
   "source": [
    "try:\n",
    "    while(True):\n",
    "        elemento = next(iterador)\n",
    "        print(elemento)\n",
    "        \n",
    "except StopIteration:\n",
    "    print(\"No quedan mas elementos\")"
   ]
  },
  {
   "cell_type": "markdown",
   "id": "f25e4661",
   "metadata": {},
   "source": [
    "## Iteradores"
   ]
  },
  {
   "cell_type": "markdown",
   "id": "f3fb8d83",
   "metadata": {},
   "source": [
    "Todos los iteradores son también iterables, es decir, deben implementar la propiedad \\__iter__:"
   ]
  },
  {
   "cell_type": "code",
   "execution_count": 13,
   "id": "cc876934",
   "metadata": {},
   "outputs": [],
   "source": [
    "class MiIterador:\n",
    "    \n",
    "    def __iter__(self):\n",
    "        return self\n",
    "    \n",
    "    def __next__(self):\n",
    "        \n",
    "        if not has_more_items():\n",
    "            raise StopIteration\n",
    "            \n",
    "        item = get_the_next_item()\n",
    "        return item"
   ]
  },
  {
   "cell_type": "markdown",
   "id": "0a8d0f16",
   "metadata": {},
   "source": [
    "La mayoría de las implementaciones del método \\__iter__ de un iterador devuelven ***self***, es decir, el propio iterador."
   ]
  },
  {
   "cell_type": "markdown",
   "id": "2c911aae",
   "metadata": {},
   "source": [
    "## Iterables"
   ]
  },
  {
   "cell_type": "code",
   "execution_count": 14,
   "id": "c36f5170",
   "metadata": {},
   "outputs": [],
   "source": [
    "class MiIterable:\n",
    "    \n",
    "    def __iter__(self):\n",
    "        iterador = MiIterador(self)\n",
    "        return iterador"
   ]
  }
 ],
 "metadata": {
  "kernelspec": {
   "display_name": "Python 3 (ipykernel)",
   "language": "python",
   "name": "python3"
  },
  "language_info": {
   "codemirror_mode": {
    "name": "ipython",
    "version": 3
   },
   "file_extension": ".py",
   "mimetype": "text/x-python",
   "name": "python",
   "nbconvert_exporter": "python",
   "pygments_lexer": "ipython3",
   "version": "3.9.7"
  }
 },
 "nbformat": 4,
 "nbformat_minor": 5
}
