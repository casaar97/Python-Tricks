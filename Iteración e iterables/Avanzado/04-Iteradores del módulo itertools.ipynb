{
 "cells": [
  {
   "cell_type": "markdown",
   "id": "b19b6c5c",
   "metadata": {},
   "source": [
    "# Iteradores del módulo itertools"
   ]
  },
  {
   "cell_type": "markdown",
   "id": "073784af",
   "metadata": {},
   "source": [
    "Se pueden crear iteradores que transformen secuencias de diversas formas:\n",
    "\n",
    "    - Ordenandolas\n",
    "    - Filtrando\n",
    "    - Transformando sus datos\n",
    "    - Aumentando su tamaño\n",
    "    - Agrupando"
   ]
  },
  {
   "cell_type": "markdown",
   "id": "9fc67fa7",
   "metadata": {},
   "source": [
    "Podemos encontrar muchos de estos iteradores en el módulo **itertools** de Python: https://docs.python.org/3/library/itertools.html"
   ]
  },
  {
   "cell_type": "code",
   "execution_count": 1,
   "id": "da5b2cc4",
   "metadata": {},
   "outputs": [],
   "source": [
    "import itertools"
   ]
  },
  {
   "cell_type": "markdown",
   "id": "4bad60a8",
   "metadata": {},
   "source": [
    "## Iteradores indefinidos"
   ]
  },
  {
   "cell_type": "markdown",
   "id": "c5a9af2b",
   "metadata": {},
   "source": [
    "### Iterador cycle"
   ]
  },
  {
   "cell_type": "markdown",
   "id": "cdf69ed8",
   "metadata": {},
   "source": [
    "Este iterador permite iterar una secuencia de forma indefinida:"
   ]
  },
  {
   "cell_type": "code",
   "execution_count": 2,
   "id": "5f063eba",
   "metadata": {},
   "outputs": [],
   "source": [
    "cycle = itertools.cycle"
   ]
  },
  {
   "cell_type": "code",
   "execution_count": 3,
   "id": "905e3ceb",
   "metadata": {},
   "outputs": [],
   "source": [
    "secuencia = [elemento for elemento in range(10)]"
   ]
  },
  {
   "cell_type": "code",
   "execution_count": 4,
   "id": "3dce4d2c",
   "metadata": {},
   "outputs": [],
   "source": [
    "iterador = cycle(secuencia)"
   ]
  },
  {
   "cell_type": "code",
   "execution_count": 5,
   "id": "2e5dcaff",
   "metadata": {},
   "outputs": [
    {
     "name": "stdout",
     "output_type": "stream",
     "text": [
      "0\n",
      "1\n",
      "2\n",
      "3\n",
      "4\n",
      "5\n",
      "6\n",
      "7\n",
      "8\n",
      "9\n",
      "0\n",
      "1\n",
      "2\n",
      "3\n",
      "4\n",
      "5\n",
      "6\n",
      "7\n",
      "8\n",
      "9\n"
     ]
    }
   ],
   "source": [
    "for elemento in range(20):\n",
    "    print(next(iterador))"
   ]
  },
  {
   "cell_type": "markdown",
   "id": "67caf1e4",
   "metadata": {},
   "source": [
    "### Iterador count"
   ]
  },
  {
   "cell_type": "markdown",
   "id": "ed5cc618",
   "metadata": {},
   "source": [
    "Este iterador permite iterar indefinidamente desde un número hasta el infinito:"
   ]
  },
  {
   "cell_type": "code",
   "execution_count": 6,
   "id": "b415c461",
   "metadata": {},
   "outputs": [],
   "source": [
    "count = itertools.count"
   ]
  },
  {
   "cell_type": "code",
   "execution_count": 7,
   "id": "5dbb7805",
   "metadata": {},
   "outputs": [],
   "source": [
    "iterador = count(10)"
   ]
  },
  {
   "cell_type": "code",
   "execution_count": 8,
   "id": "05f35d14",
   "metadata": {},
   "outputs": [
    {
     "name": "stdout",
     "output_type": "stream",
     "text": [
      "10\n",
      "11\n",
      "12\n",
      "13\n",
      "14\n",
      "15\n",
      "16\n",
      "17\n",
      "18\n",
      "19\n",
      "20\n",
      "21\n",
      "22\n",
      "23\n",
      "24\n",
      "25\n",
      "26\n",
      "27\n",
      "28\n",
      "29\n"
     ]
    }
   ],
   "source": [
    "for elemento in range(20):\n",
    "    print(next(iterador))"
   ]
  },
  {
   "cell_type": "markdown",
   "id": "3116f1bc",
   "metadata": {},
   "source": [
    "### Iterador repeat"
   ]
  },
  {
   "cell_type": "markdown",
   "id": "4e3ba9a7",
   "metadata": {},
   "source": [
    "Este iterador recibe dos parámetros: el elemento que tiene que devolver y el número de iteraciones:"
   ]
  },
  {
   "cell_type": "code",
   "execution_count": 9,
   "id": "53469936",
   "metadata": {},
   "outputs": [],
   "source": [
    "repeat = itertools.repeat"
   ]
  },
  {
   "cell_type": "code",
   "execution_count": 10,
   "id": "d557d03c",
   "metadata": {},
   "outputs": [],
   "source": [
    "iterador = repeat(\"Hola\", 5)"
   ]
  },
  {
   "cell_type": "code",
   "execution_count": 11,
   "id": "4d8ad6b1",
   "metadata": {},
   "outputs": [
    {
     "name": "stdout",
     "output_type": "stream",
     "text": [
      "Hola\n",
      "Hola\n",
      "Hola\n",
      "Hola\n",
      "Hola\n"
     ]
    }
   ],
   "source": [
    "for elemento in iterador:\n",
    "    print(elemento)"
   ]
  },
  {
   "cell_type": "markdown",
   "id": "6fab2432",
   "metadata": {},
   "source": [
    "## Iteradores que terminan en la secuencia de entrada mas corta"
   ]
  },
  {
   "cell_type": "markdown",
   "id": "884597a0",
   "metadata": {},
   "source": [
    "### accumulate"
   ]
  },
  {
   "cell_type": "code",
   "execution_count": 12,
   "id": "d18b0fd0",
   "metadata": {},
   "outputs": [],
   "source": [
    "iterador = itertools.accumulate([1, 2, 3, 4, 5])"
   ]
  },
  {
   "cell_type": "code",
   "execution_count": 13,
   "id": "8ecde0c7",
   "metadata": {},
   "outputs": [
    {
     "name": "stdout",
     "output_type": "stream",
     "text": [
      "1\n",
      "3\n",
      "6\n",
      "10\n",
      "15\n"
     ]
    }
   ],
   "source": [
    "for elemento in iterador:\n",
    "    print(elemento)"
   ]
  },
  {
   "cell_type": "markdown",
   "id": "3f9068fb",
   "metadata": {},
   "source": [
    "### chain"
   ]
  },
  {
   "cell_type": "code",
   "execution_count": 14,
   "id": "72b4735b",
   "metadata": {},
   "outputs": [],
   "source": [
    "iterador = itertools.chain([1, 2,3], [4, 5, 6])"
   ]
  },
  {
   "cell_type": "code",
   "execution_count": 15,
   "id": "c259e09b",
   "metadata": {},
   "outputs": [
    {
     "name": "stdout",
     "output_type": "stream",
     "text": [
      "1\n",
      "2\n",
      "3\n",
      "4\n",
      "5\n",
      "6\n"
     ]
    }
   ],
   "source": [
    "for elemento in iterador:\n",
    "    print(elemento)"
   ]
  },
  {
   "cell_type": "markdown",
   "id": "4417be0b",
   "metadata": {},
   "source": [
    "### compress"
   ]
  },
  {
   "cell_type": "code",
   "execution_count": 16,
   "id": "42dc2c1c",
   "metadata": {},
   "outputs": [],
   "source": [
    "iterador = itertools.compress(\"ABCDEF\", [1, 0, 1, 0 , 1, 0])"
   ]
  },
  {
   "cell_type": "code",
   "execution_count": 17,
   "id": "cec23079",
   "metadata": {},
   "outputs": [
    {
     "name": "stdout",
     "output_type": "stream",
     "text": [
      "A\n",
      "C\n",
      "E\n"
     ]
    }
   ],
   "source": [
    "for elemento in iterador:\n",
    "    print(elemento)"
   ]
  },
  {
   "cell_type": "markdown",
   "id": "6d654230",
   "metadata": {},
   "source": [
    "### takewhile"
   ]
  },
  {
   "cell_type": "markdown",
   "id": "c1b5a312",
   "metadata": {},
   "source": [
    "Este iterador devuelve los elementos de una secuencia hasta que se deja de cumplir la condición dada."
   ]
  },
  {
   "cell_type": "code",
   "execution_count": 18,
   "id": "432b7aad",
   "metadata": {},
   "outputs": [],
   "source": [
    "iterador = itertools.takewhile(lambda x: x<5, [elemento for elemento in range(10)])"
   ]
  },
  {
   "cell_type": "code",
   "execution_count": 19,
   "id": "c9d3f45e",
   "metadata": {
    "scrolled": true
   },
   "outputs": [
    {
     "name": "stdout",
     "output_type": "stream",
     "text": [
      "0\n",
      "1\n",
      "2\n",
      "3\n",
      "4\n"
     ]
    }
   ],
   "source": [
    "for elemento in iterador:\n",
    "    print(elemento)"
   ]
  },
  {
   "cell_type": "markdown",
   "id": "10d87660",
   "metadata": {},
   "source": [
    "### dropwhile"
   ]
  },
  {
   "cell_type": "markdown",
   "id": "cfa6fcd8",
   "metadata": {},
   "source": [
    "Este iterador empieza a devolver los elementos de un iterable a partir del primero que incumple la condición dada."
   ]
  },
  {
   "cell_type": "code",
   "execution_count": 20,
   "id": "776c3d47",
   "metadata": {},
   "outputs": [],
   "source": [
    "iterador = itertools.dropwhile(lambda x: x<5, [elemento for elemento in range(10)])"
   ]
  },
  {
   "cell_type": "code",
   "execution_count": 21,
   "id": "e96cfb10",
   "metadata": {
    "scrolled": true
   },
   "outputs": [
    {
     "name": "stdout",
     "output_type": "stream",
     "text": [
      "5\n",
      "6\n",
      "7\n",
      "8\n",
      "9\n"
     ]
    }
   ],
   "source": [
    "for elemento in iterador:\n",
    "    print(elemento)"
   ]
  },
  {
   "cell_type": "markdown",
   "id": "e02ec75a",
   "metadata": {},
   "source": [
    "### filterfalse"
   ]
  },
  {
   "cell_type": "markdown",
   "id": "c8d9fa01",
   "metadata": {},
   "source": [
    "Este iterador devuelve los elementos de una secuencia que cumplan la condición dada."
   ]
  },
  {
   "cell_type": "code",
   "execution_count": 22,
   "id": "c4b16a8b",
   "metadata": {},
   "outputs": [],
   "source": [
    "iterador = itertools.filterfalse(lambda x: x<5, [elemento for elemento in range(10)])"
   ]
  },
  {
   "cell_type": "code",
   "execution_count": 23,
   "id": "a807d056",
   "metadata": {},
   "outputs": [
    {
     "name": "stdout",
     "output_type": "stream",
     "text": [
      "5\n",
      "6\n",
      "7\n",
      "8\n",
      "9\n"
     ]
    }
   ],
   "source": [
    "for elemento in iterador:\n",
    "    print(elemento)"
   ]
  },
  {
   "cell_type": "markdown",
   "id": "5b4c7a05",
   "metadata": {},
   "source": [
    "### islice"
   ]
  },
  {
   "cell_type": "code",
   "execution_count": 24,
   "id": "eaba9dd3",
   "metadata": {},
   "outputs": [],
   "source": [
    "start = 4\n",
    "stop = 16\n",
    "step = 2"
   ]
  },
  {
   "cell_type": "code",
   "execution_count": 25,
   "id": "ae0e430b",
   "metadata": {},
   "outputs": [],
   "source": [
    "iterador = itertools.islice([elemento for elemento in range(20)], start, stop, step)"
   ]
  },
  {
   "cell_type": "code",
   "execution_count": 26,
   "id": "7401e5be",
   "metadata": {},
   "outputs": [
    {
     "name": "stdout",
     "output_type": "stream",
     "text": [
      "4\n",
      "6\n",
      "8\n",
      "10\n",
      "12\n",
      "14\n"
     ]
    }
   ],
   "source": [
    "for elemento in iterador:\n",
    "    print(elemento)"
   ]
  },
  {
   "cell_type": "markdown",
   "id": "fd93d560",
   "metadata": {},
   "source": [
    "### starmap"
   ]
  },
  {
   "cell_type": "code",
   "execution_count": 27,
   "id": "72953c97",
   "metadata": {},
   "outputs": [],
   "source": [
    "iterador = itertools.starmap(pow, [(2,5), (1, 2), (3,4)])"
   ]
  },
  {
   "cell_type": "code",
   "execution_count": 28,
   "id": "b84b5b6a",
   "metadata": {
    "scrolled": true
   },
   "outputs": [
    {
     "name": "stdout",
     "output_type": "stream",
     "text": [
      "32\n",
      "1\n",
      "81\n"
     ]
    }
   ],
   "source": [
    "for elemento in iterador:\n",
    "    print(elemento)"
   ]
  },
  {
   "cell_type": "markdown",
   "id": "0dec45cf",
   "metadata": {},
   "source": [
    "### tee"
   ]
  },
  {
   "cell_type": "code",
   "execution_count": 29,
   "id": "a7732af4",
   "metadata": {},
   "outputs": [],
   "source": [
    "iterador = iter(list(range(10)))"
   ]
  },
  {
   "cell_type": "code",
   "execution_count": 30,
   "id": "c702a900",
   "metadata": {},
   "outputs": [],
   "source": [
    "lista_de_iteradores = itertools.tee(iterador, 3)"
   ]
  },
  {
   "cell_type": "code",
   "execution_count": 31,
   "id": "2fc2c967",
   "metadata": {
    "scrolled": true
   },
   "outputs": [
    {
     "name": "stdout",
     "output_type": "stream",
     "text": [
      "[0, 1, 2, 3, 4, 5, 6, 7, 8, 9]\n",
      "[0, 1, 2, 3, 4, 5, 6, 7, 8, 9]\n",
      "[0, 1, 2, 3, 4, 5, 6, 7, 8, 9]\n"
     ]
    }
   ],
   "source": [
    "for iterador in lista_de_iteradores:\n",
    "    print(list(iterador))"
   ]
  },
  {
   "cell_type": "markdown",
   "id": "951be2ca",
   "metadata": {},
   "source": [
    "### zip_longest"
   ]
  },
  {
   "cell_type": "code",
   "execution_count": 32,
   "id": "4cdc1ff7",
   "metadata": {},
   "outputs": [],
   "source": [
    "iterador = itertools.zip_longest(\"ABCD\", \"xy\", fillvalue='-')"
   ]
  },
  {
   "cell_type": "code",
   "execution_count": 33,
   "id": "44a1c36b",
   "metadata": {
    "scrolled": true
   },
   "outputs": [
    {
     "name": "stdout",
     "output_type": "stream",
     "text": [
      "('A', 'x')\n",
      "('B', 'y')\n",
      "('C', '-')\n",
      "('D', '-')\n"
     ]
    }
   ],
   "source": [
    "for elemento in iterador:\n",
    "    print(elemento)"
   ]
  },
  {
   "cell_type": "markdown",
   "id": "98e246e1",
   "metadata": {},
   "source": [
    "## Iteradores combinatorios"
   ]
  },
  {
   "cell_type": "markdown",
   "id": "6187d22a",
   "metadata": {},
   "source": [
    "### Producto cartesiano"
   ]
  },
  {
   "cell_type": "code",
   "execution_count": 34,
   "id": "286f6e49",
   "metadata": {},
   "outputs": [],
   "source": [
    "iterador = itertools.product([1, 2, 3], [4, 5, 6])"
   ]
  },
  {
   "cell_type": "code",
   "execution_count": 35,
   "id": "c17cd206",
   "metadata": {
    "scrolled": true
   },
   "outputs": [
    {
     "name": "stdout",
     "output_type": "stream",
     "text": [
      "(1, 4)\n",
      "(1, 5)\n",
      "(1, 6)\n",
      "(2, 4)\n",
      "(2, 5)\n",
      "(2, 6)\n",
      "(3, 4)\n",
      "(3, 5)\n",
      "(3, 6)\n"
     ]
    }
   ],
   "source": [
    "for elemento in iterador:\n",
    "    print(elemento)"
   ]
  },
  {
   "cell_type": "markdown",
   "id": "445a0bc4",
   "metadata": {},
   "source": [
    "### Permutaciones"
   ]
  },
  {
   "cell_type": "code",
   "execution_count": 36,
   "id": "a1e3bfec",
   "metadata": {},
   "outputs": [],
   "source": [
    "iterador = itertools.permutations([1, 2, 3])"
   ]
  },
  {
   "cell_type": "code",
   "execution_count": 37,
   "id": "a1981cac",
   "metadata": {
    "scrolled": true
   },
   "outputs": [
    {
     "name": "stdout",
     "output_type": "stream",
     "text": [
      "(1, 2, 3)\n",
      "(1, 3, 2)\n",
      "(2, 1, 3)\n",
      "(2, 3, 1)\n",
      "(3, 1, 2)\n",
      "(3, 2, 1)\n"
     ]
    }
   ],
   "source": [
    "for elemento in iterador:\n",
    "    print(elemento)"
   ]
  },
  {
   "cell_type": "markdown",
   "id": "6c1dd19c",
   "metadata": {},
   "source": [
    "### Combinaciones sin repetición"
   ]
  },
  {
   "cell_type": "code",
   "execution_count": 38,
   "id": "78b5250f",
   "metadata": {},
   "outputs": [],
   "source": [
    "tamano_tupla = 2"
   ]
  },
  {
   "cell_type": "code",
   "execution_count": 39,
   "id": "b35189de",
   "metadata": {},
   "outputs": [],
   "source": [
    "iterador = itertools.combinations([1, 2, 3], tamano_tupla)"
   ]
  },
  {
   "cell_type": "code",
   "execution_count": 40,
   "id": "0e016df5",
   "metadata": {
    "scrolled": true
   },
   "outputs": [
    {
     "name": "stdout",
     "output_type": "stream",
     "text": [
      "(1, 2)\n",
      "(1, 3)\n",
      "(2, 3)\n"
     ]
    }
   ],
   "source": [
    "for elemento in iterador:\n",
    "    print(elemento)"
   ]
  },
  {
   "cell_type": "markdown",
   "id": "97b1fac0",
   "metadata": {},
   "source": [
    "### Combinaciones con repetición"
   ]
  },
  {
   "cell_type": "code",
   "execution_count": 41,
   "id": "0fa28a1c",
   "metadata": {},
   "outputs": [],
   "source": [
    "tamano_tupla = 2"
   ]
  },
  {
   "cell_type": "code",
   "execution_count": 42,
   "id": "3e69c727",
   "metadata": {},
   "outputs": [],
   "source": [
    "iterador = itertools.combinations_with_replacement([1, 2, 3], tamano_tupla)"
   ]
  },
  {
   "cell_type": "code",
   "execution_count": 43,
   "id": "f8a93ae3",
   "metadata": {
    "scrolled": true
   },
   "outputs": [
    {
     "name": "stdout",
     "output_type": "stream",
     "text": [
      "(1, 1)\n",
      "(1, 2)\n",
      "(1, 3)\n",
      "(2, 2)\n",
      "(2, 3)\n",
      "(3, 3)\n"
     ]
    }
   ],
   "source": [
    "for elemento in iterador:\n",
    "    print(elemento)"
   ]
  }
 ],
 "metadata": {
  "kernelspec": {
   "display_name": "Python 3 (ipykernel)",
   "language": "python",
   "name": "python3"
  },
  "language_info": {
   "codemirror_mode": {
    "name": "ipython",
    "version": 3
   },
   "file_extension": ".py",
   "mimetype": "text/x-python",
   "name": "python",
   "nbconvert_exporter": "python",
   "pygments_lexer": "ipython3",
   "version": "3.9.7"
  }
 },
 "nbformat": 4,
 "nbformat_minor": 5
}
