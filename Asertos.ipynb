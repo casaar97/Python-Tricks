{
 "cells": [
  {
   "cell_type": "markdown",
   "metadata": {},
   "source": [
    "# Asertos"
   ]
  },
  {
   "cell_type": "markdown",
   "metadata": {},
   "source": [
    "En esencia, la sentencia assert de Python es una ayuda para la depuración que comprueba una condición: \n",
    "\n",
    "* Si la condición assert es verdadera, no pasa nada, y su programa continúa ejecutándose normalmente. \n",
    "\n",
    "* Si la condición se evalúa como falsa, se lanza una excepción AssertionError con un mensaje de error opcional."
   ]
  },
  {
   "cell_type": "markdown",
   "metadata": {},
   "source": [
    "He aquí un ejemplo sencillo para que puedas ver dónde pueden ser útiles los asertos. \n",
    "\n",
    "Supongamos que estás construyendo una tienda online con Python. Estás trabajando para añadir una funcionalidad de cupón de descuento al sistema, y eventualmente escribes la siguiente función apply_discount:"
   ]
  },
  {
   "cell_type": "code",
   "execution_count": 1,
   "metadata": {},
   "outputs": [],
   "source": [
    "def aplicarDescuento(producto, descuento):\n",
    "    precio = int(producto['precio'] * (1.0 - descuento)) \n",
    "    assert 0 <= precio <= producto['precio']\n",
    "    return precio"
   ]
  },
  {
   "cell_type": "markdown",
   "metadata": {},
   "source": [
    "La aserción garantizará que, pase lo que pase, los precios descontados calculados por esta función no pueden ser inferiores a 0 ni superiores al precio del producto."
   ]
  },
  {
   "cell_type": "code",
   "execution_count": 2,
   "metadata": {},
   "outputs": [],
   "source": [
    "zapatos = {'nombre': 'zapatos', 'precio': 14900}"
   ]
  },
  {
   "cell_type": "code",
   "execution_count": 3,
   "metadata": {},
   "outputs": [
    {
     "data": {
      "text/plain": [
       "11175"
      ]
     },
     "execution_count": 3,
     "metadata": {},
     "output_type": "execute_result"
    }
   ],
   "source": [
    "aplicarDescuento(zapatos, 0.25)"
   ]
  },
  {
   "cell_type": "code",
   "execution_count": 4,
   "metadata": {},
   "outputs": [
    {
     "ename": "AssertionError",
     "evalue": "",
     "output_type": "error",
     "traceback": [
      "\u001b[0;31m---------------------------------------------------------------------------\u001b[0m",
      "\u001b[0;31mAssertionError\u001b[0m                            Traceback (most recent call last)",
      "\u001b[0;32m<ipython-input-4-7be3d62af265>\u001b[0m in \u001b[0;36m<module>\u001b[0;34m\u001b[0m\n\u001b[0;32m----> 1\u001b[0;31m \u001b[0maplicarDescuento\u001b[0m\u001b[0;34m(\u001b[0m\u001b[0mzapatos\u001b[0m\u001b[0;34m,\u001b[0m \u001b[0;36m2.0\u001b[0m\u001b[0;34m)\u001b[0m\u001b[0;34m\u001b[0m\u001b[0;34m\u001b[0m\u001b[0m\n\u001b[0m",
      "\u001b[0;32m<ipython-input-1-a92bf1ba6824>\u001b[0m in \u001b[0;36maplicarDescuento\u001b[0;34m(producto, descuento)\u001b[0m\n\u001b[1;32m      1\u001b[0m \u001b[0;32mdef\u001b[0m \u001b[0maplicarDescuento\u001b[0m\u001b[0;34m(\u001b[0m\u001b[0mproducto\u001b[0m\u001b[0;34m,\u001b[0m \u001b[0mdescuento\u001b[0m\u001b[0;34m)\u001b[0m\u001b[0;34m:\u001b[0m\u001b[0;34m\u001b[0m\u001b[0;34m\u001b[0m\u001b[0m\n\u001b[1;32m      2\u001b[0m     \u001b[0mprecio\u001b[0m \u001b[0;34m=\u001b[0m \u001b[0mint\u001b[0m\u001b[0;34m(\u001b[0m\u001b[0mproducto\u001b[0m\u001b[0;34m[\u001b[0m\u001b[0;34m'precio'\u001b[0m\u001b[0;34m]\u001b[0m \u001b[0;34m*\u001b[0m \u001b[0;34m(\u001b[0m\u001b[0;36m1.0\u001b[0m \u001b[0;34m-\u001b[0m \u001b[0mdescuento\u001b[0m\u001b[0;34m)\u001b[0m\u001b[0;34m)\u001b[0m\u001b[0;34m\u001b[0m\u001b[0;34m\u001b[0m\u001b[0m\n\u001b[0;32m----> 3\u001b[0;31m     \u001b[0;32massert\u001b[0m \u001b[0;36m0\u001b[0m \u001b[0;34m<=\u001b[0m \u001b[0mprecio\u001b[0m \u001b[0;34m<=\u001b[0m \u001b[0mproducto\u001b[0m\u001b[0;34m[\u001b[0m\u001b[0;34m'precio'\u001b[0m\u001b[0;34m]\u001b[0m\u001b[0;34m\u001b[0m\u001b[0;34m\u001b[0m\u001b[0m\n\u001b[0m\u001b[1;32m      4\u001b[0m     \u001b[0;32mreturn\u001b[0m \u001b[0mprecio\u001b[0m\u001b[0;34m\u001b[0m\u001b[0;34m\u001b[0m\u001b[0m\n",
      "\u001b[0;31mAssertionError\u001b[0m: "
     ]
    }
   ],
   "source": [
    "aplicarDescuento(zapatos, 2.0)"
   ]
  },
  {
   "cell_type": "markdown",
   "metadata": {},
   "source": [
    "**El uso adecuado de los asertos es informar a los desarrolladores sobre errores irrecuperables en un programa.** \n",
    "\n",
    "Los asertos no están pensadas para señalar condiciones de error esperadas, como un error File-Not-Found, donde un usuario puede tomar acciones correctivas o simplemente intentarlo de nuevo.\n",
    "\n",
    "**Los asertos están pensados para ser autocomprobaciones internas de tu programa. Funcionan declarando algunas condiciones como imposibles en tu código. Si una de estas condiciones no se cumple, significa que hay un error en el programa.**\n",
    "\n",
    "Si tu programa está libre de errores, estas condiciones nunca ocurrirán. Pero si ocurren, el programa se bloqueará con un error de aserción que te dirá exactamente qué condición \"imposible\" se activó. Esto hace que sea mucho más fácil rastrear y arreglar los errores en tus programas. \n",
    "\n",
    "**Por ahora, ten en cuenta que la sentencia assert de Python es una ayuda para la depuración, no un mecanismo para manejar errores en tiempo de ejecución.**"
   ]
  },
  {
   "cell_type": "markdown",
   "metadata": {},
   "source": [
    "### No hay que usar asertos para validar los datos"
   ]
  },
  {
   "cell_type": "markdown",
   "metadata": {},
   "source": [
    "La mayor advertencia sobre el uso de asertos en Python es que los asertos se pueden desactivar globalmente con los modificadores de línea de comandos -O y -OO, así como con la variable de entorno PYTHONOPTIMIZE en CPython."
   ]
  },
  {
   "cell_type": "markdown",
   "metadata": {},
   "source": [
    "Esta es una decisión de diseño intencionada que se utiliza de forma similar en muchos otros lenguajes de programación. Como efecto secundario, resulta muy útil utilizar las sentencias assert como una forma rápida y sencilla de validar los datos de entrada."
   ]
  },
  {
   "cell_type": "code",
   "execution_count": 5,
   "metadata": {},
   "outputs": [],
   "source": [
    "def borrarProducto(prod_id, usuario):\n",
    "    assert usuario.is_admin(), 'Debe ser administrador'\n",
    "    assert tienda.tieneProducto(prod_id), 'Producto Desconocido' \n",
    "    tienda.getProducto(prod_id).delete()"
   ]
  },
  {
   "cell_type": "markdown",
   "metadata": {},
   "source": [
    "**Comprobar los privilegios de administrador con un aserto es peligroso.** \n",
    "\n",
    "Si los asertos están deshabilitados en el intérprete de Python, esto se convierte en una operación nula. Por lo tanto, cualquier usuario puede ahora eliminar productos. La comprobación de privilegios ni siquiera se ejecuta. Esto probablemente introduce un problema de seguridad y abre la puerta a que los atacantes destruyan o dañen gravemente los datos de nuestra tienda online. No es bueno."
   ]
  },
  {
   "cell_type": "markdown",
   "metadata": {},
   "source": [
    "**La comprobación de tieneProducto() se salta cuando los asertos están deshabilitados.**\n",
    "\n",
    "Esto significa que tieneProducto() puede ser llamado con IDs de productos inválidos, lo que podría llevar a errores más severos, dependiendo de cómo esté escrito nuestro programa. \n",
    "\n",
    "En el peor de los casos, esto podría ser una vía para que alguien lance ataques de denegación de servicio contra nuestra tienda. Por ejemplo, si la aplicación de la tienda se bloquea si alguien intenta eliminar un producto desconocido, un atacante podría bombardearla con solicitudes de eliminación no válidas y provocar una interrupción."
   ]
  },
  {
   "cell_type": "markdown",
   "metadata": {},
   "source": [
    "¿Cómo podemos evitar estos problemas? La respuesta es no utilizar nunca asertos para hacer la validación de datos. En su lugar, podríamos hacer nuestra validación con sentencias if regulares y lanzar excepciones de validación si es necesario, así:"
   ]
  },
  {
   "cell_type": "code",
   "execution_count": 6,
   "metadata": {},
   "outputs": [],
   "source": [
    "def borrarProducto(product_id, usuario): \n",
    "    if not usuario.is_admin():\n",
    "        raise AuthError('Debe ser administrador para eliminar un producto') \n",
    "    if not tienda.has_product(product_id):\n",
    "        raise ValueError('Id del producto desconocida') \n",
    "    store.getProducto(product_id).delete()"
   ]
  },
  {
   "cell_type": "markdown",
   "metadata": {},
   "source": [
    "### Asertos que nunca fallan"
   ]
  },
  {
   "cell_type": "markdown",
   "metadata": {},
   "source": [
    "Es sorprendentemente fácil escribir accidentalmente sentencias assert de Python que siempre se evalúan como verdaderas.\n",
    "\n",
    "Este es el problema, en pocas palabras:\n",
    "    \n",
    "**Cuando pasas una tupla como primer argumento en una sentencia assert, la aserción siempre se evalúa como verdadera y por lo tanto nunca falla.**"
   ]
  },
  {
   "cell_type": "code",
   "execution_count": 7,
   "metadata": {},
   "outputs": [
    {
     "name": "stderr",
     "output_type": "stream",
     "text": [
      "<>:1: SyntaxWarning: assertion is always true, perhaps remove parentheses?\n",
      "<>:1: SyntaxWarning: assertion is always true, perhaps remove parentheses?\n",
      "<ipython-input-7-e707a81cdd24>:1: SyntaxWarning: assertion is always true, perhaps remove parentheses?\n",
      "  assert(1 == 2, 'Esto debería fallar')\n"
     ]
    }
   ],
   "source": [
    "assert(1 == 2, 'Esto debería fallar')"
   ]
  },
  {
   "cell_type": "markdown",
   "metadata": {},
   "source": [
    "Esto tiene que ver con que las tuplas no vacías siempre son verdaderas en Python. \n",
    "\n",
    "**Si pasas una tupla a una sentencia assert, la condición assert siempre es verdadera, lo que a su vez hace que la sentencia assert sea inútil porque nunca puede fallar y provocar una excepción.**\n",
    "\n",
    "Es relativamente fácil escribir accidentalmente asertos de varias líneas debido a este comportamiento poco intuitivo. \n",
    "\n",
    "Imagina que tienes esta afirmación en una de tus pruebas unitarias:"
   ]
  },
  {
   "cell_type": "code",
   "execution_count": 8,
   "metadata": {},
   "outputs": [
    {
     "name": "stderr",
     "output_type": "stream",
     "text": [
      "<>:3: SyntaxWarning: assertion is always true, perhaps remove parentheses?\n",
      "<>:3: SyntaxWarning: assertion is always true, perhaps remove parentheses?\n",
      "<ipython-input-8-2d6914216657>:3: SyntaxWarning: assertion is always true, perhaps remove parentheses?\n",
      "  assert(contador == 10, 'Debería haber contado todos los elementos')\n"
     ]
    }
   ],
   "source": [
    "contador = 10\n",
    "\n",
    "assert(contador == 10, 'Debería haber contado todos los elementos')"
   ]
  },
  {
   "cell_type": "markdown",
   "metadata": {},
   "source": [
    "A primera vista, este caso de prueba parece completamente correcto. \n",
    "\n",
    "Sin embargo, nunca detectaría un resultado incorrecto: \n",
    "\n",
    "**La afirmación siempre se evalúa como True, independientemente del estado de la variable del contador.**\n",
    "\n",
    "¿Y por qué? \n",
    "\n",
    "**Porque afirma el valor de verdad de un objeto tupla.**"
   ]
  },
  {
   "cell_type": "markdown",
   "metadata": {},
   "source": [
    "## Claves"
   ]
  },
  {
   "cell_type": "markdown",
   "metadata": {},
   "source": [
    "* La sentencia assert de Python es una ayuda para la depuración que comprueba una condición como una autocomprobación interna en su programa.\n",
    "* Los asertos sólo deben usarse para ayudar a los desarrolladores a identificar errores. No son un mecanismo para manejar errores en tiempo de ejecución.\n",
    "* Los asertos pueden ser globalmente desactivadas con una configuración del intérprete."
   ]
  }
 ],
 "metadata": {
  "kernelspec": {
   "display_name": "Python 3 (ipykernel)",
   "language": "python",
   "name": "python3"
  },
  "language_info": {
   "codemirror_mode": {
    "name": "ipython",
    "version": 3
   },
   "file_extension": ".py",
   "mimetype": "text/x-python",
   "name": "python",
   "nbconvert_exporter": "python",
   "pygments_lexer": "ipython3",
   "version": "3.9.7"
  }
 },
 "nbformat": 4,
 "nbformat_minor": 4
}
