{
 "cells": [
  {
   "cell_type": "markdown",
   "metadata": {},
   "source": [
    "# El poder de los decoradores"
   ]
  },
  {
   "cell_type": "markdown",
   "metadata": {},
   "source": [
    "En esencia, los decoradores de Python permiten extender y modificar el comportamiento de una llamada (funciones, métodos y clases) sin necesidad de modificar la propia llamada."
   ]
  },
  {
   "cell_type": "markdown",
   "metadata": {},
   "source": [
    "Cualquier funcionalidad suficientemente genérica que se pueda añadir al comportamiento de una clase o función existente es un gran caso de uso para la decoración. \n",
    "\n",
    "Esto incluye lo siguiente:\n",
    "\n",
    "* Registro de datos\n",
    "* Aplicación de la autenticación de control de acceso \n",
    "* Instrumentación y limitación de las funciones\n",
    "* Limitación de la velocidad\n",
    "* Almacenamiento en caché, y más\n"
   ]
  },
  {
   "cell_type": "markdown",
   "metadata": {},
   "source": [
    "¿Por qué deberías dominar el uso de los decoradores en Python? Después de todo, lo que acabo de mencionar suena bastante abstracto, y puede ser difícil ver cómo los decoradores pueden beneficiarte en tu trabajo diario como desarrollador de Python."
   ]
  },
  {
   "cell_type": "markdown",
   "metadata": {},
   "source": [
    "Los puntos más importantes de las \"funciones de primera clase\" para entender los decoradores son:\n",
    "\n",
    "* Las funciones son objetos: Pueden asignarse a variables y pasarse a/ser devueltas por funciones.\n",
    "\n",
    "* Las funciones pueden ser definidas dentro de otras funciones: Una función hijo puede capturar el estado local de su función padre (cierres léxicos)."
   ]
  },
  {
   "cell_type": "markdown",
   "metadata": {},
   "source": [
    "## Conceptos básicos de los decoradores"
   ]
  },
  {
   "cell_type": "markdown",
   "metadata": {},
   "source": [
    "Ahora bien, ¿qué son realmente los decoradores? \n",
    "\n",
    "**Los decoradores \"decoran\" o \"envuelven\" otra función y permiten ejecutar código antes y después de que se ejecute la función envuelta.\n",
    "\n",
    "Los decoradores permiten definir bloques de construcción reutilizables que pueden cambiar o ampliar el comportamiento de otras funciones. Además, te permiten hacerlo sin modificar permanentemente la propia función envuelta. El comportamiento de la función sólo cambia cuando es decorada."
   ]
  },
  {
   "cell_type": "markdown",
   "metadata": {},
   "source": [
    "¿Cómo podría ser la implementación de un decorador simple? \n",
    "\n",
    "En términos básicos, un decorador es un objeto invocable que toma un objeto invocable como entrada y devuelve otro objeto invocable."
   ]
  },
  {
   "cell_type": "markdown",
   "metadata": {},
   "source": [
    "La siguiente función tiene esa propiedad y podría considerarse el decorador más sencillo que podrías escribir:"
   ]
  },
  {
   "cell_type": "code",
   "execution_count": 1,
   "metadata": {},
   "outputs": [],
   "source": [
    "def decoradorNulo(funcion): \n",
    "    return funcion"
   ]
  },
  {
   "cell_type": "markdown",
   "metadata": {},
   "source": [
    "Como puedes ver, decoradorNulo es un objeto invocable (callable, es una función), toma otro objeto invocable como entrada, y devuelve el mismo objeto invocable de entrada sin modificarlo."
   ]
  },
  {
   "cell_type": "code",
   "execution_count": 2,
   "metadata": {},
   "outputs": [],
   "source": [
    "def saludar():\n",
    "    return 'Hola!'\n",
    "\n",
    "saludar = decoradorNulo(saludar)"
   ]
  },
  {
   "cell_type": "code",
   "execution_count": 3,
   "metadata": {},
   "outputs": [],
   "source": [
    "saludar()"
   ]
  },
  {
   "cell_type": "markdown",
   "metadata": {},
   "source": [
    "En lugar de llamar explícitamente a decoradorNulo en saludar y luego reasignar la variable saludar, puedes usar la sintaxis @ de Python para decorar una función de forma más conveniente:"
   ]
  },
  {
   "cell_type": "code",
   "execution_count": 4,
   "metadata": {},
   "outputs": [],
   "source": [
    "@decoradorNulo\n",
    "\n",
    "def saludar():\n",
    "    return 'Hola!'"
   ]
  },
  {
   "cell_type": "code",
   "execution_count": 5,
   "metadata": {},
   "outputs": [],
   "source": [
    "saludar()"
   ]
  },
  {
   "cell_type": "markdown",
   "metadata": {},
   "source": [
    "Poner una línea @decoradorNulo delante de la definición de la función es lo mismo que definir primero la función y luego pasar por el decorador. \n",
    "\n",
    "El uso de la sintaxis @ es sólo azúcar sintáctico y un atajo para este patrón comúnmente utilizado."
   ]
  },
  {
   "cell_type": "markdown",
   "metadata": {},
   "source": [
    "Tenga en cuenta que el uso de la sintaxis @ decora la función inmediatamente en el momento de la definición. \n",
    "\n",
    "Esto dificulta el acceso a la función original no decorada sin necesidad de realizar modificaciones sencillas. Por lo tanto, puedes elegir decorar algunas funciones manualmente para mantener la capacidad de llamar a la función no decorada también."
   ]
  },
  {
   "cell_type": "markdown",
   "metadata": {},
   "source": [
    "## Los decoradores pueden modificar el comportamiento"
   ]
  },
  {
   "cell_type": "markdown",
   "metadata": {},
   "source": [
    "Ahora que estás un poco más familiarizado con la sintaxis del decorador, vamos a escribir otro decorador que realmente haga algo y modifique el comportamiento de la función decorada.\n",
    "\n",
    "Aquí hay un decorador un poco más complejo que convierte el resultado de la función decorada en letras mayúsculas:"
   ]
  },
  {
   "cell_type": "code",
   "execution_count": 6,
   "metadata": {},
   "outputs": [],
   "source": [
    "def mayusculas(funcion): \n",
    "    \n",
    "    def envoltorio():\n",
    "        \n",
    "        return funcion().upper()\n",
    "    \n",
    "    return envoltorio"
   ]
  },
  {
   "cell_type": "markdown",
   "metadata": {},
   "source": [
    "En lugar de devolver simplemente la función de entrada como hacía el decoradorNulo, este decorador de mayúsculas define una nueva función sobre la marcha (un cierre léxico) y la utiliza para envolver la función de entrada con el fin de modificar su comportamiento en el momento de la llamada.\n",
    "\n",
    "El cierre envolvente tiene acceso a la función de entrada no decorada y es libre de ejecutar código adicional antes y después de llamar a la función de entrada. (Técnicamente, ni siquiera necesita llamar a la función de entrada).\n",
    "\n",
    "Nótese que, hasta ahora, la función decorada nunca ha sido ejecutada. Llamar a la función de entrada en este momento no tendría ningún sentido: Querrás que el decorador sea capaz de modificar el comportamiento de su función de entrada cuando finalmente sea llamada.\n",
    "\n"
   ]
  },
  {
   "cell_type": "code",
   "execution_count": 7,
   "metadata": {},
   "outputs": [],
   "source": [
    "@mayusculas\n",
    "def saludar():\n",
    "    return \"Hola!\""
   ]
  },
  {
   "cell_type": "code",
   "execution_count": 8,
   "metadata": {},
   "outputs": [
    {
     "data": {
      "text/plain": [
       "'HOLA!'"
      ]
     },
     "execution_count": 8,
     "metadata": {},
     "output_type": "execute_result"
    }
   ],
   "source": [
    "saludar()"
   ]
  },
  {
   "cell_type": "markdown",
   "metadata": {},
   "source": [
    "Al estar definido el decorador de esta forma, nunca se realiza la llamada a la función en su interior, ya que este devolverá un objeto en el cual está contenido la llamada a la función en vez de ejecutar la llamada él mismo."
   ]
  },
  {
   "cell_type": "code",
   "execution_count": 9,
   "metadata": {},
   "outputs": [
    {
     "data": {
      "text/plain": [
       "<function __main__.mayusculas.<locals>.envoltorio()>"
      ]
     },
     "execution_count": 9,
     "metadata": {},
     "output_type": "execute_result"
    }
   ],
   "source": [
    "mayusculas(saludar)"
   ]
  },
  {
   "cell_type": "markdown",
   "metadata": {},
   "source": [
    "El decorador de mayúsculas es una función en sí misma. Y la única manera de influir en el \"comportamiento futuro\" de una función de entrada que decora es reemplazar (o envolver) la función de entrada con un cierre."
   ]
  },
  {
   "cell_type": "markdown",
   "metadata": {},
   "source": [
    "Por eso mayusculas define y devuelve otra función (el cierre) que puede ser llamada en un momento posterior, ejecutar la función de entrada original y modificar su resultado.\n",
    "\n",
    "Los decoradores modifican el comportamiento de una llamada a través de una capa envolvente (wrapper) para no tener que modificar permanentemente la original. La llamada original no se modifica permanentemente, su comportamiento sólo cambia cuando se decora."
   ]
  },
  {
   "cell_type": "markdown",
   "metadata": {},
   "source": [
    "## Aplicar multiples decoradores a una función"
   ]
  },
  {
   "cell_type": "markdown",
   "metadata": {},
   "source": [
    "Tal vez no sea sorprendente que puedas aplicar más de un decorador a una función. Esto acumula sus efectos y es lo que hace que los decoradores sean tan útiles como bloques de construcción reutilizables.\n",
    "\n",
    "He aquí un ejemplo. Los siguientes dos decoradores envuelven la cadena de salida de la función decorada en etiquetas HTML. \n",
    "\n",
    "Observando cómo se anidan las etiquetas, puedes ver qué orden utiliza Python para aplicar múltiples decoradores:"
   ]
  },
  {
   "cell_type": "code",
   "execution_count": 10,
   "metadata": {},
   "outputs": [],
   "source": [
    "def strong(func): \n",
    "    def wrapper():\n",
    "        return '<strong>' + func() + '</strong>' \n",
    "    return wrapper\n",
    "\n",
    "def emphasis(func): \n",
    "    def wrapper():\n",
    "        return '<em>' + func() + '</em>' \n",
    "    return wrapper"
   ]
  },
  {
   "cell_type": "markdown",
   "metadata": {},
   "source": [
    "Ahora tomemos estos dos decoradores y apliquémoslos a nuestra función greet al mismo tiempo. Puedes usar la sintaxis @ normal para eso y simplemente \"apilar\" múltiples decoradores encima de una sola función:"
   ]
  },
  {
   "cell_type": "code",
   "execution_count": 11,
   "metadata": {},
   "outputs": [],
   "source": [
    "@strong\n",
    "@emphasis\n",
    "def saludar():\n",
    "    return \"Hola!\""
   ]
  },
  {
   "cell_type": "code",
   "execution_count": 12,
   "metadata": {},
   "outputs": [
    {
     "data": {
      "text/plain": [
       "'<strong><em>Hola!</em></strong>'"
      ]
     },
     "execution_count": 12,
     "metadata": {},
     "output_type": "execute_result"
    }
   ],
   "source": [
    "saludar()"
   ]
  },
  {
   "cell_type": "markdown",
   "metadata": {},
   "source": [
    "Esto muestra claramente en qué orden se aplicaron los decoradores: de abajo a arriba. Primero, la función de entrada fue envuelta por el decorador @emphasis, y luego la función resultante (decorada) fue envuelta de nuevo por el decorador @strong."
   ]
  },
  {
   "cell_type": "code",
   "execution_count": 13,
   "metadata": {},
   "outputs": [],
   "source": [
    "saludoDecorado = strong(emphasis(saludar))"
   ]
  },
  {
   "cell_type": "code",
   "execution_count": 14,
   "metadata": {},
   "outputs": [
    {
     "data": {
      "text/plain": [
       "<function __main__.strong.<locals>.wrapper()>"
      ]
     },
     "execution_count": 14,
     "metadata": {},
     "output_type": "execute_result"
    }
   ],
   "source": [
    "saludoDecorado"
   ]
  },
  {
   "cell_type": "markdown",
   "metadata": {},
   "source": [
    "De nuevo, puedes ver que el decorador de énfasis se aplica primero y luego la función resultante envuelta es envuelta de nuevo por el decorador fuerte.\n",
    "\n",
    "Esto también significa que los niveles profundos de apilamiento de decoradores tendrán incluso un efecto en el rendimiento porque siguen añadiendo llamadas a funciones anidadas. En la práctica, esto no suele ser un problema, pero es algo que hay que tener en cuenta si se trabaja con código de rendimiento intensivo que utiliza frecuentemente la decoración."
   ]
  },
  {
   "cell_type": "markdown",
   "metadata": {},
   "source": [
    "## Decorando funciones que aceptan argumentos"
   ]
  },
  {
   "cell_type": "markdown",
   "metadata": {},
   "source": [
    "Todos los ejemplos hasta ahora sólo decoraban una simple función de saludo nula que no tomaba ningún argumento. Hasta ahora, los deco- radores que has visto aquí no tenían que lidiar con el envío de argumentos a la función de entrada.\n",
    "\n",
    "Si intentas aplicar uno de estos decoradores a una función que toma argumentos, no funcionará correctamente. ¿Cómo decorar una función que toma argumentos arbitrarios?\n",
    "\n",
    "Aquí es donde la función \\*args y \\**kwargs de Python3 para tratar con números variables de argumentos es muy útil. \n",
    "\n",
    "El siguiente decorador proxy se aprovecha de ello:"
   ]
  },
  {
   "cell_type": "code",
   "execution_count": 15,
   "metadata": {},
   "outputs": [],
   "source": [
    "def proxy(func):\n",
    "    \n",
    "    def wrapper(*args, **kwargs):\n",
    "        return func(*args, **kwargs) \n",
    "    \n",
    "    return wrapper"
   ]
  },
  {
   "cell_type": "markdown",
   "metadata": {},
   "source": [
    "Hay dos cosas notables en este decorador:\n",
    "\n",
    "* Utiliza los operadores * y** en la definición del envoltorio para recoger todos los argumentos posicionales y de palabra clave y los almacena en variables (args y kwargs).\n",
    "\n",
    "* El envoltorio devuelve los argumentos recogidos a la función de entrada original utilizando los operadores * y ** de \"desempacado de argumentos\"."
   ]
  },
  {
   "cell_type": "markdown",
   "metadata": {},
   "source": [
    "Es un poco desafortunado que el significado de los operadores estrella y doble estrella esté sobrecargado y cambie dependiendo del contexto en el que se usen, pero espero que se entienda la idea."
   ]
  },
  {
   "cell_type": "markdown",
   "metadata": {},
   "source": [
    "Ampliemos la técnica expuesta por el decorador proxy a un ejemplo práctico más útil. Aquí tenemos un decorador de rastreo que registra los argumentos de la función y los resultados durante el tiempo de ejecución:"
   ]
  },
  {
   "cell_type": "code",
   "execution_count": 16,
   "metadata": {},
   "outputs": [],
   "source": [
    "def trace(func):\n",
    "    \n",
    "    def wrapper(*args, **kwargs):\n",
    "        print(f'TRACE: calling {func.__name__}() ' \n",
    "            f'with {args}, {kwargs}')\n",
    "        \n",
    "        original_result = func(*args, **kwargs) \n",
    "        \n",
    "        print(f'TRACE: {func.__name__}() '\n",
    "              f'returned {original_result!r}')\n",
    "        \n",
    "        return original_result \n",
    "    \n",
    "    return wrapper"
   ]
  },
  {
   "cell_type": "markdown",
   "metadata": {},
   "source": [
    "Al decorar una función con trace y luego llamarla, se imprimirán los argumentos pasados a la función decorada y su valor de retorno. Esto sigue siendo un ejemplo \"de juguete\", pero en un apuro es una gran ayuda para la depuración:"
   ]
  },
  {
   "cell_type": "code",
   "execution_count": 17,
   "metadata": {},
   "outputs": [],
   "source": [
    "@trace\n",
    "def decir(nombre, linea):\n",
    "    return f'{nombre}: {linea}'"
   ]
  },
  {
   "cell_type": "code",
   "execution_count": 18,
   "metadata": {},
   "outputs": [
    {
     "name": "stdout",
     "output_type": "stream",
     "text": [
      "TRACE: calling decir() with ('Carlos', 'Hola mundo'), {}\n",
      "TRACE: decir() returned 'Carlos: Hola mundo'\n"
     ]
    },
    {
     "data": {
      "text/plain": [
       "'Carlos: Hola mundo'"
      ]
     },
     "execution_count": 18,
     "metadata": {},
     "output_type": "execute_result"
    }
   ],
   "source": [
    "decir(\"Carlos\", \"Hola mundo\")"
   ]
  },
  {
   "cell_type": "markdown",
   "metadata": {},
   "source": [
    "## Como escribir decoradores depurables "
   ]
  },
  {
   "cell_type": "markdown",
   "metadata": {},
   "source": [
    "Cuando se utiliza un decorador, en realidad lo que se hace es sustituir una función por otra. Una de las desventajas de este proceso es que \"oculta\" algunos de los metadatos adjuntos a la función original (no decorada).\n",
    "\n",
    "Por ejemplo, el nombre de la función original, su docstring y la lista de parámetros quedan ocultos por el cierre de la envoltura:"
   ]
  },
  {
   "cell_type": "code",
   "execution_count": 19,
   "metadata": {},
   "outputs": [],
   "source": [
    "def saludar():\n",
    "    \"\"\"Devuelve un saludo\"\"\"\n",
    "    return \"Hola!\""
   ]
  },
  {
   "cell_type": "code",
   "execution_count": 20,
   "metadata": {},
   "outputs": [],
   "source": [
    "saludoDecorado = mayusculas(saludar)"
   ]
  },
  {
   "cell_type": "markdown",
   "metadata": {},
   "source": [
    "Si intentas acceder a los metadatos, ves que apareceran los metadatos del envoltorio (wrapper) en vez de los de la función saludar, ya que es lo que se devuelve."
   ]
  },
  {
   "cell_type": "code",
   "execution_count": 21,
   "metadata": {},
   "outputs": [
    {
     "data": {
      "text/plain": [
       "'saludar'"
      ]
     },
     "execution_count": 21,
     "metadata": {},
     "output_type": "execute_result"
    }
   ],
   "source": [
    "saludar.__name__"
   ]
  },
  {
   "cell_type": "code",
   "execution_count": 22,
   "metadata": {},
   "outputs": [
    {
     "data": {
      "text/plain": [
       "'Devuelve un saludo'"
      ]
     },
     "execution_count": 22,
     "metadata": {},
     "output_type": "execute_result"
    }
   ],
   "source": [
    "saludar.__doc__"
   ]
  },
  {
   "cell_type": "code",
   "execution_count": 23,
   "metadata": {},
   "outputs": [
    {
     "data": {
      "text/plain": [
       "'envoltorio'"
      ]
     },
     "execution_count": 23,
     "metadata": {},
     "output_type": "execute_result"
    }
   ],
   "source": [
    "saludoDecorado.__name__"
   ]
  },
  {
   "cell_type": "code",
   "execution_count": 24,
   "metadata": {},
   "outputs": [],
   "source": [
    "saludoDecorado.__doc__"
   ]
  },
  {
   "cell_type": "markdown",
   "metadata": {},
   "source": [
    "Esto hace que la depuración y el trabajo con el intérprete de Python sean incómodos y desafiantes. \n",
    "\n",
    "Afortunadamente hay una solución rápida para esto: **el decorador functools.wraps incluido en la biblioteca estándar de Python.**\n",
    "\n",
    "Puedes utilizar functools.wraps en tus propios decoradores para copiar los metadatos perdidos de la función no decorada al cierre del decorador. \n",
    "\n",
    "He aquí un ejemplo:"
   ]
  },
  {
   "cell_type": "code",
   "execution_count": 25,
   "metadata": {},
   "outputs": [],
   "source": [
    "import functools\n",
    "\n",
    "def uppercase(func): \n",
    "    \n",
    "    @functools.wraps(func) \n",
    "    def wrapper():\n",
    "        return func().upper() \n",
    "    \n",
    "    return wrapper"
   ]
  },
  {
   "cell_type": "markdown",
   "metadata": {},
   "source": [
    "La aplicación de functools.wraps al cierre envolvente devuelto por el decorador transporta el docstring y otros metadatos de la función de entrada:"
   ]
  },
  {
   "cell_type": "code",
   "execution_count": 26,
   "metadata": {},
   "outputs": [],
   "source": [
    "@uppercase\n",
    "def saludar():\n",
    "    \"\"\"Devuelve un saludo\"\"\"\n",
    "    return \"Hola!\""
   ]
  },
  {
   "cell_type": "code",
   "execution_count": 27,
   "metadata": {},
   "outputs": [
    {
     "data": {
      "text/plain": [
       "'saludar'"
      ]
     },
     "execution_count": 27,
     "metadata": {},
     "output_type": "execute_result"
    }
   ],
   "source": [
    "saludar.__name__"
   ]
  },
  {
   "cell_type": "code",
   "execution_count": 28,
   "metadata": {},
   "outputs": [
    {
     "data": {
      "text/plain": [
       "'Devuelve un saludo'"
      ]
     },
     "execution_count": 28,
     "metadata": {},
     "output_type": "execute_result"
    }
   ],
   "source": [
    "saludar.__doc__"
   ]
  },
  {
   "cell_type": "markdown",
   "metadata": {},
   "source": [
    "### Consejo"
   ]
  },
  {
   "cell_type": "markdown",
   "metadata": {},
   "source": [
    "Como mejor práctica, te recomiendo que utilices functools.wraps en todos los decoradores que escribas tú mismo. No lleva mucho tiempo y te ahorrará (y a otros) dolores de cabeza de depuración en el futuro."
   ]
  },
  {
   "cell_type": "markdown",
   "metadata": {},
   "source": [
    "## Claves"
   ]
  },
  {
   "cell_type": "markdown",
   "metadata": {},
   "source": [
    "* Los decoradores definen bloques de construcción reutilizables que puedes aplicar a una llamada para modificar su comportamiento sin modificar permanentemente la propia llamada.\n",
    "\n",
    "* La sintaxis @ es sólo una abreviatura para llamar al decorador en una función de entrada. Los decoradores múltiples en una sola función se aplican de abajo hacia arriba (apilamiento de decoradores).\n",
    "\n",
    "* Como mejor práctica de depuración, utiliza el ayudante de functools.wraps en sus propios decoradores para transferir los metadatos de la función no decorada a la decorada.\n",
    "\n",
    "* Al igual que cualquier otra herramienta en la caja de herramientas de desarrollo de software, los decoradores no son una cura para todo y no deben ser utilizados en exceso. Es importante equilibrar la necesidad de \"hacer cosas\" con el objetivo de \"no enredarse en un lío horrible e imposible de mantener de una base de código\"."
   ]
  },
  {
   "cell_type": "code",
   "execution_count": null,
   "metadata": {},
   "outputs": [],
   "source": []
  }
 ],
 "metadata": {
  "kernelspec": {
   "display_name": "Python 3",
   "language": "python",
   "name": "python3"
  },
  "language_info": {
   "codemirror_mode": {
    "name": "ipython",
    "version": 3
   },
   "file_extension": ".py",
   "mimetype": "text/x-python",
   "name": "python",
   "nbconvert_exporter": "python",
   "pygments_lexer": "ipython3",
   "version": "3.8.5"
  }
 },
 "nbformat": 4,
 "nbformat_minor": 4
}
