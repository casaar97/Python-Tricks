{
 "cells": [
  {
   "cell_type": "markdown",
   "id": "a7dab3e8",
   "metadata": {},
   "source": [
    "# Contextos (Scope)"
   ]
  },
  {
   "cell_type": "markdown",
   "id": "b3f2ee5c",
   "metadata": {},
   "source": [
    "Información adicional: https://realpython.com/python-scope-legb-rule/#builtins-the-built-in-scope"
   ]
  },
  {
   "cell_type": "markdown",
   "id": "2f40ba30",
   "metadata": {},
   "source": [
    "## Contexto Local (Local scope)"
   ]
  },
  {
   "cell_type": "markdown",
   "id": "b16d311f",
   "metadata": {},
   "source": [
    "Es el contexto dentro de una función:"
   ]
  },
  {
   "cell_type": "code",
   "execution_count": 1,
   "id": "26d44a54",
   "metadata": {},
   "outputs": [],
   "source": [
    "def sumar(a, b):\n",
    "    return a+b"
   ]
  },
  {
   "cell_type": "code",
   "execution_count": 2,
   "id": "0c1b07af",
   "metadata": {},
   "outputs": [
    {
     "data": {
      "text/plain": [
       "3"
      ]
     },
     "execution_count": 2,
     "metadata": {},
     "output_type": "execute_result"
    }
   ],
   "source": [
    "sumar(1, 2)"
   ]
  },
  {
   "cell_type": "markdown",
   "id": "e031dfea",
   "metadata": {},
   "source": [
    "El valor de a y b solo se conoce dentro de la función sumar y no fuera de esta función."
   ]
  },
  {
   "cell_type": "markdown",
   "id": "3a06def0",
   "metadata": {},
   "source": [
    "## Contexto encerrado (Enclosing scope)"
   ]
  },
  {
   "cell_type": "code",
   "execution_count": 3,
   "id": "3251838d",
   "metadata": {},
   "outputs": [],
   "source": [
    "def toplevel():\n",
    "    a = 5\n",
    "    print('Valor de a en la función toplevel: ', a)\n",
    "    \n",
    "    def nested():\n",
    "        print('Valor de a dentro de la función nested: ', a)\n",
    "        print('Valor de a dentro de la función nested + 2: ', a + 2)\n",
    "        \n",
    "    nested()\n",
    "    print('Valor de a en la función toplevel: ', a)"
   ]
  },
  {
   "cell_type": "code",
   "execution_count": 4,
   "id": "df96e71e",
   "metadata": {},
   "outputs": [
    {
     "name": "stdout",
     "output_type": "stream",
     "text": [
      "Valor de a en la función toplevel:  5\n",
      "Valor de a dentro de la función nested:  5\n",
      "Valor de a dentro de la función nested + 2:  7\n",
      "Valor de a en la función toplevel:  5\n"
     ]
    }
   ],
   "source": [
    "toplevel()"
   ]
  },
  {
   "cell_type": "markdown",
   "id": "fdc2d719",
   "metadata": {},
   "source": [
    "En este caso el valor de a podrá ser **visto y accedido pero no modificado** desde el interior de la función nested."
   ]
  },
  {
   "cell_type": "markdown",
   "id": "5a5840ef",
   "metadata": {},
   "source": [
    "Hay que tener en cuenta que **este valor no puede ser modificado desde dentro**, y que una vez que escape al contexto local de la función ***nested***, volverá a tener el valor del conexto local de la función ***toplevel***:"
   ]
  },
  {
   "cell_type": "code",
   "execution_count": 5,
   "id": "747da493",
   "metadata": {},
   "outputs": [],
   "source": [
    "def toplevel():\n",
    "    a = 5\n",
    "    print('Valor de a en la función toplevel: ', a)\n",
    "    \n",
    "    def nested():\n",
    "        a = 2\n",
    "        print('Valor de a dentro de la función nested: ', a)\n",
    "        print('Valor de a dentro de la función nested + 2: ', a + 2)\n",
    "        \n",
    "    nested()\n",
    "    print('Valor de a en la función toplevel: ', a)"
   ]
  },
  {
   "cell_type": "code",
   "execution_count": 6,
   "id": "7f1d2bf2",
   "metadata": {},
   "outputs": [
    {
     "name": "stdout",
     "output_type": "stream",
     "text": [
      "Valor de a en la función toplevel:  5\n",
      "Valor de a dentro de la función nested:  2\n",
      "Valor de a dentro de la función nested + 2:  4\n",
      "Valor de a en la función toplevel:  5\n"
     ]
    }
   ],
   "source": [
    "toplevel()"
   ]
  },
  {
   "cell_type": "markdown",
   "id": "c62d4827",
   "metadata": {},
   "source": [
    "Si intentas modificarlo, lanzará una excepción:"
   ]
  },
  {
   "cell_type": "code",
   "execution_count": 7,
   "id": "a1daf9d4",
   "metadata": {},
   "outputs": [],
   "source": [
    "def toplevel():\n",
    "    a = 5\n",
    "    print('Valor de a en la función toplevel: ', a)\n",
    "    \n",
    "    def nested():\n",
    "        a += 2\n",
    "        print('Valor de a dentro de la función nested: ', a)\n",
    "        print('Valor de a dentro de la función nested + 2: ', a + 2)\n",
    "        \n",
    "    nested()\n",
    "    print('Valor de a en la función toplevel: ', a)"
   ]
  },
  {
   "cell_type": "code",
   "execution_count": 8,
   "id": "13381cb5",
   "metadata": {},
   "outputs": [
    {
     "name": "stdout",
     "output_type": "stream",
     "text": [
      "Valor de a en la función toplevel:  5\n",
      "Error:  local variable 'a' referenced before assignment\n"
     ]
    }
   ],
   "source": [
    "try:\n",
    "    toplevel()\n",
    "except UnboundLocalError as error:\n",
    "    print(\"Error: \", error)"
   ]
  },
  {
   "cell_type": "markdown",
   "id": "79b9590f",
   "metadata": {},
   "source": [
    "Para evitar esto se utiliza la palabra clave ***nonlocal***:"
   ]
  },
  {
   "cell_type": "code",
   "execution_count": 9,
   "id": "c1634c70",
   "metadata": {},
   "outputs": [],
   "source": [
    "def toplevel():\n",
    "    a = 5\n",
    "    \n",
    "    def nested():\n",
    "        nonlocal a\n",
    "        a += 2\n",
    "        print('Valor de a dentro de la función nested: ', a)\n",
    "        print('Valor de a dentro de la función nested + 2: ', a + 2)\n",
    "        \n",
    "    nested()\n",
    "    print('Valor de a en la función toplevel: ', a)"
   ]
  },
  {
   "cell_type": "code",
   "execution_count": 10,
   "id": "71fc3eee",
   "metadata": {},
   "outputs": [
    {
     "name": "stdout",
     "output_type": "stream",
     "text": [
      "Valor de a dentro de la función nested:  7\n",
      "Valor de a dentro de la función nested + 2:  9\n",
      "Valor de a en la función toplevel:  7\n"
     ]
    }
   ],
   "source": [
    "toplevel()"
   ]
  },
  {
   "cell_type": "markdown",
   "id": "33510328",
   "metadata": {},
   "source": [
    "## Contexto global (Global scope)"
   ]
  },
  {
   "cell_type": "markdown",
   "id": "bbcd02e8",
   "metadata": {},
   "source": [
    "El valor de la variable se encuentra al alcance de todo el módulo. **Es el contexto que suelen tener las variables y métodos globales**."
   ]
  },
  {
   "cell_type": "markdown",
   "id": "a0bb6f49",
   "metadata": {},
   "source": [
    "## Contexto implícito (Built-in scope)"
   ]
  },
  {
   "cell_type": "markdown",
   "id": "25d92d94",
   "metadata": {},
   "source": [
    "https://realpython.com/python-scope-legb-rule/#builtins-the-built-in-scope"
   ]
  }
 ],
 "metadata": {
  "kernelspec": {
   "display_name": "Python 3 (ipykernel)",
   "language": "python",
   "name": "python3"
  },
  "language_info": {
   "codemirror_mode": {
    "name": "ipython",
    "version": 3
   },
   "file_extension": ".py",
   "mimetype": "text/x-python",
   "name": "python",
   "nbconvert_exporter": "python",
   "pygments_lexer": "ipython3",
   "version": "3.9.7"
  }
 },
 "nbformat": 4,
 "nbformat_minor": 5
}
